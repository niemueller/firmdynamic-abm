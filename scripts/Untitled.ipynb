{
 "cells": [
  {
   "cell_type": "code",
   "execution_count": 2,
   "id": "20cfa2e6",
   "metadata": {
    "pycharm": {
     "name": "#%%\n"
    }
   },
   "outputs": [],
   "source": [
    "    import numpy as np"
   ]
  },
  {
   "cell_type": "code",
   "execution_count": 3,
   "id": "795c1e17",
   "metadata": {
    "pycharm": {
     "name": "#%%\n"
    }
   },
   "outputs": [],
   "source": [
    "grid = np.arange(0.1,1,0.1).tolist()"
   ]
  },
  {
   "cell_type": "code",
   "execution_count": 4,
   "id": "61d2912b",
   "metadata": {
    "pycharm": {
     "name": "#%%\n"
    }
   },
   "outputs": [
    {
     "name": "stdout",
     "output_type": "stream",
     "text": [
      "[0.1, 0.2, 0.30000000000000004, 0.4, 0.5, 0.6, 0.7000000000000001, 0.8, 0.9]\n"
     ]
    }
   ],
   "source": [
    "print(grid)"
   ]
  },
  {
   "cell_type": "code",
   "execution_count": 5,
   "id": "573800bb",
   "metadata": {
    "pycharm": {
     "name": "#%%\n"
    }
   },
   "outputs": [
    {
     "ename": "NameError",
     "evalue": "name 'endowment' is not defined",
     "output_type": "error",
     "traceback": [
      "\u001B[1;31m---------------------------------------------------------------------------\u001B[0m",
      "\u001B[1;31mNameError\u001B[0m                                 Traceback (most recent call last)",
      "\u001B[1;32m~\\AppData\\Local\\Temp/ipykernel_17348/3969292000.py\u001B[0m in \u001B[0;36m<module>\u001B[1;34m\u001B[0m\n\u001B[1;32m----> 1\u001B[1;33m \u001B[0mgrid_step\u001B[0m \u001B[1;33m=\u001B[0m \u001B[0mendowment\u001B[0m\u001B[1;33m/\u001B[0m\u001B[0mgridsize\u001B[0m\u001B[1;33m\u001B[0m\u001B[1;33m\u001B[0m\u001B[0m\n\u001B[0m",
      "\u001B[1;31mNameError\u001B[0m: name 'endowment' is not defined"
     ]
    }
   ],
   "source": [
    "grid_step = endowment/gridsize"
   ]
  },
  {
   "cell_type": "code",
   "execution_count": 6,
   "id": "0cd94986",
   "metadata": {
    "pycharm": {
     "name": "#%%\n"
    }
   },
   "outputs": [],
   "source": [
    "test = 1/100"
   ]
  },
  {
   "cell_type": "code",
   "execution_count": 7,
   "id": "adcb2aa8",
   "metadata": {
    "pycharm": {
     "name": "#%%\n"
    }
   },
   "outputs": [
    {
     "name": "stdout",
     "output_type": "stream",
     "text": [
      "0.01\n"
     ]
    }
   ],
   "source": [
    "print(test)"
   ]
  },
  {
   "cell_type": "code",
   "execution_count": 9,
   "id": "1f700597",
   "metadata": {
    "pycharm": {
     "name": "#%%\n"
    }
   },
   "outputs": [
    {
     "name": "stderr",
     "output_type": "stream",
     "text": [
      "C:\\Users\\41782\\anaconda3\\lib\\site-packages\\scipy\\__init__.py:146: UserWarning: A NumPy version >=1.16.5 and <1.23.0 is required for this version of SciPy (detected version 1.23.0\n",
      "  warnings.warn(f\"A NumPy version >={np_minversion} and <{np_maxversion}\"\n"
     ]
    }
   ],
   "source": [
    "import matplotlib.pyplot as plt\n",
    "import dask.dataframe as dd"
   ]
  },
  {
   "cell_type": "code",
   "execution_count": 10,
   "id": "208e1c79",
   "metadata": {
    "pycharm": {
     "name": "#%%\n"
    }
   },
   "outputs": [
    {
     "data": {
      "text/plain": [
       "'C:\\\\Users\\\\41782\\\\Documents\\\\MasterThesis\\\\firmdynamic-abm\\\\scripts'"
      ]
     },
     "execution_count": 10,
     "metadata": {},
     "output_type": "execute_result"
    }
   ],
   "source": [
    "pwd"
   ]
  },
  {
   "cell_type": "code",
   "execution_count": 12,
   "id": "e849ad58",
   "metadata": {
    "pycharm": {
     "name": "#%%\n"
    }
   },
   "outputs": [
    {
     "name": "stderr",
     "output_type": "stream",
     "text": [
      "C:\\Users\\41782\\anaconda3\\lib\\site-packages\\dask\\dataframe\\io\\csv.py:526: UserWarning: Warning gzip compression does not support breaking apart files\n",
      "Please ensure that each individual file can fit in memory and\n",
      "use the keyword ``blocksize=None to remove this message``\n",
      "Setting ``blocksize=None``\n",
      "  warn(\n"
     ]
    }
   ],
   "source": [
    "firm_dk = dd.read_csv(\"../results/res_firm_agent_run3_opttype3.csv.gz\")"
   ]
  },
  {
   "cell_type": "code",
   "execution_count": 16,
   "id": "b55495f2",
   "metadata": {
    "pycharm": {
     "name": "#%%\n"
    }
   },
   "outputs": [
    {
     "name": "stdout",
     "output_type": "stream",
     "text": [
      "Dask DataFrame Structure:\n",
      "                   t     id    age number_employees total_effort   output average_pref\n",
      "npartitions=1                                                                         \n",
      "               int64  int64  int64            int64      float64  float64      float64\n",
      "                 ...    ...    ...              ...          ...      ...          ...\n",
      "Dask Name: read-csv, 1 tasks\n"
     ]
    }
   ],
   "source": [
    "print(firm_dk)"
   ]
  },
  {
   "cell_type": "code",
   "execution_count": 20,
   "id": "82b0ebc4",
   "metadata": {
    "pycharm": {
     "name": "#%%\n"
    }
   },
   "outputs": [],
   "source": [
    "tt = firm_dk.groupby(\"t\").size()"
   ]
  },
  {
   "cell_type": "code",
   "execution_count": 21,
   "id": "bd28bc28",
   "metadata": {
    "pycharm": {
     "name": "#%%\n"
    }
   },
   "outputs": [
    {
     "name": "stdout",
     "output_type": "stream",
     "text": [
      "Dask Series Structure:\n",
      "npartitions=1\n",
      "    int64\n",
      "      ...\n",
      "dtype: int64\n",
      "Dask Name: dataframe-groupby-size-agg, 3 tasks\n"
     ]
    }
   ],
   "source": [
    "print(tt)"
   ]
  },
  {
   "cell_type": "code",
   "execution_count": 22,
   "id": "b188df1c",
   "metadata": {
    "pycharm": {
     "name": "#%%\n"
    }
   },
   "outputs": [
    {
     "data": {
      "text/plain": [
       "t\n",
       "0       965\n",
       "1       928\n",
       "2       902\n",
       "3       869\n",
       "4       851\n",
       "       ... \n",
       "2995    207\n",
       "2996    208\n",
       "2997    207\n",
       "2998    206\n",
       "2999    208\n",
       "Length: 3000, dtype: int64"
      ]
     },
     "execution_count": 22,
     "metadata": {},
     "output_type": "execute_result"
    }
   ],
   "source": [
    "tt.compute()"
   ]
  },
  {
   "cell_type": "code",
   "execution_count": 23,
   "id": "3d24c647",
   "metadata": {
    "pycharm": {
     "name": "#%%\n"
    }
   },
   "outputs": [],
   "source": [
    "qq = firm_dk.groupby(\"id\").mean()"
   ]
  },
  {
   "cell_type": "code",
   "execution_count": 24,
   "id": "95408368",
   "metadata": {
    "pycharm": {
     "name": "#%%\n"
    }
   },
   "outputs": [
    {
     "data": {
      "text/html": [
       "<div>\n",
       "<style scoped>\n",
       "    .dataframe tbody tr th:only-of-type {\n",
       "        vertical-align: middle;\n",
       "    }\n",
       "\n",
       "    .dataframe tbody tr th {\n",
       "        vertical-align: top;\n",
       "    }\n",
       "\n",
       "    .dataframe thead th {\n",
       "        text-align: right;\n",
       "    }\n",
       "</style>\n",
       "<table border=\"1\" class=\"dataframe\">\n",
       "  <thead>\n",
       "    <tr style=\"text-align: right;\">\n",
       "      <th></th>\n",
       "      <th>t</th>\n",
       "      <th>age</th>\n",
       "      <th>number_employees</th>\n",
       "      <th>total_effort</th>\n",
       "      <th>output</th>\n",
       "      <th>average_pref</th>\n",
       "    </tr>\n",
       "    <tr>\n",
       "      <th>id</th>\n",
       "      <th></th>\n",
       "      <th></th>\n",
       "      <th></th>\n",
       "      <th></th>\n",
       "      <th></th>\n",
       "      <th></th>\n",
       "    </tr>\n",
       "  </thead>\n",
       "  <tbody>\n",
       "    <tr>\n",
       "      <th>2</th>\n",
       "      <td>14.5</td>\n",
       "      <td>15.5</td>\n",
       "      <td>1.000000</td>\n",
       "      <td>0.100000</td>\n",
       "      <td>0.054532</td>\n",
       "      <td>0.100000</td>\n",
       "    </tr>\n",
       "    <tr>\n",
       "      <th>4</th>\n",
       "      <td>1.5</td>\n",
       "      <td>2.5</td>\n",
       "      <td>1.000000</td>\n",
       "      <td>0.100000</td>\n",
       "      <td>0.061348</td>\n",
       "      <td>0.100000</td>\n",
       "    </tr>\n",
       "    <tr>\n",
       "      <th>6</th>\n",
       "      <td>50.0</td>\n",
       "      <td>51.0</td>\n",
       "      <td>3.000000</td>\n",
       "      <td>0.129703</td>\n",
       "      <td>0.060866</td>\n",
       "      <td>0.049406</td>\n",
       "    </tr>\n",
       "    <tr>\n",
       "      <th>8</th>\n",
       "      <td>121.5</td>\n",
       "      <td>122.5</td>\n",
       "      <td>4.184426</td>\n",
       "      <td>0.198770</td>\n",
       "      <td>0.151828</td>\n",
       "      <td>0.053429</td>\n",
       "    </tr>\n",
       "    <tr>\n",
       "      <th>10</th>\n",
       "      <td>78.5</td>\n",
       "      <td>79.5</td>\n",
       "      <td>5.981013</td>\n",
       "      <td>0.211392</td>\n",
       "      <td>0.274171</td>\n",
       "      <td>0.040370</td>\n",
       "    </tr>\n",
       "    <tr>\n",
       "      <th>...</th>\n",
       "      <td>...</td>\n",
       "      <td>...</td>\n",
       "      <td>...</td>\n",
       "      <td>...</td>\n",
       "      <td>...</td>\n",
       "      <td>...</td>\n",
       "    </tr>\n",
       "    <tr>\n",
       "      <th>12038</th>\n",
       "      <td>2999.0</td>\n",
       "      <td>1.0</td>\n",
       "      <td>1.000000</td>\n",
       "      <td>0.950000</td>\n",
       "      <td>1.346517</td>\n",
       "      <td>0.950000</td>\n",
       "    </tr>\n",
       "    <tr>\n",
       "      <th>12039</th>\n",
       "      <td>2999.0</td>\n",
       "      <td>1.0</td>\n",
       "      <td>1.000000</td>\n",
       "      <td>0.930000</td>\n",
       "      <td>1.465855</td>\n",
       "      <td>0.930000</td>\n",
       "    </tr>\n",
       "    <tr>\n",
       "      <th>12040</th>\n",
       "      <td>2999.0</td>\n",
       "      <td>1.0</td>\n",
       "      <td>1.000000</td>\n",
       "      <td>0.950000</td>\n",
       "      <td>1.476537</td>\n",
       "      <td>0.950000</td>\n",
       "    </tr>\n",
       "    <tr>\n",
       "      <th>12041</th>\n",
       "      <td>2999.0</td>\n",
       "      <td>1.0</td>\n",
       "      <td>1.000000</td>\n",
       "      <td>0.950000</td>\n",
       "      <td>1.357115</td>\n",
       "      <td>0.950000</td>\n",
       "    </tr>\n",
       "    <tr>\n",
       "      <th>12042</th>\n",
       "      <td>2999.0</td>\n",
       "      <td>1.0</td>\n",
       "      <td>1.000000</td>\n",
       "      <td>0.100000</td>\n",
       "      <td>0.056487</td>\n",
       "      <td>0.100000</td>\n",
       "    </tr>\n",
       "  </tbody>\n",
       "</table>\n",
       "<p>11004 rows × 6 columns</p>\n",
       "</div>"
      ],
      "text/plain": [
       "            t    age  number_employees  total_effort    output  average_pref\n",
       "id                                                                          \n",
       "2        14.5   15.5          1.000000      0.100000  0.054532      0.100000\n",
       "4         1.5    2.5          1.000000      0.100000  0.061348      0.100000\n",
       "6        50.0   51.0          3.000000      0.129703  0.060866      0.049406\n",
       "8       121.5  122.5          4.184426      0.198770  0.151828      0.053429\n",
       "10       78.5   79.5          5.981013      0.211392  0.274171      0.040370\n",
       "...       ...    ...               ...           ...       ...           ...\n",
       "12038  2999.0    1.0          1.000000      0.950000  1.346517      0.950000\n",
       "12039  2999.0    1.0          1.000000      0.930000  1.465855      0.930000\n",
       "12040  2999.0    1.0          1.000000      0.950000  1.476537      0.950000\n",
       "12041  2999.0    1.0          1.000000      0.950000  1.357115      0.950000\n",
       "12042  2999.0    1.0          1.000000      0.100000  0.056487      0.100000\n",
       "\n",
       "[11004 rows x 6 columns]"
      ]
     },
     "execution_count": 24,
     "metadata": {},
     "output_type": "execute_result"
    }
   ],
   "source": [
    "qq.compute()"
   ]
  },
  {
   "cell_type": "code",
   "execution_count": 25,
   "id": "18a9027d",
   "metadata": {
    "pycharm": {
     "name": "#%%\n"
    }
   },
   "outputs": [],
   "source": [
    "ww = firm_dk.compute()"
   ]
  },
  {
   "cell_type": "code",
   "execution_count": 26,
   "id": "c7d62740",
   "metadata": {
    "pycharm": {
     "name": "#%%\n"
    }
   },
   "outputs": [
    {
     "name": "stdout",
     "output_type": "stream",
     "text": [
      "           t     id  age  number_employees  total_effort    output  \\\n",
      "0          0      2    1                 1          0.10  0.054532   \n",
      "1          0      4    1                 1          0.10  0.061348   \n",
      "2          0      6    1                 2          0.20  0.073835   \n",
      "3          0      8    1                 2          0.20  0.103982   \n",
      "4          0     10    1                 1          0.10  0.075903   \n",
      "...      ...    ...  ...               ...           ...       ...   \n",
      "621062  2999  12038    1                 1          0.95  1.346517   \n",
      "621063  2999  12039    1                 1          0.93  1.465855   \n",
      "621064  2999  12040    1                 1          0.95  1.476537   \n",
      "621065  2999  12041    1                 1          0.95  1.357115   \n",
      "621066  2999  12042    1                 1          0.10  0.056487   \n",
      "\n",
      "        average_pref  \n",
      "0               0.10  \n",
      "1               0.10  \n",
      "2               0.10  \n",
      "3               0.10  \n",
      "4               0.10  \n",
      "...              ...  \n",
      "621062          0.95  \n",
      "621063          0.93  \n",
      "621064          0.95  \n",
      "621065          0.95  \n",
      "621066          0.10  \n",
      "\n",
      "[621067 rows x 7 columns]\n"
     ]
    }
   ],
   "source": [
    "print(ww)"
   ]
  },
  {
   "cell_type": "code",
   "execution_count": 31,
   "id": "5ed14f2a",
   "metadata": {
    "pycharm": {
     "name": "#%%\n"
    }
   },
   "outputs": [],
   "source": [
    "ww1 = ww.loc[ww[\"t\"]>=1000]"
   ]
  },
  {
   "cell_type": "code",
   "execution_count": 32,
   "id": "d2613e89",
   "metadata": {
    "pycharm": {
     "name": "#%%\n"
    }
   },
   "outputs": [
    {
     "name": "stdout",
     "output_type": "stream",
     "text": [
      "           t     id  age  number_employees  total_effort    output  \\\n",
      "237450  1000   2361  884                49          0.10  0.045082   \n",
      "237451  1000   2639  791                22          0.10  0.058809   \n",
      "237452  1000   3110  645                 3          0.30  0.230732   \n",
      "237453  1000   3130  639                12          0.10  0.069842   \n",
      "237454  1000   3201  622                 1          0.10  0.014586   \n",
      "...      ...    ...  ...               ...           ...       ...   \n",
      "621062  2999  12038    1                 1          0.95  1.346517   \n",
      "621063  2999  12039    1                 1          0.93  1.465855   \n",
      "621064  2999  12040    1                 1          0.95  1.476537   \n",
      "621065  2999  12041    1                 1          0.95  1.357115   \n",
      "621066  2999  12042    1                 1          0.10  0.056487   \n",
      "\n",
      "        average_pref  \n",
      "237450      0.002041  \n",
      "237451      0.004545  \n",
      "237452      0.100000  \n",
      "237453      0.008333  \n",
      "237454      0.100000  \n",
      "...              ...  \n",
      "621062      0.950000  \n",
      "621063      0.930000  \n",
      "621064      0.950000  \n",
      "621065      0.950000  \n",
      "621066      0.100000  \n",
      "\n",
      "[383617 rows x 7 columns]\n"
     ]
    }
   ],
   "source": [
    "print(ww1)"
   ]
  },
  {
   "cell_type": "code",
   "execution_count": 35,
   "id": "5d4fd7b1",
   "metadata": {
    "pycharm": {
     "name": "#%%\n"
    }
   },
   "outputs": [],
   "source": [
    "ww2 = ww1.groupby(\"t\").mean()"
   ]
  },
  {
   "cell_type": "code",
   "execution_count": 43,
   "id": "067e6a2d",
   "metadata": {
    "pycharm": {
     "name": "#%%\n"
    }
   },
   "outputs": [
    {
     "data": {
      "text/plain": [
       "2000"
      ]
     },
     "execution_count": 43,
     "metadata": {},
     "output_type": "execute_result"
    }
   ],
   "source": [
    "ww2[ww2.number_employees<=10].shape[0]"
   ]
  },
  {
   "cell_type": "code",
   "execution_count": 44,
   "id": "d25053bb",
   "metadata": {
    "pycharm": {
     "name": "#%%\n"
    }
   },
   "outputs": [
    {
     "data": {
      "text/plain": [
       "6.211180124223603"
      ]
     },
     "execution_count": 44,
     "metadata": {},
     "output_type": "execute_result"
    }
   ],
   "source": [
    "ww2[\"number_employees\"].max()"
   ]
  },
  {
   "cell_type": "code",
   "execution_count": null,
   "id": "927e624f",
   "metadata": {
    "pycharm": {
     "name": "#%%\n"
    }
   },
   "outputs": [],
   "source": []
  }
 ],
 "metadata": {
  "kernelspec": {
   "display_name": "Python 3 (ipykernel)",
   "language": "python",
   "name": "python3"
  },
  "language_info": {
   "codemirror_mode": {
    "name": "ipython",
    "version": 3
   },
   "file_extension": ".py",
   "mimetype": "text/x-python",
   "name": "python",
   "nbconvert_exporter": "python",
   "pygments_lexer": "ipython3",
   "version": "3.9.7"
  }
 },
 "nbformat": 4,
 "nbformat_minor": 5
}