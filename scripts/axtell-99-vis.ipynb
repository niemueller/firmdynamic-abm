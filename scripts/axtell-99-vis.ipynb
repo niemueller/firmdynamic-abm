{
 "cells": [
  {
   "cell_type": "markdown",
   "source": [
    "Skript to Visualize and Replicate Axtell 99"
   ],
   "metadata": {
    "collapsed": false,
    "pycharm": {
     "name": "#%% md\n"
    }
   }
  },
  {
   "cell_type": "code",
   "execution_count": 762,
   "outputs": [],
   "source": [
    "import matplotlib.pyplot as plt\n",
    "import dask.dataframe as dd\n",
    "import pandas as pd\n",
    "import scipy.signal\n",
    "import numpy as np"
   ],
   "metadata": {
    "collapsed": false,
    "pycharm": {
     "name": "#%%\n"
    }
   }
  },
  {
   "cell_type": "code",
   "execution_count": 763,
   "outputs": [],
   "source": [
    "out_dir = \"../results/axtell_99\""
   ],
   "metadata": {
    "collapsed": false,
    "pycharm": {
     "name": "#%%\n"
    }
   }
  },
  {
   "cell_type": "code",
   "execution_count": 764,
   "outputs": [],
   "source": [
    "opttype = 1"
   ],
   "metadata": {
    "collapsed": false,
    "pycharm": {
     "name": "#%%\n"
    }
   }
  },
  {
   "cell_type": "code",
   "execution_count": 925,
   "outputs": [],
   "source": [
    "run = 999"
   ],
   "metadata": {
    "collapsed": false,
    "pycharm": {
     "name": "#%%\n"
    }
   }
  },
  {
   "cell_type": "code",
   "execution_count": 926,
   "outputs": [],
   "source": [
    "def set_size(width, fraction=1):\n",
    "    \"\"\"Set figure dimensions to avoid scaling in LaTeX.\n",
    "\n",
    "    Parameters\n",
    "    ----------\n",
    "    width: float\n",
    "            Document textwidth or columnwidth in pts\n",
    "    fraction: float, optional\n",
    "            Fraction of the width which you wish the figure to occupy\n",
    "\n",
    "    Returns\n",
    "    -------\n",
    "    fig_dim: tuple\n",
    "            Dimensions of figure in inches\n",
    "    \"\"\"\n",
    "    # Width of figure (in pts)\n",
    "    fig_width_pt = width * fraction\n",
    "\n",
    "    # Convert from pt to inches\n",
    "    inches_per_pt = 1 / 72.27\n",
    "\n",
    "    # Golden ratio to set aesthetic figure height\n",
    "    # https://disq.us/p/2940ij3\n",
    "    golden_ratio = (5**.5 - 1) / 2\n",
    "\n",
    "    # Figure width in inches\n",
    "    fig_width_in = fig_width_pt * inches_per_pt\n",
    "    # Figure height in inches\n",
    "    fig_height_in = fig_width_in * golden_ratio\n",
    "\n",
    "    fig_dim = (fig_width_in, fig_height_in)\n",
    "\n",
    "    return fig_dim"
   ],
   "metadata": {
    "collapsed": false,
    "pycharm": {
     "name": "#%%\n"
    }
   }
  },
  {
   "cell_type": "code",
   "execution_count": 927,
   "outputs": [],
   "source": [
    "path_f = f\"{out_dir}/res_firm_agent_run{run}_opttype{opttype}.csv.gz\""
   ],
   "metadata": {
    "collapsed": false,
    "pycharm": {
     "name": "#%%\n"
    }
   }
  },
  {
   "cell_type": "code",
   "execution_count": 928,
   "outputs": [],
   "source": [
    "path_w = f\"{out_dir}/res_worker_agent_run{run}_opttype{opttype}.csv.gz\""
   ],
   "metadata": {
    "collapsed": false,
    "pycharm": {
     "name": "#%%\n"
    }
   }
  },
  {
   "cell_type": "code",
   "execution_count": 929,
   "outputs": [],
   "source": [
    "path_m = f\"{out_dir}/res_model_agent_run{run}_opttype{opttype}.csv.gz\""
   ],
   "metadata": {
    "collapsed": false,
    "pycharm": {
     "name": "#%%\n"
    }
   }
  },
  {
   "cell_type": "code",
   "execution_count": 930,
   "outputs": [],
   "source": [
    "model_dk = dd.read_csv(path_m, blocksize=None)"
   ],
   "metadata": {
    "collapsed": false,
    "pycharm": {
     "name": "#%%\n"
    }
   }
  },
  {
   "cell_type": "code",
   "execution_count": 931,
   "outputs": [],
   "source": [
    "worker_dk = dd.read_csv(path_w, blocksize=None)"
   ],
   "metadata": {
    "collapsed": false,
    "pycharm": {
     "name": "#%%\n"
    }
   }
  },
  {
   "cell_type": "code",
   "execution_count": 932,
   "outputs": [],
   "source": [
    "worker_df = worker_dk.groupby(\"t\").mean().compute()"
   ],
   "metadata": {
    "collapsed": false,
    "pycharm": {
     "name": "#%%\n"
    }
   }
  },
  {
   "cell_type": "code",
   "execution_count": 933,
   "outputs": [
    {
     "data": {
      "text/plain": "         id    effort      wealth    income  tenure  preference\nt                                                              \n0    1000.0  0.470602    0.810920  0.810920   1.000    0.501897\n1    1000.0  0.430818    1.660391  0.849471   1.612    0.501897\n2    1000.0  0.403045    2.507984  0.847593   2.069    0.501897\n3    1000.0  0.379967    3.346989  0.839005   2.354    0.501897\n4    1000.0  0.367595    4.168570  0.821581   2.538    0.501897\n..      ...       ...         ...       ...     ...         ...\n995  1000.0  0.344565  775.119455  0.790462   2.836    0.501897\n996  1000.0  0.345379  775.905651  0.786195   2.940    0.501897\n997  1000.0  0.348472  776.702961  0.797310   2.989    0.501897\n998  1000.0  0.346737  777.501039  0.798079   2.940    0.501897\n999  1000.0  0.349067  778.301012  0.799973   2.950    0.501897\n\n[1000 rows x 6 columns]",
      "text/html": "<div>\n<style scoped>\n    .dataframe tbody tr th:only-of-type {\n        vertical-align: middle;\n    }\n\n    .dataframe tbody tr th {\n        vertical-align: top;\n    }\n\n    .dataframe thead th {\n        text-align: right;\n    }\n</style>\n<table border=\"1\" class=\"dataframe\">\n  <thead>\n    <tr style=\"text-align: right;\">\n      <th></th>\n      <th>id</th>\n      <th>effort</th>\n      <th>wealth</th>\n      <th>income</th>\n      <th>tenure</th>\n      <th>preference</th>\n    </tr>\n    <tr>\n      <th>t</th>\n      <th></th>\n      <th></th>\n      <th></th>\n      <th></th>\n      <th></th>\n      <th></th>\n    </tr>\n  </thead>\n  <tbody>\n    <tr>\n      <th>0</th>\n      <td>1000.0</td>\n      <td>0.470602</td>\n      <td>0.810920</td>\n      <td>0.810920</td>\n      <td>1.000</td>\n      <td>0.501897</td>\n    </tr>\n    <tr>\n      <th>1</th>\n      <td>1000.0</td>\n      <td>0.430818</td>\n      <td>1.660391</td>\n      <td>0.849471</td>\n      <td>1.612</td>\n      <td>0.501897</td>\n    </tr>\n    <tr>\n      <th>2</th>\n      <td>1000.0</td>\n      <td>0.403045</td>\n      <td>2.507984</td>\n      <td>0.847593</td>\n      <td>2.069</td>\n      <td>0.501897</td>\n    </tr>\n    <tr>\n      <th>3</th>\n      <td>1000.0</td>\n      <td>0.379967</td>\n      <td>3.346989</td>\n      <td>0.839005</td>\n      <td>2.354</td>\n      <td>0.501897</td>\n    </tr>\n    <tr>\n      <th>4</th>\n      <td>1000.0</td>\n      <td>0.367595</td>\n      <td>4.168570</td>\n      <td>0.821581</td>\n      <td>2.538</td>\n      <td>0.501897</td>\n    </tr>\n    <tr>\n      <th>...</th>\n      <td>...</td>\n      <td>...</td>\n      <td>...</td>\n      <td>...</td>\n      <td>...</td>\n      <td>...</td>\n    </tr>\n    <tr>\n      <th>995</th>\n      <td>1000.0</td>\n      <td>0.344565</td>\n      <td>775.119455</td>\n      <td>0.790462</td>\n      <td>2.836</td>\n      <td>0.501897</td>\n    </tr>\n    <tr>\n      <th>996</th>\n      <td>1000.0</td>\n      <td>0.345379</td>\n      <td>775.905651</td>\n      <td>0.786195</td>\n      <td>2.940</td>\n      <td>0.501897</td>\n    </tr>\n    <tr>\n      <th>997</th>\n      <td>1000.0</td>\n      <td>0.348472</td>\n      <td>776.702961</td>\n      <td>0.797310</td>\n      <td>2.989</td>\n      <td>0.501897</td>\n    </tr>\n    <tr>\n      <th>998</th>\n      <td>1000.0</td>\n      <td>0.346737</td>\n      <td>777.501039</td>\n      <td>0.798079</td>\n      <td>2.940</td>\n      <td>0.501897</td>\n    </tr>\n    <tr>\n      <th>999</th>\n      <td>1000.0</td>\n      <td>0.349067</td>\n      <td>778.301012</td>\n      <td>0.799973</td>\n      <td>2.950</td>\n      <td>0.501897</td>\n    </tr>\n  </tbody>\n</table>\n<p>1000 rows × 6 columns</p>\n</div>"
     },
     "execution_count": 933,
     "metadata": {},
     "output_type": "execute_result"
    }
   ],
   "source": [
    "worker_df"
   ],
   "metadata": {
    "collapsed": false,
    "pycharm": {
     "name": "#%%\n"
    }
   }
  },
  {
   "cell_type": "code",
   "execution_count": 934,
   "outputs": [],
   "source": [
    "firm_dk = dd.read_csv(path_f, blocksize=None , dtype={\n",
    "    \"t\": \"int16\",\n",
    "    \"id\": \"int32\",\n",
    "    \"age\": \"int16\",\n",
    "    \"number_employees\": \"int32\",\n",
    "    \"total_effort\": \"float64\",\n",
    "    \"output\": \"float64\",\n",
    "    \"average_pref\": \"float64\"}\n",
    ")"
   ],
   "metadata": {
    "collapsed": false,
    "pycharm": {
     "name": "#%%\n"
    }
   }
  },
  {
   "cell_type": "code",
   "execution_count": 935,
   "outputs": [],
   "source": [
    "df = model_dk.compute()"
   ],
   "metadata": {
    "collapsed": false,
    "pycharm": {
     "name": "#%%\n"
    }
   }
  },
  {
   "cell_type": "code",
   "execution_count": 936,
   "outputs": [],
   "source": [
    "average_number_of_firms = df[\"total_firms\"].mean()"
   ],
   "metadata": {
    "collapsed": false,
    "pycharm": {
     "name": "#%%\n"
    }
   }
  },
  {
   "cell_type": "code",
   "execution_count": 937,
   "outputs": [
    {
     "data": {
      "text/plain": "523.686"
     },
     "execution_count": 937,
     "metadata": {},
     "output_type": "execute_result"
    }
   ],
   "source": [
    "average_number_of_firms"
   ],
   "metadata": {
    "collapsed": false,
    "pycharm": {
     "name": "#%%\n"
    }
   }
  },
  {
   "cell_type": "code",
   "execution_count": 938,
   "outputs": [],
   "source": [
    "firm_number = firm_dk.groupby(firm_dk.t).t.size().mean()"
   ],
   "metadata": {
    "collapsed": false,
    "pycharm": {
     "name": "#%%\n"
    }
   }
  },
  {
   "cell_type": "code",
   "execution_count": 939,
   "outputs": [],
   "source": [
    "workers_check = firm_dk.groupby(\"t\").number_employees.sum().compute()"
   ],
   "metadata": {
    "collapsed": false,
    "pycharm": {
     "name": "#%%\n"
    }
   }
  },
  {
   "cell_type": "code",
   "execution_count": 940,
   "outputs": [
    {
     "data": {
      "text/plain": "t\n0      1000\n1      1000\n2      1000\n3      1000\n4      1000\n       ... \n995    1000\n996    1000\n997    1000\n998    1000\n999    1000\nName: number_employees, Length: 1000, dtype: int32"
     },
     "execution_count": 940,
     "metadata": {},
     "output_type": "execute_result"
    }
   ],
   "source": [
    "workers_check"
   ],
   "metadata": {
    "collapsed": false,
    "pycharm": {
     "name": "#%%\n"
    }
   }
  },
  {
   "cell_type": "code",
   "execution_count": 941,
   "outputs": [
    {
     "data": {
      "text/plain": "523.686"
     },
     "execution_count": 941,
     "metadata": {},
     "output_type": "execute_result"
    }
   ],
   "source": [
    "firm_number.compute()"
   ],
   "metadata": {
    "collapsed": false,
    "pycharm": {
     "name": "#%%\n"
    }
   }
  },
  {
   "cell_type": "code",
   "execution_count": 942,
   "outputs": [],
   "source": [
    "width = 390"
   ],
   "metadata": {
    "collapsed": false,
    "pycharm": {
     "name": "#%%\n"
    }
   }
  },
  {
   "cell_type": "code",
   "execution_count": 943,
   "outputs": [
    {
     "data": {
      "text/plain": "<Figure size 539.643x333.518 with 1 Axes>",
      "image/png": "[encoded data removed]"
     },
     "metadata": {},
     "output_type": "display_data"
    }
   ],
   "source": [
    "fig, ax = plt.subplots(1, 1, figsize=set_size(width))\n",
    "ax.set_ylim([0,700])\n",
    "ax.set_xlim([0,1000])\n",
    "df.plot(kind=\"line\", y = \"total_firms\", x=\"t\", ax=ax, linewidth=0.75, alpha=0.8)\n",
    "df.plot(kind=\"line\", y = \"numb_new_firms\", x=\"t\", color=\"darkgreen\", ax=ax, linewidth=0.75, alpha=0.8)\n",
    "plt.show()"
   ],
   "metadata": {
    "collapsed": false,
    "pycharm": {
     "name": "#%%\n"
    }
   }
  },
  {
   "cell_type": "code",
   "execution_count": 831,
   "outputs": [
    {
     "data": {
      "text/plain": "<Figure size 539.643x333.518 with 1 Axes>",
      "image/png": "[encoded data removed]"
     },
     "metadata": {},
     "output_type": "display_data"
    }
   ],
   "source": [
    "fig, ax = plt.subplots(1, 1, figsize=set_size(width))\n",
    "ax.set_ylim([-0.1,0.1])\n",
    "pd.plotting.autocorrelation_plot(series=df.total_firms, ax = ax)\n",
    "plt.show()"
   ],
   "metadata": {
    "collapsed": false,
    "pycharm": {
     "name": "#%%\n"
    }
   }
  },
  {
   "cell_type": "code",
   "execution_count": 832,
   "outputs": [],
   "source": [
    "average_firm = firm_dk.groupby(firm_dk.t).number_employees.mean().compute()"
   ],
   "metadata": {
    "collapsed": false,
    "pycharm": {
     "name": "#%%\n"
    }
   }
  },
  {
   "cell_type": "code",
   "execution_count": 833,
   "outputs": [
    {
     "data": {
      "text/plain": "t\n0      1.196172\n1      1.501502\n2      1.715266\n3      1.798561\n4      1.773050\n         ...   \n995    1.841621\n996    1.869159\n997    1.904762\n998    1.886792\n999    1.865672\nName: number_employees, Length: 1000, dtype: float64"
     },
     "execution_count": 833,
     "metadata": {},
     "output_type": "execute_result"
    }
   ],
   "source": [
    "average_firm"
   ],
   "metadata": {
    "collapsed": false,
    "pycharm": {
     "name": "#%%\n"
    }
   }
  },
  {
   "cell_type": "code",
   "execution_count": 834,
   "outputs": [],
   "source": [
    "max_firm = firm_dk.groupby(firm_dk.t).number_employees.max().compute()"
   ],
   "metadata": {
    "collapsed": false,
    "pycharm": {
     "name": "#%%\n"
    }
   }
  },
  {
   "cell_type": "code",
   "execution_count": 835,
   "outputs": [
    {
     "data": {
      "text/plain": "t\n0       4\n1       5\n2       8\n3       8\n4       8\n       ..\n995    11\n996    11\n997     9\n998     8\n999     8\nName: number_employees, Length: 1000, dtype: int32"
     },
     "execution_count": 835,
     "metadata": {},
     "output_type": "execute_result"
    }
   ],
   "source": [
    "max_firm"
   ],
   "metadata": {
    "collapsed": false,
    "pycharm": {
     "name": "#%%\n"
    }
   }
  },
  {
   "cell_type": "code",
   "execution_count": 836,
   "outputs": [
    {
     "name": "stdout",
     "output_type": "stream",
     "text": [
      "15.437\n"
     ]
    }
   ],
   "source": [
    "print(max_firm.mean())"
   ],
   "metadata": {
    "collapsed": false,
    "pycharm": {
     "name": "#%%\n"
    }
   }
  },
  {
   "cell_type": "code",
   "execution_count": 837,
   "outputs": [
    {
     "data": {
      "text/plain": "<Figure size 539.643x333.518 with 1 Axes>",
      "image/png": "[encoded data removed]"
     },
     "metadata": {},
     "output_type": "display_data"
    }
   ],
   "source": [
    "fig, ax = plt.subplots(1, 1, figsize=set_size(width))\n",
    "ax.set_ylim([0,30])\n",
    "ax.set_xlim([0,1000])\n",
    "ax.set_title(\"Largest Firm Size\")\n",
    "max_firm.plot(kind=\"line\", y = \"Largest Firm Size\", x=\"t\", ax=ax, linewidth=0.75, alpha=0.8)\n",
    "plt.show()"
   ],
   "metadata": {
    "collapsed": false,
    "pycharm": {
     "name": "#%%\n"
    }
   }
  },
  {
   "cell_type": "code",
   "execution_count": 838,
   "outputs": [
    {
     "data": {
      "text/plain": "<Figure size 539.643x333.518 with 1 Axes>",
      "image/png": "[encoded data removed]"
     },
     "metadata": {},
     "output_type": "display_data"
    }
   ],
   "source": [
    "fig, ax = plt.subplots(1, 1, figsize=set_size(width))\n",
    "ax.set_ylim([0,5])\n",
    "ax.set_xlim([0,1000])\n",
    "ax.set_title(\"Average Firm Size\")\n",
    "average_firm.plot(kind=\"line\", y = \"Average Firm Size\", x=\"t\", color=\"darkgreen\", ax=ax, linewidth=0.75, alpha=0.8)\n",
    "plt.show()"
   ],
   "metadata": {
    "collapsed": false,
    "pycharm": {
     "name": "#%%\n"
    }
   }
  },
  {
   "cell_type": "markdown",
   "source": [
    "Effort Levels"
   ],
   "metadata": {
    "collapsed": false,
    "pycharm": {
     "name": "#%% md\n"
    }
   }
  },
  {
   "cell_type": "markdown",
   "source": [
    "Average effort level (from worker df)"
   ],
   "metadata": {
    "collapsed": false,
    "pycharm": {
     "name": "#%% md\n"
    }
   }
  },
  {
   "cell_type": "code",
   "execution_count": 839,
   "outputs": [],
   "source": [
    "worker_dk = dd.read_csv(path_w, blocksize=None)"
   ],
   "metadata": {
    "collapsed": false,
    "pycharm": {
     "name": "#%%\n"
    }
   }
  },
  {
   "cell_type": "code",
   "execution_count": 840,
   "outputs": [],
   "source": [
    "avg_effort = worker_dk.groupby(worker_dk.t).effort.mean().compute()"
   ],
   "metadata": {
    "collapsed": false,
    "pycharm": {
     "name": "#%%\n"
    }
   }
  },
  {
   "cell_type": "code",
   "execution_count": 841,
   "outputs": [
    {
     "data": {
      "text/plain": "t\n0      0.471887\n1      0.437599\n2      0.405718\n3      0.384033\n4      0.377456\n         ...   \n995    0.363485\n996    0.359890\n997    0.359797\n998    0.361898\n999    0.362919\nName: effort, Length: 1000, dtype: float64"
     },
     "execution_count": 841,
     "metadata": {},
     "output_type": "execute_result"
    }
   ],
   "source": [
    "avg_effort"
   ],
   "metadata": {
    "collapsed": false,
    "pycharm": {
     "name": "#%%\n"
    }
   }
  },
  {
   "cell_type": "code",
   "execution_count": 842,
   "outputs": [
    {
     "data": {
      "text/plain": "Dask Series Structure:\nnpartitions=1\n    int64\n      ...\nName: number_employees, dtype: int64\nDask Name: series-groupby-idxmax-agg, 8 tasks"
     },
     "execution_count": 842,
     "metadata": {},
     "output_type": "execute_result"
    }
   ],
   "source": [
    "firm_dk.assign(avg_e = firm_dk.total_effort/firm_dk.number_employees).groupby(firm_dk.t).number_employees.idxmax()"
   ],
   "metadata": {
    "collapsed": false,
    "pycharm": {
     "name": "#%%\n"
    }
   }
  },
  {
   "cell_type": "code",
   "execution_count": 843,
   "outputs": [
    {
     "name": "stderr",
     "output_type": "stream",
     "text": [
      "C:\\Users\\41782\\AppData\\Local\\Temp\\ipykernel_11168\\188437644.py:1: UserWarning: `meta` is not specified, inferred from partial data. Please provide `meta` if the result is unexpected.\n",
      "  Before: .transform(func)\n",
      "  After:  .transform(func, meta={'x': 'f8', 'y': 'f8'}) for dataframe result\n",
      "  or:     .transform(func, meta=('x', 'f8'))            for series result\n",
      "  filtered_firm_dk = firm_dk[firm_dk.groupby([\"t\"]).number_employees.transform(max) == firm_dk[\"number_employees\"]].assign(avg_e = firm_dk.total_effort/firm_dk.number_employees)\n"
     ]
    }
   ],
   "source": [
    "filtered_firm_dk = firm_dk[firm_dk.groupby([\"t\"]).number_employees.transform(max) == firm_dk[\"number_employees\"]].assign(avg_e = firm_dk.total_effort/firm_dk.number_employees)"
   ],
   "metadata": {
    "collapsed": false,
    "pycharm": {
     "name": "#%%\n"
    }
   }
  },
  {
   "cell_type": "code",
   "execution_count": 844,
   "outputs": [],
   "source": [
    "avg_effort_maxfirm = filtered_firm_dk.groupby(\"t\").avg_e.mean().compute()"
   ],
   "metadata": {
    "collapsed": false,
    "pycharm": {
     "name": "#%%\n"
    }
   }
  },
  {
   "cell_type": "code",
   "execution_count": 845,
   "outputs": [
    {
     "data": {
      "text/plain": "t\n0      0.206972\n1      0.204173\n2      0.246782\n3      0.246782\n4      0.383254\n         ...   \n995    0.411085\n996    0.326828\n997    0.206681\n998    0.385349\n999    0.369862\nName: avg_e, Length: 1000, dtype: float64"
     },
     "execution_count": 845,
     "metadata": {},
     "output_type": "execute_result"
    }
   ],
   "source": [
    "avg_effort_maxfirm"
   ],
   "metadata": {
    "collapsed": false,
    "pycharm": {
     "name": "#%%\n"
    }
   }
  },
  {
   "cell_type": "code",
   "execution_count": 846,
   "outputs": [
    {
     "data": {
      "text/plain": "<Figure size 539.643x333.518 with 1 Axes>",
      "image/png": "[encoded data removed]"
     },
     "metadata": {},
     "output_type": "display_data"
    }
   ],
   "source": [
    "fig, ax = plt.subplots(1, 1, figsize=set_size(width))\n",
    "ax.set_ylim([0,0.7])\n",
    "ax.set_xlim([0,100])\n",
    "ax.set_title(\"Average Effort\")\n",
    "avg_effort_maxfirm.plot(kind=\"line\", y = \"avg_e\", x=\"t\", ax=ax, linewidth=0.75, alpha=0.8)\n",
    "avg_effort.plot(kind=\"line\", y = \"effort\", x=\"t\", color=\"darkgreen\", ax=ax, linewidth=0.75, alpha=0.8)\n",
    "plt.show()"
   ],
   "metadata": {
    "collapsed": false,
    "pycharm": {
     "name": "#%%\n"
    }
   }
  },
  {
   "cell_type": "markdown",
   "source": [
    "Output Total and Largest Firm"
   ],
   "metadata": {
    "collapsed": false,
    "pycharm": {
     "name": "#%% md\n"
    }
   }
  },
  {
   "cell_type": "code",
   "execution_count": 847,
   "outputs": [
    {
     "name": "stderr",
     "output_type": "stream",
     "text": [
      "C:\\Users\\41782\\AppData\\Local\\Temp\\ipykernel_11168\\2543161246.py:1: UserWarning: `meta` is not specified, inferred from partial data. Please provide `meta` if the result is unexpected.\n",
      "  Before: .transform(func)\n",
      "  After:  .transform(func, meta={'x': 'f8', 'y': 'f8'}) for dataframe result\n",
      "  or:     .transform(func, meta=('x', 'f8'))            for series result\n",
      "  filtered_firm_dk2 = firm_dk[firm_dk.groupby([\"t\"]).number_employees.transform(max) == firm_dk[\"number_employees\"]]\n"
     ]
    }
   ],
   "source": [
    "filtered_firm_dk2 = firm_dk[firm_dk.groupby([\"t\"]).number_employees.transform(max) == firm_dk[\"number_employees\"]]"
   ],
   "metadata": {
    "collapsed": false,
    "pycharm": {
     "name": "#%%\n"
    }
   }
  },
  {
   "cell_type": "code",
   "execution_count": 848,
   "outputs": [],
   "source": [
    "output_max_firm = filtered_firm_dk2.groupby(\"t\").output.max().compute()"
   ],
   "metadata": {
    "collapsed": false,
    "pycharm": {
     "name": "#%%\n"
    }
   }
  },
  {
   "cell_type": "code",
   "execution_count": 849,
   "outputs": [
    {
     "data": {
      "text/plain": "t\n0       1.513286\n1       2.134118\n2       5.871938\n3       5.871938\n4      12.466590\n         ...    \n995    24.969787\n996    16.519950\n997     9.035050\n998    21.620048\n999    21.579684\nName: output, Length: 1000, dtype: float64"
     },
     "execution_count": 849,
     "metadata": {},
     "output_type": "execute_result"
    }
   ],
   "source": [
    "output_max_firm"
   ],
   "metadata": {
    "collapsed": false,
    "pycharm": {
     "name": "#%%\n"
    }
   }
  },
  {
   "cell_type": "code",
   "execution_count": 850,
   "outputs": [],
   "source": [
    "output_total = firm_dk.groupby(\"t\").output.sum().compute()"
   ],
   "metadata": {
    "collapsed": false,
    "pycharm": {
     "name": "#%%\n"
    }
   }
  },
  {
   "cell_type": "code",
   "execution_count": 851,
   "outputs": [
    {
     "data": {
      "text/plain": "t\n0      811.398039\n1      878.994661\n2      860.970989\n3      832.534044\n4      804.287381\n          ...    \n995    793.885512\n996    780.066639\n997    793.992681\n998    786.934140\n999    778.929593\nName: output, Length: 1000, dtype: float64"
     },
     "execution_count": 851,
     "metadata": {},
     "output_type": "execute_result"
    }
   ],
   "source": [
    "output_total"
   ],
   "metadata": {
    "collapsed": false,
    "pycharm": {
     "name": "#%%\n"
    }
   }
  },
  {
   "cell_type": "code",
   "execution_count": 852,
   "outputs": [
    {
     "data": {
      "text/plain": "<Figure size 539.643x333.518 with 1 Axes>",
      "image/png": "[encoded data removed]"
     },
     "metadata": {},
     "output_type": "display_data"
    }
   ],
   "source": [
    "fig, ax = plt.subplots(1, 1, figsize=set_size(width))\n",
    "ax.set_ylim([0,1500])\n",
    "ax.set_xlim([0,100])\n",
    "ax.set_title(\"Output\")\n",
    "output_total.plot(kind=\"line\", y = \"output\", x=\"t\", ax=ax, linewidth=0.75, alpha=0.8, color=\"darkgreen\")\n",
    "output_max_firm.plot(kind=\"line\", y = \"output\", x=\"t\", ax=ax, linewidth=0.75, alpha=0.8)\n",
    "plt.show()"
   ],
   "metadata": {
    "collapsed": false,
    "pycharm": {
     "name": "#%%\n"
    }
   }
  },
  {
   "cell_type": "markdown",
   "source": [
    "Distribution of Firm Sizes\n",
    "The distribution of firm sizes across industries has a very characteristic\n",
    "shape, that of a power law (also commonly known as a scaling law or Pareto\n",
    "distribution). Data on firm sizes, measured variously, have proven to have\n",
    "broadly robust power law behavior over many decades and across national\n",
    "borders, this despite waves of mergers and acquisitions. Power law\n",
    "distributions of firm sizes are also characteristic of the non-equilibrium\n",
    "model described above. This is studied in the next section. Following that,\n",
    "the distribution of firm growth rates yielded by the model is compared with\n",
    "data. Then, the distribution of firm lifetimes the model produces is studied.\n",
    "These also follow a power law.\n",
    "Axtell 99 S.39"
   ],
   "metadata": {
    "collapsed": false,
    "pycharm": {
     "name": "#%% md\n"
    }
   }
  },
  {
   "cell_type": "markdown",
   "source": [
    "Maximum firm age (for sampling period)"
   ],
   "metadata": {
    "collapsed": false,
    "pycharm": {
     "name": "#%% md\n"
    }
   }
  },
  {
   "cell_type": "code",
   "execution_count": 853,
   "outputs": [],
   "source": [
    "max_age = firm_dk[\"age\"].max().compute()"
   ],
   "metadata": {
    "collapsed": false,
    "pycharm": {
     "name": "#%%\n"
    }
   }
  },
  {
   "cell_type": "code",
   "execution_count": 854,
   "outputs": [
    {
     "data": {
      "text/plain": "49"
     },
     "execution_count": 854,
     "metadata": {},
     "output_type": "execute_result"
    }
   ],
   "source": [
    "max_age"
   ],
   "metadata": {
    "collapsed": false,
    "pycharm": {
     "name": "#%%\n"
    }
   }
  },
  {
   "cell_type": "code",
   "execution_count": 855,
   "outputs": [],
   "source": [
    "firm_size = firm_dk[[\"t\", \"number_employees\"]].compute()"
   ],
   "metadata": {
    "collapsed": false,
    "pycharm": {
     "name": "#%%\n"
    }
   }
  },
  {
   "cell_type": "code",
   "execution_count": 856,
   "outputs": [],
   "source": [
    "dist=firm_size.groupby([\"t\", \"number_employees\"]).size()"
   ],
   "metadata": {
    "collapsed": false,
    "pycharm": {
     "name": "#%%\n"
    }
   }
  },
  {
   "cell_type": "code",
   "execution_count": 857,
   "outputs": [],
   "source": [
    "firm_size2 = firm_size[firm_size.t >= 1]"
   ],
   "metadata": {
    "collapsed": false,
    "pycharm": {
     "name": "#%%\n"
    }
   }
  },
  {
   "cell_type": "code",
   "execution_count": 858,
   "outputs": [
    {
     "data": {
      "text/plain": "          t  number_employees\n836       1                 1\n837       1                 2\n838       1                 1\n839       1                 1\n840       1                 2\n...     ...               ...\n525805  999                 1\n525806  999                 1\n525807  999                 1\n525808  999                 1\n525809  999                 1\n\n[524974 rows x 2 columns]",
      "text/html": "<div>\n<style scoped>\n    .dataframe tbody tr th:only-of-type {\n        vertical-align: middle;\n    }\n\n    .dataframe tbody tr th {\n        vertical-align: top;\n    }\n\n    .dataframe thead th {\n        text-align: right;\n    }\n</style>\n<table border=\"1\" class=\"dataframe\">\n  <thead>\n    <tr style=\"text-align: right;\">\n      <th></th>\n      <th>t</th>\n      <th>number_employees</th>\n    </tr>\n  </thead>\n  <tbody>\n    <tr>\n      <th>836</th>\n      <td>1</td>\n      <td>1</td>\n    </tr>\n    <tr>\n      <th>837</th>\n      <td>1</td>\n      <td>2</td>\n    </tr>\n    <tr>\n      <th>838</th>\n      <td>1</td>\n      <td>1</td>\n    </tr>\n    <tr>\n      <th>839</th>\n      <td>1</td>\n      <td>1</td>\n    </tr>\n    <tr>\n      <th>840</th>\n      <td>1</td>\n      <td>2</td>\n    </tr>\n    <tr>\n      <th>...</th>\n      <td>...</td>\n      <td>...</td>\n    </tr>\n    <tr>\n      <th>525805</th>\n      <td>999</td>\n      <td>1</td>\n    </tr>\n    <tr>\n      <th>525806</th>\n      <td>999</td>\n      <td>1</td>\n    </tr>\n    <tr>\n      <th>525807</th>\n      <td>999</td>\n      <td>1</td>\n    </tr>\n    <tr>\n      <th>525808</th>\n      <td>999</td>\n      <td>1</td>\n    </tr>\n    <tr>\n      <th>525809</th>\n      <td>999</td>\n      <td>1</td>\n    </tr>\n  </tbody>\n</table>\n<p>524974 rows × 2 columns</p>\n</div>"
     },
     "execution_count": 858,
     "metadata": {},
     "output_type": "execute_result"
    }
   ],
   "source": [
    "firm_size2"
   ],
   "metadata": {
    "collapsed": false,
    "pycharm": {
     "name": "#%%\n"
    }
   }
  },
  {
   "cell_type": "code",
   "execution_count": 859,
   "outputs": [],
   "source": [
    "dist2 = firm_size2.groupby([\"number_employees\"]).number_employees.size()"
   ],
   "metadata": {
    "collapsed": false,
    "pycharm": {
     "name": "#%%\n"
    }
   }
  },
  {
   "cell_type": "code",
   "execution_count": 860,
   "outputs": [
    {
     "data": {
      "text/plain": "524974"
     },
     "execution_count": 860,
     "metadata": {},
     "output_type": "execute_result"
    }
   ],
   "source": [
    "dist2.values.sum()"
   ],
   "metadata": {
    "collapsed": false,
    "pycharm": {
     "name": "#%%\n"
    }
   }
  },
  {
   "cell_type": "code",
   "execution_count": 861,
   "outputs": [
    {
     "data": {
      "text/plain": "number_employees\n1     281014\n2     126071\n3      65007\n4      28164\n5      12215\n6       5709\n7       2765\n8       1462\n9        772\n10       463\n11       283\n12       205\n13       160\n14       121\n15        88\n16        70\n17        78\n18        36\n19        53\n20        52\n21        42\n22        29\n23        28\n24        30\n25        17\n26        11\n27        14\n28         8\n29         6\n30         1\nName: number_employees, dtype: int64"
     },
     "execution_count": 861,
     "metadata": {},
     "output_type": "execute_result"
    }
   ],
   "source": [
    "dist2"
   ],
   "metadata": {
    "collapsed": false,
    "pycharm": {
     "name": "#%%\n"
    }
   }
  },
  {
   "cell_type": "code",
   "execution_count": 862,
   "outputs": [
    {
     "data": {
      "text/plain": "pandas.core.series.Series"
     },
     "execution_count": 862,
     "metadata": {},
     "output_type": "execute_result"
    }
   ],
   "source": [
    "type(dist2)"
   ],
   "metadata": {
    "collapsed": false,
    "pycharm": {
     "name": "#%%\n"
    }
   }
  },
  {
   "cell_type": "code",
   "execution_count": 863,
   "outputs": [
    {
     "name": "stdout",
     "output_type": "stream",
     "text": [
      "524974\n"
     ]
    }
   ],
   "source": [
    "print(dist2.sum())"
   ],
   "metadata": {
    "collapsed": false,
    "pycharm": {
     "name": "#%%\n"
    }
   }
  },
  {
   "cell_type": "code",
   "execution_count": 864,
   "outputs": [],
   "source": [
    "y_frequency_all = dist2.values/dist2.sum()"
   ],
   "metadata": {
    "collapsed": false,
    "pycharm": {
     "name": "#%%\n"
    }
   }
  },
  {
   "cell_type": "code",
   "execution_count": 865,
   "outputs": [],
   "source": [
    "y_frequency_all = y_frequency_all.tolist()"
   ],
   "metadata": {
    "collapsed": false,
    "pycharm": {
     "name": "#%%\n"
    }
   }
  },
  {
   "cell_type": "code",
   "execution_count": 866,
   "outputs": [
    {
     "data": {
      "text/plain": "[0.5352912715677348,\n 0.24014713109601618,\n 0.12382898962615291,\n 0.05364837115742875,\n 0.023267818977701752,\n 0.010874824277011814,\n 0.0052669275049811995,\n 0.0027848998236103123,\n 0.0014705490176656368,\n 0.0008819484393512822,\n 0.0005390743160613668,\n 0.00039049552930240354,\n 0.0003047769984799247,\n 0.00023048760510044306,\n 0.0001676273491639586,\n 0.00013333993683496706,\n 0.0001485787867589633,\n 6.857482465798307e-05,\n 0.00010095738074647507,\n 9.905252450597553e-05,\n 8.000396210098024e-05,\n 5.524083097448636e-05,\n 5.333597473398683e-05,\n 5.714568721498589e-05,\n 3.2382556088492e-05,\n 2.0953418645494825e-05,\n 2.6667987366993413e-05,\n 1.5238849923996236e-05,\n 1.1429137442997178e-05,\n 1.9048562404995295e-06]"
     },
     "execution_count": 866,
     "metadata": {},
     "output_type": "execute_result"
    }
   ],
   "source": [
    "y_frequency_all"
   ],
   "metadata": {
    "collapsed": false,
    "pycharm": {
     "name": "#%%\n"
    }
   }
  },
  {
   "cell_type": "code",
   "execution_count": 867,
   "outputs": [],
   "source": [
    "x_employees_all = dist2.index.values.tolist()"
   ],
   "metadata": {
    "collapsed": false,
    "pycharm": {
     "name": "#%%\n"
    }
   }
  },
  {
   "cell_type": "code",
   "execution_count": 868,
   "outputs": [
    {
     "data": {
      "text/plain": "[1,\n 2,\n 3,\n 4,\n 5,\n 6,\n 7,\n 8,\n 9,\n 10,\n 11,\n 12,\n 13,\n 14,\n 15,\n 16,\n 17,\n 18,\n 19,\n 20,\n 21,\n 22,\n 23,\n 24,\n 25,\n 26,\n 27,\n 28,\n 29,\n 30]"
     },
     "execution_count": 868,
     "metadata": {},
     "output_type": "execute_result"
    }
   ],
   "source": [
    "x_employees_all"
   ],
   "metadata": {
    "collapsed": false,
    "pycharm": {
     "name": "#%%\n"
    }
   }
  },
  {
   "cell_type": "code",
   "execution_count": 869,
   "outputs": [],
   "source": [
    "d = {\"Employees\": x_employees_all, \"Count\": y_frequency_all}"
   ],
   "metadata": {
    "collapsed": false,
    "pycharm": {
     "name": "#%%\n"
    }
   }
  },
  {
   "cell_type": "code",
   "execution_count": 870,
   "outputs": [],
   "source": [
    "df = pd.DataFrame(d)"
   ],
   "metadata": {
    "collapsed": false,
    "pycharm": {
     "name": "#%%\n"
    }
   }
  },
  {
   "cell_type": "markdown",
   "source": [
    " powerlaw not good for extreme cases, low and high prune"
   ],
   "metadata": {
    "collapsed": false,
    "pycharm": {
     "name": "#%% md\n"
    }
   }
  },
  {
   "cell_type": "code",
   "execution_count": 874,
   "outputs": [],
   "source": [
    "df_big = df[df.Count > 10**(-5)]"
   ],
   "metadata": {
    "collapsed": false,
    "pycharm": {
     "name": "#%%\n"
    }
   }
  },
  {
   "cell_type": "markdown",
   "source": [],
   "metadata": {
    "collapsed": false,
    "pycharm": {
     "name": "#%% md\n"
    }
   }
  },
  {
   "cell_type": "code",
   "execution_count": 875,
   "outputs": [],
   "source": [
    "df_big = df_big[1:]"
   ],
   "metadata": {
    "collapsed": false,
    "pycharm": {
     "name": "#%%\n"
    }
   }
  },
  {
   "cell_type": "markdown",
   "source": [
    "weibull not needed to prune"
   ],
   "metadata": {
    "collapsed": false,
    "pycharm": {
     "name": "#%% md\n"
    }
   }
  },
  {
   "cell_type": "code",
   "execution_count": 873,
   "outputs": [],
   "source": [
    "df_big = df"
   ],
   "metadata": {
    "collapsed": false,
    "pycharm": {
     "name": "#%%\n"
    }
   }
  },
  {
   "cell_type": "code",
   "execution_count": 876,
   "outputs": [
    {
     "data": {
      "text/plain": "    Employees     Count\n1           2  0.240147\n2           3  0.123829\n3           4  0.053648\n4           5  0.023268\n5           6  0.010875\n6           7  0.005267\n7           8  0.002785\n8           9  0.001471\n9          10  0.000882\n10         11  0.000539\n11         12  0.000390\n12         13  0.000305\n13         14  0.000230\n14         15  0.000168\n15         16  0.000133\n16         17  0.000149\n17         18  0.000069\n18         19  0.000101\n19         20  0.000099\n20         21  0.000080\n21         22  0.000055\n22         23  0.000053\n23         24  0.000057\n24         25  0.000032\n25         26  0.000021\n26         27  0.000027\n27         28  0.000015\n28         29  0.000011",
      "text/html": "<div>\n<style scoped>\n    .dataframe tbody tr th:only-of-type {\n        vertical-align: middle;\n    }\n\n    .dataframe tbody tr th {\n        vertical-align: top;\n    }\n\n    .dataframe thead th {\n        text-align: right;\n    }\n</style>\n<table border=\"1\" class=\"dataframe\">\n  <thead>\n    <tr style=\"text-align: right;\">\n      <th></th>\n      <th>Employees</th>\n      <th>Count</th>\n    </tr>\n  </thead>\n  <tbody>\n    <tr>\n      <th>1</th>\n      <td>2</td>\n      <td>0.240147</td>\n    </tr>\n    <tr>\n      <th>2</th>\n      <td>3</td>\n      <td>0.123829</td>\n    </tr>\n    <tr>\n      <th>3</th>\n      <td>4</td>\n      <td>0.053648</td>\n    </tr>\n    <tr>\n      <th>4</th>\n      <td>5</td>\n      <td>0.023268</td>\n    </tr>\n    <tr>\n      <th>5</th>\n      <td>6</td>\n      <td>0.010875</td>\n    </tr>\n    <tr>\n      <th>6</th>\n      <td>7</td>\n      <td>0.005267</td>\n    </tr>\n    <tr>\n      <th>7</th>\n      <td>8</td>\n      <td>0.002785</td>\n    </tr>\n    <tr>\n      <th>8</th>\n      <td>9</td>\n      <td>0.001471</td>\n    </tr>\n    <tr>\n      <th>9</th>\n      <td>10</td>\n      <td>0.000882</td>\n    </tr>\n    <tr>\n      <th>10</th>\n      <td>11</td>\n      <td>0.000539</td>\n    </tr>\n    <tr>\n      <th>11</th>\n      <td>12</td>\n      <td>0.000390</td>\n    </tr>\n    <tr>\n      <th>12</th>\n      <td>13</td>\n      <td>0.000305</td>\n    </tr>\n    <tr>\n      <th>13</th>\n      <td>14</td>\n      <td>0.000230</td>\n    </tr>\n    <tr>\n      <th>14</th>\n      <td>15</td>\n      <td>0.000168</td>\n    </tr>\n    <tr>\n      <th>15</th>\n      <td>16</td>\n      <td>0.000133</td>\n    </tr>\n    <tr>\n      <th>16</th>\n      <td>17</td>\n      <td>0.000149</td>\n    </tr>\n    <tr>\n      <th>17</th>\n      <td>18</td>\n      <td>0.000069</td>\n    </tr>\n    <tr>\n      <th>18</th>\n      <td>19</td>\n      <td>0.000101</td>\n    </tr>\n    <tr>\n      <th>19</th>\n      <td>20</td>\n      <td>0.000099</td>\n    </tr>\n    <tr>\n      <th>20</th>\n      <td>21</td>\n      <td>0.000080</td>\n    </tr>\n    <tr>\n      <th>21</th>\n      <td>22</td>\n      <td>0.000055</td>\n    </tr>\n    <tr>\n      <th>22</th>\n      <td>23</td>\n      <td>0.000053</td>\n    </tr>\n    <tr>\n      <th>23</th>\n      <td>24</td>\n      <td>0.000057</td>\n    </tr>\n    <tr>\n      <th>24</th>\n      <td>25</td>\n      <td>0.000032</td>\n    </tr>\n    <tr>\n      <th>25</th>\n      <td>26</td>\n      <td>0.000021</td>\n    </tr>\n    <tr>\n      <th>26</th>\n      <td>27</td>\n      <td>0.000027</td>\n    </tr>\n    <tr>\n      <th>27</th>\n      <td>28</td>\n      <td>0.000015</td>\n    </tr>\n    <tr>\n      <th>28</th>\n      <td>29</td>\n      <td>0.000011</td>\n    </tr>\n  </tbody>\n</table>\n</div>"
     },
     "execution_count": 876,
     "metadata": {},
     "output_type": "execute_result"
    }
   ],
   "source": [
    "df_big"
   ],
   "metadata": {
    "collapsed": false,
    "pycharm": {
     "name": "#%%\n"
    }
   }
  },
  {
   "cell_type": "code",
   "execution_count": 877,
   "outputs": [],
   "source": [
    "x_new = df_big.Employees\n",
    "y_new = df_big.Count"
   ],
   "metadata": {
    "collapsed": false,
    "pycharm": {
     "name": "#%%\n"
    }
   }
  },
  {
   "cell_type": "markdown",
   "source": [
    "function to sample firm size (employee) distribution for different t's"
   ],
   "metadata": {
    "collapsed": false,
    "pycharm": {
     "name": "#%% md\n"
    }
   }
  },
  {
   "cell_type": "code",
   "execution_count": 878,
   "outputs": [],
   "source": [
    "def sample_dist(dist, start, max_age, numb_samples):\n",
    "    df_list = []\n",
    "    for x in range(numb_samples):\n",
    "        i = start + x * max_age\n",
    "        sample = dist.loc[i, :]\n",
    "        freq = sample / sample.sum()\n",
    "        freq_df = freq.reset_index(inplace=False)\n",
    "        freq_df = freq_df.rename(columns={0: f\"Frequency{x}\"})\n",
    "        df_list.append(freq_df)\n",
    "    return df_list"
   ],
   "metadata": {
    "collapsed": false,
    "pycharm": {
     "name": "#%%\n"
    }
   }
  },
  {
   "cell_type": "code",
   "execution_count": 879,
   "outputs": [],
   "source": [
    "dfs = sample_dist(dist, 1, 10, 10)"
   ],
   "metadata": {
    "collapsed": false,
    "pycharm": {
     "name": "#%%\n"
    }
   }
  },
  {
   "cell_type": "code",
   "execution_count": 880,
   "outputs": [],
   "source": [
    "from functools import reduce"
   ],
   "metadata": {
    "collapsed": false,
    "pycharm": {
     "name": "#%%\n"
    }
   }
  },
  {
   "cell_type": "code",
   "execution_count": 881,
   "outputs": [],
   "source": [
    "df3 = reduce(lambda left,right: pd.merge(left,right,on=[\"number_employees\"], how=\"outer\"), dfs)"
   ],
   "metadata": {
    "collapsed": false,
    "pycharm": {
     "name": "#%%\n"
    }
   }
  },
  {
   "cell_type": "code",
   "execution_count": 882,
   "outputs": [
    {
     "data": {
      "text/plain": "    number_employees  Frequency0  Frequency1  Frequency2  Frequency3  \\\n0                  1    0.615616    0.545620    0.517176    0.544592   \n1                  2    0.285285    0.248175    0.253817    0.246679   \n2                  3    0.084084    0.124088    0.135496    0.104364   \n3                  4    0.012012    0.034672    0.049618    0.047438   \n4                  5    0.003003    0.029197    0.024809    0.024668   \n5                  6         NaN    0.012774    0.009542    0.017078   \n6                  7         NaN    0.001825    0.001908    0.007590   \n7                  9         NaN    0.001825         NaN    0.001898   \n8                 11         NaN    0.001825         NaN         NaN   \n9                  8         NaN         NaN    0.001908    0.001898   \n10                10         NaN         NaN    0.003817    0.001898   \n11                16         NaN         NaN    0.001908         NaN   \n12                14         NaN         NaN         NaN    0.001898   \n13                17         NaN         NaN         NaN         NaN   \n14                23         NaN         NaN         NaN         NaN   \n15                12         NaN         NaN         NaN         NaN   \n\n    Frequency4  Frequency5  Frequency6  Frequency7  Frequency8  Frequency9  \n0     0.521236    0.560976    0.533708    0.564899    0.531670    0.494024  \n1     0.237452    0.212008    0.234082    0.230347    0.226488    0.258964  \n2     0.129344    0.125704    0.140449    0.115174    0.140115    0.131474  \n3     0.067568    0.056285    0.048689    0.045704    0.059501    0.059761  \n4     0.028958    0.022514    0.020599    0.016453    0.021113    0.033865  \n5     0.005792    0.016886    0.013109    0.018282    0.009597    0.005976  \n6          NaN    0.001876    0.005618         NaN    0.003839    0.005976  \n7     0.001931         NaN    0.003745    0.001828         NaN    0.001992  \n8          NaN         NaN         NaN         NaN         NaN    0.001992  \n9     0.005792         NaN         NaN    0.005484    0.003839    0.003984  \n10         NaN    0.001876         NaN         NaN         NaN         NaN  \n11         NaN         NaN         NaN         NaN         NaN         NaN  \n12         NaN         NaN         NaN         NaN         NaN    0.001992  \n13    0.001931         NaN         NaN         NaN    0.001919         NaN  \n14         NaN    0.001876         NaN         NaN         NaN         NaN  \n15         NaN         NaN         NaN    0.001828    0.001919         NaN  ",
      "text/html": "<div>\n<style scoped>\n    .dataframe tbody tr th:only-of-type {\n        vertical-align: middle;\n    }\n\n    .dataframe tbody tr th {\n        vertical-align: top;\n    }\n\n    .dataframe thead th {\n        text-align: right;\n    }\n</style>\n<table border=\"1\" class=\"dataframe\">\n  <thead>\n    <tr style=\"text-align: right;\">\n      <th></th>\n      <th>number_employees</th>\n      <th>Frequency0</th>\n      <th>Frequency1</th>\n      <th>Frequency2</th>\n      <th>Frequency3</th>\n      <th>Frequency4</th>\n      <th>Frequency5</th>\n      <th>Frequency6</th>\n      <th>Frequency7</th>\n      <th>Frequency8</th>\n      <th>Frequency9</th>\n    </tr>\n  </thead>\n  <tbody>\n    <tr>\n      <th>0</th>\n      <td>1</td>\n      <td>0.615616</td>\n      <td>0.545620</td>\n      <td>0.517176</td>\n      <td>0.544592</td>\n      <td>0.521236</td>\n      <td>0.560976</td>\n      <td>0.533708</td>\n      <td>0.564899</td>\n      <td>0.531670</td>\n      <td>0.494024</td>\n    </tr>\n    <tr>\n      <th>1</th>\n      <td>2</td>\n      <td>0.285285</td>\n      <td>0.248175</td>\n      <td>0.253817</td>\n      <td>0.246679</td>\n      <td>0.237452</td>\n      <td>0.212008</td>\n      <td>0.234082</td>\n      <td>0.230347</td>\n      <td>0.226488</td>\n      <td>0.258964</td>\n    </tr>\n    <tr>\n      <th>2</th>\n      <td>3</td>\n      <td>0.084084</td>\n      <td>0.124088</td>\n      <td>0.135496</td>\n      <td>0.104364</td>\n      <td>0.129344</td>\n      <td>0.125704</td>\n      <td>0.140449</td>\n      <td>0.115174</td>\n      <td>0.140115</td>\n      <td>0.131474</td>\n    </tr>\n    <tr>\n      <th>3</th>\n      <td>4</td>\n      <td>0.012012</td>\n      <td>0.034672</td>\n      <td>0.049618</td>\n      <td>0.047438</td>\n      <td>0.067568</td>\n      <td>0.056285</td>\n      <td>0.048689</td>\n      <td>0.045704</td>\n      <td>0.059501</td>\n      <td>0.059761</td>\n    </tr>\n    <tr>\n      <th>4</th>\n      <td>5</td>\n      <td>0.003003</td>\n      <td>0.029197</td>\n      <td>0.024809</td>\n      <td>0.024668</td>\n      <td>0.028958</td>\n      <td>0.022514</td>\n      <td>0.020599</td>\n      <td>0.016453</td>\n      <td>0.021113</td>\n      <td>0.033865</td>\n    </tr>\n    <tr>\n      <th>5</th>\n      <td>6</td>\n      <td>NaN</td>\n      <td>0.012774</td>\n      <td>0.009542</td>\n      <td>0.017078</td>\n      <td>0.005792</td>\n      <td>0.016886</td>\n      <td>0.013109</td>\n      <td>0.018282</td>\n      <td>0.009597</td>\n      <td>0.005976</td>\n    </tr>\n    <tr>\n      <th>6</th>\n      <td>7</td>\n      <td>NaN</td>\n      <td>0.001825</td>\n      <td>0.001908</td>\n      <td>0.007590</td>\n      <td>NaN</td>\n      <td>0.001876</td>\n      <td>0.005618</td>\n      <td>NaN</td>\n      <td>0.003839</td>\n      <td>0.005976</td>\n    </tr>\n    <tr>\n      <th>7</th>\n      <td>9</td>\n      <td>NaN</td>\n      <td>0.001825</td>\n      <td>NaN</td>\n      <td>0.001898</td>\n      <td>0.001931</td>\n      <td>NaN</td>\n      <td>0.003745</td>\n      <td>0.001828</td>\n      <td>NaN</td>\n      <td>0.001992</td>\n    </tr>\n    <tr>\n      <th>8</th>\n      <td>11</td>\n      <td>NaN</td>\n      <td>0.001825</td>\n      <td>NaN</td>\n      <td>NaN</td>\n      <td>NaN</td>\n      <td>NaN</td>\n      <td>NaN</td>\n      <td>NaN</td>\n      <td>NaN</td>\n      <td>0.001992</td>\n    </tr>\n    <tr>\n      <th>9</th>\n      <td>8</td>\n      <td>NaN</td>\n      <td>NaN</td>\n      <td>0.001908</td>\n      <td>0.001898</td>\n      <td>0.005792</td>\n      <td>NaN</td>\n      <td>NaN</td>\n      <td>0.005484</td>\n      <td>0.003839</td>\n      <td>0.003984</td>\n    </tr>\n    <tr>\n      <th>10</th>\n      <td>10</td>\n      <td>NaN</td>\n      <td>NaN</td>\n      <td>0.003817</td>\n      <td>0.001898</td>\n      <td>NaN</td>\n      <td>0.001876</td>\n      <td>NaN</td>\n      <td>NaN</td>\n      <td>NaN</td>\n      <td>NaN</td>\n    </tr>\n    <tr>\n      <th>11</th>\n      <td>16</td>\n      <td>NaN</td>\n      <td>NaN</td>\n      <td>0.001908</td>\n      <td>NaN</td>\n      <td>NaN</td>\n      <td>NaN</td>\n      <td>NaN</td>\n      <td>NaN</td>\n      <td>NaN</td>\n      <td>NaN</td>\n    </tr>\n    <tr>\n      <th>12</th>\n      <td>14</td>\n      <td>NaN</td>\n      <td>NaN</td>\n      <td>NaN</td>\n      <td>0.001898</td>\n      <td>NaN</td>\n      <td>NaN</td>\n      <td>NaN</td>\n      <td>NaN</td>\n      <td>NaN</td>\n      <td>0.001992</td>\n    </tr>\n    <tr>\n      <th>13</th>\n      <td>17</td>\n      <td>NaN</td>\n      <td>NaN</td>\n      <td>NaN</td>\n      <td>NaN</td>\n      <td>0.001931</td>\n      <td>NaN</td>\n      <td>NaN</td>\n      <td>NaN</td>\n      <td>0.001919</td>\n      <td>NaN</td>\n    </tr>\n    <tr>\n      <th>14</th>\n      <td>23</td>\n      <td>NaN</td>\n      <td>NaN</td>\n      <td>NaN</td>\n      <td>NaN</td>\n      <td>NaN</td>\n      <td>0.001876</td>\n      <td>NaN</td>\n      <td>NaN</td>\n      <td>NaN</td>\n      <td>NaN</td>\n    </tr>\n    <tr>\n      <th>15</th>\n      <td>12</td>\n      <td>NaN</td>\n      <td>NaN</td>\n      <td>NaN</td>\n      <td>NaN</td>\n      <td>NaN</td>\n      <td>NaN</td>\n      <td>NaN</td>\n      <td>0.001828</td>\n      <td>0.001919</td>\n      <td>NaN</td>\n    </tr>\n  </tbody>\n</table>\n</div>"
     },
     "execution_count": 882,
     "metadata": {},
     "output_type": "execute_result"
    }
   ],
   "source": [
    "df3"
   ],
   "metadata": {
    "collapsed": false,
    "pycharm": {
     "name": "#%%\n"
    }
   }
  },
  {
   "cell_type": "code",
   "execution_count": 883,
   "outputs": [],
   "source": [
    "df3['avg'] = df3.iloc[:,1:].mean(axis=1)"
   ],
   "metadata": {
    "collapsed": false,
    "pycharm": {
     "name": "#%%\n"
    }
   }
  },
  {
   "cell_type": "code",
   "execution_count": 884,
   "outputs": [],
   "source": [
    "# df3['size'] = df3.iloc[:,1:].size(axis=1)"
   ],
   "metadata": {
    "collapsed": false,
    "pycharm": {
     "name": "#%%\n"
    }
   }
  },
  {
   "cell_type": "code",
   "execution_count": 885,
   "outputs": [],
   "source": [
    "df3 = df3.iloc[1:20,:]"
   ],
   "metadata": {
    "collapsed": false,
    "pycharm": {
     "name": "#%%\n"
    }
   }
  },
  {
   "cell_type": "code",
   "execution_count": 886,
   "outputs": [],
   "source": [
    "dfplot = df3[[\"number_employees\", \"avg\"]]"
   ],
   "metadata": {
    "collapsed": false,
    "pycharm": {
     "name": "#%%\n"
    }
   }
  },
  {
   "cell_type": "code",
   "execution_count": 887,
   "outputs": [],
   "source": [
    "x_employees = df3[\"number_employees\"].values.tolist()"
   ],
   "metadata": {
    "collapsed": false,
    "pycharm": {
     "name": "#%%\n"
    }
   }
  },
  {
   "cell_type": "code",
   "execution_count": 888,
   "outputs": [],
   "source": [
    "y_frequency = df3[\"avg\"].values.tolist()"
   ],
   "metadata": {
    "collapsed": false,
    "pycharm": {
     "name": "#%%\n"
    }
   }
  },
  {
   "cell_type": "code",
   "execution_count": 889,
   "outputs": [
    {
     "data": {
      "text/plain": "[0.2433297234290075,\n 0.12302917585027254,\n 0.048124783501162005,\n 0.022517919415630007,\n 0.012114859996214056,\n 0.004090337805532492,\n 0.002203059407508427,\n 0.0019084246953790676,\n 0.0038174553296183803,\n 0.0025301665692802717,\n 0.0019083969465648854,\n 0.00194478253967054,\n 0.001924943863523518,\n 0.001876172607879925,\n 0.0018737696807222784]"
     },
     "execution_count": 889,
     "metadata": {},
     "output_type": "execute_result"
    }
   ],
   "source": [
    "y_frequency"
   ],
   "metadata": {
    "collapsed": false,
    "pycharm": {
     "name": "#%%\n"
    }
   }
  },
  {
   "cell_type": "code",
   "execution_count": 890,
   "outputs": [
    {
     "data": {
      "text/plain": "<Figure size 539.643x333.518 with 1 Axes>",
      "image/png": "[encoded data removed]"
     },
     "metadata": {},
     "output_type": "display_data"
    }
   ],
   "source": [
    "fig, ax = plt.subplots(1, 1, figsize=set_size(width))\n",
    "#ax.set_ylim([0,0.4])\n",
    "#ax.set_xlim([0,100])\n",
    "ax.set_title(\"Output\")\n",
    "ticks = (1,5,10,20, 40)\n",
    "ticksy = (0.001, 0.01, 0.1, 1)\n",
    "df_big.plot(\"Employees\",\"Count\",kind=\"scatter\", ax=ax, linewidth=0.75, alpha=0.8, loglog=True)\n",
    "ax.set_xticks(ticks=ticks)\n",
    "ax.set_xticklabels(labels=ticks)\n",
    "ax.set_yticks(ticks=ticksy)\n",
    "ax.set_yticklabels(labels=ticksy)\n",
    "plt.show()"
   ],
   "metadata": {
    "collapsed": false,
    "pycharm": {
     "name": "#%%\n"
    }
   }
  },
  {
   "cell_type": "markdown",
   "source": [
    "Fit the firmsize power-law data"
   ],
   "metadata": {
    "collapsed": false,
    "pycharm": {
     "name": "#%% md\n"
    }
   }
  },
  {
   "cell_type": "code",
   "execution_count": 891,
   "outputs": [],
   "source": [
    "# Function to calculate the power-law with constants a and b\n",
    "def power_law(x, b):\n",
    "    return np.power(x, -(1+b), dtype=float)"
   ],
   "metadata": {
    "collapsed": false,
    "pycharm": {
     "name": "#%%\n"
    }
   }
  },
  {
   "cell_type": "code",
   "execution_count": 892,
   "outputs": [],
   "source": [
    "def weibull(x, a, b):\n",
    "    return 1-np.exp(-a*x**b, dtype=float)\n",
    "\n",
    "def gld(x, a, b):\n",
    "    return 1-(1+a*x/b)**((-1)/a)"
   ],
   "metadata": {
    "collapsed": false,
    "pycharm": {
     "name": "#%%\n"
    }
   }
  },
  {
   "cell_type": "code",
   "execution_count": 893,
   "outputs": [],
   "source": [
    "from scipy.optimize import curve_fit"
   ],
   "metadata": {
    "collapsed": false,
    "pycharm": {
     "name": "#%%\n"
    }
   }
  },
  {
   "cell_type": "code",
   "execution_count": 894,
   "outputs": [],
   "source": [
    "pars, cov = curve_fit(f=power_law, xdata= x_new, ydata=y_new, p0=0, bounds=(-np.inf, np.inf))"
   ],
   "metadata": {
    "collapsed": false,
    "pycharm": {
     "name": "#%%\n"
    }
   }
  },
  {
   "cell_type": "code",
   "execution_count": 895,
   "outputs": [],
   "source": [
    "pars2, cov2 = curve_fit(f=weibull, xdata= x_new, ydata=y_new, p0=[0,0], bounds=(-np.inf, np.inf))"
   ],
   "metadata": {
    "collapsed": false,
    "pycharm": {
     "name": "#%%\n"
    }
   }
  },
  {
   "cell_type": "code",
   "execution_count": 896,
   "outputs": [],
   "source": [
    "# not found optima\n",
    "# pars3, cov3 = curve_fit(f=gld, xdata= x_new, ydata=y_new, p0=[0,0], bounds=(-np.inf, np.inf))"
   ],
   "metadata": {
    "collapsed": false,
    "pycharm": {
     "name": "#%%\n"
    }
   }
  },
  {
   "cell_type": "markdown",
   "source": [
    "Get the standard deviations of the parameters (square roots of the # diagonal of the covariance)"
   ],
   "metadata": {
    "collapsed": false,
    "pycharm": {
     "name": "#%% md\n"
    }
   }
  },
  {
   "cell_type": "code",
   "execution_count": 897,
   "outputs": [],
   "source": [
    "stdevs = np.sqrt(np.diag(cov))"
   ],
   "metadata": {
    "collapsed": false,
    "pycharm": {
     "name": "#%%\n"
    }
   }
  },
  {
   "cell_type": "code",
   "execution_count": 898,
   "outputs": [],
   "source": [
    "stdevs2 = np.sqrt(np.diag(cov2))"
   ],
   "metadata": {
    "collapsed": false,
    "pycharm": {
     "name": "#%%\n"
    }
   }
  },
  {
   "cell_type": "markdown",
   "source": [
    "Calculate the residuals"
   ],
   "metadata": {
    "collapsed": false,
    "pycharm": {
     "name": "#%% md\n"
    }
   }
  },
  {
   "cell_type": "code",
   "execution_count": 899,
   "outputs": [],
   "source": [
    "res = y_new - power_law(x_new, *pars)"
   ],
   "metadata": {
    "collapsed": false,
    "pycharm": {
     "name": "#%%\n"
    }
   }
  },
  {
   "cell_type": "code",
   "execution_count": 900,
   "outputs": [],
   "source": [
    "ss_res = np.sum(res**2)"
   ],
   "metadata": {
    "collapsed": false,
    "pycharm": {
     "name": "#%%\n"
    }
   }
  },
  {
   "cell_type": "code",
   "execution_count": 901,
   "outputs": [
    {
     "data": {
      "text/plain": "0.0013713939622134847"
     },
     "execution_count": 901,
     "metadata": {},
     "output_type": "execute_result"
    }
   ],
   "source": [
    "ss_res"
   ],
   "metadata": {
    "collapsed": false,
    "pycharm": {
     "name": "#%%\n"
    }
   }
  },
  {
   "cell_type": "code",
   "execution_count": 902,
   "outputs": [],
   "source": [
    "ss_tot = np.sum((y_new-np.mean(y_new))**2)"
   ],
   "metadata": {
    "collapsed": false,
    "pycharm": {
     "name": "#%%\n"
    }
   }
  },
  {
   "cell_type": "code",
   "execution_count": 903,
   "outputs": [
    {
     "data": {
      "text/plain": "0.06886861374950501"
     },
     "execution_count": 903,
     "metadata": {},
     "output_type": "execute_result"
    }
   ],
   "source": [
    "ss_tot"
   ],
   "metadata": {
    "collapsed": false,
    "pycharm": {
     "name": "#%%\n"
    }
   }
  },
  {
   "cell_type": "code",
   "execution_count": 904,
   "outputs": [],
   "source": [
    "res2 = y_new - weibull(x_new, *pars2)"
   ],
   "metadata": {
    "collapsed": false,
    "pycharm": {
     "name": "#%%\n"
    }
   }
  },
  {
   "cell_type": "code",
   "execution_count": 905,
   "outputs": [],
   "source": [
    "ss_res2 = np.sum(res2**2)"
   ],
   "metadata": {
    "collapsed": false,
    "pycharm": {
     "name": "#%%\n"
    }
   }
  },
  {
   "cell_type": "code",
   "execution_count": 906,
   "outputs": [],
   "source": [
    "ss_tot2 = np.sum((y_new-np.mean(y_new))**2)"
   ],
   "metadata": {
    "collapsed": false,
    "pycharm": {
     "name": "#%%\n"
    }
   }
  },
  {
   "cell_type": "code",
   "execution_count": 907,
   "outputs": [],
   "source": [
    "r_squared = 1-(ss_res/ss_tot)"
   ],
   "metadata": {
    "collapsed": false,
    "pycharm": {
     "name": "#%%\n"
    }
   }
  },
  {
   "cell_type": "code",
   "execution_count": 908,
   "outputs": [
    {
     "data": {
      "text/plain": "0.980086807508546"
     },
     "execution_count": 908,
     "metadata": {},
     "output_type": "execute_result"
    }
   ],
   "source": [
    "r_squared"
   ],
   "metadata": {
    "collapsed": false,
    "pycharm": {
     "name": "#%%\n"
    }
   }
  },
  {
   "cell_type": "markdown",
   "source": [],
   "metadata": {
    "collapsed": false,
    "pycharm": {
     "name": "#%% md\n"
    }
   }
  },
  {
   "cell_type": "code",
   "execution_count": 909,
   "outputs": [],
   "source": [
    "r_squared2 = 1-(ss_res2/ss_tot2)"
   ],
   "metadata": {
    "collapsed": false,
    "pycharm": {
     "name": "#%%\n"
    }
   }
  },
  {
   "cell_type": "code",
   "execution_count": 910,
   "outputs": [
    {
     "data": {
      "text/plain": "0.9863599458561879"
     },
     "execution_count": 910,
     "metadata": {},
     "output_type": "execute_result"
    }
   ],
   "source": [
    "r_squared2"
   ],
   "metadata": {
    "collapsed": false,
    "pycharm": {
     "name": "#%%\n"
    }
   }
  },
  {
   "cell_type": "code",
   "execution_count": 911,
   "outputs": [
    {
     "data": {
      "text/plain": "array([1.07735622])"
     },
     "execution_count": 911,
     "metadata": {},
     "output_type": "execute_result"
    }
   ],
   "source": [
    "pars"
   ],
   "metadata": {
    "collapsed": false,
    "pycharm": {
     "name": "#%%\n"
    }
   }
  },
  {
   "cell_type": "code",
   "execution_count": 912,
   "outputs": [
    {
     "data": {
      "text/plain": "array([ 1.49790849, -2.40087656])"
     },
     "execution_count": 912,
     "metadata": {},
     "output_type": "execute_result"
    }
   ],
   "source": [
    "pars2"
   ],
   "metadata": {
    "collapsed": false,
    "pycharm": {
     "name": "#%%\n"
    }
   }
  },
  {
   "cell_type": "code",
   "execution_count": 913,
   "outputs": [],
   "source": [
    "test = dist.loc[500, :]"
   ],
   "metadata": {
    "collapsed": false,
    "pycharm": {
     "name": "#%%\n"
    }
   }
  },
  {
   "cell_type": "code",
   "execution_count": 914,
   "outputs": [
    {
     "data": {
      "text/plain": "number_employees\n1     284\n2     124\n3      55\n4      30\n5      12\n6       4\n7       3\n8       3\n9       1\n11      1\n12      1\n22      1\ndtype: int64"
     },
     "execution_count": 914,
     "metadata": {},
     "output_type": "execute_result"
    }
   ],
   "source": [
    "test"
   ],
   "metadata": {
    "collapsed": false,
    "pycharm": {
     "name": "#%%\n"
    }
   }
  },
  {
   "cell_type": "code",
   "execution_count": 915,
   "outputs": [],
   "source": [
    "frequency = test/test.sum()"
   ],
   "metadata": {
    "collapsed": false,
    "pycharm": {
     "name": "#%%\n"
    }
   }
  },
  {
   "cell_type": "code",
   "execution_count": 916,
   "outputs": [],
   "source": [
    "freq_df = frequency.reset_index(inplace=False)"
   ],
   "metadata": {
    "collapsed": false,
    "pycharm": {
     "name": "#%%\n"
    }
   }
  },
  {
   "cell_type": "code",
   "execution_count": 917,
   "outputs": [],
   "source": [
    "freq_df = freq_df.rename(columns={0:\"Frequency\"})"
   ],
   "metadata": {
    "collapsed": false,
    "pycharm": {
     "name": "#%%\n"
    }
   }
  },
  {
   "cell_type": "code",
   "execution_count": 918,
   "outputs": [
    {
     "data": {
      "text/plain": "    number_employees  Frequency\n0                  1   0.547206\n1                  2   0.238921\n2                  3   0.105973\n3                  4   0.057803\n4                  5   0.023121\n5                  6   0.007707\n6                  7   0.005780\n7                  8   0.005780\n8                  9   0.001927\n9                 11   0.001927\n10                12   0.001927\n11                22   0.001927",
      "text/html": "<div>\n<style scoped>\n    .dataframe tbody tr th:only-of-type {\n        vertical-align: middle;\n    }\n\n    .dataframe tbody tr th {\n        vertical-align: top;\n    }\n\n    .dataframe thead th {\n        text-align: right;\n    }\n</style>\n<table border=\"1\" class=\"dataframe\">\n  <thead>\n    <tr style=\"text-align: right;\">\n      <th></th>\n      <th>number_employees</th>\n      <th>Frequency</th>\n    </tr>\n  </thead>\n  <tbody>\n    <tr>\n      <th>0</th>\n      <td>1</td>\n      <td>0.547206</td>\n    </tr>\n    <tr>\n      <th>1</th>\n      <td>2</td>\n      <td>0.238921</td>\n    </tr>\n    <tr>\n      <th>2</th>\n      <td>3</td>\n      <td>0.105973</td>\n    </tr>\n    <tr>\n      <th>3</th>\n      <td>4</td>\n      <td>0.057803</td>\n    </tr>\n    <tr>\n      <th>4</th>\n      <td>5</td>\n      <td>0.023121</td>\n    </tr>\n    <tr>\n      <th>5</th>\n      <td>6</td>\n      <td>0.007707</td>\n    </tr>\n    <tr>\n      <th>6</th>\n      <td>7</td>\n      <td>0.005780</td>\n    </tr>\n    <tr>\n      <th>7</th>\n      <td>8</td>\n      <td>0.005780</td>\n    </tr>\n    <tr>\n      <th>8</th>\n      <td>9</td>\n      <td>0.001927</td>\n    </tr>\n    <tr>\n      <th>9</th>\n      <td>11</td>\n      <td>0.001927</td>\n    </tr>\n    <tr>\n      <th>10</th>\n      <td>12</td>\n      <td>0.001927</td>\n    </tr>\n    <tr>\n      <th>11</th>\n      <td>22</td>\n      <td>0.001927</td>\n    </tr>\n  </tbody>\n</table>\n</div>"
     },
     "execution_count": 918,
     "metadata": {},
     "output_type": "execute_result"
    }
   ],
   "source": [
    "freq_df"
   ],
   "metadata": {
    "collapsed": false,
    "pycharm": {
     "name": "#%%\n"
    }
   }
  },
  {
   "cell_type": "code",
   "execution_count": 919,
   "outputs": [
    {
     "data": {
      "text/plain": "<Figure size 539.643x333.518 with 1 Axes>",
      "image/png": "[encoded data removed]"
     },
     "metadata": {},
     "output_type": "display_data"
    }
   ],
   "source": [
    "fig, ax = plt.subplots(1, 1, figsize=set_size(width))\n",
    "#ax.set_ylim([0,0.4])\n",
    "#ax.set_xlim([0,100])\n",
    "ax.set_title(\"Output\")\n",
    "ticks = (1,5,10,20)\n",
    "ticksy = (0.001, 0.01, 0.1, 1)\n",
    "freq_df.plot(\"number_employees\",\"Frequency\",kind=\"scatter\", ax=ax, linewidth=0.75, alpha=0.8, loglog=True)\n",
    "ax.set_xticks(ticks=ticks)\n",
    "ax.set_xticklabels(labels=ticks)\n",
    "ax.set_yticks(ticks=ticksy)\n",
    "ax.set_yticklabels(labels=ticksy)\n",
    "plt.show()"
   ],
   "metadata": {
    "collapsed": false,
    "pycharm": {
     "name": "#%%\n"
    }
   }
  },
  {
   "cell_type": "markdown",
   "source": [
    "Overall Behavior of Agents, I (Population Cross-Section)"
   ],
   "metadata": {
    "collapsed": false,
    "pycharm": {
     "name": "#%% md\n"
    }
   }
  },
  {
   "cell_type": "code",
   "execution_count": 920,
   "outputs": [],
   "source": [
    "effort_dist = worker_dk[[\"t\", \"effort\"]].compute()\n",
    "dist_e = effort_dist.groupby([\"t\", \"effort\"]).size()"
   ],
   "metadata": {
    "collapsed": false,
    "pycharm": {
     "name": "#%%\n"
    }
   }
  },
  {
   "cell_type": "code",
   "execution_count": 921,
   "outputs": [
    {
     "data": {
      "text/plain": "t    effort  \n0    0.000000    161\n     0.000302      1\n     0.001578      1\n     0.003230      1\n     0.005677      1\n                ... \n999  0.998096      1\n     0.998708      1\n     0.998777      1\n     0.999090      1\n     0.999196      1\nLength: 615929, dtype: int64"
     },
     "execution_count": 921,
     "metadata": {},
     "output_type": "execute_result"
    }
   ],
   "source": [
    "dist_e"
   ],
   "metadata": {
    "collapsed": false,
    "pycharm": {
     "name": "#%%\n"
    }
   }
  },
  {
   "cell_type": "code",
   "execution_count": 922,
   "outputs": [
    {
     "ename": "KeyError",
     "evalue": "1020",
     "output_type": "error",
     "traceback": [
      "\u001B[1;31m---------------------------------------------------------------------------\u001B[0m",
      "\u001B[1;31mKeyError\u001B[0m                                  Traceback (most recent call last)",
      "File \u001B[1;32m~\\anaconda3\\envs\\abm-env\\lib\\site-packages\\pandas\\core\\indexes\\base.py:3629\u001B[0m, in \u001B[0;36mIndex.get_loc\u001B[1;34m(self, key, method, tolerance)\u001B[0m\n\u001B[0;32m   3628\u001B[0m \u001B[38;5;28;01mtry\u001B[39;00m:\n\u001B[1;32m-> 3629\u001B[0m     \u001B[38;5;28;01mreturn\u001B[39;00m \u001B[38;5;28;43mself\u001B[39;49m\u001B[38;5;241;43m.\u001B[39;49m\u001B[43m_engine\u001B[49m\u001B[38;5;241;43m.\u001B[39;49m\u001B[43mget_loc\u001B[49m\u001B[43m(\u001B[49m\u001B[43mcasted_key\u001B[49m\u001B[43m)\u001B[49m\n\u001B[0;32m   3630\u001B[0m \u001B[38;5;28;01mexcept\u001B[39;00m \u001B[38;5;167;01mKeyError\u001B[39;00m \u001B[38;5;28;01mas\u001B[39;00m err:\n",
      "File \u001B[1;32m~\\anaconda3\\envs\\abm-env\\lib\\site-packages\\pandas\\_libs\\index.pyx:136\u001B[0m, in \u001B[0;36mpandas._libs.index.IndexEngine.get_loc\u001B[1;34m()\u001B[0m\n",
      "File \u001B[1;32m~\\anaconda3\\envs\\abm-env\\lib\\site-packages\\pandas\\_libs\\index.pyx:163\u001B[0m, in \u001B[0;36mpandas._libs.index.IndexEngine.get_loc\u001B[1;34m()\u001B[0m\n",
      "File \u001B[1;32mpandas\\_libs\\hashtable_class_helper.pxi:2131\u001B[0m, in \u001B[0;36mpandas._libs.hashtable.Int64HashTable.get_item\u001B[1;34m()\u001B[0m\n",
      "File \u001B[1;32mpandas\\_libs\\hashtable_class_helper.pxi:2140\u001B[0m, in \u001B[0;36mpandas._libs.hashtable.Int64HashTable.get_item\u001B[1;34m()\u001B[0m\n",
      "\u001B[1;31mKeyError\u001B[0m: 1020",
      "\nThe above exception was the direct cause of the following exception:\n",
      "\u001B[1;31mKeyError\u001B[0m                                  Traceback (most recent call last)",
      "Input \u001B[1;32mIn [922]\u001B[0m, in \u001B[0;36m<cell line: 1>\u001B[1;34m()\u001B[0m\n\u001B[1;32m----> 1\u001B[0m dfs_e \u001B[38;5;241m=\u001B[39m \u001B[43msample_dist\u001B[49m\u001B[43m(\u001B[49m\u001B[43mdist_e\u001B[49m\u001B[43m,\u001B[49m\u001B[43m \u001B[49m\u001B[38;5;241;43m300\u001B[39;49m\u001B[43m,\u001B[49m\u001B[43m \u001B[49m\u001B[38;5;241;43m30\u001B[39;49m\u001B[43m,\u001B[49m\u001B[43m \u001B[49m\u001B[38;5;241;43m200\u001B[39;49m\u001B[43m)\u001B[49m\n\u001B[0;32m      3\u001B[0m df_e \u001B[38;5;241m=\u001B[39m reduce(\u001B[38;5;28;01mlambda\u001B[39;00m left, right: pd\u001B[38;5;241m.\u001B[39mmerge(left, right, on\u001B[38;5;241m=\u001B[39m[\u001B[38;5;124m\"\u001B[39m\u001B[38;5;124meffort\u001B[39m\u001B[38;5;124m\"\u001B[39m], how\u001B[38;5;241m=\u001B[39m\u001B[38;5;124m\"\u001B[39m\u001B[38;5;124mouter\u001B[39m\u001B[38;5;124m\"\u001B[39m), dfs_e)\n\u001B[0;32m      4\u001B[0m df_e[\u001B[38;5;124m'\u001B[39m\u001B[38;5;124mavg\u001B[39m\u001B[38;5;124m'\u001B[39m] \u001B[38;5;241m=\u001B[39m df_e\u001B[38;5;241m.\u001B[39miloc[:, \u001B[38;5;241m1\u001B[39m:]\u001B[38;5;241m.\u001B[39mmean(axis\u001B[38;5;241m=\u001B[39m\u001B[38;5;241m1\u001B[39m)\n",
      "Input \u001B[1;32mIn [878]\u001B[0m, in \u001B[0;36msample_dist\u001B[1;34m(dist, start, max_age, numb_samples)\u001B[0m\n\u001B[0;32m      3\u001B[0m \u001B[38;5;28;01mfor\u001B[39;00m x \u001B[38;5;129;01min\u001B[39;00m \u001B[38;5;28mrange\u001B[39m(numb_samples):\n\u001B[0;32m      4\u001B[0m     i \u001B[38;5;241m=\u001B[39m start \u001B[38;5;241m+\u001B[39m x \u001B[38;5;241m*\u001B[39m max_age\n\u001B[1;32m----> 5\u001B[0m     sample \u001B[38;5;241m=\u001B[39m \u001B[43mdist\u001B[49m\u001B[38;5;241;43m.\u001B[39;49m\u001B[43mloc\u001B[49m\u001B[43m[\u001B[49m\u001B[43mi\u001B[49m\u001B[43m,\u001B[49m\u001B[43m \u001B[49m\u001B[43m:\u001B[49m\u001B[43m]\u001B[49m\n\u001B[0;32m      6\u001B[0m     freq \u001B[38;5;241m=\u001B[39m sample \u001B[38;5;241m/\u001B[39m sample\u001B[38;5;241m.\u001B[39msum()\n\u001B[0;32m      7\u001B[0m     freq_df \u001B[38;5;241m=\u001B[39m freq\u001B[38;5;241m.\u001B[39mreset_index(inplace\u001B[38;5;241m=\u001B[39m\u001B[38;5;28;01mFalse\u001B[39;00m)\n",
      "File \u001B[1;32m~\\anaconda3\\envs\\abm-env\\lib\\site-packages\\pandas\\core\\indexing.py:961\u001B[0m, in \u001B[0;36m_LocationIndexer.__getitem__\u001B[1;34m(self, key)\u001B[0m\n\u001B[0;32m    959\u001B[0m     \u001B[38;5;28;01mif\u001B[39;00m \u001B[38;5;28mself\u001B[39m\u001B[38;5;241m.\u001B[39m_is_scalar_access(key):\n\u001B[0;32m    960\u001B[0m         \u001B[38;5;28;01mreturn\u001B[39;00m \u001B[38;5;28mself\u001B[39m\u001B[38;5;241m.\u001B[39mobj\u001B[38;5;241m.\u001B[39m_get_value(\u001B[38;5;241m*\u001B[39mkey, takeable\u001B[38;5;241m=\u001B[39m\u001B[38;5;28mself\u001B[39m\u001B[38;5;241m.\u001B[39m_takeable)\n\u001B[1;32m--> 961\u001B[0m     \u001B[38;5;28;01mreturn\u001B[39;00m \u001B[38;5;28;43mself\u001B[39;49m\u001B[38;5;241;43m.\u001B[39;49m\u001B[43m_getitem_tuple\u001B[49m\u001B[43m(\u001B[49m\u001B[43mkey\u001B[49m\u001B[43m)\u001B[49m\n\u001B[0;32m    962\u001B[0m \u001B[38;5;28;01melse\u001B[39;00m:\n\u001B[0;32m    963\u001B[0m     \u001B[38;5;66;03m# we by definition only have the 0th axis\u001B[39;00m\n\u001B[0;32m    964\u001B[0m     axis \u001B[38;5;241m=\u001B[39m \u001B[38;5;28mself\u001B[39m\u001B[38;5;241m.\u001B[39maxis \u001B[38;5;129;01mor\u001B[39;00m \u001B[38;5;241m0\u001B[39m\n",
      "File \u001B[1;32m~\\anaconda3\\envs\\abm-env\\lib\\site-packages\\pandas\\core\\indexing.py:1140\u001B[0m, in \u001B[0;36m_LocIndexer._getitem_tuple\u001B[1;34m(self, tup)\u001B[0m\n\u001B[0;32m   1138\u001B[0m \u001B[38;5;28;01mwith\u001B[39;00m suppress(IndexingError):\n\u001B[0;32m   1139\u001B[0m     tup \u001B[38;5;241m=\u001B[39m \u001B[38;5;28mself\u001B[39m\u001B[38;5;241m.\u001B[39m_expand_ellipsis(tup)\n\u001B[1;32m-> 1140\u001B[0m     \u001B[38;5;28;01mreturn\u001B[39;00m \u001B[38;5;28;43mself\u001B[39;49m\u001B[38;5;241;43m.\u001B[39;49m\u001B[43m_getitem_lowerdim\u001B[49m\u001B[43m(\u001B[49m\u001B[43mtup\u001B[49m\u001B[43m)\u001B[49m\n\u001B[0;32m   1142\u001B[0m \u001B[38;5;66;03m# no multi-index, so validate all of the indexers\u001B[39;00m\n\u001B[0;32m   1143\u001B[0m tup \u001B[38;5;241m=\u001B[39m \u001B[38;5;28mself\u001B[39m\u001B[38;5;241m.\u001B[39m_validate_tuple_indexer(tup)\n",
      "File \u001B[1;32m~\\anaconda3\\envs\\abm-env\\lib\\site-packages\\pandas\\core\\indexing.py:843\u001B[0m, in \u001B[0;36m_LocationIndexer._getitem_lowerdim\u001B[1;34m(self, tup)\u001B[0m\n\u001B[0;32m    841\u001B[0m \u001B[38;5;66;03m# we may have a nested tuples indexer here\u001B[39;00m\n\u001B[0;32m    842\u001B[0m \u001B[38;5;28;01mif\u001B[39;00m \u001B[38;5;28mself\u001B[39m\u001B[38;5;241m.\u001B[39m_is_nested_tuple_indexer(tup):\n\u001B[1;32m--> 843\u001B[0m     \u001B[38;5;28;01mreturn\u001B[39;00m \u001B[38;5;28;43mself\u001B[39;49m\u001B[38;5;241;43m.\u001B[39;49m\u001B[43m_getitem_nested_tuple\u001B[49m\u001B[43m(\u001B[49m\u001B[43mtup\u001B[49m\u001B[43m)\u001B[49m\n\u001B[0;32m    845\u001B[0m \u001B[38;5;66;03m# we maybe be using a tuple to represent multiple dimensions here\u001B[39;00m\n\u001B[0;32m    846\u001B[0m ax0 \u001B[38;5;241m=\u001B[39m \u001B[38;5;28mself\u001B[39m\u001B[38;5;241m.\u001B[39mobj\u001B[38;5;241m.\u001B[39m_get_axis(\u001B[38;5;241m0\u001B[39m)\n",
      "File \u001B[1;32m~\\anaconda3\\envs\\abm-env\\lib\\site-packages\\pandas\\core\\indexing.py:914\u001B[0m, in \u001B[0;36m_LocationIndexer._getitem_nested_tuple\u001B[1;34m(self, tup)\u001B[0m\n\u001B[0;32m    909\u001B[0m \u001B[38;5;28;01mif\u001B[39;00m \u001B[38;5;28mall\u001B[39m(is_hashable(x) \u001B[38;5;129;01mor\u001B[39;00m com\u001B[38;5;241m.\u001B[39mis_null_slice(x) \u001B[38;5;28;01mfor\u001B[39;00m x \u001B[38;5;129;01min\u001B[39;00m tup):\n\u001B[0;32m    910\u001B[0m     \u001B[38;5;66;03m# GH#10521 Series should reduce MultiIndex dimensions instead of\u001B[39;00m\n\u001B[0;32m    911\u001B[0m     \u001B[38;5;66;03m#  DataFrame, IndexingError is not raised when slice(None,None,None)\u001B[39;00m\n\u001B[0;32m    912\u001B[0m     \u001B[38;5;66;03m#  with one row.\u001B[39;00m\n\u001B[0;32m    913\u001B[0m     \u001B[38;5;28;01mwith\u001B[39;00m suppress(IndexingError):\n\u001B[1;32m--> 914\u001B[0m         \u001B[38;5;28;01mreturn\u001B[39;00m \u001B[38;5;28;43mself\u001B[39;49m\u001B[38;5;241;43m.\u001B[39;49m\u001B[43m_handle_lowerdim_multi_index_axis0\u001B[49m\u001B[43m(\u001B[49m\u001B[43mtup\u001B[49m\u001B[43m)\u001B[49m\n\u001B[0;32m    915\u001B[0m \u001B[38;5;28;01melif\u001B[39;00m \u001B[38;5;28misinstance\u001B[39m(\u001B[38;5;28mself\u001B[39m\u001B[38;5;241m.\u001B[39mobj, ABCSeries) \u001B[38;5;129;01mand\u001B[39;00m \u001B[38;5;28many\u001B[39m(\n\u001B[0;32m    916\u001B[0m     \u001B[38;5;28misinstance\u001B[39m(k, \u001B[38;5;28mtuple\u001B[39m) \u001B[38;5;28;01mfor\u001B[39;00m k \u001B[38;5;129;01min\u001B[39;00m tup\n\u001B[0;32m    917\u001B[0m ):\n\u001B[1;32m   (...)\u001B[0m\n\u001B[0;32m    921\u001B[0m     \u001B[38;5;66;03m#  that themselves contain a slice entry\u001B[39;00m\n\u001B[0;32m    922\u001B[0m     \u001B[38;5;66;03m# See test_loc_series_getitem_too_many_dimensions\u001B[39;00m\n\u001B[0;32m    923\u001B[0m     \u001B[38;5;28;01mraise\u001B[39;00m \u001B[38;5;167;01mValueError\u001B[39;00m(\u001B[38;5;124m\"\u001B[39m\u001B[38;5;124mToo many indices\u001B[39m\u001B[38;5;124m\"\u001B[39m)\n",
      "File \u001B[1;32m~\\anaconda3\\envs\\abm-env\\lib\\site-packages\\pandas\\core\\indexing.py:1166\u001B[0m, in \u001B[0;36m_LocIndexer._handle_lowerdim_multi_index_axis0\u001B[1;34m(self, tup)\u001B[0m\n\u001B[0;32m   1162\u001B[0m \u001B[38;5;28;01mexcept\u001B[39;00m \u001B[38;5;167;01mKeyError\u001B[39;00m \u001B[38;5;28;01mas\u001B[39;00m ek:\n\u001B[0;32m   1163\u001B[0m     \u001B[38;5;66;03m# raise KeyError if number of indexers match\u001B[39;00m\n\u001B[0;32m   1164\u001B[0m     \u001B[38;5;66;03m# else IndexingError will be raised\u001B[39;00m\n\u001B[0;32m   1165\u001B[0m     \u001B[38;5;28;01mif\u001B[39;00m \u001B[38;5;28mself\u001B[39m\u001B[38;5;241m.\u001B[39mndim \u001B[38;5;241m<\u001B[39m \u001B[38;5;28mlen\u001B[39m(tup) \u001B[38;5;241m<\u001B[39m\u001B[38;5;241m=\u001B[39m \u001B[38;5;28mself\u001B[39m\u001B[38;5;241m.\u001B[39mobj\u001B[38;5;241m.\u001B[39mindex\u001B[38;5;241m.\u001B[39mnlevels:\n\u001B[1;32m-> 1166\u001B[0m         \u001B[38;5;28;01mraise\u001B[39;00m ek\n\u001B[0;32m   1167\u001B[0m     \u001B[38;5;28;01mraise\u001B[39;00m IndexingError(\u001B[38;5;124m\"\u001B[39m\u001B[38;5;124mNo label returned\u001B[39m\u001B[38;5;124m\"\u001B[39m) \u001B[38;5;28;01mfrom\u001B[39;00m \u001B[38;5;21;01mek\u001B[39;00m\n",
      "File \u001B[1;32m~\\anaconda3\\envs\\abm-env\\lib\\site-packages\\pandas\\core\\indexing.py:1160\u001B[0m, in \u001B[0;36m_LocIndexer._handle_lowerdim_multi_index_axis0\u001B[1;34m(self, tup)\u001B[0m\n\u001B[0;32m   1157\u001B[0m axis \u001B[38;5;241m=\u001B[39m \u001B[38;5;28mself\u001B[39m\u001B[38;5;241m.\u001B[39maxis \u001B[38;5;129;01mor\u001B[39;00m \u001B[38;5;241m0\u001B[39m\n\u001B[0;32m   1158\u001B[0m \u001B[38;5;28;01mtry\u001B[39;00m:\n\u001B[0;32m   1159\u001B[0m     \u001B[38;5;66;03m# fast path for series or for tup devoid of slices\u001B[39;00m\n\u001B[1;32m-> 1160\u001B[0m     \u001B[38;5;28;01mreturn\u001B[39;00m \u001B[38;5;28;43mself\u001B[39;49m\u001B[38;5;241;43m.\u001B[39;49m\u001B[43m_get_label\u001B[49m\u001B[43m(\u001B[49m\u001B[43mtup\u001B[49m\u001B[43m,\u001B[49m\u001B[43m \u001B[49m\u001B[43maxis\u001B[49m\u001B[38;5;241;43m=\u001B[39;49m\u001B[43maxis\u001B[49m\u001B[43m)\u001B[49m\n\u001B[0;32m   1162\u001B[0m \u001B[38;5;28;01mexcept\u001B[39;00m \u001B[38;5;167;01mKeyError\u001B[39;00m \u001B[38;5;28;01mas\u001B[39;00m ek:\n\u001B[0;32m   1163\u001B[0m     \u001B[38;5;66;03m# raise KeyError if number of indexers match\u001B[39;00m\n\u001B[0;32m   1164\u001B[0m     \u001B[38;5;66;03m# else IndexingError will be raised\u001B[39;00m\n\u001B[0;32m   1165\u001B[0m     \u001B[38;5;28;01mif\u001B[39;00m \u001B[38;5;28mself\u001B[39m\u001B[38;5;241m.\u001B[39mndim \u001B[38;5;241m<\u001B[39m \u001B[38;5;28mlen\u001B[39m(tup) \u001B[38;5;241m<\u001B[39m\u001B[38;5;241m=\u001B[39m \u001B[38;5;28mself\u001B[39m\u001B[38;5;241m.\u001B[39mobj\u001B[38;5;241m.\u001B[39mindex\u001B[38;5;241m.\u001B[39mnlevels:\n",
      "File \u001B[1;32m~\\anaconda3\\envs\\abm-env\\lib\\site-packages\\pandas\\core\\indexing.py:1153\u001B[0m, in \u001B[0;36m_LocIndexer._get_label\u001B[1;34m(self, label, axis)\u001B[0m\n\u001B[0;32m   1151\u001B[0m \u001B[38;5;28;01mdef\u001B[39;00m \u001B[38;5;21m_get_label\u001B[39m(\u001B[38;5;28mself\u001B[39m, label, axis: \u001B[38;5;28mint\u001B[39m):\n\u001B[0;32m   1152\u001B[0m     \u001B[38;5;66;03m# GH#5667 this will fail if the label is not present in the axis.\u001B[39;00m\n\u001B[1;32m-> 1153\u001B[0m     \u001B[38;5;28;01mreturn\u001B[39;00m \u001B[38;5;28;43mself\u001B[39;49m\u001B[38;5;241;43m.\u001B[39;49m\u001B[43mobj\u001B[49m\u001B[38;5;241;43m.\u001B[39;49m\u001B[43mxs\u001B[49m\u001B[43m(\u001B[49m\u001B[43mlabel\u001B[49m\u001B[43m,\u001B[49m\u001B[43m \u001B[49m\u001B[43maxis\u001B[49m\u001B[38;5;241;43m=\u001B[39;49m\u001B[43maxis\u001B[49m\u001B[43m)\u001B[49m\n",
      "File \u001B[1;32m~\\anaconda3\\envs\\abm-env\\lib\\site-packages\\pandas\\core\\generic.py:3857\u001B[0m, in \u001B[0;36mNDFrame.xs\u001B[1;34m(self, key, axis, level, drop_level)\u001B[0m\n\u001B[0;32m   3854\u001B[0m \u001B[38;5;28mself\u001B[39m\u001B[38;5;241m.\u001B[39m_consolidate_inplace()\n\u001B[0;32m   3856\u001B[0m \u001B[38;5;28;01mif\u001B[39;00m \u001B[38;5;28misinstance\u001B[39m(index, MultiIndex):\n\u001B[1;32m-> 3857\u001B[0m     loc, new_index \u001B[38;5;241m=\u001B[39m \u001B[43mindex\u001B[49m\u001B[38;5;241;43m.\u001B[39;49m\u001B[43m_get_loc_level\u001B[49m\u001B[43m(\u001B[49m\u001B[43mkey\u001B[49m\u001B[43m,\u001B[49m\u001B[43m \u001B[49m\u001B[43mlevel\u001B[49m\u001B[38;5;241;43m=\u001B[39;49m\u001B[38;5;241;43m0\u001B[39;49m\u001B[43m)\u001B[49m\n\u001B[0;32m   3858\u001B[0m     \u001B[38;5;28;01mif\u001B[39;00m \u001B[38;5;129;01mnot\u001B[39;00m drop_level:\n\u001B[0;32m   3859\u001B[0m         \u001B[38;5;28;01mif\u001B[39;00m lib\u001B[38;5;241m.\u001B[39mis_integer(loc):\n",
      "File \u001B[1;32m~\\anaconda3\\envs\\abm-env\\lib\\site-packages\\pandas\\core\\indexes\\multi.py:3080\u001B[0m, in \u001B[0;36mMultiIndex._get_loc_level\u001B[1;34m(self, key, level)\u001B[0m\n\u001B[0;32m   3078\u001B[0m \u001B[38;5;28;01mfor\u001B[39;00m i, k \u001B[38;5;129;01min\u001B[39;00m \u001B[38;5;28menumerate\u001B[39m(key):\n\u001B[0;32m   3079\u001B[0m     \u001B[38;5;28;01mif\u001B[39;00m \u001B[38;5;129;01mnot\u001B[39;00m \u001B[38;5;28misinstance\u001B[39m(k, \u001B[38;5;28mslice\u001B[39m):\n\u001B[1;32m-> 3080\u001B[0m         loc_level \u001B[38;5;241m=\u001B[39m \u001B[38;5;28;43mself\u001B[39;49m\u001B[38;5;241;43m.\u001B[39;49m\u001B[43m_get_level_indexer\u001B[49m\u001B[43m(\u001B[49m\u001B[43mk\u001B[49m\u001B[43m,\u001B[49m\u001B[43m \u001B[49m\u001B[43mlevel\u001B[49m\u001B[38;5;241;43m=\u001B[39;49m\u001B[43mi\u001B[49m\u001B[43m)\u001B[49m\n\u001B[0;32m   3081\u001B[0m         \u001B[38;5;28;01mif\u001B[39;00m \u001B[38;5;28misinstance\u001B[39m(loc_level, \u001B[38;5;28mslice\u001B[39m):\n\u001B[0;32m   3082\u001B[0m             \u001B[38;5;28;01mif\u001B[39;00m com\u001B[38;5;241m.\u001B[39mis_null_slice(loc_level) \u001B[38;5;129;01mor\u001B[39;00m com\u001B[38;5;241m.\u001B[39mis_full_slice(\n\u001B[0;32m   3083\u001B[0m                 loc_level, \u001B[38;5;28mlen\u001B[39m(\u001B[38;5;28mself\u001B[39m)\n\u001B[0;32m   3084\u001B[0m             ):\n\u001B[0;32m   3085\u001B[0m                 \u001B[38;5;66;03m# everything\u001B[39;00m\n",
      "File \u001B[1;32m~\\anaconda3\\envs\\abm-env\\lib\\site-packages\\pandas\\core\\indexes\\multi.py:3222\u001B[0m, in \u001B[0;36mMultiIndex._get_level_indexer\u001B[1;34m(self, key, level, indexer)\u001B[0m\n\u001B[0;32m   3218\u001B[0m         \u001B[38;5;28;01mreturn\u001B[39;00m \u001B[38;5;28mslice\u001B[39m(i, j, step)\n\u001B[0;32m   3220\u001B[0m \u001B[38;5;28;01melse\u001B[39;00m:\n\u001B[1;32m-> 3222\u001B[0m     idx \u001B[38;5;241m=\u001B[39m \u001B[38;5;28;43mself\u001B[39;49m\u001B[38;5;241;43m.\u001B[39;49m\u001B[43m_get_loc_single_level_index\u001B[49m\u001B[43m(\u001B[49m\u001B[43mlevel_index\u001B[49m\u001B[43m,\u001B[49m\u001B[43m \u001B[49m\u001B[43mkey\u001B[49m\u001B[43m)\u001B[49m\n\u001B[0;32m   3224\u001B[0m     \u001B[38;5;28;01mif\u001B[39;00m level \u001B[38;5;241m>\u001B[39m \u001B[38;5;241m0\u001B[39m \u001B[38;5;129;01mor\u001B[39;00m \u001B[38;5;28mself\u001B[39m\u001B[38;5;241m.\u001B[39m_lexsort_depth \u001B[38;5;241m==\u001B[39m \u001B[38;5;241m0\u001B[39m:\n\u001B[0;32m   3225\u001B[0m         \u001B[38;5;66;03m# Desired level is not sorted\u001B[39;00m\n\u001B[0;32m   3226\u001B[0m         \u001B[38;5;28;01mif\u001B[39;00m \u001B[38;5;28misinstance\u001B[39m(idx, \u001B[38;5;28mslice\u001B[39m):\n\u001B[0;32m   3227\u001B[0m             \u001B[38;5;66;03m# test_get_loc_partial_timestamp_multiindex\u001B[39;00m\n",
      "File \u001B[1;32m~\\anaconda3\\envs\\abm-env\\lib\\site-packages\\pandas\\core\\indexes\\multi.py:2802\u001B[0m, in \u001B[0;36mMultiIndex._get_loc_single_level_index\u001B[1;34m(self, level_index, key)\u001B[0m\n\u001B[0;32m   2800\u001B[0m     \u001B[38;5;28;01mreturn\u001B[39;00m \u001B[38;5;241m-\u001B[39m\u001B[38;5;241m1\u001B[39m\n\u001B[0;32m   2801\u001B[0m \u001B[38;5;28;01melse\u001B[39;00m:\n\u001B[1;32m-> 2802\u001B[0m     \u001B[38;5;28;01mreturn\u001B[39;00m \u001B[43mlevel_index\u001B[49m\u001B[38;5;241;43m.\u001B[39;49m\u001B[43mget_loc\u001B[49m\u001B[43m(\u001B[49m\u001B[43mkey\u001B[49m\u001B[43m)\u001B[49m\n",
      "File \u001B[1;32m~\\anaconda3\\envs\\abm-env\\lib\\site-packages\\pandas\\core\\indexes\\base.py:3631\u001B[0m, in \u001B[0;36mIndex.get_loc\u001B[1;34m(self, key, method, tolerance)\u001B[0m\n\u001B[0;32m   3629\u001B[0m     \u001B[38;5;28;01mreturn\u001B[39;00m \u001B[38;5;28mself\u001B[39m\u001B[38;5;241m.\u001B[39m_engine\u001B[38;5;241m.\u001B[39mget_loc(casted_key)\n\u001B[0;32m   3630\u001B[0m \u001B[38;5;28;01mexcept\u001B[39;00m \u001B[38;5;167;01mKeyError\u001B[39;00m \u001B[38;5;28;01mas\u001B[39;00m err:\n\u001B[1;32m-> 3631\u001B[0m     \u001B[38;5;28;01mraise\u001B[39;00m \u001B[38;5;167;01mKeyError\u001B[39;00m(key) \u001B[38;5;28;01mfrom\u001B[39;00m \u001B[38;5;21;01merr\u001B[39;00m\n\u001B[0;32m   3632\u001B[0m \u001B[38;5;28;01mexcept\u001B[39;00m \u001B[38;5;167;01mTypeError\u001B[39;00m:\n\u001B[0;32m   3633\u001B[0m     \u001B[38;5;66;03m# If we have a listlike key, _check_indexing_error will raise\u001B[39;00m\n\u001B[0;32m   3634\u001B[0m     \u001B[38;5;66;03m#  InvalidIndexError. Otherwise we fall through and re-raise\u001B[39;00m\n\u001B[0;32m   3635\u001B[0m     \u001B[38;5;66;03m#  the TypeError.\u001B[39;00m\n\u001B[0;32m   3636\u001B[0m     \u001B[38;5;28mself\u001B[39m\u001B[38;5;241m.\u001B[39m_check_indexing_error(key)\n",
      "\u001B[1;31mKeyError\u001B[0m: 1020"
     ]
    }
   ],
   "source": [
    "dfs_e = sample_dist(dist_e, 300, 30, 200)\n",
    "\n",
    "df_e = reduce(lambda left, right: pd.merge(left, right, on=[\"effort\"], how=\"outer\"), dfs_e)\n",
    "df_e['avg'] = df_e.iloc[:, 1:].mean(axis=1)\n",
    "df_e = df_e.iloc[1:, :]\n",
    "dfplot_e = df_e[[\"effort\", \"avg\"]]\n",
    "x_effort = df_e[\"effort\"].values.tolist()\n",
    "y_frequency_e = df3[\"avg\"].values.tolist()"
   ],
   "metadata": {
    "collapsed": false,
    "pycharm": {
     "name": "#%%\n"
    }
   }
  },
  {
   "cell_type": "code",
   "execution_count": 923,
   "outputs": [
    {
     "ename": "NameError",
     "evalue": "name 'y_frequency_e' is not defined",
     "output_type": "error",
     "traceback": [
      "\u001B[1;31m---------------------------------------------------------------------------\u001B[0m",
      "\u001B[1;31mNameError\u001B[0m                                 Traceback (most recent call last)",
      "Input \u001B[1;32mIn [923]\u001B[0m, in \u001B[0;36m<cell line: 1>\u001B[1;34m()\u001B[0m\n\u001B[1;32m----> 1\u001B[0m \u001B[43my_frequency_e\u001B[49m\n",
      "\u001B[1;31mNameError\u001B[0m: name 'y_frequency_e' is not defined"
     ]
    }
   ],
   "source": [
    "y_frequency_e"
   ],
   "metadata": {
    "collapsed": false,
    "pycharm": {
     "name": "#%%\n"
    }
   }
  },
  {
   "cell_type": "code",
   "execution_count": 924,
   "outputs": [
    {
     "ename": "NameError",
     "evalue": "name 'dfplot_e' is not defined",
     "output_type": "error",
     "traceback": [
      "\u001B[1;31m---------------------------------------------------------------------------\u001B[0m",
      "\u001B[1;31mNameError\u001B[0m                                 Traceback (most recent call last)",
      "Input \u001B[1;32mIn [924]\u001B[0m, in \u001B[0;36m<cell line: 5>\u001B[1;34m()\u001B[0m\n\u001B[0;32m      3\u001B[0m ax\u001B[38;5;241m.\u001B[39mset_xlim([\u001B[38;5;241m0\u001B[39m,\u001B[38;5;241m1\u001B[39m])\n\u001B[0;32m      4\u001B[0m ax\u001B[38;5;241m.\u001B[39mset_title(\u001B[38;5;124m\"\u001B[39m\u001B[38;5;124mEffort Dist\u001B[39m\u001B[38;5;124m\"\u001B[39m)\n\u001B[1;32m----> 5\u001B[0m \u001B[43mdfplot_e\u001B[49m\u001B[38;5;241m.\u001B[39mplot(\u001B[38;5;124m\"\u001B[39m\u001B[38;5;124meffort\u001B[39m\u001B[38;5;124m\"\u001B[39m,\u001B[38;5;124m\"\u001B[39m\u001B[38;5;124mavg\u001B[39m\u001B[38;5;124m\"\u001B[39m,kind\u001B[38;5;241m=\u001B[39m\u001B[38;5;124m\"\u001B[39m\u001B[38;5;124mscatter\u001B[39m\u001B[38;5;124m\"\u001B[39m, ax\u001B[38;5;241m=\u001B[39max, linewidth\u001B[38;5;241m=\u001B[39m\u001B[38;5;241m0.75\u001B[39m, alpha\u001B[38;5;241m=\u001B[39m\u001B[38;5;241m0.8\u001B[39m)\n\u001B[0;32m      6\u001B[0m plt\u001B[38;5;241m.\u001B[39mshow()\n",
      "\u001B[1;31mNameError\u001B[0m: name 'dfplot_e' is not defined"
     ]
    },
    {
     "data": {
      "text/plain": "<Figure size 539.643x333.518 with 1 Axes>",
      "image/png": "[encoded data removed]"
     },
     "metadata": {},
     "output_type": "display_data"
    }
   ],
   "source": [
    "fig, ax = plt.subplots(1, 1, figsize=set_size(width))\n",
    "ax.set_ylim([0,0.02])\n",
    "ax.set_xlim([0,1])\n",
    "ax.set_title(\"Effort Dist\")\n",
    "dfplot_e.plot(\"effort\",\"avg\",kind=\"scatter\", ax=ax, linewidth=0.75, alpha=0.8)\n",
    "plt.show()"
   ],
   "metadata": {
    "collapsed": false,
    "pycharm": {
     "name": "#%%\n"
    }
   }
  },
  {
   "cell_type": "code",
   "execution_count": null,
   "outputs": [],
   "source": [],
   "metadata": {
    "collapsed": false,
    "pycharm": {
     "name": "#%%\n"
    }
   }
  }
 ],
 "metadata": {
  "kernelspec": {
   "display_name": "Python 3",
   "language": "python",
   "name": "python3"
  },
  "language_info": {
   "codemirror_mode": {
    "name": "ipython",
    "version": 2
   },
   "file_extension": ".py",
   "mimetype": "text/x-python",
   "name": "python",
   "nbconvert_exporter": "python",
   "pygments_lexer": "ipython2",
   "version": "2.7.6"
  }
 },
 "nbformat": 4,
 "nbformat_minor": 0
}