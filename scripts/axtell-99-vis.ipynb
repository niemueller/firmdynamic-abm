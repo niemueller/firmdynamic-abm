{
 "cells": [
  {
   "cell_type": "markdown",
   "source": [
    "Skript to Visualize and Replicate Axtell 99"
   ],
   "metadata": {
    "collapsed": false,
    "pycharm": {
     "name": "#%% md\n"
    }
   }
  },
  {
   "cell_type": "code",
   "execution_count": 109,
   "outputs": [],
   "source": [
    "import matplotlib.pyplot as plt\n",
    "import dask.dataframe as dd\n",
    "import pandas as pd\n",
    "import scipy.signal\n",
    "import numpy as np"
   ],
   "metadata": {
    "collapsed": false,
    "pycharm": {
     "name": "#%%\n"
    }
   }
  },
  {
   "cell_type": "code",
   "execution_count": 110,
   "outputs": [],
   "source": [
    "out_dir = \"../results\""
   ],
   "metadata": {
    "collapsed": false,
    "pycharm": {
     "name": "#%%\n"
    }
   }
  },
  {
   "cell_type": "code",
   "execution_count": 3,
   "outputs": [],
   "source": [
    "fig_dir = \"../results/axtell_99/fig/\""
   ],
   "metadata": {
    "collapsed": false,
    "pycharm": {
     "name": "#%%\n"
    }
   }
  },
  {
   "cell_type": "code",
   "execution_count": 4,
   "outputs": [],
   "source": [
    "opttype = 1"
   ],
   "metadata": {
    "collapsed": false,
    "pycharm": {
     "name": "#%%\n"
    }
   }
  },
  {
   "cell_type": "code",
   "execution_count": 91,
   "outputs": [],
   "source": [
    "run = 500"
   ],
   "metadata": {
    "collapsed": false,
    "pycharm": {
     "name": "#%%\n"
    }
   }
  },
  {
   "cell_type": "code",
   "execution_count": 92,
   "outputs": [],
   "source": [
    "def set_size(width, fraction=1):\n",
    "    \"\"\"Set figure dimensions to avoid scaling in LaTeX.\n",
    "\n",
    "    Parameters\n",
    "    ----------\n",
    "    width: float\n",
    "            Document textwidth or columnwidth in pts\n",
    "    fraction: float, optional\n",
    "            Fraction of the width which you wish the figure to occupy\n",
    "\n",
    "    Returns\n",
    "    -------\n",
    "    fig_dim: tuple\n",
    "            Dimensions of figure in inches\n",
    "    \"\"\"\n",
    "    # Width of figure (in pts)\n",
    "    fig_width_pt = width * fraction\n",
    "\n",
    "    # Convert from pt to inches\n",
    "    inches_per_pt = 1 / 72.27\n",
    "\n",
    "    # Golden ratio to set aesthetic figure height\n",
    "    # https://disq.us/p/2940ij3\n",
    "    golden_ratio = (5**.5 - 1) / 2\n",
    "\n",
    "    # Figure width in inches\n",
    "    fig_width_in = fig_width_pt * inches_per_pt\n",
    "    # Figure height in inches\n",
    "    fig_height_in = fig_width_in * golden_ratio\n",
    "\n",
    "    fig_dim = (fig_width_in, fig_height_in)\n",
    "\n",
    "    return fig_dim"
   ],
   "metadata": {
    "collapsed": false,
    "pycharm": {
     "name": "#%%\n"
    }
   }
  },
  {
   "cell_type": "code",
   "execution_count": 113,
   "outputs": [],
   "source": [
    "path_f = f\"{out_dir}/full_run_firm.csv\""
   ],
   "metadata": {
    "collapsed": false,
    "pycharm": {
     "name": "#%%\n"
    }
   }
  },
  {
   "cell_type": "code",
   "execution_count": 94,
   "outputs": [],
   "source": [
    "path_w = f\"{out_dir}/res_worker_agent_run{run}_opttype{opttype}.csv.gz\""
   ],
   "metadata": {
    "collapsed": false,
    "pycharm": {
     "name": "#%%\n"
    }
   }
  },
  {
   "cell_type": "code",
   "execution_count": 95,
   "outputs": [],
   "source": [
    "path_m = f\"{out_dir}/res_model_agent_run{run}_opttype{opttype}.csv.gz\""
   ],
   "metadata": {
    "collapsed": false,
    "pycharm": {
     "name": "#%%\n"
    }
   }
  },
  {
   "cell_type": "code",
   "execution_count": 96,
   "outputs": [],
   "source": [
    "model_dk = dd.read_csv(path_m, blocksize=None)"
   ],
   "metadata": {
    "collapsed": false,
    "pycharm": {
     "name": "#%%\n"
    }
   }
  },
  {
   "cell_type": "code",
   "execution_count": 97,
   "outputs": [],
   "source": [
    "worker_dk = dd.read_csv(path_w, blocksize=None)"
   ],
   "metadata": {
    "collapsed": false,
    "pycharm": {
     "name": "#%%\n"
    }
   }
  },
  {
   "cell_type": "code",
   "execution_count": 98,
   "outputs": [],
   "source": [
    "stats = worker_dk[worker_dk[\"t\"]== 0].compute()"
   ],
   "metadata": {
    "collapsed": false,
    "pycharm": {
     "name": "#%%\n"
    }
   }
  },
  {
   "cell_type": "code",
   "execution_count": 99,
   "outputs": [
    {
     "data": {
      "text/plain": "     t    id    effort    wealth    income   job_event  tenure  preference\n0    0     1  0.526957  0.804641  0.804641        None       1    0.453005\n1    0     3  0.982199  0.973456  0.973456        stay       1    0.985207\n2    0     5  0.252708  0.316569  0.316569        None       1    0.219603\n3    0     7  0.000000  0.667936  0.667936        stay       1    0.078400\n4    0     9  0.000000  0.000000  0.000000  join_other       1    0.017463\n..  ..   ...       ...       ...       ...         ...     ...         ...\n995  0  1991  0.757618  1.331604  1.331604        None       1    0.685951\n996  0  1993  0.557079  0.867416  0.867416        None       1    0.480877\n997  0  1995  0.560580  0.874829  0.874829        stay       1    0.652175\n998  0  1997  0.000000  0.506161  0.506161  join_other       1    0.218367\n999  0  1999  0.000000  0.871463  0.871463        stay       1    0.370184\n\n[1000 rows x 8 columns]",
      "text/html": "<div>\n<style scoped>\n    .dataframe tbody tr th:only-of-type {\n        vertical-align: middle;\n    }\n\n    .dataframe tbody tr th {\n        vertical-align: top;\n    }\n\n    .dataframe thead th {\n        text-align: right;\n    }\n</style>\n<table border=\"1\" class=\"dataframe\">\n  <thead>\n    <tr style=\"text-align: right;\">\n      <th></th>\n      <th>t</th>\n      <th>id</th>\n      <th>effort</th>\n      <th>wealth</th>\n      <th>income</th>\n      <th>job_event</th>\n      <th>tenure</th>\n      <th>preference</th>\n    </tr>\n  </thead>\n  <tbody>\n    <tr>\n      <th>0</th>\n      <td>0</td>\n      <td>1</td>\n      <td>0.526957</td>\n      <td>0.804641</td>\n      <td>0.804641</td>\n      <td>None</td>\n      <td>1</td>\n      <td>0.453005</td>\n    </tr>\n    <tr>\n      <th>1</th>\n      <td>0</td>\n      <td>3</td>\n      <td>0.982199</td>\n      <td>0.973456</td>\n      <td>0.973456</td>\n      <td>stay</td>\n      <td>1</td>\n      <td>0.985207</td>\n    </tr>\n    <tr>\n      <th>2</th>\n      <td>0</td>\n      <td>5</td>\n      <td>0.252708</td>\n      <td>0.316569</td>\n      <td>0.316569</td>\n      <td>None</td>\n      <td>1</td>\n      <td>0.219603</td>\n    </tr>\n    <tr>\n      <th>3</th>\n      <td>0</td>\n      <td>7</td>\n      <td>0.000000</td>\n      <td>0.667936</td>\n      <td>0.667936</td>\n      <td>stay</td>\n      <td>1</td>\n      <td>0.078400</td>\n    </tr>\n    <tr>\n      <th>4</th>\n      <td>0</td>\n      <td>9</td>\n      <td>0.000000</td>\n      <td>0.000000</td>\n      <td>0.000000</td>\n      <td>join_other</td>\n      <td>1</td>\n      <td>0.017463</td>\n    </tr>\n    <tr>\n      <th>...</th>\n      <td>...</td>\n      <td>...</td>\n      <td>...</td>\n      <td>...</td>\n      <td>...</td>\n      <td>...</td>\n      <td>...</td>\n      <td>...</td>\n    </tr>\n    <tr>\n      <th>995</th>\n      <td>0</td>\n      <td>1991</td>\n      <td>0.757618</td>\n      <td>1.331604</td>\n      <td>1.331604</td>\n      <td>None</td>\n      <td>1</td>\n      <td>0.685951</td>\n    </tr>\n    <tr>\n      <th>996</th>\n      <td>0</td>\n      <td>1993</td>\n      <td>0.557079</td>\n      <td>0.867416</td>\n      <td>0.867416</td>\n      <td>None</td>\n      <td>1</td>\n      <td>0.480877</td>\n    </tr>\n    <tr>\n      <th>997</th>\n      <td>0</td>\n      <td>1995</td>\n      <td>0.560580</td>\n      <td>0.874829</td>\n      <td>0.874829</td>\n      <td>stay</td>\n      <td>1</td>\n      <td>0.652175</td>\n    </tr>\n    <tr>\n      <th>998</th>\n      <td>0</td>\n      <td>1997</td>\n      <td>0.000000</td>\n      <td>0.506161</td>\n      <td>0.506161</td>\n      <td>join_other</td>\n      <td>1</td>\n      <td>0.218367</td>\n    </tr>\n    <tr>\n      <th>999</th>\n      <td>0</td>\n      <td>1999</td>\n      <td>0.000000</td>\n      <td>0.871463</td>\n      <td>0.871463</td>\n      <td>stay</td>\n      <td>1</td>\n      <td>0.370184</td>\n    </tr>\n  </tbody>\n</table>\n<p>1000 rows × 8 columns</p>\n</div>"
     },
     "execution_count": 99,
     "metadata": {},
     "output_type": "execute_result"
    }
   ],
   "source": [
    "stats"
   ],
   "metadata": {
    "collapsed": false,
    "pycharm": {
     "name": "#%%\n"
    }
   }
  },
  {
   "cell_type": "code",
   "execution_count": 100,
   "outputs": [],
   "source": [
    "worker_df = worker_dk.groupby(\"t\").mean().compute()"
   ],
   "metadata": {
    "collapsed": false,
    "pycharm": {
     "name": "#%%\n"
    }
   }
  },
  {
   "cell_type": "code",
   "execution_count": 101,
   "outputs": [
    {
     "data": {
      "text/plain": "         id    effort      wealth    income  tenure  preference\nt                                                              \n0    1000.0  0.446510    0.773105  0.773105   1.000    0.503439\n1    1000.0  0.417737    1.621550  0.848445   1.512    0.503439\n2    1000.0  0.387635    2.433524  0.811973   1.790    0.503439\n3    1000.0  0.375527    3.241177  0.807653   1.928    0.503439\n4    1000.0  0.366995    4.057170  0.815993   2.035    0.503439\n..      ...       ...         ...       ...     ...         ...\n995  1000.0  0.366282  792.544381  0.800895   2.074    0.503439\n996  1000.0  0.364394  793.346310  0.801928   2.109    0.503439\n997  1000.0  0.362731  794.131818  0.785508   2.179    0.503439\n998  1000.0  0.358303  794.901777  0.769959   2.153    0.503439\n999  1000.0  0.363779  795.686001  0.784224   2.166    0.503439\n\n[1000 rows x 6 columns]",
      "text/html": "<div>\n<style scoped>\n    .dataframe tbody tr th:only-of-type {\n        vertical-align: middle;\n    }\n\n    .dataframe tbody tr th {\n        vertical-align: top;\n    }\n\n    .dataframe thead th {\n        text-align: right;\n    }\n</style>\n<table border=\"1\" class=\"dataframe\">\n  <thead>\n    <tr style=\"text-align: right;\">\n      <th></th>\n      <th>id</th>\n      <th>effort</th>\n      <th>wealth</th>\n      <th>income</th>\n      <th>tenure</th>\n      <th>preference</th>\n    </tr>\n    <tr>\n      <th>t</th>\n      <th></th>\n      <th></th>\n      <th></th>\n      <th></th>\n      <th></th>\n      <th></th>\n    </tr>\n  </thead>\n  <tbody>\n    <tr>\n      <th>0</th>\n      <td>1000.0</td>\n      <td>0.446510</td>\n      <td>0.773105</td>\n      <td>0.773105</td>\n      <td>1.000</td>\n      <td>0.503439</td>\n    </tr>\n    <tr>\n      <th>1</th>\n      <td>1000.0</td>\n      <td>0.417737</td>\n      <td>1.621550</td>\n      <td>0.848445</td>\n      <td>1.512</td>\n      <td>0.503439</td>\n    </tr>\n    <tr>\n      <th>2</th>\n      <td>1000.0</td>\n      <td>0.387635</td>\n      <td>2.433524</td>\n      <td>0.811973</td>\n      <td>1.790</td>\n      <td>0.503439</td>\n    </tr>\n    <tr>\n      <th>3</th>\n      <td>1000.0</td>\n      <td>0.375527</td>\n      <td>3.241177</td>\n      <td>0.807653</td>\n      <td>1.928</td>\n      <td>0.503439</td>\n    </tr>\n    <tr>\n      <th>4</th>\n      <td>1000.0</td>\n      <td>0.366995</td>\n      <td>4.057170</td>\n      <td>0.815993</td>\n      <td>2.035</td>\n      <td>0.503439</td>\n    </tr>\n    <tr>\n      <th>...</th>\n      <td>...</td>\n      <td>...</td>\n      <td>...</td>\n      <td>...</td>\n      <td>...</td>\n      <td>...</td>\n    </tr>\n    <tr>\n      <th>995</th>\n      <td>1000.0</td>\n      <td>0.366282</td>\n      <td>792.544381</td>\n      <td>0.800895</td>\n      <td>2.074</td>\n      <td>0.503439</td>\n    </tr>\n    <tr>\n      <th>996</th>\n      <td>1000.0</td>\n      <td>0.364394</td>\n      <td>793.346310</td>\n      <td>0.801928</td>\n      <td>2.109</td>\n      <td>0.503439</td>\n    </tr>\n    <tr>\n      <th>997</th>\n      <td>1000.0</td>\n      <td>0.362731</td>\n      <td>794.131818</td>\n      <td>0.785508</td>\n      <td>2.179</td>\n      <td>0.503439</td>\n    </tr>\n    <tr>\n      <th>998</th>\n      <td>1000.0</td>\n      <td>0.358303</td>\n      <td>794.901777</td>\n      <td>0.769959</td>\n      <td>2.153</td>\n      <td>0.503439</td>\n    </tr>\n    <tr>\n      <th>999</th>\n      <td>1000.0</td>\n      <td>0.363779</td>\n      <td>795.686001</td>\n      <td>0.784224</td>\n      <td>2.166</td>\n      <td>0.503439</td>\n    </tr>\n  </tbody>\n</table>\n<p>1000 rows × 6 columns</p>\n</div>"
     },
     "execution_count": 101,
     "metadata": {},
     "output_type": "execute_result"
    }
   ],
   "source": [
    "worker_df"
   ],
   "metadata": {
    "collapsed": false,
    "pycharm": {
     "name": "#%%\n"
    }
   }
  },
  {
   "cell_type": "code",
   "execution_count": 114,
   "outputs": [],
   "source": [
    "firm_dk = dd.read_csv(path_f , dtype={\n",
    "    \"t\": \"int16\",\n",
    "    \"id\": \"int32\",\n",
    "    \"age\": \"int16\",\n",
    "    \"number_employees\": \"int32\",\n",
    "    \"total_effort\": \"float64\",\n",
    "    \"output\": \"float64\",\n",
    "    \"average_pref\": \"float64\"}\n",
    ")"
   ],
   "metadata": {
    "collapsed": false,
    "pycharm": {
     "name": "#%%\n"
    }
   }
  },
  {
   "cell_type": "code",
   "execution_count": 103,
   "outputs": [],
   "source": [
    "df = model_dk.compute()"
   ],
   "metadata": {
    "collapsed": false,
    "pycharm": {
     "name": "#%%\n"
    }
   }
  },
  {
   "cell_type": "code",
   "execution_count": 104,
   "outputs": [],
   "source": [
    "average_number_of_firms = df[\"total_firms\"].mean()"
   ],
   "metadata": {
    "collapsed": false,
    "pycharm": {
     "name": "#%%\n"
    }
   }
  },
  {
   "cell_type": "code",
   "execution_count": 105,
   "outputs": [
    {
     "data": {
      "text/plain": "532.99"
     },
     "execution_count": 105,
     "metadata": {},
     "output_type": "execute_result"
    }
   ],
   "source": [
    "average_number_of_firms"
   ],
   "metadata": {
    "collapsed": false,
    "pycharm": {
     "name": "#%%\n"
    }
   }
  },
  {
   "cell_type": "code",
   "execution_count": 115,
   "outputs": [],
   "source": [
    "firm_number = firm_dk.groupby(firm_dk.t).t.size().mean()"
   ],
   "metadata": {
    "collapsed": false,
    "pycharm": {
     "name": "#%%\n"
    }
   }
  },
  {
   "cell_type": "code",
   "execution_count": 116,
   "outputs": [],
   "source": [
    "workers_check = firm_dk.groupby(\"t\").number_employees.sum().compute()"
   ],
   "metadata": {
    "collapsed": false,
    "pycharm": {
     "name": "#%%\n"
    }
   }
  },
  {
   "cell_type": "code",
   "execution_count": 117,
   "outputs": [
    {
     "data": {
      "text/plain": "t\n0      2200000\n1      2200000\n2      2200000\n3      2200000\n4      2200000\n        ...   \n995    2200000\n996    2200000\n997    2200000\n998    2200000\n999    2200000\nName: number_employees, Length: 1000, dtype: int32"
     },
     "execution_count": 117,
     "metadata": {},
     "output_type": "execute_result"
    }
   ],
   "source": [
    "workers_check"
   ],
   "metadata": {
    "collapsed": false,
    "pycharm": {
     "name": "#%%\n"
    }
   }
  },
  {
   "cell_type": "code",
   "execution_count": 83,
   "outputs": [
    {
     "data": {
      "text/plain": "282.713"
     },
     "execution_count": 83,
     "metadata": {},
     "output_type": "execute_result"
    }
   ],
   "source": [
    "firm_number.compute()"
   ],
   "metadata": {
    "collapsed": false,
    "pycharm": {
     "name": "#%%\n"
    }
   }
  },
  {
   "cell_type": "code",
   "execution_count": 84,
   "outputs": [],
   "source": [
    "width = 390"
   ],
   "metadata": {
    "collapsed": false,
    "pycharm": {
     "name": "#%%\n"
    }
   }
  },
  {
   "cell_type": "code",
   "execution_count": 85,
   "outputs": [
    {
     "data": {
      "text/plain": "<Figure size 539.643x333.518 with 1 Axes>",
      "image/png": "[encoded data removed]"
     },
     "metadata": {},
     "output_type": "display_data"
    }
   ],
   "source": [
    "fig, ax = plt.subplots(1, 1, figsize=set_size(width))\n",
    "ax.set_ylim([50,650])\n",
    "ax.set_xlim([0,1000])\n",
    "df.plot(kind=\"line\", y = \"total_firms\", x=\"t\", ax=ax, linewidth=0.75, alpha=0.8, legend=None)\n",
    "df.plot(kind=\"line\", y = \"numb_new_firms\", x=\"t\", color=\"darkgreen\", ax=ax, linewidth=0.75, alpha=0.8, legend=None)\n",
    "plt.title (\"Number of Firms\")\n",
    "plt.savefig(f\"{out_dir}/number_firms.pdf\", format=\"pdf\")\n",
    "plt.show()"
   ],
   "metadata": {
    "collapsed": false,
    "pycharm": {
     "name": "#%%\n"
    }
   }
  },
  {
   "cell_type": "code",
   "execution_count": 86,
   "outputs": [
    {
     "data": {
      "text/plain": "<Figure size 539.643x333.518 with 1 Axes>",
      "image/png": "[encoded data removed]"
     },
     "metadata": {},
     "output_type": "display_data"
    }
   ],
   "source": [
    "fig, ax = plt.subplots(1, 1, figsize=set_size(width))\n",
    "ax.set_ylim([-0.1,0.1])\n",
    "pd.plotting.autocorrelation_plot(series=df.total_firms, ax = ax)\n",
    "plt.show()"
   ],
   "metadata": {
    "collapsed": false,
    "pycharm": {
     "name": "#%%\n"
    }
   }
  },
  {
   "cell_type": "code",
   "execution_count": 87,
   "outputs": [],
   "source": [
    "average_firm = firm_dk.groupby(firm_dk.t).number_employees.mean().compute()"
   ],
   "metadata": {
    "collapsed": false,
    "pycharm": {
     "name": "#%%\n"
    }
   }
  },
  {
   "cell_type": "code",
   "execution_count": 88,
   "outputs": [
    {
     "data": {
      "text/plain": "t\n0      1.338688\n1      2.008032\n2      2.583979\n3      3.021148\n4      3.300330\n         ...   \n995    3.496503\n996    3.508772\n997    3.496503\n998    3.558719\n999    3.533569\nName: number_employees, Length: 1000, dtype: float64"
     },
     "execution_count": 88,
     "metadata": {},
     "output_type": "execute_result"
    }
   ],
   "source": [
    "average_firm"
   ],
   "metadata": {
    "collapsed": false,
    "pycharm": {
     "name": "#%%\n"
    }
   }
  },
  {
   "cell_type": "code",
   "execution_count": 89,
   "outputs": [],
   "source": [
    "max_firm = firm_dk.groupby(firm_dk.t).number_employees.max().compute()"
   ],
   "metadata": {
    "collapsed": false,
    "pycharm": {
     "name": "#%%\n"
    }
   }
  },
  {
   "cell_type": "code",
   "execution_count": 90,
   "outputs": [
    {
     "data": {
      "text/plain": "t\n0       3\n1       9\n2      12\n3      13\n4      23\n       ..\n995    23\n996    23\n997    23\n998    26\n999    22\nName: number_employees, Length: 1000, dtype: int32"
     },
     "execution_count": 90,
     "metadata": {},
     "output_type": "execute_result"
    }
   ],
   "source": [
    "max_firm"
   ],
   "metadata": {
    "collapsed": false,
    "pycharm": {
     "name": "#%%\n"
    }
   }
  },
  {
   "cell_type": "code",
   "execution_count": 1653,
   "outputs": [
    {
     "name": "stdout",
     "output_type": "stream",
     "text": [
      "15.248\n"
     ]
    }
   ],
   "source": [
    "print(max_firm.mean())"
   ],
   "metadata": {
    "collapsed": false,
    "pycharm": {
     "name": "#%%\n"
    }
   }
  },
  {
   "cell_type": "code",
   "execution_count": 1654,
   "outputs": [
    {
     "data": {
      "text/plain": "<Figure size 539.643x333.518 with 1 Axes>",
      "image/png": "[encoded data removed]"
     },
     "metadata": {},
     "output_type": "display_data"
    }
   ],
   "source": [
    "fig, ax = plt.subplots(1, 1, figsize=set_size(width))\n",
    "ax.set_ylim([0,30])\n",
    "ax.set_xlim([0,100])\n",
    "ax.set_title(\"Largest Firm Size\")\n",
    "max_firm.plot(kind=\"line\", y = \"Largest Firm Size\", x=\"t\", ax=ax, linewidth=0.9, alpha=0.8)\n",
    "plt.xlabel(\"t\")\n",
    "plt.savefig(f\"{out_dir}/size_largest.pdf\", format=\"pdf\")\n",
    "plt.show()"
   ],
   "metadata": {
    "collapsed": false,
    "pycharm": {
     "name": "#%%\n"
    }
   }
  },
  {
   "cell_type": "code",
   "execution_count": 1656,
   "outputs": [
    {
     "data": {
      "text/plain": "<Figure size 539.643x333.518 with 1 Axes>",
      "image/png": "[encoded data removed]"
     },
     "metadata": {},
     "output_type": "display_data"
    }
   ],
   "source": [
    "fig, ax = plt.subplots(1, 1, figsize=set_size(width))\n",
    "ax.set_ylim([1,3])\n",
    "ax.set_xlim([0,100])\n",
    "ax.set_title(\"Average Firm Size\")\n",
    "average_firm.plot(kind=\"line\", y = \"Average Firm Size\", x=\"t\", color=\"darkgreen\", ax=ax, linewidth=0.9, alpha=0.8)\n",
    "plt.xlabel(\"t\")\n",
    "plt.savefig(f\"{fig_dir}/size_average.pdf\", format=\"pdf\")\n",
    "plt.show()"
   ],
   "metadata": {
    "collapsed": false,
    "pycharm": {
     "name": "#%%\n"
    }
   }
  },
  {
   "cell_type": "markdown",
   "source": [
    "Effort Levels"
   ],
   "metadata": {
    "collapsed": false,
    "pycharm": {
     "name": "#%% md\n"
    }
   }
  },
  {
   "cell_type": "markdown",
   "source": [
    "Average effort level (from worker df)"
   ],
   "metadata": {
    "collapsed": false,
    "pycharm": {
     "name": "#%% md\n"
    }
   }
  },
  {
   "cell_type": "code",
   "execution_count": 1579,
   "outputs": [],
   "source": [
    "worker_dk = dd.read_csv(path_w, blocksize=None)"
   ],
   "metadata": {
    "collapsed": false,
    "pycharm": {
     "name": "#%%\n"
    }
   }
  },
  {
   "cell_type": "code",
   "execution_count": 1580,
   "outputs": [],
   "source": [
    "avg_effort = worker_dk.groupby(worker_dk.t).effort.mean().compute()"
   ],
   "metadata": {
    "collapsed": false,
    "pycharm": {
     "name": "#%%\n"
    }
   }
  },
  {
   "cell_type": "code",
   "execution_count": 1581,
   "outputs": [
    {
     "data": {
      "text/plain": "t\n0      0.447700\n1      0.411659\n2      0.389145\n3      0.378677\n4      0.375375\n         ...   \n995    0.370888\n996    0.371041\n997    0.367580\n998    0.366810\n999    0.365196\nName: effort, Length: 1000, dtype: float64"
     },
     "execution_count": 1581,
     "metadata": {},
     "output_type": "execute_result"
    }
   ],
   "source": [
    "avg_effort"
   ],
   "metadata": {
    "collapsed": false,
    "pycharm": {
     "name": "#%%\n"
    }
   }
  },
  {
   "cell_type": "code",
   "execution_count": 1582,
   "outputs": [
    {
     "data": {
      "text/plain": "Dask Series Structure:\nnpartitions=1\n    int64\n      ...\nName: number_employees, dtype: int64\nDask Name: series-groupby-idxmax-agg, 8 tasks"
     },
     "execution_count": 1582,
     "metadata": {},
     "output_type": "execute_result"
    }
   ],
   "source": [
    "firm_dk.assign(avg_e = firm_dk.total_effort/firm_dk.number_employees).groupby(firm_dk.t).number_employees.idxmax()"
   ],
   "metadata": {
    "collapsed": false,
    "pycharm": {
     "name": "#%%\n"
    }
   }
  },
  {
   "cell_type": "code",
   "execution_count": 1583,
   "outputs": [
    {
     "name": "stderr",
     "output_type": "stream",
     "text": [
      "C:\\Users\\41782\\AppData\\Local\\Temp\\ipykernel_11168\\188437644.py:1: UserWarning: `meta` is not specified, inferred from partial data. Please provide `meta` if the result is unexpected.\n",
      "  Before: .transform(func)\n",
      "  After:  .transform(func, meta={'x': 'f8', 'y': 'f8'}) for dataframe result\n",
      "  or:     .transform(func, meta=('x', 'f8'))            for series result\n",
      "  filtered_firm_dk = firm_dk[firm_dk.groupby([\"t\"]).number_employees.transform(max) == firm_dk[\"number_employees\"]].assign(avg_e = firm_dk.total_effort/firm_dk.number_employees)\n"
     ]
    }
   ],
   "source": [
    "filtered_firm_dk = firm_dk[firm_dk.groupby([\"t\"]).number_employees.transform(max) == firm_dk[\"number_employees\"]].assign(avg_e = firm_dk.total_effort/firm_dk.number_employees)"
   ],
   "metadata": {
    "collapsed": false,
    "pycharm": {
     "name": "#%%\n"
    }
   }
  },
  {
   "cell_type": "code",
   "execution_count": 1584,
   "outputs": [],
   "source": [
    "avg_effort_maxfirm = filtered_firm_dk.groupby(\"t\").avg_e.mean().compute()"
   ],
   "metadata": {
    "collapsed": false,
    "pycharm": {
     "name": "#%%\n"
    }
   }
  },
  {
   "cell_type": "code",
   "execution_count": 1585,
   "outputs": [
    {
     "data": {
      "text/plain": "t\n0      0.300052\n1      0.276422\n2      0.181472\n3      0.161308\n4      0.273910\n         ...   \n995    0.196581\n996    0.299457\n997    0.460849\n998    0.486329\n999    0.417090\nName: avg_e, Length: 1000, dtype: float64"
     },
     "execution_count": 1585,
     "metadata": {},
     "output_type": "execute_result"
    }
   ],
   "source": [
    "avg_effort_maxfirm"
   ],
   "metadata": {
    "collapsed": false,
    "pycharm": {
     "name": "#%%\n"
    }
   }
  },
  {
   "cell_type": "code",
   "execution_count": 1603,
   "outputs": [
    {
     "data": {
      "text/plain": "<Figure size 539.643x333.518 with 1 Axes>",
      "image/png": "[encoded data removed]"
     },
     "metadata": {},
     "output_type": "display_data"
    }
   ],
   "source": [
    "fig, ax = plt.subplots(1, 1, figsize=set_size(width))\n",
    "ax.set_ylim([0,0.65])\n",
    "ax.set_xlim([0,100])\n",
    "ax.set_title(\"Average Effort\")\n",
    "avg_effort_maxfirm.plot(kind=\"line\", y = \"avg_e\", x=\"t\", ax=ax, linewidth=0.75, alpha=0.8)\n",
    "avg_effort.plot(kind=\"line\", y = \"effort\", x=\"t\", color=\"darkgreen\", ax=ax, linewidth=0.75, alpha=0.8)\n",
    "plt.xlabel(\"t\")\n",
    "plt.ylabel(\"Effort Level\")\n",
    "plt.savefig(f\"{out_dir}/effort_2.pdf\", format=\"pdf\")\n",
    "plt.show()"
   ],
   "metadata": {
    "collapsed": false,
    "pycharm": {
     "name": "#%%\n"
    }
   }
  },
  {
   "cell_type": "markdown",
   "source": [
    "Output Total and Largest Firm"
   ],
   "metadata": {
    "collapsed": false,
    "pycharm": {
     "name": "#%% md\n"
    }
   }
  },
  {
   "cell_type": "code",
   "execution_count": 1657,
   "outputs": [
    {
     "name": "stderr",
     "output_type": "stream",
     "text": [
      "C:\\Users\\41782\\AppData\\Local\\Temp\\ipykernel_11168\\2543161246.py:1: UserWarning: `meta` is not specified, inferred from partial data. Please provide `meta` if the result is unexpected.\n",
      "  Before: .transform(func)\n",
      "  After:  .transform(func, meta={'x': 'f8', 'y': 'f8'}) for dataframe result\n",
      "  or:     .transform(func, meta=('x', 'f8'))            for series result\n",
      "  filtered_firm_dk2 = firm_dk[firm_dk.groupby([\"t\"]).number_employees.transform(max) == firm_dk[\"number_employees\"]]\n"
     ]
    }
   ],
   "source": [
    "filtered_firm_dk2 = firm_dk[firm_dk.groupby([\"t\"]).number_employees.transform(max) == firm_dk[\"number_employees\"]]"
   ],
   "metadata": {
    "collapsed": false,
    "pycharm": {
     "name": "#%%\n"
    }
   }
  },
  {
   "cell_type": "code",
   "execution_count": 1658,
   "outputs": [],
   "source": [
    "output_max_firm = filtered_firm_dk2.groupby(\"t\").output.max().compute()"
   ],
   "metadata": {
    "collapsed": false,
    "pycharm": {
     "name": "#%%\n"
    }
   }
  },
  {
   "cell_type": "code",
   "execution_count": 1659,
   "outputs": [
    {
     "data": {
      "text/plain": "t\n0       2.298790\n1       7.242581\n2       3.559419\n3       3.559419\n4       6.993006\n         ...    \n995     5.830221\n996    19.799088\n997    17.279239\n998    33.968011\n999    34.822032\nName: output, Length: 1000, dtype: float64"
     },
     "execution_count": 1659,
     "metadata": {},
     "output_type": "execute_result"
    }
   ],
   "source": [
    "output_max_firm"
   ],
   "metadata": {
    "collapsed": false,
    "pycharm": {
     "name": "#%%\n"
    }
   }
  },
  {
   "cell_type": "code",
   "execution_count": 1660,
   "outputs": [],
   "source": [
    "output_total = firm_dk.groupby(\"t\").output.sum().compute()"
   ],
   "metadata": {
    "collapsed": false,
    "pycharm": {
     "name": "#%%\n"
    }
   }
  },
  {
   "cell_type": "code",
   "execution_count": 1661,
   "outputs": [
    {
     "data": {
      "text/plain": "t\n0      768.813782\n1      821.400765\n2      814.114283\n3      803.024314\n4      817.166625\n          ...    \n995    791.918932\n996    798.671530\n997    793.763483\n998    812.852472\n999    804.225806\nName: output, Length: 1000, dtype: float64"
     },
     "execution_count": 1661,
     "metadata": {},
     "output_type": "execute_result"
    }
   ],
   "source": [
    "output_total"
   ],
   "metadata": {
    "collapsed": false,
    "pycharm": {
     "name": "#%%\n"
    }
   }
  },
  {
   "cell_type": "code",
   "execution_count": 1670,
   "outputs": [
    {
     "data": {
      "text/plain": "<Figure size 539.643x333.518 with 1 Axes>",
      "image/png": "[encoded data removed]"
     },
     "metadata": {},
     "output_type": "display_data"
    }
   ],
   "source": [
    "fig, ax = plt.subplots(1, 1, figsize=set_size(width))\n",
    "ax.set_ylim([0,50])\n",
    "ax.set_xlim([0,100])\n",
    "ax.set_title(\"Output of largest firm\")\n",
    "output_total.plot(kind=\"line\", y = \"output\", x=\"t\", ax=ax, linewidth=0.75, alpha=0.8, color=\"darkgreen\")\n",
    "output_max_firm.plot(kind=\"line\", y = \"output\", x=\"t\", ax=ax, linewidth=0.75, alpha=0.8)\n",
    "plt.xlabel(\"t\")\n",
    "plt.ylabel(\"Output\")\n",
    "plt.savefig(f\"{fig_dir}/output_large.pdf\", format=\"pdf\")\n",
    "plt.show()"
   ],
   "metadata": {
    "collapsed": false,
    "pycharm": {
     "name": "#%%\n"
    }
   }
  },
  {
   "cell_type": "markdown",
   "source": [
    "Distribution of Firm Sizes\n",
    "The distribution of firm sizes across industries has a very characteristic\n",
    "shape, that of a power law (also commonly known as a scaling law or Pareto\n",
    "distribution). Data on firm sizes, measured variously, have proven to have\n",
    "broadly robust power law behavior over many decades and across national\n",
    "borders, this despite waves of mergers and acquisitions. Power law\n",
    "distributions of firm sizes are also characteristic of the non-equilibrium\n",
    "model described above. This is studied in the next section. Following that,\n",
    "the distribution of firm growth rates yielded by the model is compared with\n",
    "data. Then, the distribution of firm lifetimes the model produces is studied.\n",
    "These also follow a power law.\n",
    "Axtell 99 S.39"
   ],
   "metadata": {
    "collapsed": false,
    "pycharm": {
     "name": "#%% md\n"
    }
   }
  },
  {
   "cell_type": "markdown",
   "source": [
    "Maximum firm age (for sampling period)"
   ],
   "metadata": {
    "collapsed": false,
    "pycharm": {
     "name": "#%% md\n"
    }
   }
  },
  {
   "cell_type": "code",
   "execution_count": 1826,
   "outputs": [],
   "source": [
    "max_age = firm_dk[\"age\"].max().compute()"
   ],
   "metadata": {
    "collapsed": false,
    "pycharm": {
     "name": "#%%\n"
    }
   }
  },
  {
   "cell_type": "code",
   "execution_count": 1827,
   "outputs": [
    {
     "data": {
      "text/plain": "68"
     },
     "execution_count": 1827,
     "metadata": {},
     "output_type": "execute_result"
    }
   ],
   "source": [
    "max_age"
   ],
   "metadata": {
    "collapsed": false,
    "pycharm": {
     "name": "#%%\n"
    }
   }
  },
  {
   "cell_type": "code",
   "execution_count": 1882,
   "outputs": [],
   "source": [
    "firm_df = firm_dk.compute()"
   ],
   "metadata": {
    "collapsed": false,
    "pycharm": {
     "name": "#%%\n"
    }
   }
  },
  {
   "cell_type": "code",
   "execution_count": 1828,
   "outputs": [],
   "source": [
    "firm_size = firm_dk[[\"t\", \"number_employees\"]].compute()"
   ],
   "metadata": {
    "collapsed": false,
    "pycharm": {
     "name": "#%%\n"
    }
   }
  },
  {
   "cell_type": "code",
   "execution_count": 1883,
   "outputs": [],
   "source": [
    "employee_number = firm_size[\"number_employees\"]"
   ],
   "metadata": {
    "collapsed": false,
    "pycharm": {
     "name": "#%%\n"
    }
   }
  },
  {
   "cell_type": "code",
   "execution_count": 1884,
   "outputs": [
    {
     "data": {
      "text/plain": "0          1\n1          1\n2          1\n3          1\n4          1\n          ..\n5174033    1\n5174034    1\n5174035    1\n5174036    1\n5174037    1\nName: number_employees, Length: 5174038, dtype: int32"
     },
     "execution_count": 1884,
     "metadata": {},
     "output_type": "execute_result"
    }
   ],
   "source": [
    "employee_number"
   ],
   "metadata": {
    "collapsed": false,
    "pycharm": {
     "name": "#%%\n"
    }
   }
  },
  {
   "cell_type": "code",
   "execution_count": 1885,
   "outputs": [],
   "source": [
    "emp_list = list(employee_number)"
   ],
   "metadata": {
    "collapsed": false,
    "pycharm": {
     "name": "#%%\n"
    }
   }
  },
  {
   "cell_type": "code",
   "execution_count": 1886,
   "outputs": [
    {
     "data": {
      "text/plain": "[1,\n 1,\n 1,\n 1,\n 1,\n 1,\n 1,\n 2,\n 1,\n 1,\n 1,\n 1,\n 3,\n 2,\n 1,\n 1,\n 1,\n 1,\n 1,\n 1,\n 1,\n 1,\n 2,\n 1,\n 1,\n 1,\n 1,\n 1,\n 1,\n 1,\n 2,\n 2,\n 1,\n 1,\n 1,\n 2,\n 1,\n 1,\n 2,\n 1,\n 1,\n 1,\n 2,\n 1,\n 1,\n 1,\n 1,\n 1,\n 2,\n 2,\n 1,\n 3,\n 1,\n 3,\n 1,\n 1,\n 1,\n 1,\n 1,\n 1,\n 2,\n 1,\n 1,\n 2,\n 1,\n 1,\n 3,\n 1,\n 1,\n 1,\n 1,\n 1,\n 1,\n 1,\n 1,\n 1,\n 1,\n 1,\n 1,\n 1,\n 2,\n 1,\n 2,\n 2,\n 1,\n 2,\n 1,\n 1,\n 1,\n 1,\n 1,\n 1,\n 1,\n 1,\n 1,\n 1,\n 1,\n 1,\n 1,\n 2,\n 2,\n 1,\n 2,\n 1,\n 1,\n 2,\n 2,\n 1,\n 2,\n 1,\n 2,\n 2,\n 1,\n 1,\n 2,\n 1,\n 1,\n 1,\n 1,\n 1,\n 1,\n 1,\n 1,\n 1,\n 1,\n 1,\n 2,\n 2,\n 1,\n 3,\n 1,\n 1,\n 1,\n 1,\n 1,\n 1,\n 1,\n 1,\n 1,\n 1,\n 1,\n 1,\n 1,\n 1,\n 1,\n 1,\n 1,\n 2,\n 1,\n 1,\n 1,\n 1,\n 1,\n 1,\n 1,\n 1,\n 1,\n 1,\n 1,\n 2,\n 1,\n 1,\n 2,\n 1,\n 2,\n 1,\n 1,\n 1,\n 1,\n 1,\n 1,\n 1,\n 1,\n 1,\n 1,\n 1,\n 1,\n 3,\n 1,\n 1,\n 1,\n 1,\n 1,\n 2,\n 2,\n 1,\n 2,\n 2,\n 2,\n 1,\n 1,\n 3,\n 2,\n 2,\n 1,\n 1,\n 1,\n 2,\n 2,\n 3,\n 1,\n 1,\n 1,\n 2,\n 1,\n 1,\n 1,\n 1,\n 1,\n 1,\n 2,\n 3,\n 1,\n 1,\n 1,\n 1,\n 1,\n 1,\n 1,\n 2,\n 1,\n 1,\n 1,\n 2,\n 1,\n 1,\n 1,\n 1,\n 1,\n 2,\n 2,\n 1,\n 1,\n 1,\n 1,\n 1,\n 1,\n 1,\n 1,\n 1,\n 1,\n 2,\n 3,\n 2,\n 1,\n 1,\n 1,\n 1,\n 1,\n 1,\n 1,\n 1,\n 1,\n 1,\n 1,\n 2,\n 2,\n 1,\n 1,\n 1,\n 2,\n 1,\n 2,\n 1,\n 1,\n 2,\n 1,\n 1,\n 1,\n 1,\n 1,\n 1,\n 1,\n 1,\n 1,\n 1,\n 1,\n 2,\n 1,\n 2,\n 1,\n 1,\n 1,\n 1,\n 2,\n 2,\n 1,\n 1,\n 1,\n 1,\n 1,\n 2,\n 1,\n 2,\n 2,\n 1,\n 1,\n 2,\n 1,\n 1,\n 1,\n 1,\n 1,\n 1,\n 1,\n 1,\n 1,\n 2,\n 1,\n 1,\n 1,\n 1,\n 1,\n 1,\n 1,\n 2,\n 1,\n 2,\n 1,\n 1,\n 1,\n 1,\n 2,\n 1,\n 1,\n 1,\n 1,\n 1,\n 1,\n 1,\n 1,\n 1,\n 1,\n 1,\n 1,\n 1,\n 1,\n 1,\n 1,\n 1,\n 1,\n 1,\n 2,\n 1,\n 1,\n 1,\n 1,\n 1,\n 2,\n 2,\n 2,\n 1,\n 1,\n 1,\n 1,\n 2,\n 1,\n 1,\n 1,\n 1,\n 1,\n 2,\n 1,\n 4,\n 1,\n 1,\n 1,\n 1,\n 2,\n 1,\n 1,\n 1,\n 1,\n 1,\n 1,\n 1,\n 1,\n 1,\n 1,\n 1,\n 2,\n 3,\n 1,\n 1,\n 1,\n 1,\n 1,\n 2,\n 1,\n 1,\n 1,\n 1,\n 2,\n 1,\n 1,\n 3,\n 1,\n 1,\n 1,\n 1,\n 1,\n 1,\n 2,\n 1,\n 1,\n 2,\n 1,\n 2,\n 1,\n 1,\n 1,\n 1,\n 1,\n 1,\n 1,\n 1,\n 1,\n 2,\n 1,\n 2,\n 2,\n 1,\n 1,\n 1,\n 1,\n 2,\n 1,\n 2,\n 1,\n 3,\n 1,\n 2,\n 1,\n 1,\n 1,\n 2,\n 1,\n 1,\n 1,\n 1,\n 1,\n 2,\n 2,\n 1,\n 1,\n 1,\n 1,\n 1,\n 1,\n 1,\n 1,\n 1,\n 1,\n 1,\n 1,\n 1,\n 1,\n 2,\n 2,\n 1,\n 1,\n 2,\n 1,\n 1,\n 1,\n 1,\n 1,\n 1,\n 1,\n 1,\n 1,\n 1,\n 1,\n 1,\n 1,\n 2,\n 1,\n 1,\n 2,\n 1,\n 1,\n 1,\n 1,\n 2,\n 1,\n 1,\n 1,\n 2,\n 1,\n 2,\n 1,\n 1,\n 1,\n 1,\n 2,\n 1,\n 1,\n 1,\n 1,\n 1,\n 1,\n 1,\n 1,\n 1,\n 1,\n 2,\n 2,\n 1,\n 1,\n 1,\n 1,\n 2,\n 1,\n 1,\n 1,\n 1,\n 1,\n 1,\n 1,\n 1,\n 1,\n 1,\n 1,\n 1,\n 1,\n 1,\n 1,\n 1,\n 1,\n 1,\n 4,\n 1,\n 2,\n 1,\n 1,\n 1,\n 2,\n 1,\n 1,\n 1,\n 1,\n 1,\n 1,\n 1,\n 2,\n 2,\n 1,\n 2,\n 2,\n 1,\n 1,\n 1,\n 2,\n 1,\n 3,\n 1,\n 1,\n 1,\n 1,\n 1,\n 2,\n 1,\n 1,\n 1,\n 2,\n 2,\n 1,\n 1,\n 1,\n 1,\n 1,\n 1,\n 1,\n 1,\n 1,\n 1,\n 1,\n 1,\n 1,\n 2,\n 1,\n 1,\n 1,\n 1,\n 2,\n 2,\n 1,\n 1,\n 1,\n 1,\n 1,\n 2,\n 1,\n 1,\n 2,\n 2,\n 2,\n 1,\n 1,\n 1,\n 1,\n 1,\n 1,\n 3,\n 1,\n 1,\n 2,\n 1,\n 1,\n 1,\n 1,\n 2,\n 1,\n 1,\n 1,\n 2,\n 1,\n 1,\n 1,\n 2,\n 1,\n 1,\n 1,\n 1,\n 1,\n 1,\n 1,\n 1,\n 1,\n 2,\n 1,\n 1,\n 1,\n 1,\n 1,\n 1,\n 1,\n 1,\n 2,\n 1,\n 1,\n 1,\n 1,\n 1,\n 1,\n 1,\n 1,\n 2,\n 3,\n 1,\n 1,\n 1,\n 1,\n 1,\n 1,\n 1,\n 1,\n 1,\n 1,\n 1,\n 1,\n 4,\n 1,\n 1,\n 1,\n 1,\n 1,\n 1,\n 1,\n 1,\n 1,\n 1,\n 1,\n 1,\n 1,\n 1,\n 1,\n 1,\n 1,\n 1,\n 1,\n 1,\n 2,\n 1,\n 1,\n 1,\n 1,\n 1,\n 1,\n 2,\n 1,\n 1,\n 1,\n 1,\n 2,\n 2,\n 1,\n 2,\n 1,\n 1,\n 1,\n 1,\n 1,\n 2,\n 1,\n 3,\n 2,\n 2,\n 1,\n 2,\n 1,\n 1,\n 1,\n 1,\n 1,\n 1,\n 1,\n 1,\n 1,\n 2,\n 1,\n 1,\n 1,\n 2,\n 1,\n 1,\n 1,\n 1,\n 1,\n 1,\n 3,\n 1,\n 1,\n 1,\n 1,\n 1,\n 2,\n 1,\n 2,\n 1,\n 1,\n 1,\n 2,\n 2,\n 1,\n 1,\n 2,\n 1,\n 1,\n 1,\n 1,\n 1,\n 1,\n 2,\n 2,\n 1,\n 2,\n 1,\n 1,\n 2,\n 1,\n 1,\n 1,\n 1,\n 2,\n 1,\n 1,\n 1,\n 1,\n 3,\n 2,\n 3,\n 2,\n 1,\n 1,\n 1,\n 2,\n 1,\n 1,\n 1,\n 2,\n 1,\n 1,\n 1,\n 1,\n 1,\n 1,\n 1,\n 3,\n 1,\n 1,\n 1,\n 1,\n 1,\n 1,\n 1,\n 1,\n 1,\n 1,\n 1,\n 1,\n 1,\n 1,\n 2,\n 1,\n 1,\n 1,\n 2,\n 2,\n 2,\n 2,\n 1,\n 3,\n 1,\n 2,\n 2,\n 3,\n 3,\n 2,\n 2,\n 2,\n 1,\n 1,\n 1,\n 2,\n 2,\n 2,\n 2,\n 1,\n 1,\n 1,\n 2,\n 2,\n 1,\n 2,\n 1,\n 2,\n 1,\n 1,\n 2,\n 1,\n 2,\n 3,\n 2,\n 1,\n 1,\n 2,\n 2,\n 2,\n 1,\n 2,\n 2,\n 1,\n 2,\n 3,\n 1,\n 1,\n 2,\n 2,\n 1,\n 1,\n 2,\n 2,\n 3,\n 2,\n 1,\n 1,\n 1,\n 1,\n 1,\n 2,\n 2,\n 3,\n 1,\n 1,\n 1,\n 2,\n 1,\n 2,\n 1,\n 3,\n 3,\n 1,\n 1,\n 2,\n 3,\n 1,\n 2,\n 1,\n 2,\n 1,\n 2,\n 1,\n 1,\n 1,\n 2,\n 2,\n 1,\n 2,\n 3,\n 1,\n 1,\n 1,\n 1,\n 1,\n 3,\n 1,\n 3,\n 1,\n 1,\n 1,\n 1,\n 2,\n 2,\n 2,\n 1,\n 2,\n 1,\n 2,\n 2,\n 1,\n 2,\n 1,\n 1,\n 1,\n 2,\n 1,\n 3,\n 2,\n 1,\n 1,\n 3,\n 2,\n 1,\n 3,\n 1,\n 2,\n 2,\n 2,\n 1,\n 1,\n 1,\n 3,\n 1,\n 1,\n 2,\n 1,\n 1,\n 1,\n 1,\n 2,\n 1,\n 2,\n 2,\n 2,\n 1,\n 1,\n 5,\n 3,\n 1,\n 1,\n 2,\n 1,\n 1,\n 2,\n 1,\n 2,\n 1,\n 2,\n 1,\n 1,\n 2,\n 3,\n 3,\n 3,\n 1,\n 2,\n 1,\n 3,\n 3,\n 1,\n 2,\n 1,\n 1,\n 1,\n 2,\n 3,\n 1,\n 2,\n 4,\n 2,\n 1,\n 2,\n 2,\n 1,\n 1,\n 3,\n 1,\n 2,\n 1,\n ...]"
     },
     "execution_count": 1886,
     "metadata": {},
     "output_type": "execute_result"
    }
   ],
   "source": [
    "emp_list"
   ],
   "metadata": {
    "collapsed": false,
    "pycharm": {
     "name": "#%%\n"
    }
   }
  },
  {
   "cell_type": "code",
   "execution_count": 1888,
   "outputs": [],
   "source": [
    "count = pd.Series(emp_list).value_counts()"
   ],
   "metadata": {
    "collapsed": false,
    "pycharm": {
     "name": "#%%\n"
    }
   }
  },
  {
   "cell_type": "code",
   "execution_count": 1890,
   "outputs": [
    {
     "data": {
      "text/plain": "pandas.core.series.Series"
     },
     "execution_count": 1890,
     "metadata": {},
     "output_type": "execute_result"
    }
   ],
   "source": [
    "type(count)"
   ],
   "metadata": {
    "collapsed": false,
    "pycharm": {
     "name": "#%%\n"
    }
   }
  },
  {
   "cell_type": "code",
   "execution_count": 1891,
   "outputs": [],
   "source": [
    "final_frequencies = count.divide(len(emp_list))"
   ],
   "metadata": {
    "collapsed": false,
    "pycharm": {
     "name": "#%%\n"
    }
   }
  },
  {
   "cell_type": "code",
   "execution_count": 1892,
   "outputs": [
    {
     "data": {
      "text/plain": "1     5.520263e-01\n2     2.258267e-01\n3     1.195316e-01\n4     5.124025e-02\n5     2.392116e-02\n          ...     \n76    9.663632e-07\n78    9.663632e-07\n80    9.663632e-07\n84    7.730906e-07\n85    5.798179e-07\nLength: 85, dtype: float64"
     },
     "execution_count": 1892,
     "metadata": {},
     "output_type": "execute_result"
    }
   ],
   "source": [
    "final_frequencies"
   ],
   "metadata": {
    "collapsed": false,
    "pycharm": {
     "name": "#%%\n"
    }
   }
  },
  {
   "cell_type": "code",
   "execution_count": 1829,
   "outputs": [],
   "source": [
    "dist=firm_size.groupby([\"t\", \"number_employees\"]).size()"
   ],
   "metadata": {
    "collapsed": false,
    "pycharm": {
     "name": "#%%\n"
    }
   }
  },
  {
   "cell_type": "code",
   "execution_count": 1830,
   "outputs": [],
   "source": [
    "firm_size2 = firm_size[firm_size.t >= 1]"
   ],
   "metadata": {
    "collapsed": false,
    "pycharm": {
     "name": "#%%\n"
    }
   }
  },
  {
   "cell_type": "code",
   "execution_count": 1831,
   "outputs": [
    {
     "data": {
      "text/plain": "            t  number_employees\n801         1                 1\n802         1                 1\n803         1                 2\n804         1                 1\n805         1                 1\n...       ...               ...\n5174033  9999                 1\n5174034  9999                 1\n5174035  9999                 1\n5174036  9999                 1\n5174037  9999                 1\n\n[5173237 rows x 2 columns]",
      "text/html": "<div>\n<style scoped>\n    .dataframe tbody tr th:only-of-type {\n        vertical-align: middle;\n    }\n\n    .dataframe tbody tr th {\n        vertical-align: top;\n    }\n\n    .dataframe thead th {\n        text-align: right;\n    }\n</style>\n<table border=\"1\" class=\"dataframe\">\n  <thead>\n    <tr style=\"text-align: right;\">\n      <th></th>\n      <th>t</th>\n      <th>number_employees</th>\n    </tr>\n  </thead>\n  <tbody>\n    <tr>\n      <th>801</th>\n      <td>1</td>\n      <td>1</td>\n    </tr>\n    <tr>\n      <th>802</th>\n      <td>1</td>\n      <td>1</td>\n    </tr>\n    <tr>\n      <th>803</th>\n      <td>1</td>\n      <td>2</td>\n    </tr>\n    <tr>\n      <th>804</th>\n      <td>1</td>\n      <td>1</td>\n    </tr>\n    <tr>\n      <th>805</th>\n      <td>1</td>\n      <td>1</td>\n    </tr>\n    <tr>\n      <th>...</th>\n      <td>...</td>\n      <td>...</td>\n    </tr>\n    <tr>\n      <th>5174033</th>\n      <td>9999</td>\n      <td>1</td>\n    </tr>\n    <tr>\n      <th>5174034</th>\n      <td>9999</td>\n      <td>1</td>\n    </tr>\n    <tr>\n      <th>5174035</th>\n      <td>9999</td>\n      <td>1</td>\n    </tr>\n    <tr>\n      <th>5174036</th>\n      <td>9999</td>\n      <td>1</td>\n    </tr>\n    <tr>\n      <th>5174037</th>\n      <td>9999</td>\n      <td>1</td>\n    </tr>\n  </tbody>\n</table>\n<p>5173237 rows × 2 columns</p>\n</div>"
     },
     "execution_count": 1831,
     "metadata": {},
     "output_type": "execute_result"
    }
   ],
   "source": [
    "firm_size2"
   ],
   "metadata": {
    "collapsed": false,
    "pycharm": {
     "name": "#%%\n"
    }
   }
  },
  {
   "cell_type": "code",
   "execution_count": 1832,
   "outputs": [],
   "source": [
    "dist2 = firm_size2.groupby([\"number_employees\"]).number_employees.size()"
   ],
   "metadata": {
    "collapsed": false,
    "pycharm": {
     "name": "#%%\n"
    }
   }
  },
  {
   "cell_type": "code",
   "execution_count": 1833,
   "outputs": [
    {
     "data": {
      "text/plain": "5173237"
     },
     "execution_count": 1833,
     "metadata": {},
     "output_type": "execute_result"
    }
   ],
   "source": [
    "dist2.values.sum()"
   ],
   "metadata": {
    "collapsed": false,
    "pycharm": {
     "name": "#%%\n"
    }
   }
  },
  {
   "cell_type": "code",
   "execution_count": 1834,
   "outputs": [
    {
     "data": {
      "text/plain": "number_employees\n1     2855576\n2     1168288\n3      618440\n4      265116\n5      123769\n       ...   \n81          8\n82          6\n83          8\n84          4\n85          3\nName: number_employees, Length: 85, dtype: int64"
     },
     "execution_count": 1834,
     "metadata": {},
     "output_type": "execute_result"
    }
   ],
   "source": [
    "dist2"
   ],
   "metadata": {
    "collapsed": false,
    "pycharm": {
     "name": "#%%\n"
    }
   }
  },
  {
   "cell_type": "code",
   "execution_count": 1835,
   "outputs": [
    {
     "data": {
      "text/plain": "pandas.core.series.Series"
     },
     "execution_count": 1835,
     "metadata": {},
     "output_type": "execute_result"
    }
   ],
   "source": [
    "type(dist2)"
   ],
   "metadata": {
    "collapsed": false,
    "pycharm": {
     "name": "#%%\n"
    }
   }
  },
  {
   "cell_type": "code",
   "execution_count": 1836,
   "outputs": [
    {
     "name": "stdout",
     "output_type": "stream",
     "text": [
      "5173237\n"
     ]
    }
   ],
   "source": [
    "print(dist2.sum())"
   ],
   "metadata": {
    "collapsed": false,
    "pycharm": {
     "name": "#%%\n"
    }
   }
  },
  {
   "cell_type": "code",
   "execution_count": 1837,
   "outputs": [],
   "source": [
    "y_frequency_all = dist2.values/dist2.sum()"
   ],
   "metadata": {
    "collapsed": false,
    "pycharm": {
     "name": "#%%\n"
    }
   }
  },
  {
   "cell_type": "code",
   "execution_count": 1893,
   "outputs": [],
   "source": [
    "y_frequency_all = final_frequencies.tolist()"
   ],
   "metadata": {
    "collapsed": false,
    "pycharm": {
     "name": "#%%\n"
    }
   }
  },
  {
   "cell_type": "code",
   "execution_count": 1894,
   "outputs": [
    {
     "data": {
      "text/plain": "[0.5520262897180114,\n 0.22582671406742663,\n 0.11953159215297607,\n 0.05124024987833487,\n 0.023921161769588858,\n 0.011495470269062577,\n 0.006091567166688764,\n 0.0034184132393306737,\n 0.0019617173279361305,\n 0.0011488125908623013,\n 0.0007008066040489072,\n 0.000444720351879905,\n 0.0002928080543668214,\n 0.0001752982873338,\n 0.00011905594817819274,\n 9.547668571432989e-05,\n 7.363687703878479e-05,\n 6.880506096012438e-05,\n 6.030106466168204e-05,\n 5.701542972819295e-05,\n 5.372979479470387e-05,\n 4.445270792367586e-05,\n 4.155361827647961e-05,\n 4.116707299018678e-05,\n 3.904107391557619e-05,\n 3.884780127242977e-05,\n 3.730162012725844e-05,\n 3.7108347484112025e-05,\n 3.57554389820871e-05,\n 3.362943990747652e-05,\n 3.3242894621183684e-05,\n 3.3242894621183684e-05,\n 3.2663076691744435e-05,\n 3.092362290342668e-05,\n 3.015053233084102e-05,\n 2.99572596876946e-05,\n 2.9377441758255353e-05,\n 2.9184169115108934e-05,\n 2.8411078542523267e-05,\n 2.8024533256230434e-05,\n 2.7831260613084015e-05,\n 2.705817004049835e-05,\n 2.628507946791268e-05,\n 2.6091806824766267e-05,\n 2.5705261538473433e-05,\n 2.5705261538473433e-05,\n 2.53187162521806e-05,\n 2.4738898322741348e-05,\n 2.4738898322741348e-05,\n 2.106671810295943e-05,\n 1.7201265240031094e-05,\n 1.5268538808566927e-05,\n 1.507526616542051e-05,\n 1.4881993522274093e-05,\n 1.4495448235981258e-05,\n 1.314253973395634e-05,\n 1.314253973395634e-05,\n 1.2949267090809924e-05,\n 1.2949267090809924e-05,\n 1.2949267090809924e-05,\n 1.2755994447663507e-05,\n 1.256272180451709e-05,\n 1.2369449161370674e-05,\n 1.2369449161370674e-05,\n 1.2176176518224257e-05,\n 1.1789631231931424e-05,\n 1.140308594563859e-05,\n 1.1209813302492174e-05,\n 1.082326801619934e-05,\n 9.856904800467256e-06,\n 5.99145193753892e-06,\n 4.251998149221169e-06,\n 2.8990896471962518e-06,\n 2.3192717177570016e-06,\n 1.739453788317751e-06,\n 1.739453788317751e-06,\n 1.5461811451713342e-06,\n 1.5461811451713342e-06,\n 1.1596358588785008e-06,\n 9.663632157320838e-07,\n 9.663632157320838e-07,\n 9.663632157320838e-07,\n 9.663632157320838e-07,\n 7.730905725856671e-07,\n 5.798179294392504e-07]"
     },
     "execution_count": 1894,
     "metadata": {},
     "output_type": "execute_result"
    }
   ],
   "source": [
    "y_frequency_all"
   ],
   "metadata": {
    "collapsed": false,
    "pycharm": {
     "name": "#%%\n"
    }
   }
  },
  {
   "cell_type": "code",
   "execution_count": 1895,
   "outputs": [],
   "source": [
    "x_employees_all = final_frequencies.index.values.tolist()"
   ],
   "metadata": {
    "collapsed": false,
    "pycharm": {
     "name": "#%%\n"
    }
   }
  },
  {
   "cell_type": "code",
   "execution_count": 1896,
   "outputs": [
    {
     "data": {
      "text/plain": "[1,\n 2,\n 3,\n 4,\n 5,\n 6,\n 7,\n 8,\n 9,\n 10,\n 11,\n 12,\n 13,\n 14,\n 15,\n 16,\n 17,\n 18,\n 19,\n 20,\n 21,\n 22,\n 25,\n 27,\n 24,\n 30,\n 28,\n 23,\n 29,\n 26,\n 32,\n 41,\n 47,\n 34,\n 33,\n 37,\n 45,\n 35,\n 43,\n 49,\n 31,\n 39,\n 42,\n 38,\n 48,\n 46,\n 40,\n 36,\n 44,\n 50,\n 51,\n 53,\n 54,\n 57,\n 56,\n 60,\n 55,\n 63,\n 59,\n 58,\n 52,\n 61,\n 65,\n 66,\n 67,\n 64,\n 70,\n 68,\n 69,\n 62,\n 71,\n 72,\n 73,\n 74,\n 75,\n 77,\n 83,\n 81,\n 82,\n 79,\n 76,\n 78,\n 80,\n 84,\n 85]"
     },
     "execution_count": 1896,
     "metadata": {},
     "output_type": "execute_result"
    }
   ],
   "source": [
    "x_employees_all"
   ],
   "metadata": {
    "collapsed": false,
    "pycharm": {
     "name": "#%%\n"
    }
   }
  },
  {
   "cell_type": "code",
   "execution_count": 1897,
   "outputs": [],
   "source": [
    "d = {\"Employees\": x_employees_all, \"Count\": y_frequency_all}"
   ],
   "metadata": {
    "collapsed": false,
    "pycharm": {
     "name": "#%%\n"
    }
   }
  },
  {
   "cell_type": "code",
   "execution_count": 1898,
   "outputs": [],
   "source": [
    "df = pd.DataFrame(d)"
   ],
   "metadata": {
    "collapsed": false,
    "pycharm": {
     "name": "#%%\n"
    }
   }
  },
  {
   "cell_type": "markdown",
   "source": [
    " powerlaw not good for extreme cases, low and high prune"
   ],
   "metadata": {
    "collapsed": false,
    "pycharm": {
     "name": "#%% md\n"
    }
   }
  },
  {
   "cell_type": "code",
   "execution_count": 1899,
   "outputs": [],
   "source": [
    "df.to_csv(f\"{out_dir}/frequency.csv\")"
   ],
   "metadata": {
    "collapsed": false,
    "pycharm": {
     "name": "#%%\n"
    }
   }
  },
  {
   "cell_type": "code",
   "execution_count": 1900,
   "outputs": [],
   "source": [
    "df_big = df[df.Count > 10**(-5)]"
   ],
   "metadata": {
    "collapsed": false,
    "pycharm": {
     "name": "#%%\n"
    }
   }
  },
  {
   "cell_type": "markdown",
   "source": [],
   "metadata": {
    "collapsed": false,
    "pycharm": {
     "name": "#%% md\n"
    }
   }
  },
  {
   "cell_type": "code",
   "execution_count": 1901,
   "outputs": [],
   "source": [
    "df_big = df_big[1:]"
   ],
   "metadata": {
    "collapsed": false,
    "pycharm": {
     "name": "#%%\n"
    }
   }
  },
  {
   "cell_type": "markdown",
   "source": [
    "weibull not needed to prune"
   ],
   "metadata": {
    "collapsed": false,
    "pycharm": {
     "name": "#%% md\n"
    }
   }
  },
  {
   "cell_type": "code",
   "execution_count": 1902,
   "outputs": [],
   "source": [
    "# df_big = df"
   ],
   "metadata": {
    "collapsed": false,
    "pycharm": {
     "name": "#%%\n"
    }
   }
  },
  {
   "cell_type": "code",
   "execution_count": 1903,
   "outputs": [
    {
     "data": {
      "text/plain": "    Employees     Count\n1           2  0.225827\n2           3  0.119532\n3           4  0.051240\n4           5  0.023921\n5           6  0.011495\n..        ...       ...\n64         67  0.000012\n65         64  0.000012\n66         70  0.000011\n67         68  0.000011\n68         69  0.000011\n\n[68 rows x 2 columns]",
      "text/html": "<div>\n<style scoped>\n    .dataframe tbody tr th:only-of-type {\n        vertical-align: middle;\n    }\n\n    .dataframe tbody tr th {\n        vertical-align: top;\n    }\n\n    .dataframe thead th {\n        text-align: right;\n    }\n</style>\n<table border=\"1\" class=\"dataframe\">\n  <thead>\n    <tr style=\"text-align: right;\">\n      <th></th>\n      <th>Employees</th>\n      <th>Count</th>\n    </tr>\n  </thead>\n  <tbody>\n    <tr>\n      <th>1</th>\n      <td>2</td>\n      <td>0.225827</td>\n    </tr>\n    <tr>\n      <th>2</th>\n      <td>3</td>\n      <td>0.119532</td>\n    </tr>\n    <tr>\n      <th>3</th>\n      <td>4</td>\n      <td>0.051240</td>\n    </tr>\n    <tr>\n      <th>4</th>\n      <td>5</td>\n      <td>0.023921</td>\n    </tr>\n    <tr>\n      <th>5</th>\n      <td>6</td>\n      <td>0.011495</td>\n    </tr>\n    <tr>\n      <th>...</th>\n      <td>...</td>\n      <td>...</td>\n    </tr>\n    <tr>\n      <th>64</th>\n      <td>67</td>\n      <td>0.000012</td>\n    </tr>\n    <tr>\n      <th>65</th>\n      <td>64</td>\n      <td>0.000012</td>\n    </tr>\n    <tr>\n      <th>66</th>\n      <td>70</td>\n      <td>0.000011</td>\n    </tr>\n    <tr>\n      <th>67</th>\n      <td>68</td>\n      <td>0.000011</td>\n    </tr>\n    <tr>\n      <th>68</th>\n      <td>69</td>\n      <td>0.000011</td>\n    </tr>\n  </tbody>\n</table>\n<p>68 rows × 2 columns</p>\n</div>"
     },
     "execution_count": 1903,
     "metadata": {},
     "output_type": "execute_result"
    }
   ],
   "source": [
    "df_big"
   ],
   "metadata": {
    "collapsed": false,
    "pycharm": {
     "name": "#%%\n"
    }
   }
  },
  {
   "cell_type": "code",
   "execution_count": 1904,
   "outputs": [],
   "source": [
    "x_new = df_big.Employees\n",
    "y_new = df_big.Count"
   ],
   "metadata": {
    "collapsed": false,
    "pycharm": {
     "name": "#%%\n"
    }
   }
  },
  {
   "cell_type": "markdown",
   "source": [
    "function to sample firm size (employee) distribution for different t's"
   ],
   "metadata": {
    "collapsed": false,
    "pycharm": {
     "name": "#%% md\n"
    }
   }
  },
  {
   "cell_type": "code",
   "execution_count": 1849,
   "outputs": [],
   "source": [
    "def sample_dist(dist, start, max_age, numb_samples):\n",
    "    df_list = []\n",
    "    for x in range(numb_samples):\n",
    "        i = start + x * max_age\n",
    "        sample = dist.loc[i, :]\n",
    "        freq = sample / sample.sum()\n",
    "        freq_df = freq.reset_index(inplace=False)\n",
    "        freq_df = freq_df.rename(columns={0: f\"Frequency{x}\"})\n",
    "        df_list.append(freq_df)\n",
    "    return df_list"
   ],
   "metadata": {
    "collapsed": false,
    "pycharm": {
     "name": "#%%\n"
    }
   }
  },
  {
   "cell_type": "code",
   "execution_count": 1850,
   "outputs": [],
   "source": [
    "dfs = sample_dist(dist, 1, 10, 10)"
   ],
   "metadata": {
    "collapsed": false,
    "pycharm": {
     "name": "#%%\n"
    }
   }
  },
  {
   "cell_type": "code",
   "execution_count": 1851,
   "outputs": [],
   "source": [
    "from functools import reduce"
   ],
   "metadata": {
    "collapsed": false,
    "pycharm": {
     "name": "#%%\n"
    }
   }
  },
  {
   "cell_type": "code",
   "execution_count": 1852,
   "outputs": [],
   "source": [
    "df3 = reduce(lambda left,right: pd.merge(left,right,on=[\"number_employees\"], how=\"outer\"), dfs)"
   ],
   "metadata": {
    "collapsed": false,
    "pycharm": {
     "name": "#%%\n"
    }
   }
  },
  {
   "cell_type": "code",
   "execution_count": 1853,
   "outputs": [
    {
     "data": {
      "text/plain": "    number_employees  Frequency0  Frequency1  Frequency2  Frequency3  \\\n0                  1    0.610429    0.570384    0.556641    0.539078   \n1                  2    0.271472    0.213894    0.218750    0.230461   \n2                  3    0.096626    0.140768    0.105469    0.134269   \n3                  4    0.018405    0.029250    0.056641    0.048096   \n4                  5    0.001534    0.021938    0.019531    0.022044   \n5                  6    0.001534    0.016453    0.017578    0.010020   \n6                  7         NaN    0.003656    0.015625    0.004008   \n7                  8         NaN    0.001828    0.001953         NaN   \n8                 23         NaN    0.001828         NaN         NaN   \n9                 10         NaN         NaN    0.001953    0.002004   \n10                11         NaN         NaN    0.003906         NaN   \n11                13         NaN         NaN    0.001953         NaN   \n12                 9         NaN         NaN         NaN    0.004008   \n13                18         NaN         NaN         NaN    0.002004   \n14                27         NaN         NaN         NaN    0.002004   \n15                32         NaN         NaN         NaN    0.002004   \n16                48         NaN         NaN         NaN         NaN   \n17                28         NaN         NaN         NaN         NaN   \n18                39         NaN         NaN         NaN         NaN   \n19                12         NaN         NaN         NaN         NaN   \n20                25         NaN         NaN         NaN         NaN   \n\n    Frequency4  Frequency5  Frequency6  Frequency7  Frequency8  Frequency9  \n0     0.538614    0.543353    0.502982    0.546875    0.565934    0.593156  \n1     0.225743    0.229287    0.234592    0.230469    0.238095    0.193916  \n2     0.134653    0.123314    0.163022    0.128906    0.098901    0.115970  \n3     0.061386    0.059730    0.043738    0.042969    0.036630    0.038023  \n4     0.015842    0.015414    0.023857    0.019531    0.038462    0.024715  \n5     0.003960    0.013487    0.017893    0.015625    0.012821    0.013308  \n6     0.007921    0.009634    0.007952    0.003906    0.003663    0.009506  \n7     0.005941         NaN    0.001988    0.003906    0.003663    0.001901  \n8          NaN         NaN         NaN         NaN         NaN         NaN  \n9          NaN    0.001927         NaN         NaN         NaN    0.001901  \n10    0.001980         NaN         NaN    0.003906         NaN         NaN  \n11         NaN         NaN         NaN         NaN         NaN         NaN  \n12    0.001980    0.001927    0.001988    0.001953         NaN    0.003802  \n13         NaN         NaN    0.001988         NaN         NaN    0.001901  \n14         NaN         NaN         NaN         NaN         NaN         NaN  \n15         NaN         NaN         NaN         NaN         NaN         NaN  \n16    0.001980         NaN         NaN         NaN         NaN         NaN  \n17         NaN    0.001927         NaN         NaN         NaN         NaN  \n18         NaN         NaN         NaN    0.001953         NaN         NaN  \n19         NaN         NaN         NaN         NaN    0.001832         NaN  \n20         NaN         NaN         NaN         NaN         NaN    0.001901  ",
      "text/html": "<div>\n<style scoped>\n    .dataframe tbody tr th:only-of-type {\n        vertical-align: middle;\n    }\n\n    .dataframe tbody tr th {\n        vertical-align: top;\n    }\n\n    .dataframe thead th {\n        text-align: right;\n    }\n</style>\n<table border=\"1\" class=\"dataframe\">\n  <thead>\n    <tr style=\"text-align: right;\">\n      <th></th>\n      <th>number_employees</th>\n      <th>Frequency0</th>\n      <th>Frequency1</th>\n      <th>Frequency2</th>\n      <th>Frequency3</th>\n      <th>Frequency4</th>\n      <th>Frequency5</th>\n      <th>Frequency6</th>\n      <th>Frequency7</th>\n      <th>Frequency8</th>\n      <th>Frequency9</th>\n    </tr>\n  </thead>\n  <tbody>\n    <tr>\n      <th>0</th>\n      <td>1</td>\n      <td>0.610429</td>\n      <td>0.570384</td>\n      <td>0.556641</td>\n      <td>0.539078</td>\n      <td>0.538614</td>\n      <td>0.543353</td>\n      <td>0.502982</td>\n      <td>0.546875</td>\n      <td>0.565934</td>\n      <td>0.593156</td>\n    </tr>\n    <tr>\n      <th>1</th>\n      <td>2</td>\n      <td>0.271472</td>\n      <td>0.213894</td>\n      <td>0.218750</td>\n      <td>0.230461</td>\n      <td>0.225743</td>\n      <td>0.229287</td>\n      <td>0.234592</td>\n      <td>0.230469</td>\n      <td>0.238095</td>\n      <td>0.193916</td>\n    </tr>\n    <tr>\n      <th>2</th>\n      <td>3</td>\n      <td>0.096626</td>\n      <td>0.140768</td>\n      <td>0.105469</td>\n      <td>0.134269</td>\n      <td>0.134653</td>\n      <td>0.123314</td>\n      <td>0.163022</td>\n      <td>0.128906</td>\n      <td>0.098901</td>\n      <td>0.115970</td>\n    </tr>\n    <tr>\n      <th>3</th>\n      <td>4</td>\n      <td>0.018405</td>\n      <td>0.029250</td>\n      <td>0.056641</td>\n      <td>0.048096</td>\n      <td>0.061386</td>\n      <td>0.059730</td>\n      <td>0.043738</td>\n      <td>0.042969</td>\n      <td>0.036630</td>\n      <td>0.038023</td>\n    </tr>\n    <tr>\n      <th>4</th>\n      <td>5</td>\n      <td>0.001534</td>\n      <td>0.021938</td>\n      <td>0.019531</td>\n      <td>0.022044</td>\n      <td>0.015842</td>\n      <td>0.015414</td>\n      <td>0.023857</td>\n      <td>0.019531</td>\n      <td>0.038462</td>\n      <td>0.024715</td>\n    </tr>\n    <tr>\n      <th>5</th>\n      <td>6</td>\n      <td>0.001534</td>\n      <td>0.016453</td>\n      <td>0.017578</td>\n      <td>0.010020</td>\n      <td>0.003960</td>\n      <td>0.013487</td>\n      <td>0.017893</td>\n      <td>0.015625</td>\n      <td>0.012821</td>\n      <td>0.013308</td>\n    </tr>\n    <tr>\n      <th>6</th>\n      <td>7</td>\n      <td>NaN</td>\n      <td>0.003656</td>\n      <td>0.015625</td>\n      <td>0.004008</td>\n      <td>0.007921</td>\n      <td>0.009634</td>\n      <td>0.007952</td>\n      <td>0.003906</td>\n      <td>0.003663</td>\n      <td>0.009506</td>\n    </tr>\n    <tr>\n      <th>7</th>\n      <td>8</td>\n      <td>NaN</td>\n      <td>0.001828</td>\n      <td>0.001953</td>\n      <td>NaN</td>\n      <td>0.005941</td>\n      <td>NaN</td>\n      <td>0.001988</td>\n      <td>0.003906</td>\n      <td>0.003663</td>\n      <td>0.001901</td>\n    </tr>\n    <tr>\n      <th>8</th>\n      <td>23</td>\n      <td>NaN</td>\n      <td>0.001828</td>\n      <td>NaN</td>\n      <td>NaN</td>\n      <td>NaN</td>\n      <td>NaN</td>\n      <td>NaN</td>\n      <td>NaN</td>\n      <td>NaN</td>\n      <td>NaN</td>\n    </tr>\n    <tr>\n      <th>9</th>\n      <td>10</td>\n      <td>NaN</td>\n      <td>NaN</td>\n      <td>0.001953</td>\n      <td>0.002004</td>\n      <td>NaN</td>\n      <td>0.001927</td>\n      <td>NaN</td>\n      <td>NaN</td>\n      <td>NaN</td>\n      <td>0.001901</td>\n    </tr>\n    <tr>\n      <th>10</th>\n      <td>11</td>\n      <td>NaN</td>\n      <td>NaN</td>\n      <td>0.003906</td>\n      <td>NaN</td>\n      <td>0.001980</td>\n      <td>NaN</td>\n      <td>NaN</td>\n      <td>0.003906</td>\n      <td>NaN</td>\n      <td>NaN</td>\n    </tr>\n    <tr>\n      <th>11</th>\n      <td>13</td>\n      <td>NaN</td>\n      <td>NaN</td>\n      <td>0.001953</td>\n      <td>NaN</td>\n      <td>NaN</td>\n      <td>NaN</td>\n      <td>NaN</td>\n      <td>NaN</td>\n      <td>NaN</td>\n      <td>NaN</td>\n    </tr>\n    <tr>\n      <th>12</th>\n      <td>9</td>\n      <td>NaN</td>\n      <td>NaN</td>\n      <td>NaN</td>\n      <td>0.004008</td>\n      <td>0.001980</td>\n      <td>0.001927</td>\n      <td>0.001988</td>\n      <td>0.001953</td>\n      <td>NaN</td>\n      <td>0.003802</td>\n    </tr>\n    <tr>\n      <th>13</th>\n      <td>18</td>\n      <td>NaN</td>\n      <td>NaN</td>\n      <td>NaN</td>\n      <td>0.002004</td>\n      <td>NaN</td>\n      <td>NaN</td>\n      <td>0.001988</td>\n      <td>NaN</td>\n      <td>NaN</td>\n      <td>0.001901</td>\n    </tr>\n    <tr>\n      <th>14</th>\n      <td>27</td>\n      <td>NaN</td>\n      <td>NaN</td>\n      <td>NaN</td>\n      <td>0.002004</td>\n      <td>NaN</td>\n      <td>NaN</td>\n      <td>NaN</td>\n      <td>NaN</td>\n      <td>NaN</td>\n      <td>NaN</td>\n    </tr>\n    <tr>\n      <th>15</th>\n      <td>32</td>\n      <td>NaN</td>\n      <td>NaN</td>\n      <td>NaN</td>\n      <td>0.002004</td>\n      <td>NaN</td>\n      <td>NaN</td>\n      <td>NaN</td>\n      <td>NaN</td>\n      <td>NaN</td>\n      <td>NaN</td>\n    </tr>\n    <tr>\n      <th>16</th>\n      <td>48</td>\n      <td>NaN</td>\n      <td>NaN</td>\n      <td>NaN</td>\n      <td>NaN</td>\n      <td>0.001980</td>\n      <td>NaN</td>\n      <td>NaN</td>\n      <td>NaN</td>\n      <td>NaN</td>\n      <td>NaN</td>\n    </tr>\n    <tr>\n      <th>17</th>\n      <td>28</td>\n      <td>NaN</td>\n      <td>NaN</td>\n      <td>NaN</td>\n      <td>NaN</td>\n      <td>NaN</td>\n      <td>0.001927</td>\n      <td>NaN</td>\n      <td>NaN</td>\n      <td>NaN</td>\n      <td>NaN</td>\n    </tr>\n    <tr>\n      <th>18</th>\n      <td>39</td>\n      <td>NaN</td>\n      <td>NaN</td>\n      <td>NaN</td>\n      <td>NaN</td>\n      <td>NaN</td>\n      <td>NaN</td>\n      <td>NaN</td>\n      <td>0.001953</td>\n      <td>NaN</td>\n      <td>NaN</td>\n    </tr>\n    <tr>\n      <th>19</th>\n      <td>12</td>\n      <td>NaN</td>\n      <td>NaN</td>\n      <td>NaN</td>\n      <td>NaN</td>\n      <td>NaN</td>\n      <td>NaN</td>\n      <td>NaN</td>\n      <td>NaN</td>\n      <td>0.001832</td>\n      <td>NaN</td>\n    </tr>\n    <tr>\n      <th>20</th>\n      <td>25</td>\n      <td>NaN</td>\n      <td>NaN</td>\n      <td>NaN</td>\n      <td>NaN</td>\n      <td>NaN</td>\n      <td>NaN</td>\n      <td>NaN</td>\n      <td>NaN</td>\n      <td>NaN</td>\n      <td>0.001901</td>\n    </tr>\n  </tbody>\n</table>\n</div>"
     },
     "execution_count": 1853,
     "metadata": {},
     "output_type": "execute_result"
    }
   ],
   "source": [
    "df3"
   ],
   "metadata": {
    "collapsed": false,
    "pycharm": {
     "name": "#%%\n"
    }
   }
  },
  {
   "cell_type": "code",
   "execution_count": 1854,
   "outputs": [],
   "source": [
    "df3['avg'] = df3.iloc[:,1:].mean(axis=1)"
   ],
   "metadata": {
    "collapsed": false,
    "pycharm": {
     "name": "#%%\n"
    }
   }
  },
  {
   "cell_type": "code",
   "execution_count": 1855,
   "outputs": [],
   "source": [
    "# df3['size'] = df3.iloc[:,1:].size(axis=1)"
   ],
   "metadata": {
    "collapsed": false,
    "pycharm": {
     "name": "#%%\n"
    }
   }
  },
  {
   "cell_type": "code",
   "execution_count": 1856,
   "outputs": [],
   "source": [
    "df3 = df3.iloc[1:20,:]"
   ],
   "metadata": {
    "collapsed": false,
    "pycharm": {
     "name": "#%%\n"
    }
   }
  },
  {
   "cell_type": "code",
   "execution_count": 1857,
   "outputs": [],
   "source": [
    "dfplot = df3[[\"number_employees\", \"avg\"]]"
   ],
   "metadata": {
    "collapsed": false,
    "pycharm": {
     "name": "#%%\n"
    }
   }
  },
  {
   "cell_type": "code",
   "execution_count": 1858,
   "outputs": [],
   "source": [
    "x_employees = df3[\"number_employees\"].values.tolist()"
   ],
   "metadata": {
    "collapsed": false,
    "pycharm": {
     "name": "#%%\n"
    }
   }
  },
  {
   "cell_type": "code",
   "execution_count": 1859,
   "outputs": [],
   "source": [
    "y_frequency = df3[\"avg\"].values.tolist()"
   ],
   "metadata": {
    "collapsed": false,
    "pycharm": {
     "name": "#%%\n"
    }
   }
  },
  {
   "cell_type": "code",
   "execution_count": 1860,
   "outputs": [
    {
     "data": {
      "text/plain": "[0.22866797296243088,\n 0.12418972087371286,\n 0.04348677463651113,\n 0.020286724183947034,\n 0.012267930319694548,\n 0.007319029997383268,\n 0.003025762648899463,\n 0.0018281535648994515,\n 0.0019462639935114484,\n 0.0032642326732673266,\n 0.001953125,\n 0.0026097457108111705,\n 0.001964406757006417,\n 0.002004008016032064,\n 0.002004008016032064,\n 0.0019801980198019802,\n 0.0019267822736030828,\n 0.001953125,\n 0.0018315018315018315]"
     },
     "execution_count": 1860,
     "metadata": {},
     "output_type": "execute_result"
    }
   ],
   "source": [
    "y_frequency"
   ],
   "metadata": {
    "collapsed": false,
    "pycharm": {
     "name": "#%%\n"
    }
   }
  },
  {
   "cell_type": "code",
   "execution_count": 1906,
   "outputs": [
    {
     "data": {
      "text/plain": "<Figure size 539.643x333.518 with 1 Axes>",
      "image/png": "[encoded data removed]"
     },
     "metadata": {},
     "output_type": "display_data"
    }
   ],
   "source": [
    "fig, ax = plt.subplots(1, 1, figsize=set_size(width))\n",
    "#ax.set_ylim([0,0.4])\n",
    "#ax.set_xlim([0,100])\n",
    "ax.set_title(\"Firm size distribution\")\n",
    "ticks = (1,5,10,20, 40)\n",
    "ticksy = (0.001, 0.01, 0.1, 1)\n",
    "df_big.plot(\"Employees\",\"Count\",kind=\"scatter\", ax=ax, linewidth=0.45, alpha=0.8, loglog=True)\n",
    "ax.set_xticks(ticks=ticks)\n",
    "ax.set_xticklabels(labels=ticks)\n",
    "ax.set_yticks(ticks=ticksy)\n",
    "ax.set_yticklabels(labels=ticksy)\n",
    "ax.set_ylabel(\"Frequency\")\n",
    "ax.set_xlabel(\"Number of Employees\")\n",
    "plt.show()"
   ],
   "metadata": {
    "collapsed": false,
    "pycharm": {
     "name": "#%%\n"
    }
   }
  },
  {
   "cell_type": "markdown",
   "source": [
    "Fit the firmsize power-law data"
   ],
   "metadata": {
    "collapsed": false,
    "pycharm": {
     "name": "#%% md\n"
    }
   }
  },
  {
   "cell_type": "code",
   "execution_count": 1907,
   "outputs": [],
   "source": [
    "# Function to calculate the power-law with constants a and b\n",
    "def power_law(x, b):\n",
    "    return np.power(x, -(1+b), dtype=float)"
   ],
   "metadata": {
    "collapsed": false,
    "pycharm": {
     "name": "#%%\n"
    }
   }
  },
  {
   "cell_type": "code",
   "execution_count": 1908,
   "outputs": [],
   "source": [
    "def weibull(x, a, b):\n",
    "    return 1-np.exp(-a*x**b, dtype=float)\n",
    "\n",
    "def gld(x, a, b):\n",
    "    return 1-(1+a*x/b)**((-1)/a)"
   ],
   "metadata": {
    "collapsed": false,
    "pycharm": {
     "name": "#%%\n"
    }
   }
  },
  {
   "cell_type": "code",
   "execution_count": 1909,
   "outputs": [],
   "source": [
    "from scipy.optimize import curve_fit"
   ],
   "metadata": {
    "collapsed": false,
    "pycharm": {
     "name": "#%%\n"
    }
   }
  },
  {
   "cell_type": "code",
   "execution_count": 1910,
   "outputs": [],
   "source": [
    "pars, cov = curve_fit(f=power_law, xdata= x_new, ydata=y_new, p0=0, bounds=(-np.inf, np.inf))"
   ],
   "metadata": {
    "collapsed": false,
    "pycharm": {
     "name": "#%%\n"
    }
   }
  },
  {
   "cell_type": "code",
   "execution_count": 1911,
   "outputs": [
    {
     "data": {
      "text/plain": "array([1.13020003])"
     },
     "execution_count": 1911,
     "metadata": {},
     "output_type": "execute_result"
    }
   ],
   "source": [
    "pars"
   ],
   "metadata": {
    "collapsed": false,
    "pycharm": {
     "name": "#%%\n"
    }
   }
  },
  {
   "cell_type": "code",
   "execution_count": 1912,
   "outputs": [],
   "source": [
    "pars2, cov2 = curve_fit(f=weibull, xdata= x_new, ydata=y_new, p0=[0,0], bounds=(-np.inf, np.inf))"
   ],
   "metadata": {
    "collapsed": false,
    "pycharm": {
     "name": "#%%\n"
    }
   }
  },
  {
   "cell_type": "code",
   "execution_count": 1913,
   "outputs": [],
   "source": [
    "# not found optima\n",
    "# pars3, cov3 = curve_fit(f=gld, xdata= x_new, ydata=y_new, p0=[0,0], bounds=(-np.inf, np.inf))"
   ],
   "metadata": {
    "collapsed": false,
    "pycharm": {
     "name": "#%%\n"
    }
   }
  },
  {
   "cell_type": "code",
   "execution_count": 1926,
   "outputs": [
    {
     "data": {
      "text/plain": "<Figure size 539.643x333.518 with 1 Axes>",
      "image/png": "[encoded data removed]"
     },
     "metadata": {},
     "output_type": "display_data"
    }
   ],
   "source": [
    "fig, ax = plt.subplots(1, 1, figsize=set_size(width))\n",
    "#ax.set_ylim([0,0.4])\n",
    "#ax.set_xlim([0,100])\n",
    "ax.set_title(\"Firm size distribution\")\n",
    "ticks = (1,5,10,20, 50, 100)\n",
    "ticksy = (0.001, 0.01, 0.1, 0.5, 1)\n",
    "ax.loglog()\n",
    "plt.plot(x_new, power_law(x_new, *pars), label=\"fit\", color=\"red\", alpha=0.8)\n",
    "plt.scatter(x_new, y_new, s=5)\n",
    "ax.set_xticks(ticks=ticks)\n",
    "ax.set_xticklabels(labels=ticks)\n",
    "ax.set_yticks(ticks=ticksy)\n",
    "ax.set_yticklabels(labels=ticksy)\n",
    "ax.set_ylabel(\"Frequency\")\n",
    "ax.set_xlabel(\"Number of Employees\")\n",
    "plt.savefig(f\"{fig_dir}/fitted_dist.pdf\", format=\"pdf\")\n",
    "plt.show()"
   ],
   "metadata": {
    "collapsed": false,
    "pycharm": {
     "name": "#%%\n"
    }
   }
  },
  {
   "cell_type": "markdown",
   "source": [
    "Get the standard deviations of the parameters (square roots of the # diagonal of the covariance)"
   ],
   "metadata": {
    "collapsed": false,
    "pycharm": {
     "name": "#%% md\n"
    }
   }
  },
  {
   "cell_type": "code",
   "execution_count": 1927,
   "outputs": [],
   "source": [
    "stdevs = np.sqrt(np.diag(cov))"
   ],
   "metadata": {
    "collapsed": false,
    "pycharm": {
     "name": "#%%\n"
    }
   }
  },
  {
   "cell_type": "code",
   "execution_count": 1928,
   "outputs": [],
   "source": [
    "stdevs2 = np.sqrt(np.diag(cov2))"
   ],
   "metadata": {
    "collapsed": false,
    "pycharm": {
     "name": "#%%\n"
    }
   }
  },
  {
   "cell_type": "markdown",
   "source": [
    "Calculate the residuals"
   ],
   "metadata": {
    "collapsed": false,
    "pycharm": {
     "name": "#%% md\n"
    }
   }
  },
  {
   "cell_type": "code",
   "execution_count": 1929,
   "outputs": [],
   "source": [
    "res = y_new - power_law(x_new, *pars)"
   ],
   "metadata": {
    "collapsed": false,
    "pycharm": {
     "name": "#%%\n"
    }
   }
  },
  {
   "cell_type": "code",
   "execution_count": 1930,
   "outputs": [],
   "source": [
    "ss_res = np.sum(res**2)"
   ],
   "metadata": {
    "collapsed": false,
    "pycharm": {
     "name": "#%%\n"
    }
   }
  },
  {
   "cell_type": "code",
   "execution_count": 1931,
   "outputs": [
    {
     "data": {
      "text/plain": "0.00111306904447548"
     },
     "execution_count": 1931,
     "metadata": {},
     "output_type": "execute_result"
    }
   ],
   "source": [
    "ss_res"
   ],
   "metadata": {
    "collapsed": false,
    "pycharm": {
     "name": "#%%\n"
    }
   }
  },
  {
   "cell_type": "code",
   "execution_count": 1932,
   "outputs": [],
   "source": [
    "ss_tot = np.sum((y_new-np.mean(y_new))**2)"
   ],
   "metadata": {
    "collapsed": false,
    "pycharm": {
     "name": "#%%\n"
    }
   }
  },
  {
   "cell_type": "code",
   "execution_count": 1933,
   "outputs": [
    {
     "data": {
      "text/plain": "0.06571960072853311"
     },
     "execution_count": 1933,
     "metadata": {},
     "output_type": "execute_result"
    }
   ],
   "source": [
    "ss_tot"
   ],
   "metadata": {
    "collapsed": false,
    "pycharm": {
     "name": "#%%\n"
    }
   }
  },
  {
   "cell_type": "code",
   "execution_count": 1934,
   "outputs": [],
   "source": [
    "res2 = y_new - weibull(x_new, *pars2)"
   ],
   "metadata": {
    "collapsed": false,
    "pycharm": {
     "name": "#%%\n"
    }
   }
  },
  {
   "cell_type": "code",
   "execution_count": 1935,
   "outputs": [],
   "source": [
    "ss_res2 = np.sum(res2**2)"
   ],
   "metadata": {
    "collapsed": false,
    "pycharm": {
     "name": "#%%\n"
    }
   }
  },
  {
   "cell_type": "code",
   "execution_count": 1936,
   "outputs": [],
   "source": [
    "ss_tot2 = np.sum((y_new-np.mean(y_new))**2)"
   ],
   "metadata": {
    "collapsed": false,
    "pycharm": {
     "name": "#%%\n"
    }
   }
  },
  {
   "cell_type": "code",
   "execution_count": 1937,
   "outputs": [],
   "source": [
    "r_squared = 1-(ss_res/ss_tot)"
   ],
   "metadata": {
    "collapsed": false,
    "pycharm": {
     "name": "#%%\n"
    }
   }
  },
  {
   "cell_type": "code",
   "execution_count": 1938,
   "outputs": [
    {
     "data": {
      "text/plain": "0.9830633626477249"
     },
     "execution_count": 1938,
     "metadata": {},
     "output_type": "execute_result"
    }
   ],
   "source": [
    "r_squared"
   ],
   "metadata": {
    "collapsed": false,
    "pycharm": {
     "name": "#%%\n"
    }
   }
  },
  {
   "cell_type": "markdown",
   "source": [],
   "metadata": {
    "collapsed": false,
    "pycharm": {
     "name": "#%% md\n"
    }
   }
  },
  {
   "cell_type": "code",
   "execution_count": 1939,
   "outputs": [],
   "source": [
    "r_squared2 = 1-(ss_res2/ss_tot2)"
   ],
   "metadata": {
    "collapsed": false,
    "pycharm": {
     "name": "#%%\n"
    }
   }
  },
  {
   "cell_type": "code",
   "execution_count": 1940,
   "outputs": [
    {
     "data": {
      "text/plain": "0.9864741271892514"
     },
     "execution_count": 1940,
     "metadata": {},
     "output_type": "execute_result"
    }
   ],
   "source": [
    "r_squared2"
   ],
   "metadata": {
    "collapsed": false,
    "pycharm": {
     "name": "#%%\n"
    }
   }
  },
  {
   "cell_type": "code",
   "execution_count": 1941,
   "outputs": [
    {
     "data": {
      "text/plain": "array([1.13020003])"
     },
     "execution_count": 1941,
     "metadata": {},
     "output_type": "execute_result"
    }
   ],
   "source": [
    "pars"
   ],
   "metadata": {
    "collapsed": false,
    "pycharm": {
     "name": "#%%\n"
    }
   }
  },
  {
   "cell_type": "code",
   "execution_count": 1942,
   "outputs": [
    {
     "data": {
      "text/plain": "array([ 1.34644291, -2.3458247 ])"
     },
     "execution_count": 1942,
     "metadata": {},
     "output_type": "execute_result"
    }
   ],
   "source": [
    "pars2"
   ],
   "metadata": {
    "collapsed": false,
    "pycharm": {
     "name": "#%%\n"
    }
   }
  },
  {
   "cell_type": "code",
   "execution_count": 1042,
   "outputs": [],
   "source": [
    "test = dist.loc[500, :]"
   ],
   "metadata": {
    "collapsed": false,
    "pycharm": {
     "name": "#%%\n"
    }
   }
  },
  {
   "cell_type": "code",
   "execution_count": 1043,
   "outputs": [
    {
     "data": {
      "text/plain": "number_employees\n1     247\n2     119\n3      60\n4      32\n5      22\n6       8\n7       2\n8       1\n10      1\n17      1\ndtype: int64"
     },
     "execution_count": 1043,
     "metadata": {},
     "output_type": "execute_result"
    }
   ],
   "source": [
    "test"
   ],
   "metadata": {
    "collapsed": false,
    "pycharm": {
     "name": "#%%\n"
    }
   }
  },
  {
   "cell_type": "code",
   "execution_count": 915,
   "outputs": [],
   "source": [
    "frequency = test/test.sum()"
   ],
   "metadata": {
    "collapsed": false,
    "pycharm": {
     "name": "#%%\n"
    }
   }
  },
  {
   "cell_type": "code",
   "execution_count": 916,
   "outputs": [],
   "source": [
    "freq_df = frequency.reset_index(inplace=False)"
   ],
   "metadata": {
    "collapsed": false,
    "pycharm": {
     "name": "#%%\n"
    }
   }
  },
  {
   "cell_type": "code",
   "execution_count": 917,
   "outputs": [],
   "source": [
    "freq_df = freq_df.rename(columns={0:\"Frequency\"})"
   ],
   "metadata": {
    "collapsed": false,
    "pycharm": {
     "name": "#%%\n"
    }
   }
  },
  {
   "cell_type": "code",
   "execution_count": 918,
   "outputs": [
    {
     "data": {
      "text/plain": "    number_employees  Frequency\n0                  1   0.547206\n1                  2   0.238921\n2                  3   0.105973\n3                  4   0.057803\n4                  5   0.023121\n5                  6   0.007707\n6                  7   0.005780\n7                  8   0.005780\n8                  9   0.001927\n9                 11   0.001927\n10                12   0.001927\n11                22   0.001927",
      "text/html": "<div>\n<style scoped>\n    .dataframe tbody tr th:only-of-type {\n        vertical-align: middle;\n    }\n\n    .dataframe tbody tr th {\n        vertical-align: top;\n    }\n\n    .dataframe thead th {\n        text-align: right;\n    }\n</style>\n<table border=\"1\" class=\"dataframe\">\n  <thead>\n    <tr style=\"text-align: right;\">\n      <th></th>\n      <th>number_employees</th>\n      <th>Frequency</th>\n    </tr>\n  </thead>\n  <tbody>\n    <tr>\n      <th>0</th>\n      <td>1</td>\n      <td>0.547206</td>\n    </tr>\n    <tr>\n      <th>1</th>\n      <td>2</td>\n      <td>0.238921</td>\n    </tr>\n    <tr>\n      <th>2</th>\n      <td>3</td>\n      <td>0.105973</td>\n    </tr>\n    <tr>\n      <th>3</th>\n      <td>4</td>\n      <td>0.057803</td>\n    </tr>\n    <tr>\n      <th>4</th>\n      <td>5</td>\n      <td>0.023121</td>\n    </tr>\n    <tr>\n      <th>5</th>\n      <td>6</td>\n      <td>0.007707</td>\n    </tr>\n    <tr>\n      <th>6</th>\n      <td>7</td>\n      <td>0.005780</td>\n    </tr>\n    <tr>\n      <th>7</th>\n      <td>8</td>\n      <td>0.005780</td>\n    </tr>\n    <tr>\n      <th>8</th>\n      <td>9</td>\n      <td>0.001927</td>\n    </tr>\n    <tr>\n      <th>9</th>\n      <td>11</td>\n      <td>0.001927</td>\n    </tr>\n    <tr>\n      <th>10</th>\n      <td>12</td>\n      <td>0.001927</td>\n    </tr>\n    <tr>\n      <th>11</th>\n      <td>22</td>\n      <td>0.001927</td>\n    </tr>\n  </tbody>\n</table>\n</div>"
     },
     "execution_count": 918,
     "metadata": {},
     "output_type": "execute_result"
    }
   ],
   "source": [
    "freq_df"
   ],
   "metadata": {
    "collapsed": false,
    "pycharm": {
     "name": "#%%\n"
    }
   }
  },
  {
   "cell_type": "code",
   "execution_count": 919,
   "outputs": [
    {
     "data": {
      "text/plain": "<Figure size 539.643x333.518 with 1 Axes>",
      "image/png": "[encoded data removed]"
     },
     "metadata": {},
     "output_type": "display_data"
    }
   ],
   "source": [
    "fig, ax = plt.subplots(1, 1, figsize=set_size(width))\n",
    "#ax.set_ylim([0,0.4])\n",
    "#ax.set_xlim([0,100])\n",
    "ax.set_title(\"Output\")\n",
    "ticks = (1,5,10,20)\n",
    "ticksy = (0.001, 0.01, 0.1, 1)\n",
    "freq_df.plot(\"number_employees\",\"Frequency\",kind=\"scatter\", ax=ax, linewidth=0.75, alpha=0.8, loglog=True)\n",
    "ax.set_xticks(ticks=ticks)\n",
    "ax.set_xticklabels(labels=ticks)\n",
    "ax.set_yticks(ticks=ticksy)\n",
    "ax.set_yticklabels(labels=ticksy)\n",
    "plt.show()"
   ],
   "metadata": {
    "collapsed": false,
    "pycharm": {
     "name": "#%%\n"
    }
   }
  },
  {
   "cell_type": "markdown",
   "source": [
    "Overall Behavior of Agents, I (Population Cross-Section)"
   ],
   "metadata": {
    "collapsed": false,
    "pycharm": {
     "name": "#%% md\n"
    }
   }
  },
  {
   "cell_type": "code",
   "execution_count": 920,
   "outputs": [],
   "source": [
    "effort_dist = worker_dk[[\"t\", \"effort\"]].compute()\n",
    "dist_e = effort_dist.groupby([\"t\", \"effort\"]).size()"
   ],
   "metadata": {
    "collapsed": false,
    "pycharm": {
     "name": "#%%\n"
    }
   }
  },
  {
   "cell_type": "code",
   "execution_count": 921,
   "outputs": [
    {
     "data": {
      "text/plain": "t    effort  \n0    0.000000    161\n     0.000302      1\n     0.001578      1\n     0.003230      1\n     0.005677      1\n                ... \n999  0.998096      1\n     0.998708      1\n     0.998777      1\n     0.999090      1\n     0.999196      1\nLength: 615929, dtype: int64"
     },
     "execution_count": 921,
     "metadata": {},
     "output_type": "execute_result"
    }
   ],
   "source": [
    "dist_e"
   ],
   "metadata": {
    "collapsed": false,
    "pycharm": {
     "name": "#%%\n"
    }
   }
  },
  {
   "cell_type": "code",
   "execution_count": 922,
   "outputs": [
    {
     "ename": "KeyError",
     "evalue": "1020",
     "output_type": "error",
     "traceback": [
      "\u001B[1;31m---------------------------------------------------------------------------\u001B[0m",
      "\u001B[1;31mKeyError\u001B[0m                                  Traceback (most recent call last)",
      "File \u001B[1;32m~\\anaconda3\\envs\\abm-env\\lib\\site-packages\\pandas\\core\\indexes\\base.py:3629\u001B[0m, in \u001B[0;36mIndex.get_loc\u001B[1;34m(self, key, method, tolerance)\u001B[0m\n\u001B[0;32m   3628\u001B[0m \u001B[38;5;28;01mtry\u001B[39;00m:\n\u001B[1;32m-> 3629\u001B[0m     \u001B[38;5;28;01mreturn\u001B[39;00m \u001B[38;5;28;43mself\u001B[39;49m\u001B[38;5;241;43m.\u001B[39;49m\u001B[43m_engine\u001B[49m\u001B[38;5;241;43m.\u001B[39;49m\u001B[43mget_loc\u001B[49m\u001B[43m(\u001B[49m\u001B[43mcasted_key\u001B[49m\u001B[43m)\u001B[49m\n\u001B[0;32m   3630\u001B[0m \u001B[38;5;28;01mexcept\u001B[39;00m \u001B[38;5;167;01mKeyError\u001B[39;00m \u001B[38;5;28;01mas\u001B[39;00m err:\n",
      "File \u001B[1;32m~\\anaconda3\\envs\\abm-env\\lib\\site-packages\\pandas\\_libs\\index.pyx:136\u001B[0m, in \u001B[0;36mpandas._libs.index.IndexEngine.get_loc\u001B[1;34m()\u001B[0m\n",
      "File \u001B[1;32m~\\anaconda3\\envs\\abm-env\\lib\\site-packages\\pandas\\_libs\\index.pyx:163\u001B[0m, in \u001B[0;36mpandas._libs.index.IndexEngine.get_loc\u001B[1;34m()\u001B[0m\n",
      "File \u001B[1;32mpandas\\_libs\\hashtable_class_helper.pxi:2131\u001B[0m, in \u001B[0;36mpandas._libs.hashtable.Int64HashTable.get_item\u001B[1;34m()\u001B[0m\n",
      "File \u001B[1;32mpandas\\_libs\\hashtable_class_helper.pxi:2140\u001B[0m, in \u001B[0;36mpandas._libs.hashtable.Int64HashTable.get_item\u001B[1;34m()\u001B[0m\n",
      "\u001B[1;31mKeyError\u001B[0m: 1020",
      "\nThe above exception was the direct cause of the following exception:\n",
      "\u001B[1;31mKeyError\u001B[0m                                  Traceback (most recent call last)",
      "Input \u001B[1;32mIn [922]\u001B[0m, in \u001B[0;36m<cell line: 1>\u001B[1;34m()\u001B[0m\n\u001B[1;32m----> 1\u001B[0m dfs_e \u001B[38;5;241m=\u001B[39m \u001B[43msample_dist\u001B[49m\u001B[43m(\u001B[49m\u001B[43mdist_e\u001B[49m\u001B[43m,\u001B[49m\u001B[43m \u001B[49m\u001B[38;5;241;43m300\u001B[39;49m\u001B[43m,\u001B[49m\u001B[43m \u001B[49m\u001B[38;5;241;43m30\u001B[39;49m\u001B[43m,\u001B[49m\u001B[43m \u001B[49m\u001B[38;5;241;43m200\u001B[39;49m\u001B[43m)\u001B[49m\n\u001B[0;32m      3\u001B[0m df_e \u001B[38;5;241m=\u001B[39m reduce(\u001B[38;5;28;01mlambda\u001B[39;00m left, right: pd\u001B[38;5;241m.\u001B[39mmerge(left, right, on\u001B[38;5;241m=\u001B[39m[\u001B[38;5;124m\"\u001B[39m\u001B[38;5;124meffort\u001B[39m\u001B[38;5;124m\"\u001B[39m], how\u001B[38;5;241m=\u001B[39m\u001B[38;5;124m\"\u001B[39m\u001B[38;5;124mouter\u001B[39m\u001B[38;5;124m\"\u001B[39m), dfs_e)\n\u001B[0;32m      4\u001B[0m df_e[\u001B[38;5;124m'\u001B[39m\u001B[38;5;124mavg\u001B[39m\u001B[38;5;124m'\u001B[39m] \u001B[38;5;241m=\u001B[39m df_e\u001B[38;5;241m.\u001B[39miloc[:, \u001B[38;5;241m1\u001B[39m:]\u001B[38;5;241m.\u001B[39mmean(axis\u001B[38;5;241m=\u001B[39m\u001B[38;5;241m1\u001B[39m)\n",
      "Input \u001B[1;32mIn [878]\u001B[0m, in \u001B[0;36msample_dist\u001B[1;34m(dist, start, max_age, numb_samples)\u001B[0m\n\u001B[0;32m      3\u001B[0m \u001B[38;5;28;01mfor\u001B[39;00m x \u001B[38;5;129;01min\u001B[39;00m \u001B[38;5;28mrange\u001B[39m(numb_samples):\n\u001B[0;32m      4\u001B[0m     i \u001B[38;5;241m=\u001B[39m start \u001B[38;5;241m+\u001B[39m x \u001B[38;5;241m*\u001B[39m max_age\n\u001B[1;32m----> 5\u001B[0m     sample \u001B[38;5;241m=\u001B[39m \u001B[43mdist\u001B[49m\u001B[38;5;241;43m.\u001B[39;49m\u001B[43mloc\u001B[49m\u001B[43m[\u001B[49m\u001B[43mi\u001B[49m\u001B[43m,\u001B[49m\u001B[43m \u001B[49m\u001B[43m:\u001B[49m\u001B[43m]\u001B[49m\n\u001B[0;32m      6\u001B[0m     freq \u001B[38;5;241m=\u001B[39m sample \u001B[38;5;241m/\u001B[39m sample\u001B[38;5;241m.\u001B[39msum()\n\u001B[0;32m      7\u001B[0m     freq_df \u001B[38;5;241m=\u001B[39m freq\u001B[38;5;241m.\u001B[39mreset_index(inplace\u001B[38;5;241m=\u001B[39m\u001B[38;5;28;01mFalse\u001B[39;00m)\n",
      "File \u001B[1;32m~\\anaconda3\\envs\\abm-env\\lib\\site-packages\\pandas\\core\\indexing.py:961\u001B[0m, in \u001B[0;36m_LocationIndexer.__getitem__\u001B[1;34m(self, key)\u001B[0m\n\u001B[0;32m    959\u001B[0m     \u001B[38;5;28;01mif\u001B[39;00m \u001B[38;5;28mself\u001B[39m\u001B[38;5;241m.\u001B[39m_is_scalar_access(key):\n\u001B[0;32m    960\u001B[0m         \u001B[38;5;28;01mreturn\u001B[39;00m \u001B[38;5;28mself\u001B[39m\u001B[38;5;241m.\u001B[39mobj\u001B[38;5;241m.\u001B[39m_get_value(\u001B[38;5;241m*\u001B[39mkey, takeable\u001B[38;5;241m=\u001B[39m\u001B[38;5;28mself\u001B[39m\u001B[38;5;241m.\u001B[39m_takeable)\n\u001B[1;32m--> 961\u001B[0m     \u001B[38;5;28;01mreturn\u001B[39;00m \u001B[38;5;28;43mself\u001B[39;49m\u001B[38;5;241;43m.\u001B[39;49m\u001B[43m_getitem_tuple\u001B[49m\u001B[43m(\u001B[49m\u001B[43mkey\u001B[49m\u001B[43m)\u001B[49m\n\u001B[0;32m    962\u001B[0m \u001B[38;5;28;01melse\u001B[39;00m:\n\u001B[0;32m    963\u001B[0m     \u001B[38;5;66;03m# we by definition only have the 0th axis\u001B[39;00m\n\u001B[0;32m    964\u001B[0m     axis \u001B[38;5;241m=\u001B[39m \u001B[38;5;28mself\u001B[39m\u001B[38;5;241m.\u001B[39maxis \u001B[38;5;129;01mor\u001B[39;00m \u001B[38;5;241m0\u001B[39m\n",
      "File \u001B[1;32m~\\anaconda3\\envs\\abm-env\\lib\\site-packages\\pandas\\core\\indexing.py:1140\u001B[0m, in \u001B[0;36m_LocIndexer._getitem_tuple\u001B[1;34m(self, tup)\u001B[0m\n\u001B[0;32m   1138\u001B[0m \u001B[38;5;28;01mwith\u001B[39;00m suppress(IndexingError):\n\u001B[0;32m   1139\u001B[0m     tup \u001B[38;5;241m=\u001B[39m \u001B[38;5;28mself\u001B[39m\u001B[38;5;241m.\u001B[39m_expand_ellipsis(tup)\n\u001B[1;32m-> 1140\u001B[0m     \u001B[38;5;28;01mreturn\u001B[39;00m \u001B[38;5;28;43mself\u001B[39;49m\u001B[38;5;241;43m.\u001B[39;49m\u001B[43m_getitem_lowerdim\u001B[49m\u001B[43m(\u001B[49m\u001B[43mtup\u001B[49m\u001B[43m)\u001B[49m\n\u001B[0;32m   1142\u001B[0m \u001B[38;5;66;03m# no multi-index, so validate all of the indexers\u001B[39;00m\n\u001B[0;32m   1143\u001B[0m tup \u001B[38;5;241m=\u001B[39m \u001B[38;5;28mself\u001B[39m\u001B[38;5;241m.\u001B[39m_validate_tuple_indexer(tup)\n",
      "File \u001B[1;32m~\\anaconda3\\envs\\abm-env\\lib\\site-packages\\pandas\\core\\indexing.py:843\u001B[0m, in \u001B[0;36m_LocationIndexer._getitem_lowerdim\u001B[1;34m(self, tup)\u001B[0m\n\u001B[0;32m    841\u001B[0m \u001B[38;5;66;03m# we may have a nested tuples indexer here\u001B[39;00m\n\u001B[0;32m    842\u001B[0m \u001B[38;5;28;01mif\u001B[39;00m \u001B[38;5;28mself\u001B[39m\u001B[38;5;241m.\u001B[39m_is_nested_tuple_indexer(tup):\n\u001B[1;32m--> 843\u001B[0m     \u001B[38;5;28;01mreturn\u001B[39;00m \u001B[38;5;28;43mself\u001B[39;49m\u001B[38;5;241;43m.\u001B[39;49m\u001B[43m_getitem_nested_tuple\u001B[49m\u001B[43m(\u001B[49m\u001B[43mtup\u001B[49m\u001B[43m)\u001B[49m\n\u001B[0;32m    845\u001B[0m \u001B[38;5;66;03m# we maybe be using a tuple to represent multiple dimensions here\u001B[39;00m\n\u001B[0;32m    846\u001B[0m ax0 \u001B[38;5;241m=\u001B[39m \u001B[38;5;28mself\u001B[39m\u001B[38;5;241m.\u001B[39mobj\u001B[38;5;241m.\u001B[39m_get_axis(\u001B[38;5;241m0\u001B[39m)\n",
      "File \u001B[1;32m~\\anaconda3\\envs\\abm-env\\lib\\site-packages\\pandas\\core\\indexing.py:914\u001B[0m, in \u001B[0;36m_LocationIndexer._getitem_nested_tuple\u001B[1;34m(self, tup)\u001B[0m\n\u001B[0;32m    909\u001B[0m \u001B[38;5;28;01mif\u001B[39;00m \u001B[38;5;28mall\u001B[39m(is_hashable(x) \u001B[38;5;129;01mor\u001B[39;00m com\u001B[38;5;241m.\u001B[39mis_null_slice(x) \u001B[38;5;28;01mfor\u001B[39;00m x \u001B[38;5;129;01min\u001B[39;00m tup):\n\u001B[0;32m    910\u001B[0m     \u001B[38;5;66;03m# GH#10521 Series should reduce MultiIndex dimensions instead of\u001B[39;00m\n\u001B[0;32m    911\u001B[0m     \u001B[38;5;66;03m#  DataFrame, IndexingError is not raised when slice(None,None,None)\u001B[39;00m\n\u001B[0;32m    912\u001B[0m     \u001B[38;5;66;03m#  with one row.\u001B[39;00m\n\u001B[0;32m    913\u001B[0m     \u001B[38;5;28;01mwith\u001B[39;00m suppress(IndexingError):\n\u001B[1;32m--> 914\u001B[0m         \u001B[38;5;28;01mreturn\u001B[39;00m \u001B[38;5;28;43mself\u001B[39;49m\u001B[38;5;241;43m.\u001B[39;49m\u001B[43m_handle_lowerdim_multi_index_axis0\u001B[49m\u001B[43m(\u001B[49m\u001B[43mtup\u001B[49m\u001B[43m)\u001B[49m\n\u001B[0;32m    915\u001B[0m \u001B[38;5;28;01melif\u001B[39;00m \u001B[38;5;28misinstance\u001B[39m(\u001B[38;5;28mself\u001B[39m\u001B[38;5;241m.\u001B[39mobj, ABCSeries) \u001B[38;5;129;01mand\u001B[39;00m \u001B[38;5;28many\u001B[39m(\n\u001B[0;32m    916\u001B[0m     \u001B[38;5;28misinstance\u001B[39m(k, \u001B[38;5;28mtuple\u001B[39m) \u001B[38;5;28;01mfor\u001B[39;00m k \u001B[38;5;129;01min\u001B[39;00m tup\n\u001B[0;32m    917\u001B[0m ):\n\u001B[1;32m   (...)\u001B[0m\n\u001B[0;32m    921\u001B[0m     \u001B[38;5;66;03m#  that themselves contain a slice entry\u001B[39;00m\n\u001B[0;32m    922\u001B[0m     \u001B[38;5;66;03m# See test_loc_series_getitem_too_many_dimensions\u001B[39;00m\n\u001B[0;32m    923\u001B[0m     \u001B[38;5;28;01mraise\u001B[39;00m \u001B[38;5;167;01mValueError\u001B[39;00m(\u001B[38;5;124m\"\u001B[39m\u001B[38;5;124mToo many indices\u001B[39m\u001B[38;5;124m\"\u001B[39m)\n",
      "File \u001B[1;32m~\\anaconda3\\envs\\abm-env\\lib\\site-packages\\pandas\\core\\indexing.py:1166\u001B[0m, in \u001B[0;36m_LocIndexer._handle_lowerdim_multi_index_axis0\u001B[1;34m(self, tup)\u001B[0m\n\u001B[0;32m   1162\u001B[0m \u001B[38;5;28;01mexcept\u001B[39;00m \u001B[38;5;167;01mKeyError\u001B[39;00m \u001B[38;5;28;01mas\u001B[39;00m ek:\n\u001B[0;32m   1163\u001B[0m     \u001B[38;5;66;03m# raise KeyError if number of indexers match\u001B[39;00m\n\u001B[0;32m   1164\u001B[0m     \u001B[38;5;66;03m# else IndexingError will be raised\u001B[39;00m\n\u001B[0;32m   1165\u001B[0m     \u001B[38;5;28;01mif\u001B[39;00m \u001B[38;5;28mself\u001B[39m\u001B[38;5;241m.\u001B[39mndim \u001B[38;5;241m<\u001B[39m \u001B[38;5;28mlen\u001B[39m(tup) \u001B[38;5;241m<\u001B[39m\u001B[38;5;241m=\u001B[39m \u001B[38;5;28mself\u001B[39m\u001B[38;5;241m.\u001B[39mobj\u001B[38;5;241m.\u001B[39mindex\u001B[38;5;241m.\u001B[39mnlevels:\n\u001B[1;32m-> 1166\u001B[0m         \u001B[38;5;28;01mraise\u001B[39;00m ek\n\u001B[0;32m   1167\u001B[0m     \u001B[38;5;28;01mraise\u001B[39;00m IndexingError(\u001B[38;5;124m\"\u001B[39m\u001B[38;5;124mNo label returned\u001B[39m\u001B[38;5;124m\"\u001B[39m) \u001B[38;5;28;01mfrom\u001B[39;00m \u001B[38;5;21;01mek\u001B[39;00m\n",
      "File \u001B[1;32m~\\anaconda3\\envs\\abm-env\\lib\\site-packages\\pandas\\core\\indexing.py:1160\u001B[0m, in \u001B[0;36m_LocIndexer._handle_lowerdim_multi_index_axis0\u001B[1;34m(self, tup)\u001B[0m\n\u001B[0;32m   1157\u001B[0m axis \u001B[38;5;241m=\u001B[39m \u001B[38;5;28mself\u001B[39m\u001B[38;5;241m.\u001B[39maxis \u001B[38;5;129;01mor\u001B[39;00m \u001B[38;5;241m0\u001B[39m\n\u001B[0;32m   1158\u001B[0m \u001B[38;5;28;01mtry\u001B[39;00m:\n\u001B[0;32m   1159\u001B[0m     \u001B[38;5;66;03m# fast path for series or for tup devoid of slices\u001B[39;00m\n\u001B[1;32m-> 1160\u001B[0m     \u001B[38;5;28;01mreturn\u001B[39;00m \u001B[38;5;28;43mself\u001B[39;49m\u001B[38;5;241;43m.\u001B[39;49m\u001B[43m_get_label\u001B[49m\u001B[43m(\u001B[49m\u001B[43mtup\u001B[49m\u001B[43m,\u001B[49m\u001B[43m \u001B[49m\u001B[43maxis\u001B[49m\u001B[38;5;241;43m=\u001B[39;49m\u001B[43maxis\u001B[49m\u001B[43m)\u001B[49m\n\u001B[0;32m   1162\u001B[0m \u001B[38;5;28;01mexcept\u001B[39;00m \u001B[38;5;167;01mKeyError\u001B[39;00m \u001B[38;5;28;01mas\u001B[39;00m ek:\n\u001B[0;32m   1163\u001B[0m     \u001B[38;5;66;03m# raise KeyError if number of indexers match\u001B[39;00m\n\u001B[0;32m   1164\u001B[0m     \u001B[38;5;66;03m# else IndexingError will be raised\u001B[39;00m\n\u001B[0;32m   1165\u001B[0m     \u001B[38;5;28;01mif\u001B[39;00m \u001B[38;5;28mself\u001B[39m\u001B[38;5;241m.\u001B[39mndim \u001B[38;5;241m<\u001B[39m \u001B[38;5;28mlen\u001B[39m(tup) \u001B[38;5;241m<\u001B[39m\u001B[38;5;241m=\u001B[39m \u001B[38;5;28mself\u001B[39m\u001B[38;5;241m.\u001B[39mobj\u001B[38;5;241m.\u001B[39mindex\u001B[38;5;241m.\u001B[39mnlevels:\n",
      "File \u001B[1;32m~\\anaconda3\\envs\\abm-env\\lib\\site-packages\\pandas\\core\\indexing.py:1153\u001B[0m, in \u001B[0;36m_LocIndexer._get_label\u001B[1;34m(self, label, axis)\u001B[0m\n\u001B[0;32m   1151\u001B[0m \u001B[38;5;28;01mdef\u001B[39;00m \u001B[38;5;21m_get_label\u001B[39m(\u001B[38;5;28mself\u001B[39m, label, axis: \u001B[38;5;28mint\u001B[39m):\n\u001B[0;32m   1152\u001B[0m     \u001B[38;5;66;03m# GH#5667 this will fail if the label is not present in the axis.\u001B[39;00m\n\u001B[1;32m-> 1153\u001B[0m     \u001B[38;5;28;01mreturn\u001B[39;00m \u001B[38;5;28;43mself\u001B[39;49m\u001B[38;5;241;43m.\u001B[39;49m\u001B[43mobj\u001B[49m\u001B[38;5;241;43m.\u001B[39;49m\u001B[43mxs\u001B[49m\u001B[43m(\u001B[49m\u001B[43mlabel\u001B[49m\u001B[43m,\u001B[49m\u001B[43m \u001B[49m\u001B[43maxis\u001B[49m\u001B[38;5;241;43m=\u001B[39;49m\u001B[43maxis\u001B[49m\u001B[43m)\u001B[49m\n",
      "File \u001B[1;32m~\\anaconda3\\envs\\abm-env\\lib\\site-packages\\pandas\\core\\generic.py:3857\u001B[0m, in \u001B[0;36mNDFrame.xs\u001B[1;34m(self, key, axis, level, drop_level)\u001B[0m\n\u001B[0;32m   3854\u001B[0m \u001B[38;5;28mself\u001B[39m\u001B[38;5;241m.\u001B[39m_consolidate_inplace()\n\u001B[0;32m   3856\u001B[0m \u001B[38;5;28;01mif\u001B[39;00m \u001B[38;5;28misinstance\u001B[39m(index, MultiIndex):\n\u001B[1;32m-> 3857\u001B[0m     loc, new_index \u001B[38;5;241m=\u001B[39m \u001B[43mindex\u001B[49m\u001B[38;5;241;43m.\u001B[39;49m\u001B[43m_get_loc_level\u001B[49m\u001B[43m(\u001B[49m\u001B[43mkey\u001B[49m\u001B[43m,\u001B[49m\u001B[43m \u001B[49m\u001B[43mlevel\u001B[49m\u001B[38;5;241;43m=\u001B[39;49m\u001B[38;5;241;43m0\u001B[39;49m\u001B[43m)\u001B[49m\n\u001B[0;32m   3858\u001B[0m     \u001B[38;5;28;01mif\u001B[39;00m \u001B[38;5;129;01mnot\u001B[39;00m drop_level:\n\u001B[0;32m   3859\u001B[0m         \u001B[38;5;28;01mif\u001B[39;00m lib\u001B[38;5;241m.\u001B[39mis_integer(loc):\n",
      "File \u001B[1;32m~\\anaconda3\\envs\\abm-env\\lib\\site-packages\\pandas\\core\\indexes\\multi.py:3080\u001B[0m, in \u001B[0;36mMultiIndex._get_loc_level\u001B[1;34m(self, key, level)\u001B[0m\n\u001B[0;32m   3078\u001B[0m \u001B[38;5;28;01mfor\u001B[39;00m i, k \u001B[38;5;129;01min\u001B[39;00m \u001B[38;5;28menumerate\u001B[39m(key):\n\u001B[0;32m   3079\u001B[0m     \u001B[38;5;28;01mif\u001B[39;00m \u001B[38;5;129;01mnot\u001B[39;00m \u001B[38;5;28misinstance\u001B[39m(k, \u001B[38;5;28mslice\u001B[39m):\n\u001B[1;32m-> 3080\u001B[0m         loc_level \u001B[38;5;241m=\u001B[39m \u001B[38;5;28;43mself\u001B[39;49m\u001B[38;5;241;43m.\u001B[39;49m\u001B[43m_get_level_indexer\u001B[49m\u001B[43m(\u001B[49m\u001B[43mk\u001B[49m\u001B[43m,\u001B[49m\u001B[43m \u001B[49m\u001B[43mlevel\u001B[49m\u001B[38;5;241;43m=\u001B[39;49m\u001B[43mi\u001B[49m\u001B[43m)\u001B[49m\n\u001B[0;32m   3081\u001B[0m         \u001B[38;5;28;01mif\u001B[39;00m \u001B[38;5;28misinstance\u001B[39m(loc_level, \u001B[38;5;28mslice\u001B[39m):\n\u001B[0;32m   3082\u001B[0m             \u001B[38;5;28;01mif\u001B[39;00m com\u001B[38;5;241m.\u001B[39mis_null_slice(loc_level) \u001B[38;5;129;01mor\u001B[39;00m com\u001B[38;5;241m.\u001B[39mis_full_slice(\n\u001B[0;32m   3083\u001B[0m                 loc_level, \u001B[38;5;28mlen\u001B[39m(\u001B[38;5;28mself\u001B[39m)\n\u001B[0;32m   3084\u001B[0m             ):\n\u001B[0;32m   3085\u001B[0m                 \u001B[38;5;66;03m# everything\u001B[39;00m\n",
      "File \u001B[1;32m~\\anaconda3\\envs\\abm-env\\lib\\site-packages\\pandas\\core\\indexes\\multi.py:3222\u001B[0m, in \u001B[0;36mMultiIndex._get_level_indexer\u001B[1;34m(self, key, level, indexer)\u001B[0m\n\u001B[0;32m   3218\u001B[0m         \u001B[38;5;28;01mreturn\u001B[39;00m \u001B[38;5;28mslice\u001B[39m(i, j, step)\n\u001B[0;32m   3220\u001B[0m \u001B[38;5;28;01melse\u001B[39;00m:\n\u001B[1;32m-> 3222\u001B[0m     idx \u001B[38;5;241m=\u001B[39m \u001B[38;5;28;43mself\u001B[39;49m\u001B[38;5;241;43m.\u001B[39;49m\u001B[43m_get_loc_single_level_index\u001B[49m\u001B[43m(\u001B[49m\u001B[43mlevel_index\u001B[49m\u001B[43m,\u001B[49m\u001B[43m \u001B[49m\u001B[43mkey\u001B[49m\u001B[43m)\u001B[49m\n\u001B[0;32m   3224\u001B[0m     \u001B[38;5;28;01mif\u001B[39;00m level \u001B[38;5;241m>\u001B[39m \u001B[38;5;241m0\u001B[39m \u001B[38;5;129;01mor\u001B[39;00m \u001B[38;5;28mself\u001B[39m\u001B[38;5;241m.\u001B[39m_lexsort_depth \u001B[38;5;241m==\u001B[39m \u001B[38;5;241m0\u001B[39m:\n\u001B[0;32m   3225\u001B[0m         \u001B[38;5;66;03m# Desired level is not sorted\u001B[39;00m\n\u001B[0;32m   3226\u001B[0m         \u001B[38;5;28;01mif\u001B[39;00m \u001B[38;5;28misinstance\u001B[39m(idx, \u001B[38;5;28mslice\u001B[39m):\n\u001B[0;32m   3227\u001B[0m             \u001B[38;5;66;03m# test_get_loc_partial_timestamp_multiindex\u001B[39;00m\n",
      "File \u001B[1;32m~\\anaconda3\\envs\\abm-env\\lib\\site-packages\\pandas\\core\\indexes\\multi.py:2802\u001B[0m, in \u001B[0;36mMultiIndex._get_loc_single_level_index\u001B[1;34m(self, level_index, key)\u001B[0m\n\u001B[0;32m   2800\u001B[0m     \u001B[38;5;28;01mreturn\u001B[39;00m \u001B[38;5;241m-\u001B[39m\u001B[38;5;241m1\u001B[39m\n\u001B[0;32m   2801\u001B[0m \u001B[38;5;28;01melse\u001B[39;00m:\n\u001B[1;32m-> 2802\u001B[0m     \u001B[38;5;28;01mreturn\u001B[39;00m \u001B[43mlevel_index\u001B[49m\u001B[38;5;241;43m.\u001B[39;49m\u001B[43mget_loc\u001B[49m\u001B[43m(\u001B[49m\u001B[43mkey\u001B[49m\u001B[43m)\u001B[49m\n",
      "File \u001B[1;32m~\\anaconda3\\envs\\abm-env\\lib\\site-packages\\pandas\\core\\indexes\\base.py:3631\u001B[0m, in \u001B[0;36mIndex.get_loc\u001B[1;34m(self, key, method, tolerance)\u001B[0m\n\u001B[0;32m   3629\u001B[0m     \u001B[38;5;28;01mreturn\u001B[39;00m \u001B[38;5;28mself\u001B[39m\u001B[38;5;241m.\u001B[39m_engine\u001B[38;5;241m.\u001B[39mget_loc(casted_key)\n\u001B[0;32m   3630\u001B[0m \u001B[38;5;28;01mexcept\u001B[39;00m \u001B[38;5;167;01mKeyError\u001B[39;00m \u001B[38;5;28;01mas\u001B[39;00m err:\n\u001B[1;32m-> 3631\u001B[0m     \u001B[38;5;28;01mraise\u001B[39;00m \u001B[38;5;167;01mKeyError\u001B[39;00m(key) \u001B[38;5;28;01mfrom\u001B[39;00m \u001B[38;5;21;01merr\u001B[39;00m\n\u001B[0;32m   3632\u001B[0m \u001B[38;5;28;01mexcept\u001B[39;00m \u001B[38;5;167;01mTypeError\u001B[39;00m:\n\u001B[0;32m   3633\u001B[0m     \u001B[38;5;66;03m# If we have a listlike key, _check_indexing_error will raise\u001B[39;00m\n\u001B[0;32m   3634\u001B[0m     \u001B[38;5;66;03m#  InvalidIndexError. Otherwise we fall through and re-raise\u001B[39;00m\n\u001B[0;32m   3635\u001B[0m     \u001B[38;5;66;03m#  the TypeError.\u001B[39;00m\n\u001B[0;32m   3636\u001B[0m     \u001B[38;5;28mself\u001B[39m\u001B[38;5;241m.\u001B[39m_check_indexing_error(key)\n",
      "\u001B[1;31mKeyError\u001B[0m: 1020"
     ]
    }
   ],
   "source": [
    "dfs_e = sample_dist(dist_e, 300, 30, 200)\n",
    "\n",
    "df_e = reduce(lambda left, right: pd.merge(left, right, on=[\"effort\"], how=\"outer\"), dfs_e)\n",
    "df_e['avg'] = df_e.iloc[:, 1:].mean(axis=1)\n",
    "df_e = df_e.iloc[1:, :]\n",
    "dfplot_e = df_e[[\"effort\", \"avg\"]]\n",
    "x_effort = df_e[\"effort\"].values.tolist()\n",
    "y_frequency_e = df3[\"avg\"].values.tolist()"
   ],
   "metadata": {
    "collapsed": false,
    "pycharm": {
     "name": "#%%\n"
    }
   }
  },
  {
   "cell_type": "code",
   "execution_count": 923,
   "outputs": [
    {
     "ename": "NameError",
     "evalue": "name 'y_frequency_e' is not defined",
     "output_type": "error",
     "traceback": [
      "\u001B[1;31m---------------------------------------------------------------------------\u001B[0m",
      "\u001B[1;31mNameError\u001B[0m                                 Traceback (most recent call last)",
      "Input \u001B[1;32mIn [923]\u001B[0m, in \u001B[0;36m<cell line: 1>\u001B[1;34m()\u001B[0m\n\u001B[1;32m----> 1\u001B[0m \u001B[43my_frequency_e\u001B[49m\n",
      "\u001B[1;31mNameError\u001B[0m: name 'y_frequency_e' is not defined"
     ]
    }
   ],
   "source": [
    "y_frequency_e"
   ],
   "metadata": {
    "collapsed": false,
    "pycharm": {
     "name": "#%%\n"
    }
   }
  },
  {
   "cell_type": "code",
   "execution_count": 924,
   "outputs": [
    {
     "ename": "NameError",
     "evalue": "name 'dfplot_e' is not defined",
     "output_type": "error",
     "traceback": [
      "\u001B[1;31m---------------------------------------------------------------------------\u001B[0m",
      "\u001B[1;31mNameError\u001B[0m                                 Traceback (most recent call last)",
      "Input \u001B[1;32mIn [924]\u001B[0m, in \u001B[0;36m<cell line: 5>\u001B[1;34m()\u001B[0m\n\u001B[0;32m      3\u001B[0m ax\u001B[38;5;241m.\u001B[39mset_xlim([\u001B[38;5;241m0\u001B[39m,\u001B[38;5;241m1\u001B[39m])\n\u001B[0;32m      4\u001B[0m ax\u001B[38;5;241m.\u001B[39mset_title(\u001B[38;5;124m\"\u001B[39m\u001B[38;5;124mEffort Dist\u001B[39m\u001B[38;5;124m\"\u001B[39m)\n\u001B[1;32m----> 5\u001B[0m \u001B[43mdfplot_e\u001B[49m\u001B[38;5;241m.\u001B[39mplot(\u001B[38;5;124m\"\u001B[39m\u001B[38;5;124meffort\u001B[39m\u001B[38;5;124m\"\u001B[39m,\u001B[38;5;124m\"\u001B[39m\u001B[38;5;124mavg\u001B[39m\u001B[38;5;124m\"\u001B[39m,kind\u001B[38;5;241m=\u001B[39m\u001B[38;5;124m\"\u001B[39m\u001B[38;5;124mscatter\u001B[39m\u001B[38;5;124m\"\u001B[39m, ax\u001B[38;5;241m=\u001B[39max, linewidth\u001B[38;5;241m=\u001B[39m\u001B[38;5;241m0.75\u001B[39m, alpha\u001B[38;5;241m=\u001B[39m\u001B[38;5;241m0.8\u001B[39m)\n\u001B[0;32m      6\u001B[0m plt\u001B[38;5;241m.\u001B[39mshow()\n",
      "\u001B[1;31mNameError\u001B[0m: name 'dfplot_e' is not defined"
     ]
    },
    {
     "data": {
      "text/plain": "<Figure size 539.643x333.518 with 1 Axes>",
      "image/png": "[encoded data removed]"
     },
     "metadata": {},
     "output_type": "display_data"
    }
   ],
   "source": [
    "fig, ax = plt.subplots(1, 1, figsize=set_size(width))\n",
    "ax.set_ylim([0,0.02])\n",
    "ax.set_xlim([0,1])\n",
    "ax.set_title(\"Effort Dist\")\n",
    "dfplot_e.plot(\"effort\",\"avg\",kind=\"scatter\", ax=ax, linewidth=0.75, alpha=0.8)\n",
    "plt.show()"
   ],
   "metadata": {
    "collapsed": false,
    "pycharm": {
     "name": "#%%\n"
    }
   }
  },
  {
   "cell_type": "code",
   "execution_count": null,
   "outputs": [],
   "source": [],
   "metadata": {
    "collapsed": false,
    "pycharm": {
     "name": "#%%\n"
    }
   }
  }
 ],
 "metadata": {
  "kernelspec": {
   "display_name": "Python 3",
   "language": "python",
   "name": "python3"
  },
  "language_info": {
   "codemirror_mode": {
    "name": "ipython",
    "version": 2
   },
   "file_extension": ".py",
   "mimetype": "text/x-python",
   "name": "python",
   "nbconvert_exporter": "python",
   "pygments_lexer": "ipython2",
   "version": "2.7.6"
  }
 },
 "nbformat": 4,
 "nbformat_minor": 0
}