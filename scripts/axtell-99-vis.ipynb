{
 "cells": [
  {
   "cell_type": "markdown",
   "source": [
    "Skript to Visualize and Replicate Axtell 99"
   ],
   "metadata": {
    "collapsed": false,
    "pycharm": {
     "name": "#%% md\n"
    }
   }
  },
  {
   "cell_type": "code",
   "execution_count": 762,
   "outputs": [],
   "source": [
    "import matplotlib.pyplot as plt\n",
    "import dask.dataframe as dd\n",
    "import pandas as pd\n",
    "import scipy.signal\n",
    "import numpy as np"
   ],
   "metadata": {
    "collapsed": false,
    "pycharm": {
     "name": "#%%\n"
    }
   }
  },
  {
   "cell_type": "code",
   "execution_count": 763,
   "outputs": [],
   "source": [
    "out_dir = \"../results/axtell_99\""
   ],
   "metadata": {
    "collapsed": false,
    "pycharm": {
     "name": "#%%\n"
    }
   }
  },
  {
   "cell_type": "code",
   "execution_count": 764,
   "outputs": [],
   "source": [
    "opttype = 1"
   ],
   "metadata": {
    "collapsed": false,
    "pycharm": {
     "name": "#%%\n"
    }
   }
  },
  {
   "cell_type": "code",
   "execution_count": 1379,
   "outputs": [],
   "source": [
    "run = 999"
   ],
   "metadata": {
    "collapsed": false,
    "pycharm": {
     "name": "#%%\n"
    }
   }
  },
  {
   "cell_type": "code",
   "execution_count": 1380,
   "outputs": [],
   "source": [
    "def set_size(width, fraction=1):\n",
    "    \"\"\"Set figure dimensions to avoid scaling in LaTeX.\n",
    "\n",
    "    Parameters\n",
    "    ----------\n",
    "    width: float\n",
    "            Document textwidth or columnwidth in pts\n",
    "    fraction: float, optional\n",
    "            Fraction of the width which you wish the figure to occupy\n",
    "\n",
    "    Returns\n",
    "    -------\n",
    "    fig_dim: tuple\n",
    "            Dimensions of figure in inches\n",
    "    \"\"\"\n",
    "    # Width of figure (in pts)\n",
    "    fig_width_pt = width * fraction\n",
    "\n",
    "    # Convert from pt to inches\n",
    "    inches_per_pt = 1 / 72.27\n",
    "\n",
    "    # Golden ratio to set aesthetic figure height\n",
    "    # https://disq.us/p/2940ij3\n",
    "    golden_ratio = (5**.5 - 1) / 2\n",
    "\n",
    "    # Figure width in inches\n",
    "    fig_width_in = fig_width_pt * inches_per_pt\n",
    "    # Figure height in inches\n",
    "    fig_height_in = fig_width_in * golden_ratio\n",
    "\n",
    "    fig_dim = (fig_width_in, fig_height_in)\n",
    "\n",
    "    return fig_dim"
   ],
   "metadata": {
    "collapsed": false,
    "pycharm": {
     "name": "#%%\n"
    }
   }
  },
  {
   "cell_type": "code",
   "execution_count": 1381,
   "outputs": [],
   "source": [
    "path_f = f\"{out_dir}/res_firm_agent_run{run}_opttype{opttype}.csv.gz\""
   ],
   "metadata": {
    "collapsed": false,
    "pycharm": {
     "name": "#%%\n"
    }
   }
  },
  {
   "cell_type": "code",
   "execution_count": 1382,
   "outputs": [],
   "source": [
    "path_w = f\"{out_dir}/res_worker_agent_run{run}_opttype{opttype}.csv.gz\""
   ],
   "metadata": {
    "collapsed": false,
    "pycharm": {
     "name": "#%%\n"
    }
   }
  },
  {
   "cell_type": "code",
   "execution_count": 1383,
   "outputs": [],
   "source": [
    "path_m = f\"{out_dir}/res_model_agent_run{run}_opttype{opttype}.csv.gz\""
   ],
   "metadata": {
    "collapsed": false,
    "pycharm": {
     "name": "#%%\n"
    }
   }
  },
  {
   "cell_type": "code",
   "execution_count": 1384,
   "outputs": [],
   "source": [
    "model_dk = dd.read_csv(path_m, blocksize=None)"
   ],
   "metadata": {
    "collapsed": false,
    "pycharm": {
     "name": "#%%\n"
    }
   }
  },
  {
   "cell_type": "code",
   "execution_count": 1385,
   "outputs": [],
   "source": [
    "worker_dk = dd.read_csv(path_w, blocksize=None)"
   ],
   "metadata": {
    "collapsed": false,
    "pycharm": {
     "name": "#%%\n"
    }
   }
  },
  {
   "cell_type": "code",
   "execution_count": 1386,
   "outputs": [],
   "source": [
    "stats = worker_dk[worker_dk[\"t\"]== 0].compute()"
   ],
   "metadata": {
    "collapsed": false,
    "pycharm": {
     "name": "#%%\n"
    }
   }
  },
  {
   "cell_type": "code",
   "execution_count": 1387,
   "outputs": [
    {
     "data": {
      "text/plain": "     t    id    effort    wealth    income job_event  tenure  preference\n0    0     1  0.741913  1.292348  1.292348      stay       1    0.792383\n1    0     3  0.898929  1.707004  1.707004      None       1    0.857884\n2    0     5  0.739738  1.286950  1.286950      None       1    0.666032\n3    0     7  0.545679  0.421722  0.421722      None       1    0.470254\n4    0     9  0.000000  0.421722  0.421722      stay       1    0.102449\n..  ..   ...       ...       ...       ...       ...     ...         ...\n995  0  1991  0.772301  1.368750  1.368750      None       1    0.702588\n996  0  1993  0.928234  1.789851  1.789851      stay       1    0.940850\n997  0  1995  0.773111  1.370812  1.370812      None       1    0.703514\n998  0  1997  0.977985  1.934439  1.934439      None       1    0.967454\n999  0  1999  0.910455  1.739383  1.739383      stay       1    0.926387\n\n[1000 rows x 8 columns]",
      "text/html": "<div>\n<style scoped>\n    .dataframe tbody tr th:only-of-type {\n        vertical-align: middle;\n    }\n\n    .dataframe tbody tr th {\n        vertical-align: top;\n    }\n\n    .dataframe thead th {\n        text-align: right;\n    }\n</style>\n<table border=\"1\" class=\"dataframe\">\n  <thead>\n    <tr style=\"text-align: right;\">\n      <th></th>\n      <th>t</th>\n      <th>id</th>\n      <th>effort</th>\n      <th>wealth</th>\n      <th>income</th>\n      <th>job_event</th>\n      <th>tenure</th>\n      <th>preference</th>\n    </tr>\n  </thead>\n  <tbody>\n    <tr>\n      <th>0</th>\n      <td>0</td>\n      <td>1</td>\n      <td>0.741913</td>\n      <td>1.292348</td>\n      <td>1.292348</td>\n      <td>stay</td>\n      <td>1</td>\n      <td>0.792383</td>\n    </tr>\n    <tr>\n      <th>1</th>\n      <td>0</td>\n      <td>3</td>\n      <td>0.898929</td>\n      <td>1.707004</td>\n      <td>1.707004</td>\n      <td>None</td>\n      <td>1</td>\n      <td>0.857884</td>\n    </tr>\n    <tr>\n      <th>2</th>\n      <td>0</td>\n      <td>5</td>\n      <td>0.739738</td>\n      <td>1.286950</td>\n      <td>1.286950</td>\n      <td>None</td>\n      <td>1</td>\n      <td>0.666032</td>\n    </tr>\n    <tr>\n      <th>3</th>\n      <td>0</td>\n      <td>7</td>\n      <td>0.545679</td>\n      <td>0.421722</td>\n      <td>0.421722</td>\n      <td>None</td>\n      <td>1</td>\n      <td>0.470254</td>\n    </tr>\n    <tr>\n      <th>4</th>\n      <td>0</td>\n      <td>9</td>\n      <td>0.000000</td>\n      <td>0.421722</td>\n      <td>0.421722</td>\n      <td>stay</td>\n      <td>1</td>\n      <td>0.102449</td>\n    </tr>\n    <tr>\n      <th>...</th>\n      <td>...</td>\n      <td>...</td>\n      <td>...</td>\n      <td>...</td>\n      <td>...</td>\n      <td>...</td>\n      <td>...</td>\n      <td>...</td>\n    </tr>\n    <tr>\n      <th>995</th>\n      <td>0</td>\n      <td>1991</td>\n      <td>0.772301</td>\n      <td>1.368750</td>\n      <td>1.368750</td>\n      <td>None</td>\n      <td>1</td>\n      <td>0.702588</td>\n    </tr>\n    <tr>\n      <th>996</th>\n      <td>0</td>\n      <td>1993</td>\n      <td>0.928234</td>\n      <td>1.789851</td>\n      <td>1.789851</td>\n      <td>stay</td>\n      <td>1</td>\n      <td>0.940850</td>\n    </tr>\n    <tr>\n      <th>997</th>\n      <td>0</td>\n      <td>1995</td>\n      <td>0.773111</td>\n      <td>1.370812</td>\n      <td>1.370812</td>\n      <td>None</td>\n      <td>1</td>\n      <td>0.703514</td>\n    </tr>\n    <tr>\n      <th>998</th>\n      <td>0</td>\n      <td>1997</td>\n      <td>0.977985</td>\n      <td>1.934439</td>\n      <td>1.934439</td>\n      <td>None</td>\n      <td>1</td>\n      <td>0.967454</td>\n    </tr>\n    <tr>\n      <th>999</th>\n      <td>0</td>\n      <td>1999</td>\n      <td>0.910455</td>\n      <td>1.739383</td>\n      <td>1.739383</td>\n      <td>stay</td>\n      <td>1</td>\n      <td>0.926387</td>\n    </tr>\n  </tbody>\n</table>\n<p>1000 rows × 8 columns</p>\n</div>"
     },
     "execution_count": 1387,
     "metadata": {},
     "output_type": "execute_result"
    }
   ],
   "source": [
    "stats"
   ],
   "metadata": {
    "collapsed": false,
    "pycharm": {
     "name": "#%%\n"
    }
   }
  },
  {
   "cell_type": "code",
   "execution_count": 1388,
   "outputs": [],
   "source": [
    "worker_df = worker_dk.groupby(\"t\").mean().compute()"
   ],
   "metadata": {
    "collapsed": false,
    "pycharm": {
     "name": "#%%\n"
    }
   }
  },
  {
   "cell_type": "code",
   "execution_count": 1389,
   "outputs": [
    {
     "data": {
      "text/plain": "         id    effort      wealth    income  tenure  preference\nt                                                              \n0    1000.0  0.435652    0.747900  0.747900   1.000     0.49695\n1    1000.0  0.398698    1.539950  0.792050   1.510     0.49695\n2    1000.0  0.375605    2.319786  0.779836   1.813     0.49695\n3    1000.0  0.364436    3.076487  0.756701   1.949     0.49695\n4    1000.0  0.361572    3.851082  0.774595   2.039     0.49695\n..      ...       ...         ...       ...     ...         ...\n995  1000.0  0.346607  769.051630  0.784469   2.275     0.49695\n996  1000.0  0.348095  769.805749  0.754120   2.228     0.49695\n997  1000.0  0.351392  770.554686  0.748937   2.228     0.49695\n998  1000.0  0.355861  771.309382  0.754696   2.242     0.49695\n999  1000.0  0.356393  772.075493  0.766111   2.150     0.49695\n\n[1000 rows x 6 columns]",
      "text/html": "<div>\n<style scoped>\n    .dataframe tbody tr th:only-of-type {\n        vertical-align: middle;\n    }\n\n    .dataframe tbody tr th {\n        vertical-align: top;\n    }\n\n    .dataframe thead th {\n        text-align: right;\n    }\n</style>\n<table border=\"1\" class=\"dataframe\">\n  <thead>\n    <tr style=\"text-align: right;\">\n      <th></th>\n      <th>id</th>\n      <th>effort</th>\n      <th>wealth</th>\n      <th>income</th>\n      <th>tenure</th>\n      <th>preference</th>\n    </tr>\n    <tr>\n      <th>t</th>\n      <th></th>\n      <th></th>\n      <th></th>\n      <th></th>\n      <th></th>\n      <th></th>\n    </tr>\n  </thead>\n  <tbody>\n    <tr>\n      <th>0</th>\n      <td>1000.0</td>\n      <td>0.435652</td>\n      <td>0.747900</td>\n      <td>0.747900</td>\n      <td>1.000</td>\n      <td>0.49695</td>\n    </tr>\n    <tr>\n      <th>1</th>\n      <td>1000.0</td>\n      <td>0.398698</td>\n      <td>1.539950</td>\n      <td>0.792050</td>\n      <td>1.510</td>\n      <td>0.49695</td>\n    </tr>\n    <tr>\n      <th>2</th>\n      <td>1000.0</td>\n      <td>0.375605</td>\n      <td>2.319786</td>\n      <td>0.779836</td>\n      <td>1.813</td>\n      <td>0.49695</td>\n    </tr>\n    <tr>\n      <th>3</th>\n      <td>1000.0</td>\n      <td>0.364436</td>\n      <td>3.076487</td>\n      <td>0.756701</td>\n      <td>1.949</td>\n      <td>0.49695</td>\n    </tr>\n    <tr>\n      <th>4</th>\n      <td>1000.0</td>\n      <td>0.361572</td>\n      <td>3.851082</td>\n      <td>0.774595</td>\n      <td>2.039</td>\n      <td>0.49695</td>\n    </tr>\n    <tr>\n      <th>...</th>\n      <td>...</td>\n      <td>...</td>\n      <td>...</td>\n      <td>...</td>\n      <td>...</td>\n      <td>...</td>\n    </tr>\n    <tr>\n      <th>995</th>\n      <td>1000.0</td>\n      <td>0.346607</td>\n      <td>769.051630</td>\n      <td>0.784469</td>\n      <td>2.275</td>\n      <td>0.49695</td>\n    </tr>\n    <tr>\n      <th>996</th>\n      <td>1000.0</td>\n      <td>0.348095</td>\n      <td>769.805749</td>\n      <td>0.754120</td>\n      <td>2.228</td>\n      <td>0.49695</td>\n    </tr>\n    <tr>\n      <th>997</th>\n      <td>1000.0</td>\n      <td>0.351392</td>\n      <td>770.554686</td>\n      <td>0.748937</td>\n      <td>2.228</td>\n      <td>0.49695</td>\n    </tr>\n    <tr>\n      <th>998</th>\n      <td>1000.0</td>\n      <td>0.355861</td>\n      <td>771.309382</td>\n      <td>0.754696</td>\n      <td>2.242</td>\n      <td>0.49695</td>\n    </tr>\n    <tr>\n      <th>999</th>\n      <td>1000.0</td>\n      <td>0.356393</td>\n      <td>772.075493</td>\n      <td>0.766111</td>\n      <td>2.150</td>\n      <td>0.49695</td>\n    </tr>\n  </tbody>\n</table>\n<p>1000 rows × 6 columns</p>\n</div>"
     },
     "execution_count": 1389,
     "metadata": {},
     "output_type": "execute_result"
    }
   ],
   "source": [
    "worker_df"
   ],
   "metadata": {
    "collapsed": false,
    "pycharm": {
     "name": "#%%\n"
    }
   }
  },
  {
   "cell_type": "code",
   "execution_count": 1390,
   "outputs": [],
   "source": [
    "firm_dk = dd.read_csv(path_f, blocksize=None , dtype={\n",
    "    \"t\": \"int16\",\n",
    "    \"id\": \"int32\",\n",
    "    \"age\": \"int16\",\n",
    "    \"number_employees\": \"int32\",\n",
    "    \"total_effort\": \"float64\",\n",
    "    \"output\": \"float64\",\n",
    "    \"average_pref\": \"float64\"}\n",
    ")"
   ],
   "metadata": {
    "collapsed": false,
    "pycharm": {
     "name": "#%%\n"
    }
   }
  },
  {
   "cell_type": "code",
   "execution_count": 1391,
   "outputs": [],
   "source": [
    "df = model_dk.compute()"
   ],
   "metadata": {
    "collapsed": false,
    "pycharm": {
     "name": "#%%\n"
    }
   }
  },
  {
   "cell_type": "code",
   "execution_count": 1392,
   "outputs": [],
   "source": [
    "average_number_of_firms = df[\"total_firms\"].mean()"
   ],
   "metadata": {
    "collapsed": false,
    "pycharm": {
     "name": "#%%\n"
    }
   }
  },
  {
   "cell_type": "code",
   "execution_count": 1393,
   "outputs": [
    {
     "data": {
      "text/plain": "534.022"
     },
     "execution_count": 1393,
     "metadata": {},
     "output_type": "execute_result"
    }
   ],
   "source": [
    "average_number_of_firms"
   ],
   "metadata": {
    "collapsed": false,
    "pycharm": {
     "name": "#%%\n"
    }
   }
  },
  {
   "cell_type": "code",
   "execution_count": 1394,
   "outputs": [],
   "source": [
    "firm_number = firm_dk.groupby(firm_dk.t).t.size().mean()"
   ],
   "metadata": {
    "collapsed": false,
    "pycharm": {
     "name": "#%%\n"
    }
   }
  },
  {
   "cell_type": "code",
   "execution_count": 1395,
   "outputs": [],
   "source": [
    "workers_check = firm_dk.groupby(\"t\").number_employees.sum().compute()"
   ],
   "metadata": {
    "collapsed": false,
    "pycharm": {
     "name": "#%%\n"
    }
   }
  },
  {
   "cell_type": "code",
   "execution_count": 1396,
   "outputs": [
    {
     "data": {
      "text/plain": "t\n0      1000\n1      1000\n2      1000\n3      1000\n4      1000\n       ... \n995    1000\n996    1000\n997    1000\n998    1000\n999    1000\nName: number_employees, Length: 1000, dtype: int32"
     },
     "execution_count": 1396,
     "metadata": {},
     "output_type": "execute_result"
    }
   ],
   "source": [
    "workers_check"
   ],
   "metadata": {
    "collapsed": false,
    "pycharm": {
     "name": "#%%\n"
    }
   }
  },
  {
   "cell_type": "code",
   "execution_count": 1397,
   "outputs": [
    {
     "data": {
      "text/plain": "534.022"
     },
     "execution_count": 1397,
     "metadata": {},
     "output_type": "execute_result"
    }
   ],
   "source": [
    "firm_number.compute()"
   ],
   "metadata": {
    "collapsed": false,
    "pycharm": {
     "name": "#%%\n"
    }
   }
  },
  {
   "cell_type": "code",
   "execution_count": 1398,
   "outputs": [],
   "source": [
    "width = 390"
   ],
   "metadata": {
    "collapsed": false,
    "pycharm": {
     "name": "#%%\n"
    }
   }
  },
  {
   "cell_type": "code",
   "execution_count": 1399,
   "outputs": [
    {
     "data": {
      "text/plain": "<Figure size 539.643x333.518 with 1 Axes>",
      "image/png": "[encoded data removed]"
     },
     "metadata": {},
     "output_type": "display_data"
    }
   ],
   "source": [
    "fig, ax = plt.subplots(1, 1, figsize=set_size(width))\n",
    "ax.set_ylim([0,700])\n",
    "ax.set_xlim([0,1000])\n",
    "df.plot(kind=\"line\", y = \"total_firms\", x=\"t\", ax=ax, linewidth=0.75, alpha=0.8)\n",
    "df.plot(kind=\"line\", y = \"numb_new_firms\", x=\"t\", color=\"darkgreen\", ax=ax, linewidth=0.75, alpha=0.8)\n",
    "plt.show()"
   ],
   "metadata": {
    "collapsed": false,
    "pycharm": {
     "name": "#%%\n"
    }
   }
  },
  {
   "cell_type": "code",
   "execution_count": 1400,
   "outputs": [
    {
     "data": {
      "text/plain": "<Figure size 539.643x333.518 with 1 Axes>",
      "image/png": "[encoded data removed]"
     },
     "metadata": {},
     "output_type": "display_data"
    }
   ],
   "source": [
    "fig, ax = plt.subplots(1, 1, figsize=set_size(width))\n",
    "ax.set_ylim([-0.1,0.1])\n",
    "pd.plotting.autocorrelation_plot(series=df.total_firms, ax = ax)\n",
    "plt.show()"
   ],
   "metadata": {
    "collapsed": false,
    "pycharm": {
     "name": "#%%\n"
    }
   }
  },
  {
   "cell_type": "code",
   "execution_count": 1401,
   "outputs": [],
   "source": [
    "average_firm = firm_dk.groupby(firm_dk.t).number_employees.mean().compute()"
   ],
   "metadata": {
    "collapsed": false,
    "pycharm": {
     "name": "#%%\n"
    }
   }
  },
  {
   "cell_type": "code",
   "execution_count": 1402,
   "outputs": [
    {
     "data": {
      "text/plain": "t\n0      1.269036\n1      1.592357\n2      1.776199\n3      1.811594\n4      1.838235\n         ...   \n995    1.912046\n996    1.919386\n997    1.904762\n998    1.862197\n999    1.893939\nName: number_employees, Length: 1000, dtype: float64"
     },
     "execution_count": 1402,
     "metadata": {},
     "output_type": "execute_result"
    }
   ],
   "source": [
    "average_firm"
   ],
   "metadata": {
    "collapsed": false,
    "pycharm": {
     "name": "#%%\n"
    }
   }
  },
  {
   "cell_type": "code",
   "execution_count": 1403,
   "outputs": [],
   "source": [
    "max_firm = firm_dk.groupby(firm_dk.t).number_employees.max().compute()"
   ],
   "metadata": {
    "collapsed": false,
    "pycharm": {
     "name": "#%%\n"
    }
   }
  },
  {
   "cell_type": "code",
   "execution_count": 1404,
   "outputs": [
    {
     "data": {
      "text/plain": "t\n0       4\n1       5\n2       6\n3       6\n4       8\n       ..\n995    24\n996    21\n997    17\n998    13\n999    11\nName: number_employees, Length: 1000, dtype: int32"
     },
     "execution_count": 1404,
     "metadata": {},
     "output_type": "execute_result"
    }
   ],
   "source": [
    "max_firm"
   ],
   "metadata": {
    "collapsed": false,
    "pycharm": {
     "name": "#%%\n"
    }
   }
  },
  {
   "cell_type": "code",
   "execution_count": 1405,
   "outputs": [
    {
     "name": "stdout",
     "output_type": "stream",
     "text": [
      "16.646\n"
     ]
    }
   ],
   "source": [
    "print(max_firm.mean())"
   ],
   "metadata": {
    "collapsed": false,
    "pycharm": {
     "name": "#%%\n"
    }
   }
  },
  {
   "cell_type": "code",
   "execution_count": 1406,
   "outputs": [
    {
     "data": {
      "text/plain": "<Figure size 539.643x333.518 with 1 Axes>",
      "image/png": "[encoded data removed]"
     },
     "metadata": {},
     "output_type": "display_data"
    }
   ],
   "source": [
    "fig, ax = plt.subplots(1, 1, figsize=set_size(width))\n",
    "ax.set_ylim([0,30])\n",
    "ax.set_xlim([0,1000])\n",
    "ax.set_title(\"Largest Firm Size\")\n",
    "max_firm.plot(kind=\"line\", y = \"Largest Firm Size\", x=\"t\", ax=ax, linewidth=0.75, alpha=0.8)\n",
    "plt.show()"
   ],
   "metadata": {
    "collapsed": false,
    "pycharm": {
     "name": "#%%\n"
    }
   }
  },
  {
   "cell_type": "code",
   "execution_count": 1407,
   "outputs": [
    {
     "data": {
      "text/plain": "<Figure size 539.643x333.518 with 1 Axes>",
      "image/png": "[encoded data removed]"
     },
     "metadata": {},
     "output_type": "display_data"
    }
   ],
   "source": [
    "fig, ax = plt.subplots(1, 1, figsize=set_size(width))\n",
    "ax.set_ylim([0,5])\n",
    "ax.set_xlim([0,1000])\n",
    "ax.set_title(\"Average Firm Size\")\n",
    "average_firm.plot(kind=\"line\", y = \"Average Firm Size\", x=\"t\", color=\"darkgreen\", ax=ax, linewidth=0.75, alpha=0.8)\n",
    "plt.show()"
   ],
   "metadata": {
    "collapsed": false,
    "pycharm": {
     "name": "#%%\n"
    }
   }
  },
  {
   "cell_type": "markdown",
   "source": [
    "Effort Levels"
   ],
   "metadata": {
    "collapsed": false,
    "pycharm": {
     "name": "#%% md\n"
    }
   }
  },
  {
   "cell_type": "markdown",
   "source": [
    "Average effort level (from worker df)"
   ],
   "metadata": {
    "collapsed": false,
    "pycharm": {
     "name": "#%% md\n"
    }
   }
  },
  {
   "cell_type": "code",
   "execution_count": 1408,
   "outputs": [],
   "source": [
    "worker_dk = dd.read_csv(path_w, blocksize=None)"
   ],
   "metadata": {
    "collapsed": false,
    "pycharm": {
     "name": "#%%\n"
    }
   }
  },
  {
   "cell_type": "code",
   "execution_count": 1409,
   "outputs": [],
   "source": [
    "avg_effort = worker_dk.groupby(worker_dk.t).effort.mean().compute()"
   ],
   "metadata": {
    "collapsed": false,
    "pycharm": {
     "name": "#%%\n"
    }
   }
  },
  {
   "cell_type": "code",
   "execution_count": 1410,
   "outputs": [
    {
     "data": {
      "text/plain": "t\n0      0.435652\n1      0.398698\n2      0.375605\n3      0.364436\n4      0.361572\n         ...   \n995    0.346607\n996    0.348095\n997    0.351392\n998    0.355861\n999    0.356393\nName: effort, Length: 1000, dtype: float64"
     },
     "execution_count": 1410,
     "metadata": {},
     "output_type": "execute_result"
    }
   ],
   "source": [
    "avg_effort"
   ],
   "metadata": {
    "collapsed": false,
    "pycharm": {
     "name": "#%%\n"
    }
   }
  },
  {
   "cell_type": "code",
   "execution_count": 1411,
   "outputs": [
    {
     "data": {
      "text/plain": "Dask Series Structure:\nnpartitions=1\n    int64\n      ...\nName: number_employees, dtype: int64\nDask Name: series-groupby-idxmax-agg, 8 tasks"
     },
     "execution_count": 1411,
     "metadata": {},
     "output_type": "execute_result"
    }
   ],
   "source": [
    "firm_dk.assign(avg_e = firm_dk.total_effort/firm_dk.number_employees).groupby(firm_dk.t).number_employees.idxmax()"
   ],
   "metadata": {
    "collapsed": false,
    "pycharm": {
     "name": "#%%\n"
    }
   }
  },
  {
   "cell_type": "code",
   "execution_count": 1412,
   "outputs": [
    {
     "name": "stderr",
     "output_type": "stream",
     "text": [
      "C:\\Users\\41782\\AppData\\Local\\Temp\\ipykernel_11168\\188437644.py:1: UserWarning: `meta` is not specified, inferred from partial data. Please provide `meta` if the result is unexpected.\n",
      "  Before: .transform(func)\n",
      "  After:  .transform(func, meta={'x': 'f8', 'y': 'f8'}) for dataframe result\n",
      "  or:     .transform(func, meta=('x', 'f8'))            for series result\n",
      "  filtered_firm_dk = firm_dk[firm_dk.groupby([\"t\"]).number_employees.transform(max) == firm_dk[\"number_employees\"]].assign(avg_e = firm_dk.total_effort/firm_dk.number_employees)\n"
     ]
    }
   ],
   "source": [
    "filtered_firm_dk = firm_dk[firm_dk.groupby([\"t\"]).number_employees.transform(max) == firm_dk[\"number_employees\"]].assign(avg_e = firm_dk.total_effort/firm_dk.number_employees)"
   ],
   "metadata": {
    "collapsed": false,
    "pycharm": {
     "name": "#%%\n"
    }
   }
  },
  {
   "cell_type": "code",
   "execution_count": 1216,
   "outputs": [],
   "source": [
    "avg_effort_maxfirm = filtered_firm_dk.groupby(\"t\").avg_e.mean().compute()"
   ],
   "metadata": {
    "collapsed": false,
    "pycharm": {
     "name": "#%%\n"
    }
   }
  },
  {
   "cell_type": "code",
   "execution_count": 1217,
   "outputs": [
    {
     "data": {
      "text/plain": "t\n0      0.183375\n1      0.567871\n2      0.463712\n3      0.257414\n4      0.241303\n         ...   \n995    0.232049\n996    0.209575\n997    0.179808\n998    0.102344\n999    0.054987\nName: avg_e, Length: 1000, dtype: float64"
     },
     "execution_count": 1217,
     "metadata": {},
     "output_type": "execute_result"
    }
   ],
   "source": [
    "avg_effort_maxfirm"
   ],
   "metadata": {
    "collapsed": false,
    "pycharm": {
     "name": "#%%\n"
    }
   }
  },
  {
   "cell_type": "code",
   "execution_count": 1218,
   "outputs": [
    {
     "data": {
      "text/plain": "<Figure size 539.643x333.518 with 1 Axes>",
      "image/png": "[encoded data removed]"
     },
     "metadata": {},
     "output_type": "display_data"
    }
   ],
   "source": [
    "fig, ax = plt.subplots(1, 1, figsize=set_size(width))\n",
    "ax.set_ylim([0,0.7])\n",
    "ax.set_xlim([0,100])\n",
    "ax.set_title(\"Average Effort\")\n",
    "avg_effort_maxfirm.plot(kind=\"line\", y = \"avg_e\", x=\"t\", ax=ax, linewidth=0.75, alpha=0.8)\n",
    "avg_effort.plot(kind=\"line\", y = \"effort\", x=\"t\", color=\"darkgreen\", ax=ax, linewidth=0.75, alpha=0.8)\n",
    "plt.show()"
   ],
   "metadata": {
    "collapsed": false,
    "pycharm": {
     "name": "#%%\n"
    }
   }
  },
  {
   "cell_type": "markdown",
   "source": [
    "Output Total and Largest Firm"
   ],
   "metadata": {
    "collapsed": false,
    "pycharm": {
     "name": "#%% md\n"
    }
   }
  },
  {
   "cell_type": "code",
   "execution_count": 1219,
   "outputs": [
    {
     "name": "stderr",
     "output_type": "stream",
     "text": [
      "C:\\Users\\41782\\AppData\\Local\\Temp\\ipykernel_11168\\2543161246.py:1: UserWarning: `meta` is not specified, inferred from partial data. Please provide `meta` if the result is unexpected.\n",
      "  Before: .transform(func)\n",
      "  After:  .transform(func, meta={'x': 'f8', 'y': 'f8'}) for dataframe result\n",
      "  or:     .transform(func, meta=('x', 'f8'))            for series result\n",
      "  filtered_firm_dk2 = firm_dk[firm_dk.groupby([\"t\"]).number_employees.transform(max) == firm_dk[\"number_employees\"]]\n"
     ]
    }
   ],
   "source": [
    "filtered_firm_dk2 = firm_dk[firm_dk.groupby([\"t\"]).number_employees.transform(max) == firm_dk[\"number_employees\"]]"
   ],
   "metadata": {
    "collapsed": false,
    "pycharm": {
     "name": "#%%\n"
    }
   }
  },
  {
   "cell_type": "code",
   "execution_count": 1220,
   "outputs": [],
   "source": [
    "output_max_firm = filtered_firm_dk2.groupby(\"t\").output.max().compute()"
   ],
   "metadata": {
    "collapsed": false,
    "pycharm": {
     "name": "#%%\n"
    }
   }
  },
  {
   "cell_type": "code",
   "execution_count": 1221,
   "outputs": [
    {
     "data": {
      "text/plain": "t\n0       1.757535\n1      19.776489\n2      37.543961\n3      12.630663\n4      12.977330\n         ...    \n995    48.713027\n996    48.705605\n997    38.860803\n998    14.000692\n999     3.264370\nName: output, Length: 1000, dtype: float64"
     },
     "execution_count": 1221,
     "metadata": {},
     "output_type": "execute_result"
    }
   ],
   "source": [
    "output_max_firm"
   ],
   "metadata": {
    "collapsed": false,
    "pycharm": {
     "name": "#%%\n"
    }
   }
  },
  {
   "cell_type": "code",
   "execution_count": 1222,
   "outputs": [],
   "source": [
    "output_total = firm_dk.groupby(\"t\").output.sum().compute()"
   ],
   "metadata": {
    "collapsed": false,
    "pycharm": {
     "name": "#%%\n"
    }
   }
  },
  {
   "cell_type": "code",
   "execution_count": 1223,
   "outputs": [
    {
     "data": {
      "text/plain": "t\n0      812.112945\n1      959.964995\n2      947.149760\n3      874.195968\n4      856.959638\n          ...    \n995    864.379523\n996    856.004312\n997    829.349637\n998    802.095876\n999    813.601180\nName: output, Length: 1000, dtype: float64"
     },
     "execution_count": 1223,
     "metadata": {},
     "output_type": "execute_result"
    }
   ],
   "source": [
    "output_total"
   ],
   "metadata": {
    "collapsed": false,
    "pycharm": {
     "name": "#%%\n"
    }
   }
  },
  {
   "cell_type": "code",
   "execution_count": 1224,
   "outputs": [
    {
     "data": {
      "text/plain": "<Figure size 539.643x333.518 with 1 Axes>",
      "image/png": "[encoded data removed]"
     },
     "metadata": {},
     "output_type": "display_data"
    }
   ],
   "source": [
    "fig, ax = plt.subplots(1, 1, figsize=set_size(width))\n",
    "ax.set_ylim([0,1500])\n",
    "ax.set_xlim([0,100])\n",
    "ax.set_title(\"Output\")\n",
    "output_total.plot(kind=\"line\", y = \"output\", x=\"t\", ax=ax, linewidth=0.75, alpha=0.8, color=\"darkgreen\")\n",
    "output_max_firm.plot(kind=\"line\", y = \"output\", x=\"t\", ax=ax, linewidth=0.75, alpha=0.8)\n",
    "plt.show()"
   ],
   "metadata": {
    "collapsed": false,
    "pycharm": {
     "name": "#%%\n"
    }
   }
  },
  {
   "cell_type": "markdown",
   "source": [
    "Distribution of Firm Sizes\n",
    "The distribution of firm sizes across industries has a very characteristic\n",
    "shape, that of a power law (also commonly known as a scaling law or Pareto\n",
    "distribution). Data on firm sizes, measured variously, have proven to have\n",
    "broadly robust power law behavior over many decades and across national\n",
    "borders, this despite waves of mergers and acquisitions. Power law\n",
    "distributions of firm sizes are also characteristic of the non-equilibrium\n",
    "model described above. This is studied in the next section. Following that,\n",
    "the distribution of firm growth rates yielded by the model is compared with\n",
    "data. Then, the distribution of firm lifetimes the model produces is studied.\n",
    "These also follow a power law.\n",
    "Axtell 99 S.39"
   ],
   "metadata": {
    "collapsed": false,
    "pycharm": {
     "name": "#%% md\n"
    }
   }
  },
  {
   "cell_type": "markdown",
   "source": [
    "Maximum firm age (for sampling period)"
   ],
   "metadata": {
    "collapsed": false,
    "pycharm": {
     "name": "#%% md\n"
    }
   }
  },
  {
   "cell_type": "code",
   "execution_count": 1225,
   "outputs": [],
   "source": [
    "max_age = firm_dk[\"age\"].max().compute()"
   ],
   "metadata": {
    "collapsed": false,
    "pycharm": {
     "name": "#%%\n"
    }
   }
  },
  {
   "cell_type": "code",
   "execution_count": 1226,
   "outputs": [
    {
     "data": {
      "text/plain": "39"
     },
     "execution_count": 1226,
     "metadata": {},
     "output_type": "execute_result"
    }
   ],
   "source": [
    "max_age"
   ],
   "metadata": {
    "collapsed": false,
    "pycharm": {
     "name": "#%%\n"
    }
   }
  },
  {
   "cell_type": "code",
   "execution_count": 1227,
   "outputs": [],
   "source": [
    "firm_size = firm_dk[[\"t\", \"number_employees\"]].compute()"
   ],
   "metadata": {
    "collapsed": false,
    "pycharm": {
     "name": "#%%\n"
    }
   }
  },
  {
   "cell_type": "code",
   "execution_count": 1228,
   "outputs": [],
   "source": [
    "dist=firm_size.groupby([\"t\", \"number_employees\"]).size()"
   ],
   "metadata": {
    "collapsed": false,
    "pycharm": {
     "name": "#%%\n"
    }
   }
  },
  {
   "cell_type": "code",
   "execution_count": 1229,
   "outputs": [],
   "source": [
    "firm_size2 = firm_size[firm_size.t >= 1]"
   ],
   "metadata": {
    "collapsed": false,
    "pycharm": {
     "name": "#%%\n"
    }
   }
  },
  {
   "cell_type": "code",
   "execution_count": 1230,
   "outputs": [
    {
     "data": {
      "text/plain": "          t  number_employees\n843       1                 2\n844       1                 1\n845       1                 2\n846       1                 1\n847       1                 2\n...     ...               ...\n425882  999                 1\n425883  999                 1\n425884  999                 1\n425885  999                 1\n425886  999                 1\n\n[425044 rows x 2 columns]",
      "text/html": "<div>\n<style scoped>\n    .dataframe tbody tr th:only-of-type {\n        vertical-align: middle;\n    }\n\n    .dataframe tbody tr th {\n        vertical-align: top;\n    }\n\n    .dataframe thead th {\n        text-align: right;\n    }\n</style>\n<table border=\"1\" class=\"dataframe\">\n  <thead>\n    <tr style=\"text-align: right;\">\n      <th></th>\n      <th>t</th>\n      <th>number_employees</th>\n    </tr>\n  </thead>\n  <tbody>\n    <tr>\n      <th>843</th>\n      <td>1</td>\n      <td>2</td>\n    </tr>\n    <tr>\n      <th>844</th>\n      <td>1</td>\n      <td>1</td>\n    </tr>\n    <tr>\n      <th>845</th>\n      <td>1</td>\n      <td>2</td>\n    </tr>\n    <tr>\n      <th>846</th>\n      <td>1</td>\n      <td>1</td>\n    </tr>\n    <tr>\n      <th>847</th>\n      <td>1</td>\n      <td>2</td>\n    </tr>\n    <tr>\n      <th>...</th>\n      <td>...</td>\n      <td>...</td>\n    </tr>\n    <tr>\n      <th>425882</th>\n      <td>999</td>\n      <td>1</td>\n    </tr>\n    <tr>\n      <th>425883</th>\n      <td>999</td>\n      <td>1</td>\n    </tr>\n    <tr>\n      <th>425884</th>\n      <td>999</td>\n      <td>1</td>\n    </tr>\n    <tr>\n      <th>425885</th>\n      <td>999</td>\n      <td>1</td>\n    </tr>\n    <tr>\n      <th>425886</th>\n      <td>999</td>\n      <td>1</td>\n    </tr>\n  </tbody>\n</table>\n<p>425044 rows × 2 columns</p>\n</div>"
     },
     "execution_count": 1230,
     "metadata": {},
     "output_type": "execute_result"
    }
   ],
   "source": [
    "firm_size2"
   ],
   "metadata": {
    "collapsed": false,
    "pycharm": {
     "name": "#%%\n"
    }
   }
  },
  {
   "cell_type": "code",
   "execution_count": 1231,
   "outputs": [],
   "source": [
    "dist2 = firm_size2.groupby([\"number_employees\"]).number_employees.size()"
   ],
   "metadata": {
    "collapsed": false,
    "pycharm": {
     "name": "#%%\n"
    }
   }
  },
  {
   "cell_type": "code",
   "execution_count": 1232,
   "outputs": [
    {
     "data": {
      "text/plain": "425044"
     },
     "execution_count": 1232,
     "metadata": {},
     "output_type": "execute_result"
    }
   ],
   "source": [
    "dist2.values.sum()"
   ],
   "metadata": {
    "collapsed": false,
    "pycharm": {
     "name": "#%%\n"
    }
   }
  },
  {
   "cell_type": "code",
   "execution_count": 1233,
   "outputs": [
    {
     "data": {
      "text/plain": "number_employees\n1     198950\n2      87401\n3      57316\n4      34124\n5      19251\n6      10835\n7       6504\n8       3871\n9       2339\n10      1372\n11       820\n12       625\n13       339\n14       246\n15       222\n16       154\n17       125\n18       107\n19        79\n20        61\n21        57\n22        43\n23        41\n24        44\n25        30\n26        34\n27        17\n28        14\n29         6\n30         6\n31         4\n32         3\n33         2\n34         2\nName: number_employees, dtype: int64"
     },
     "execution_count": 1233,
     "metadata": {},
     "output_type": "execute_result"
    }
   ],
   "source": [
    "dist2"
   ],
   "metadata": {
    "collapsed": false,
    "pycharm": {
     "name": "#%%\n"
    }
   }
  },
  {
   "cell_type": "code",
   "execution_count": 1234,
   "outputs": [
    {
     "data": {
      "text/plain": "pandas.core.series.Series"
     },
     "execution_count": 1234,
     "metadata": {},
     "output_type": "execute_result"
    }
   ],
   "source": [
    "type(dist2)"
   ],
   "metadata": {
    "collapsed": false,
    "pycharm": {
     "name": "#%%\n"
    }
   }
  },
  {
   "cell_type": "code",
   "execution_count": 1235,
   "outputs": [
    {
     "name": "stdout",
     "output_type": "stream",
     "text": [
      "425044\n"
     ]
    }
   ],
   "source": [
    "print(dist2.sum())"
   ],
   "metadata": {
    "collapsed": false,
    "pycharm": {
     "name": "#%%\n"
    }
   }
  },
  {
   "cell_type": "code",
   "execution_count": 1236,
   "outputs": [],
   "source": [
    "y_frequency_all = dist2.values/dist2.sum()"
   ],
   "metadata": {
    "collapsed": false,
    "pycharm": {
     "name": "#%%\n"
    }
   }
  },
  {
   "cell_type": "code",
   "execution_count": 1237,
   "outputs": [],
   "source": [
    "y_frequency_all = y_frequency_all.tolist()"
   ],
   "metadata": {
    "collapsed": false,
    "pycharm": {
     "name": "#%%\n"
    }
   }
  },
  {
   "cell_type": "code",
   "execution_count": 1238,
   "outputs": [
    {
     "data": {
      "text/plain": "[0.46806918813111115,\n 0.20562812320606808,\n 0.13484721581765652,\n 0.08028345300721808,\n 0.04529178155673295,\n 0.025491478529281675,\n 0.01530194521037822,\n 0.009107292421490481,\n 0.0055029596935846645,\n 0.003227901111414348,\n 0.0019292120345187791,\n 0.0014704360019198012,\n 0.0007975644874413002,\n 0.0005787636103556338,\n 0.0005222988678819134,\n 0.000362315430873039,\n 0.00029408720038396024,\n 0.00025173864352866996,\n 0.00018586311064266287,\n 0.0001435145537873726,\n 0.00013410376337508588,\n 0.00010116599693208232,\n 9.646060172593897e-05,\n 0.000103518694535154,\n 7.058092809215046e-05,\n 7.999171850443718e-05,\n 3.999585925221859e-05,\n 3.2937766443003546e-05,\n 1.4116185618430093e-05,\n 1.4116185618430093e-05,\n 9.410790412286728e-06,\n 7.058092809215046e-06,\n 4.705395206143364e-06,\n 4.705395206143364e-06]"
     },
     "execution_count": 1238,
     "metadata": {},
     "output_type": "execute_result"
    }
   ],
   "source": [
    "y_frequency_all"
   ],
   "metadata": {
    "collapsed": false,
    "pycharm": {
     "name": "#%%\n"
    }
   }
  },
  {
   "cell_type": "code",
   "execution_count": 1239,
   "outputs": [],
   "source": [
    "x_employees_all = dist2.index.values.tolist()"
   ],
   "metadata": {
    "collapsed": false,
    "pycharm": {
     "name": "#%%\n"
    }
   }
  },
  {
   "cell_type": "code",
   "execution_count": 1240,
   "outputs": [
    {
     "data": {
      "text/plain": "[1,\n 2,\n 3,\n 4,\n 5,\n 6,\n 7,\n 8,\n 9,\n 10,\n 11,\n 12,\n 13,\n 14,\n 15,\n 16,\n 17,\n 18,\n 19,\n 20,\n 21,\n 22,\n 23,\n 24,\n 25,\n 26,\n 27,\n 28,\n 29,\n 30,\n 31,\n 32,\n 33,\n 34]"
     },
     "execution_count": 1240,
     "metadata": {},
     "output_type": "execute_result"
    }
   ],
   "source": [
    "x_employees_all"
   ],
   "metadata": {
    "collapsed": false,
    "pycharm": {
     "name": "#%%\n"
    }
   }
  },
  {
   "cell_type": "code",
   "execution_count": 1241,
   "outputs": [],
   "source": [
    "d = {\"Employees\": x_employees_all, \"Count\": y_frequency_all}"
   ],
   "metadata": {
    "collapsed": false,
    "pycharm": {
     "name": "#%%\n"
    }
   }
  },
  {
   "cell_type": "code",
   "execution_count": 1242,
   "outputs": [],
   "source": [
    "df = pd.DataFrame(d)"
   ],
   "metadata": {
    "collapsed": false,
    "pycharm": {
     "name": "#%%\n"
    }
   }
  },
  {
   "cell_type": "markdown",
   "source": [
    " powerlaw not good for extreme cases, low and high prune"
   ],
   "metadata": {
    "collapsed": false,
    "pycharm": {
     "name": "#%% md\n"
    }
   }
  },
  {
   "cell_type": "code",
   "execution_count": 1243,
   "outputs": [],
   "source": [
    "df_big = df[df.Count > 10**(-5)]"
   ],
   "metadata": {
    "collapsed": false,
    "pycharm": {
     "name": "#%%\n"
    }
   }
  },
  {
   "cell_type": "markdown",
   "source": [],
   "metadata": {
    "collapsed": false,
    "pycharm": {
     "name": "#%% md\n"
    }
   }
  },
  {
   "cell_type": "code",
   "execution_count": 1244,
   "outputs": [],
   "source": [
    "df_big = df_big[1:]"
   ],
   "metadata": {
    "collapsed": false,
    "pycharm": {
     "name": "#%%\n"
    }
   }
  },
  {
   "cell_type": "markdown",
   "source": [
    "weibull not needed to prune"
   ],
   "metadata": {
    "collapsed": false,
    "pycharm": {
     "name": "#%% md\n"
    }
   }
  },
  {
   "cell_type": "code",
   "execution_count": 1245,
   "outputs": [],
   "source": [
    "# df_big = df"
   ],
   "metadata": {
    "collapsed": false,
    "pycharm": {
     "name": "#%%\n"
    }
   }
  },
  {
   "cell_type": "code",
   "execution_count": 1246,
   "outputs": [
    {
     "data": {
      "text/plain": "    Employees     Count\n1           2  0.205628\n2           3  0.134847\n3           4  0.080283\n4           5  0.045292\n5           6  0.025491\n6           7  0.015302\n7           8  0.009107\n8           9  0.005503\n9          10  0.003228\n10         11  0.001929\n11         12  0.001470\n12         13  0.000798\n13         14  0.000579\n14         15  0.000522\n15         16  0.000362\n16         17  0.000294\n17         18  0.000252\n18         19  0.000186\n19         20  0.000144\n20         21  0.000134\n21         22  0.000101\n22         23  0.000096\n23         24  0.000104\n24         25  0.000071\n25         26  0.000080\n26         27  0.000040\n27         28  0.000033\n28         29  0.000014\n29         30  0.000014",
      "text/html": "<div>\n<style scoped>\n    .dataframe tbody tr th:only-of-type {\n        vertical-align: middle;\n    }\n\n    .dataframe tbody tr th {\n        vertical-align: top;\n    }\n\n    .dataframe thead th {\n        text-align: right;\n    }\n</style>\n<table border=\"1\" class=\"dataframe\">\n  <thead>\n    <tr style=\"text-align: right;\">\n      <th></th>\n      <th>Employees</th>\n      <th>Count</th>\n    </tr>\n  </thead>\n  <tbody>\n    <tr>\n      <th>1</th>\n      <td>2</td>\n      <td>0.205628</td>\n    </tr>\n    <tr>\n      <th>2</th>\n      <td>3</td>\n      <td>0.134847</td>\n    </tr>\n    <tr>\n      <th>3</th>\n      <td>4</td>\n      <td>0.080283</td>\n    </tr>\n    <tr>\n      <th>4</th>\n      <td>5</td>\n      <td>0.045292</td>\n    </tr>\n    <tr>\n      <th>5</th>\n      <td>6</td>\n      <td>0.025491</td>\n    </tr>\n    <tr>\n      <th>6</th>\n      <td>7</td>\n      <td>0.015302</td>\n    </tr>\n    <tr>\n      <th>7</th>\n      <td>8</td>\n      <td>0.009107</td>\n    </tr>\n    <tr>\n      <th>8</th>\n      <td>9</td>\n      <td>0.005503</td>\n    </tr>\n    <tr>\n      <th>9</th>\n      <td>10</td>\n      <td>0.003228</td>\n    </tr>\n    <tr>\n      <th>10</th>\n      <td>11</td>\n      <td>0.001929</td>\n    </tr>\n    <tr>\n      <th>11</th>\n      <td>12</td>\n      <td>0.001470</td>\n    </tr>\n    <tr>\n      <th>12</th>\n      <td>13</td>\n      <td>0.000798</td>\n    </tr>\n    <tr>\n      <th>13</th>\n      <td>14</td>\n      <td>0.000579</td>\n    </tr>\n    <tr>\n      <th>14</th>\n      <td>15</td>\n      <td>0.000522</td>\n    </tr>\n    <tr>\n      <th>15</th>\n      <td>16</td>\n      <td>0.000362</td>\n    </tr>\n    <tr>\n      <th>16</th>\n      <td>17</td>\n      <td>0.000294</td>\n    </tr>\n    <tr>\n      <th>17</th>\n      <td>18</td>\n      <td>0.000252</td>\n    </tr>\n    <tr>\n      <th>18</th>\n      <td>19</td>\n      <td>0.000186</td>\n    </tr>\n    <tr>\n      <th>19</th>\n      <td>20</td>\n      <td>0.000144</td>\n    </tr>\n    <tr>\n      <th>20</th>\n      <td>21</td>\n      <td>0.000134</td>\n    </tr>\n    <tr>\n      <th>21</th>\n      <td>22</td>\n      <td>0.000101</td>\n    </tr>\n    <tr>\n      <th>22</th>\n      <td>23</td>\n      <td>0.000096</td>\n    </tr>\n    <tr>\n      <th>23</th>\n      <td>24</td>\n      <td>0.000104</td>\n    </tr>\n    <tr>\n      <th>24</th>\n      <td>25</td>\n      <td>0.000071</td>\n    </tr>\n    <tr>\n      <th>25</th>\n      <td>26</td>\n      <td>0.000080</td>\n    </tr>\n    <tr>\n      <th>26</th>\n      <td>27</td>\n      <td>0.000040</td>\n    </tr>\n    <tr>\n      <th>27</th>\n      <td>28</td>\n      <td>0.000033</td>\n    </tr>\n    <tr>\n      <th>28</th>\n      <td>29</td>\n      <td>0.000014</td>\n    </tr>\n    <tr>\n      <th>29</th>\n      <td>30</td>\n      <td>0.000014</td>\n    </tr>\n  </tbody>\n</table>\n</div>"
     },
     "execution_count": 1246,
     "metadata": {},
     "output_type": "execute_result"
    }
   ],
   "source": [
    "df_big"
   ],
   "metadata": {
    "collapsed": false,
    "pycharm": {
     "name": "#%%\n"
    }
   }
  },
  {
   "cell_type": "code",
   "execution_count": 1247,
   "outputs": [],
   "source": [
    "x_new = df_big.Employees\n",
    "y_new = df_big.Count"
   ],
   "metadata": {
    "collapsed": false,
    "pycharm": {
     "name": "#%%\n"
    }
   }
  },
  {
   "cell_type": "markdown",
   "source": [
    "function to sample firm size (employee) distribution for different t's"
   ],
   "metadata": {
    "collapsed": false,
    "pycharm": {
     "name": "#%% md\n"
    }
   }
  },
  {
   "cell_type": "code",
   "execution_count": 1248,
   "outputs": [],
   "source": [
    "def sample_dist(dist, start, max_age, numb_samples):\n",
    "    df_list = []\n",
    "    for x in range(numb_samples):\n",
    "        i = start + x * max_age\n",
    "        sample = dist.loc[i, :]\n",
    "        freq = sample / sample.sum()\n",
    "        freq_df = freq.reset_index(inplace=False)\n",
    "        freq_df = freq_df.rename(columns={0: f\"Frequency{x}\"})\n",
    "        df_list.append(freq_df)\n",
    "    return df_list"
   ],
   "metadata": {
    "collapsed": false,
    "pycharm": {
     "name": "#%%\n"
    }
   }
  },
  {
   "cell_type": "code",
   "execution_count": 1249,
   "outputs": [],
   "source": [
    "dfs = sample_dist(dist, 1, 10, 10)"
   ],
   "metadata": {
    "collapsed": false,
    "pycharm": {
     "name": "#%%\n"
    }
   }
  },
  {
   "cell_type": "code",
   "execution_count": 1250,
   "outputs": [],
   "source": [
    "from functools import reduce"
   ],
   "metadata": {
    "collapsed": false,
    "pycharm": {
     "name": "#%%\n"
    }
   }
  },
  {
   "cell_type": "code",
   "execution_count": 1251,
   "outputs": [],
   "source": [
    "df3 = reduce(lambda left,right: pd.merge(left,right,on=[\"number_employees\"], how=\"outer\"), dfs)"
   ],
   "metadata": {
    "collapsed": false,
    "pycharm": {
     "name": "#%%\n"
    }
   }
  },
  {
   "cell_type": "code",
   "execution_count": 1252,
   "outputs": [
    {
     "data": {
      "text/plain": "    number_employees  Frequency0  Frequency1  Frequency2  Frequency3  \\\n0                  1    0.549320      0.4625    0.482679    0.454118   \n1                  2    0.270408      0.1900    0.207852    0.232941   \n2                  3    0.130952      0.1425    0.127021    0.124706   \n3                  4    0.032313      0.0725    0.078522    0.084706   \n4                  5    0.015306      0.0525    0.036952    0.042353   \n5                  7    0.001701      0.0250    0.011547    0.011765   \n6                  6         NaN      0.0200    0.030023    0.016471   \n7                  8         NaN      0.0125    0.009238    0.014118   \n8                  9         NaN      0.0100    0.002309    0.002353   \n9                 11         NaN      0.0025    0.004619         NaN   \n10                15         NaN      0.0075    0.002309         NaN   \n11                21         NaN      0.0025         NaN         NaN   \n12                12         NaN         NaN    0.002309    0.002353   \n13                13         NaN         NaN    0.002309    0.002353   \n14                14         NaN         NaN    0.002309         NaN   \n15                10         NaN         NaN         NaN    0.009412   \n16                17         NaN         NaN         NaN    0.002353   \n17                24         NaN         NaN         NaN         NaN   \n\n    Frequency4  Frequency5  Frequency6  Frequency7  Frequency8  Frequency9  \n0     0.470588    0.471264    0.424594    0.476636    0.459135    0.465517  \n1     0.202353    0.227586    0.238979    0.191589    0.192308    0.179803  \n2     0.141176    0.119540    0.148492    0.130841    0.144231    0.140394  \n3     0.084706    0.075862    0.099768    0.088785    0.096154    0.086207  \n4     0.040000    0.043678    0.025522    0.051402    0.038462    0.056650  \n5     0.014118    0.016092    0.013921    0.007009    0.016827    0.022167  \n6     0.014118    0.020690    0.034803    0.025701    0.019231    0.009852  \n7     0.018824    0.006897    0.004640    0.009346    0.014423    0.017241  \n8     0.004706    0.009195    0.006961    0.009346    0.004808    0.012315  \n9          NaN         NaN         NaN         NaN    0.002404    0.004926  \n10         NaN         NaN         NaN    0.002336         NaN         NaN  \n11         NaN         NaN         NaN         NaN         NaN         NaN  \n12    0.002353    0.004598         NaN    0.002336    0.002404    0.002463  \n13    0.002353         NaN         NaN         NaN    0.002404         NaN  \n14         NaN         NaN         NaN         NaN         NaN         NaN  \n15    0.002353    0.002299         NaN    0.004673    0.007212         NaN  \n16         NaN    0.002299    0.002320         NaN         NaN    0.002463  \n17    0.002353         NaN         NaN         NaN         NaN         NaN  ",
      "text/html": "<div>\n<style scoped>\n    .dataframe tbody tr th:only-of-type {\n        vertical-align: middle;\n    }\n\n    .dataframe tbody tr th {\n        vertical-align: top;\n    }\n\n    .dataframe thead th {\n        text-align: right;\n    }\n</style>\n<table border=\"1\" class=\"dataframe\">\n  <thead>\n    <tr style=\"text-align: right;\">\n      <th></th>\n      <th>number_employees</th>\n      <th>Frequency0</th>\n      <th>Frequency1</th>\n      <th>Frequency2</th>\n      <th>Frequency3</th>\n      <th>Frequency4</th>\n      <th>Frequency5</th>\n      <th>Frequency6</th>\n      <th>Frequency7</th>\n      <th>Frequency8</th>\n      <th>Frequency9</th>\n    </tr>\n  </thead>\n  <tbody>\n    <tr>\n      <th>0</th>\n      <td>1</td>\n      <td>0.549320</td>\n      <td>0.4625</td>\n      <td>0.482679</td>\n      <td>0.454118</td>\n      <td>0.470588</td>\n      <td>0.471264</td>\n      <td>0.424594</td>\n      <td>0.476636</td>\n      <td>0.459135</td>\n      <td>0.465517</td>\n    </tr>\n    <tr>\n      <th>1</th>\n      <td>2</td>\n      <td>0.270408</td>\n      <td>0.1900</td>\n      <td>0.207852</td>\n      <td>0.232941</td>\n      <td>0.202353</td>\n      <td>0.227586</td>\n      <td>0.238979</td>\n      <td>0.191589</td>\n      <td>0.192308</td>\n      <td>0.179803</td>\n    </tr>\n    <tr>\n      <th>2</th>\n      <td>3</td>\n      <td>0.130952</td>\n      <td>0.1425</td>\n      <td>0.127021</td>\n      <td>0.124706</td>\n      <td>0.141176</td>\n      <td>0.119540</td>\n      <td>0.148492</td>\n      <td>0.130841</td>\n      <td>0.144231</td>\n      <td>0.140394</td>\n    </tr>\n    <tr>\n      <th>3</th>\n      <td>4</td>\n      <td>0.032313</td>\n      <td>0.0725</td>\n      <td>0.078522</td>\n      <td>0.084706</td>\n      <td>0.084706</td>\n      <td>0.075862</td>\n      <td>0.099768</td>\n      <td>0.088785</td>\n      <td>0.096154</td>\n      <td>0.086207</td>\n    </tr>\n    <tr>\n      <th>4</th>\n      <td>5</td>\n      <td>0.015306</td>\n      <td>0.0525</td>\n      <td>0.036952</td>\n      <td>0.042353</td>\n      <td>0.040000</td>\n      <td>0.043678</td>\n      <td>0.025522</td>\n      <td>0.051402</td>\n      <td>0.038462</td>\n      <td>0.056650</td>\n    </tr>\n    <tr>\n      <th>5</th>\n      <td>7</td>\n      <td>0.001701</td>\n      <td>0.0250</td>\n      <td>0.011547</td>\n      <td>0.011765</td>\n      <td>0.014118</td>\n      <td>0.016092</td>\n      <td>0.013921</td>\n      <td>0.007009</td>\n      <td>0.016827</td>\n      <td>0.022167</td>\n    </tr>\n    <tr>\n      <th>6</th>\n      <td>6</td>\n      <td>NaN</td>\n      <td>0.0200</td>\n      <td>0.030023</td>\n      <td>0.016471</td>\n      <td>0.014118</td>\n      <td>0.020690</td>\n      <td>0.034803</td>\n      <td>0.025701</td>\n      <td>0.019231</td>\n      <td>0.009852</td>\n    </tr>\n    <tr>\n      <th>7</th>\n      <td>8</td>\n      <td>NaN</td>\n      <td>0.0125</td>\n      <td>0.009238</td>\n      <td>0.014118</td>\n      <td>0.018824</td>\n      <td>0.006897</td>\n      <td>0.004640</td>\n      <td>0.009346</td>\n      <td>0.014423</td>\n      <td>0.017241</td>\n    </tr>\n    <tr>\n      <th>8</th>\n      <td>9</td>\n      <td>NaN</td>\n      <td>0.0100</td>\n      <td>0.002309</td>\n      <td>0.002353</td>\n      <td>0.004706</td>\n      <td>0.009195</td>\n      <td>0.006961</td>\n      <td>0.009346</td>\n      <td>0.004808</td>\n      <td>0.012315</td>\n    </tr>\n    <tr>\n      <th>9</th>\n      <td>11</td>\n      <td>NaN</td>\n      <td>0.0025</td>\n      <td>0.004619</td>\n      <td>NaN</td>\n      <td>NaN</td>\n      <td>NaN</td>\n      <td>NaN</td>\n      <td>NaN</td>\n      <td>0.002404</td>\n      <td>0.004926</td>\n    </tr>\n    <tr>\n      <th>10</th>\n      <td>15</td>\n      <td>NaN</td>\n      <td>0.0075</td>\n      <td>0.002309</td>\n      <td>NaN</td>\n      <td>NaN</td>\n      <td>NaN</td>\n      <td>NaN</td>\n      <td>0.002336</td>\n      <td>NaN</td>\n      <td>NaN</td>\n    </tr>\n    <tr>\n      <th>11</th>\n      <td>21</td>\n      <td>NaN</td>\n      <td>0.0025</td>\n      <td>NaN</td>\n      <td>NaN</td>\n      <td>NaN</td>\n      <td>NaN</td>\n      <td>NaN</td>\n      <td>NaN</td>\n      <td>NaN</td>\n      <td>NaN</td>\n    </tr>\n    <tr>\n      <th>12</th>\n      <td>12</td>\n      <td>NaN</td>\n      <td>NaN</td>\n      <td>0.002309</td>\n      <td>0.002353</td>\n      <td>0.002353</td>\n      <td>0.004598</td>\n      <td>NaN</td>\n      <td>0.002336</td>\n      <td>0.002404</td>\n      <td>0.002463</td>\n    </tr>\n    <tr>\n      <th>13</th>\n      <td>13</td>\n      <td>NaN</td>\n      <td>NaN</td>\n      <td>0.002309</td>\n      <td>0.002353</td>\n      <td>0.002353</td>\n      <td>NaN</td>\n      <td>NaN</td>\n      <td>NaN</td>\n      <td>0.002404</td>\n      <td>NaN</td>\n    </tr>\n    <tr>\n      <th>14</th>\n      <td>14</td>\n      <td>NaN</td>\n      <td>NaN</td>\n      <td>0.002309</td>\n      <td>NaN</td>\n      <td>NaN</td>\n      <td>NaN</td>\n      <td>NaN</td>\n      <td>NaN</td>\n      <td>NaN</td>\n      <td>NaN</td>\n    </tr>\n    <tr>\n      <th>15</th>\n      <td>10</td>\n      <td>NaN</td>\n      <td>NaN</td>\n      <td>NaN</td>\n      <td>0.009412</td>\n      <td>0.002353</td>\n      <td>0.002299</td>\n      <td>NaN</td>\n      <td>0.004673</td>\n      <td>0.007212</td>\n      <td>NaN</td>\n    </tr>\n    <tr>\n      <th>16</th>\n      <td>17</td>\n      <td>NaN</td>\n      <td>NaN</td>\n      <td>NaN</td>\n      <td>0.002353</td>\n      <td>NaN</td>\n      <td>0.002299</td>\n      <td>0.002320</td>\n      <td>NaN</td>\n      <td>NaN</td>\n      <td>0.002463</td>\n    </tr>\n    <tr>\n      <th>17</th>\n      <td>24</td>\n      <td>NaN</td>\n      <td>NaN</td>\n      <td>NaN</td>\n      <td>NaN</td>\n      <td>0.002353</td>\n      <td>NaN</td>\n      <td>NaN</td>\n      <td>NaN</td>\n      <td>NaN</td>\n      <td>NaN</td>\n    </tr>\n  </tbody>\n</table>\n</div>"
     },
     "execution_count": 1252,
     "metadata": {},
     "output_type": "execute_result"
    }
   ],
   "source": [
    "df3"
   ],
   "metadata": {
    "collapsed": false,
    "pycharm": {
     "name": "#%%\n"
    }
   }
  },
  {
   "cell_type": "code",
   "execution_count": 1253,
   "outputs": [],
   "source": [
    "df3['avg'] = df3.iloc[:,1:].mean(axis=1)"
   ],
   "metadata": {
    "collapsed": false,
    "pycharm": {
     "name": "#%%\n"
    }
   }
  },
  {
   "cell_type": "code",
   "execution_count": 1254,
   "outputs": [],
   "source": [
    "# df3['size'] = df3.iloc[:,1:].size(axis=1)"
   ],
   "metadata": {
    "collapsed": false,
    "pycharm": {
     "name": "#%%\n"
    }
   }
  },
  {
   "cell_type": "code",
   "execution_count": 1255,
   "outputs": [],
   "source": [
    "df3 = df3.iloc[1:20,:]"
   ],
   "metadata": {
    "collapsed": false,
    "pycharm": {
     "name": "#%%\n"
    }
   }
  },
  {
   "cell_type": "code",
   "execution_count": 1256,
   "outputs": [],
   "source": [
    "dfplot = df3[[\"number_employees\", \"avg\"]]"
   ],
   "metadata": {
    "collapsed": false,
    "pycharm": {
     "name": "#%%\n"
    }
   }
  },
  {
   "cell_type": "code",
   "execution_count": 1257,
   "outputs": [],
   "source": [
    "x_employees = df3[\"number_employees\"].values.tolist()"
   ],
   "metadata": {
    "collapsed": false,
    "pycharm": {
     "name": "#%%\n"
    }
   }
  },
  {
   "cell_type": "code",
   "execution_count": 1258,
   "outputs": [],
   "source": [
    "y_frequency = df3[\"avg\"].values.tolist()"
   ],
   "metadata": {
    "collapsed": false,
    "pycharm": {
     "name": "#%%\n"
    }
   }
  },
  {
   "cell_type": "code",
   "execution_count": 1259,
   "outputs": [
    {
     "data": {
      "text/plain": "[0.213381923315321,\n 0.13498536077444095,\n 0.07995224696683356,\n 0.04028244213889015,\n 0.014014720159226812,\n 0.021209743326274216,\n 0.011914025037672585,\n 0.006888112125684119,\n 0.0036122230431430476,\n 0.004048639140100581,\n 0.0025,\n 0.00268805732338664,\n 0.0023547993322395573,\n 0.0023094688221709007,\n 0.005189598422973146,\n 0.0023587578883061343,\n 0.002352941176470588]"
     },
     "execution_count": 1259,
     "metadata": {},
     "output_type": "execute_result"
    }
   ],
   "source": [
    "y_frequency"
   ],
   "metadata": {
    "collapsed": false,
    "pycharm": {
     "name": "#%%\n"
    }
   }
  },
  {
   "cell_type": "code",
   "execution_count": 1260,
   "outputs": [
    {
     "data": {
      "text/plain": "<Figure size 539.643x333.518 with 1 Axes>",
      "image/png": "[encoded data removed]"
     },
     "metadata": {},
     "output_type": "display_data"
    }
   ],
   "source": [
    "fig, ax = plt.subplots(1, 1, figsize=set_size(width))\n",
    "#ax.set_ylim([0,0.4])\n",
    "#ax.set_xlim([0,100])\n",
    "ax.set_title(\"Output\")\n",
    "ticks = (1,5,10,20, 40)\n",
    "ticksy = (0.001, 0.01, 0.1, 1)\n",
    "df_big.plot(\"Employees\",\"Count\",kind=\"scatter\", ax=ax, linewidth=0.75, alpha=0.8, loglog=True)\n",
    "ax.set_xticks(ticks=ticks)\n",
    "ax.set_xticklabels(labels=ticks)\n",
    "ax.set_yticks(ticks=ticksy)\n",
    "ax.set_yticklabels(labels=ticksy)\n",
    "plt.show()"
   ],
   "metadata": {
    "collapsed": false,
    "pycharm": {
     "name": "#%%\n"
    }
   }
  },
  {
   "cell_type": "markdown",
   "source": [
    "Fit the firmsize power-law data"
   ],
   "metadata": {
    "collapsed": false,
    "pycharm": {
     "name": "#%% md\n"
    }
   }
  },
  {
   "cell_type": "code",
   "execution_count": 1261,
   "outputs": [],
   "source": [
    "# Function to calculate the power-law with constants a and b\n",
    "def power_law(x, b):\n",
    "    return np.power(x, -(1+b), dtype=float)"
   ],
   "metadata": {
    "collapsed": false,
    "pycharm": {
     "name": "#%%\n"
    }
   }
  },
  {
   "cell_type": "code",
   "execution_count": 1262,
   "outputs": [],
   "source": [
    "def weibull(x, a, b):\n",
    "    return 1-np.exp(-a*x**b, dtype=float)\n",
    "\n",
    "def gld(x, a, b):\n",
    "    return 1-(1+a*x/b)**((-1)/a)"
   ],
   "metadata": {
    "collapsed": false,
    "pycharm": {
     "name": "#%%\n"
    }
   }
  },
  {
   "cell_type": "code",
   "execution_count": 1263,
   "outputs": [],
   "source": [
    "from scipy.optimize import curve_fit"
   ],
   "metadata": {
    "collapsed": false,
    "pycharm": {
     "name": "#%%\n"
    }
   }
  },
  {
   "cell_type": "code",
   "execution_count": 1264,
   "outputs": [],
   "source": [
    "pars, cov = curve_fit(f=power_law, xdata= x_new, ydata=y_new, p0=0, bounds=(-np.inf, np.inf))"
   ],
   "metadata": {
    "collapsed": false,
    "pycharm": {
     "name": "#%%\n"
    }
   }
  },
  {
   "cell_type": "code",
   "execution_count": 1265,
   "outputs": [],
   "source": [
    "pars2, cov2 = curve_fit(f=weibull, xdata= x_new, ydata=y_new, p0=[0,0], bounds=(-np.inf, np.inf))"
   ],
   "metadata": {
    "collapsed": false,
    "pycharm": {
     "name": "#%%\n"
    }
   }
  },
  {
   "cell_type": "code",
   "execution_count": 1266,
   "outputs": [],
   "source": [
    "# not found optima\n",
    "# pars3, cov3 = curve_fit(f=gld, xdata= x_new, ydata=y_new, p0=[0,0], bounds=(-np.inf, np.inf))"
   ],
   "metadata": {
    "collapsed": false,
    "pycharm": {
     "name": "#%%\n"
    }
   }
  },
  {
   "cell_type": "markdown",
   "source": [
    "Get the standard deviations of the parameters (square roots of the # diagonal of the covariance)"
   ],
   "metadata": {
    "collapsed": false,
    "pycharm": {
     "name": "#%% md\n"
    }
   }
  },
  {
   "cell_type": "code",
   "execution_count": 1267,
   "outputs": [],
   "source": [
    "stdevs = np.sqrt(np.diag(cov))"
   ],
   "metadata": {
    "collapsed": false,
    "pycharm": {
     "name": "#%%\n"
    }
   }
  },
  {
   "cell_type": "code",
   "execution_count": 1268,
   "outputs": [],
   "source": [
    "stdevs2 = np.sqrt(np.diag(cov2))"
   ],
   "metadata": {
    "collapsed": false,
    "pycharm": {
     "name": "#%%\n"
    }
   }
  },
  {
   "cell_type": "markdown",
   "source": [
    "Calculate the residuals"
   ],
   "metadata": {
    "collapsed": false,
    "pycharm": {
     "name": "#%% md\n"
    }
   }
  },
  {
   "cell_type": "code",
   "execution_count": 1269,
   "outputs": [],
   "source": [
    "res = y_new - power_law(x_new, *pars)"
   ],
   "metadata": {
    "collapsed": false,
    "pycharm": {
     "name": "#%%\n"
    }
   }
  },
  {
   "cell_type": "code",
   "execution_count": 1270,
   "outputs": [],
   "source": [
    "ss_res = np.sum(res**2)"
   ],
   "metadata": {
    "collapsed": false,
    "pycharm": {
     "name": "#%%\n"
    }
   }
  },
  {
   "cell_type": "code",
   "execution_count": 1271,
   "outputs": [
    {
     "data": {
      "text/plain": "0.0029343239972103043"
     },
     "execution_count": 1271,
     "metadata": {},
     "output_type": "execute_result"
    }
   ],
   "source": [
    "ss_res"
   ],
   "metadata": {
    "collapsed": false,
    "pycharm": {
     "name": "#%%\n"
    }
   }
  },
  {
   "cell_type": "code",
   "execution_count": 1272,
   "outputs": [],
   "source": [
    "ss_tot = np.sum((y_new-np.mean(y_new))**2)"
   ],
   "metadata": {
    "collapsed": false,
    "pycharm": {
     "name": "#%%\n"
    }
   }
  },
  {
   "cell_type": "code",
   "execution_count": 1273,
   "outputs": [
    {
     "data": {
      "text/plain": "0.06022265096873764"
     },
     "execution_count": 1273,
     "metadata": {},
     "output_type": "execute_result"
    }
   ],
   "source": [
    "ss_tot"
   ],
   "metadata": {
    "collapsed": false,
    "pycharm": {
     "name": "#%%\n"
    }
   }
  },
  {
   "cell_type": "code",
   "execution_count": 1274,
   "outputs": [],
   "source": [
    "res2 = y_new - weibull(x_new, *pars2)"
   ],
   "metadata": {
    "collapsed": false,
    "pycharm": {
     "name": "#%%\n"
    }
   }
  },
  {
   "cell_type": "code",
   "execution_count": 1275,
   "outputs": [],
   "source": [
    "ss_res2 = np.sum(res2**2)"
   ],
   "metadata": {
    "collapsed": false,
    "pycharm": {
     "name": "#%%\n"
    }
   }
  },
  {
   "cell_type": "code",
   "execution_count": 1276,
   "outputs": [],
   "source": [
    "ss_tot2 = np.sum((y_new-np.mean(y_new))**2)"
   ],
   "metadata": {
    "collapsed": false,
    "pycharm": {
     "name": "#%%\n"
    }
   }
  },
  {
   "cell_type": "code",
   "execution_count": 1277,
   "outputs": [],
   "source": [
    "r_squared = 1-(ss_res/ss_tot)"
   ],
   "metadata": {
    "collapsed": false,
    "pycharm": {
     "name": "#%%\n"
    }
   }
  },
  {
   "cell_type": "code",
   "execution_count": 1278,
   "outputs": [
    {
     "data": {
      "text/plain": "0.9512754096671442"
     },
     "execution_count": 1278,
     "metadata": {},
     "output_type": "execute_result"
    }
   ],
   "source": [
    "r_squared"
   ],
   "metadata": {
    "collapsed": false,
    "pycharm": {
     "name": "#%%\n"
    }
   }
  },
  {
   "cell_type": "markdown",
   "source": [],
   "metadata": {
    "collapsed": false,
    "pycharm": {
     "name": "#%% md\n"
    }
   }
  },
  {
   "cell_type": "code",
   "execution_count": 1279,
   "outputs": [],
   "source": [
    "r_squared2 = 1-(ss_res2/ss_tot2)"
   ],
   "metadata": {
    "collapsed": false,
    "pycharm": {
     "name": "#%%\n"
    }
   }
  },
  {
   "cell_type": "code",
   "execution_count": 1280,
   "outputs": [
    {
     "data": {
      "text/plain": "0.9709500925100119"
     },
     "execution_count": 1280,
     "metadata": {},
     "output_type": "execute_result"
    }
   ],
   "source": [
    "r_squared2"
   ],
   "metadata": {
    "collapsed": false,
    "pycharm": {
     "name": "#%%\n"
    }
   }
  },
  {
   "cell_type": "code",
   "execution_count": 1281,
   "outputs": [
    {
     "data": {
      "text/plain": "array([1.07291751])"
     },
     "execution_count": 1281,
     "metadata": {},
     "output_type": "execute_result"
    }
   ],
   "source": [
    "pars"
   ],
   "metadata": {
    "collapsed": false,
    "pycharm": {
     "name": "#%%\n"
    }
   }
  },
  {
   "cell_type": "code",
   "execution_count": 1282,
   "outputs": [
    {
     "data": {
      "text/plain": "array([ 0.90206001, -1.87019998])"
     },
     "execution_count": 1282,
     "metadata": {},
     "output_type": "execute_result"
    }
   ],
   "source": [
    "pars2"
   ],
   "metadata": {
    "collapsed": false,
    "pycharm": {
     "name": "#%%\n"
    }
   }
  },
  {
   "cell_type": "code",
   "execution_count": 1042,
   "outputs": [],
   "source": [
    "test = dist.loc[500, :]"
   ],
   "metadata": {
    "collapsed": false,
    "pycharm": {
     "name": "#%%\n"
    }
   }
  },
  {
   "cell_type": "code",
   "execution_count": 1043,
   "outputs": [
    {
     "data": {
      "text/plain": "number_employees\n1     247\n2     119\n3      60\n4      32\n5      22\n6       8\n7       2\n8       1\n10      1\n17      1\ndtype: int64"
     },
     "execution_count": 1043,
     "metadata": {},
     "output_type": "execute_result"
    }
   ],
   "source": [
    "test"
   ],
   "metadata": {
    "collapsed": false,
    "pycharm": {
     "name": "#%%\n"
    }
   }
  },
  {
   "cell_type": "code",
   "execution_count": 915,
   "outputs": [],
   "source": [
    "frequency = test/test.sum()"
   ],
   "metadata": {
    "collapsed": false,
    "pycharm": {
     "name": "#%%\n"
    }
   }
  },
  {
   "cell_type": "code",
   "execution_count": 916,
   "outputs": [],
   "source": [
    "freq_df = frequency.reset_index(inplace=False)"
   ],
   "metadata": {
    "collapsed": false,
    "pycharm": {
     "name": "#%%\n"
    }
   }
  },
  {
   "cell_type": "code",
   "execution_count": 917,
   "outputs": [],
   "source": [
    "freq_df = freq_df.rename(columns={0:\"Frequency\"})"
   ],
   "metadata": {
    "collapsed": false,
    "pycharm": {
     "name": "#%%\n"
    }
   }
  },
  {
   "cell_type": "code",
   "execution_count": 918,
   "outputs": [
    {
     "data": {
      "text/plain": "    number_employees  Frequency\n0                  1   0.547206\n1                  2   0.238921\n2                  3   0.105973\n3                  4   0.057803\n4                  5   0.023121\n5                  6   0.007707\n6                  7   0.005780\n7                  8   0.005780\n8                  9   0.001927\n9                 11   0.001927\n10                12   0.001927\n11                22   0.001927",
      "text/html": "<div>\n<style scoped>\n    .dataframe tbody tr th:only-of-type {\n        vertical-align: middle;\n    }\n\n    .dataframe tbody tr th {\n        vertical-align: top;\n    }\n\n    .dataframe thead th {\n        text-align: right;\n    }\n</style>\n<table border=\"1\" class=\"dataframe\">\n  <thead>\n    <tr style=\"text-align: right;\">\n      <th></th>\n      <th>number_employees</th>\n      <th>Frequency</th>\n    </tr>\n  </thead>\n  <tbody>\n    <tr>\n      <th>0</th>\n      <td>1</td>\n      <td>0.547206</td>\n    </tr>\n    <tr>\n      <th>1</th>\n      <td>2</td>\n      <td>0.238921</td>\n    </tr>\n    <tr>\n      <th>2</th>\n      <td>3</td>\n      <td>0.105973</td>\n    </tr>\n    <tr>\n      <th>3</th>\n      <td>4</td>\n      <td>0.057803</td>\n    </tr>\n    <tr>\n      <th>4</th>\n      <td>5</td>\n      <td>0.023121</td>\n    </tr>\n    <tr>\n      <th>5</th>\n      <td>6</td>\n      <td>0.007707</td>\n    </tr>\n    <tr>\n      <th>6</th>\n      <td>7</td>\n      <td>0.005780</td>\n    </tr>\n    <tr>\n      <th>7</th>\n      <td>8</td>\n      <td>0.005780</td>\n    </tr>\n    <tr>\n      <th>8</th>\n      <td>9</td>\n      <td>0.001927</td>\n    </tr>\n    <tr>\n      <th>9</th>\n      <td>11</td>\n      <td>0.001927</td>\n    </tr>\n    <tr>\n      <th>10</th>\n      <td>12</td>\n      <td>0.001927</td>\n    </tr>\n    <tr>\n      <th>11</th>\n      <td>22</td>\n      <td>0.001927</td>\n    </tr>\n  </tbody>\n</table>\n</div>"
     },
     "execution_count": 918,
     "metadata": {},
     "output_type": "execute_result"
    }
   ],
   "source": [
    "freq_df"
   ],
   "metadata": {
    "collapsed": false,
    "pycharm": {
     "name": "#%%\n"
    }
   }
  },
  {
   "cell_type": "code",
   "execution_count": 919,
   "outputs": [
    {
     "data": {
      "text/plain": "<Figure size 539.643x333.518 with 1 Axes>",
      "image/png": "[encoded data removed]"
     },
     "metadata": {},
     "output_type": "display_data"
    }
   ],
   "source": [
    "fig, ax = plt.subplots(1, 1, figsize=set_size(width))\n",
    "#ax.set_ylim([0,0.4])\n",
    "#ax.set_xlim([0,100])\n",
    "ax.set_title(\"Output\")\n",
    "ticks = (1,5,10,20)\n",
    "ticksy = (0.001, 0.01, 0.1, 1)\n",
    "freq_df.plot(\"number_employees\",\"Frequency\",kind=\"scatter\", ax=ax, linewidth=0.75, alpha=0.8, loglog=True)\n",
    "ax.set_xticks(ticks=ticks)\n",
    "ax.set_xticklabels(labels=ticks)\n",
    "ax.set_yticks(ticks=ticksy)\n",
    "ax.set_yticklabels(labels=ticksy)\n",
    "plt.show()"
   ],
   "metadata": {
    "collapsed": false,
    "pycharm": {
     "name": "#%%\n"
    }
   }
  },
  {
   "cell_type": "markdown",
   "source": [
    "Overall Behavior of Agents, I (Population Cross-Section)"
   ],
   "metadata": {
    "collapsed": false,
    "pycharm": {
     "name": "#%% md\n"
    }
   }
  },
  {
   "cell_type": "code",
   "execution_count": 920,
   "outputs": [],
   "source": [
    "effort_dist = worker_dk[[\"t\", \"effort\"]].compute()\n",
    "dist_e = effort_dist.groupby([\"t\", \"effort\"]).size()"
   ],
   "metadata": {
    "collapsed": false,
    "pycharm": {
     "name": "#%%\n"
    }
   }
  },
  {
   "cell_type": "code",
   "execution_count": 921,
   "outputs": [
    {
     "data": {
      "text/plain": "t    effort  \n0    0.000000    161\n     0.000302      1\n     0.001578      1\n     0.003230      1\n     0.005677      1\n                ... \n999  0.998096      1\n     0.998708      1\n     0.998777      1\n     0.999090      1\n     0.999196      1\nLength: 615929, dtype: int64"
     },
     "execution_count": 921,
     "metadata": {},
     "output_type": "execute_result"
    }
   ],
   "source": [
    "dist_e"
   ],
   "metadata": {
    "collapsed": false,
    "pycharm": {
     "name": "#%%\n"
    }
   }
  },
  {
   "cell_type": "code",
   "execution_count": 922,
   "outputs": [
    {
     "ename": "KeyError",
     "evalue": "1020",
     "output_type": "error",
     "traceback": [
      "\u001B[1;31m---------------------------------------------------------------------------\u001B[0m",
      "\u001B[1;31mKeyError\u001B[0m                                  Traceback (most recent call last)",
      "File \u001B[1;32m~\\anaconda3\\envs\\abm-env\\lib\\site-packages\\pandas\\core\\indexes\\base.py:3629\u001B[0m, in \u001B[0;36mIndex.get_loc\u001B[1;34m(self, key, method, tolerance)\u001B[0m\n\u001B[0;32m   3628\u001B[0m \u001B[38;5;28;01mtry\u001B[39;00m:\n\u001B[1;32m-> 3629\u001B[0m     \u001B[38;5;28;01mreturn\u001B[39;00m \u001B[38;5;28;43mself\u001B[39;49m\u001B[38;5;241;43m.\u001B[39;49m\u001B[43m_engine\u001B[49m\u001B[38;5;241;43m.\u001B[39;49m\u001B[43mget_loc\u001B[49m\u001B[43m(\u001B[49m\u001B[43mcasted_key\u001B[49m\u001B[43m)\u001B[49m\n\u001B[0;32m   3630\u001B[0m \u001B[38;5;28;01mexcept\u001B[39;00m \u001B[38;5;167;01mKeyError\u001B[39;00m \u001B[38;5;28;01mas\u001B[39;00m err:\n",
      "File \u001B[1;32m~\\anaconda3\\envs\\abm-env\\lib\\site-packages\\pandas\\_libs\\index.pyx:136\u001B[0m, in \u001B[0;36mpandas._libs.index.IndexEngine.get_loc\u001B[1;34m()\u001B[0m\n",
      "File \u001B[1;32m~\\anaconda3\\envs\\abm-env\\lib\\site-packages\\pandas\\_libs\\index.pyx:163\u001B[0m, in \u001B[0;36mpandas._libs.index.IndexEngine.get_loc\u001B[1;34m()\u001B[0m\n",
      "File \u001B[1;32mpandas\\_libs\\hashtable_class_helper.pxi:2131\u001B[0m, in \u001B[0;36mpandas._libs.hashtable.Int64HashTable.get_item\u001B[1;34m()\u001B[0m\n",
      "File \u001B[1;32mpandas\\_libs\\hashtable_class_helper.pxi:2140\u001B[0m, in \u001B[0;36mpandas._libs.hashtable.Int64HashTable.get_item\u001B[1;34m()\u001B[0m\n",
      "\u001B[1;31mKeyError\u001B[0m: 1020",
      "\nThe above exception was the direct cause of the following exception:\n",
      "\u001B[1;31mKeyError\u001B[0m                                  Traceback (most recent call last)",
      "Input \u001B[1;32mIn [922]\u001B[0m, in \u001B[0;36m<cell line: 1>\u001B[1;34m()\u001B[0m\n\u001B[1;32m----> 1\u001B[0m dfs_e \u001B[38;5;241m=\u001B[39m \u001B[43msample_dist\u001B[49m\u001B[43m(\u001B[49m\u001B[43mdist_e\u001B[49m\u001B[43m,\u001B[49m\u001B[43m \u001B[49m\u001B[38;5;241;43m300\u001B[39;49m\u001B[43m,\u001B[49m\u001B[43m \u001B[49m\u001B[38;5;241;43m30\u001B[39;49m\u001B[43m,\u001B[49m\u001B[43m \u001B[49m\u001B[38;5;241;43m200\u001B[39;49m\u001B[43m)\u001B[49m\n\u001B[0;32m      3\u001B[0m df_e \u001B[38;5;241m=\u001B[39m reduce(\u001B[38;5;28;01mlambda\u001B[39;00m left, right: pd\u001B[38;5;241m.\u001B[39mmerge(left, right, on\u001B[38;5;241m=\u001B[39m[\u001B[38;5;124m\"\u001B[39m\u001B[38;5;124meffort\u001B[39m\u001B[38;5;124m\"\u001B[39m], how\u001B[38;5;241m=\u001B[39m\u001B[38;5;124m\"\u001B[39m\u001B[38;5;124mouter\u001B[39m\u001B[38;5;124m\"\u001B[39m), dfs_e)\n\u001B[0;32m      4\u001B[0m df_e[\u001B[38;5;124m'\u001B[39m\u001B[38;5;124mavg\u001B[39m\u001B[38;5;124m'\u001B[39m] \u001B[38;5;241m=\u001B[39m df_e\u001B[38;5;241m.\u001B[39miloc[:, \u001B[38;5;241m1\u001B[39m:]\u001B[38;5;241m.\u001B[39mmean(axis\u001B[38;5;241m=\u001B[39m\u001B[38;5;241m1\u001B[39m)\n",
      "Input \u001B[1;32mIn [878]\u001B[0m, in \u001B[0;36msample_dist\u001B[1;34m(dist, start, max_age, numb_samples)\u001B[0m\n\u001B[0;32m      3\u001B[0m \u001B[38;5;28;01mfor\u001B[39;00m x \u001B[38;5;129;01min\u001B[39;00m \u001B[38;5;28mrange\u001B[39m(numb_samples):\n\u001B[0;32m      4\u001B[0m     i \u001B[38;5;241m=\u001B[39m start \u001B[38;5;241m+\u001B[39m x \u001B[38;5;241m*\u001B[39m max_age\n\u001B[1;32m----> 5\u001B[0m     sample \u001B[38;5;241m=\u001B[39m \u001B[43mdist\u001B[49m\u001B[38;5;241;43m.\u001B[39;49m\u001B[43mloc\u001B[49m\u001B[43m[\u001B[49m\u001B[43mi\u001B[49m\u001B[43m,\u001B[49m\u001B[43m \u001B[49m\u001B[43m:\u001B[49m\u001B[43m]\u001B[49m\n\u001B[0;32m      6\u001B[0m     freq \u001B[38;5;241m=\u001B[39m sample \u001B[38;5;241m/\u001B[39m sample\u001B[38;5;241m.\u001B[39msum()\n\u001B[0;32m      7\u001B[0m     freq_df \u001B[38;5;241m=\u001B[39m freq\u001B[38;5;241m.\u001B[39mreset_index(inplace\u001B[38;5;241m=\u001B[39m\u001B[38;5;28;01mFalse\u001B[39;00m)\n",
      "File \u001B[1;32m~\\anaconda3\\envs\\abm-env\\lib\\site-packages\\pandas\\core\\indexing.py:961\u001B[0m, in \u001B[0;36m_LocationIndexer.__getitem__\u001B[1;34m(self, key)\u001B[0m\n\u001B[0;32m    959\u001B[0m     \u001B[38;5;28;01mif\u001B[39;00m \u001B[38;5;28mself\u001B[39m\u001B[38;5;241m.\u001B[39m_is_scalar_access(key):\n\u001B[0;32m    960\u001B[0m         \u001B[38;5;28;01mreturn\u001B[39;00m \u001B[38;5;28mself\u001B[39m\u001B[38;5;241m.\u001B[39mobj\u001B[38;5;241m.\u001B[39m_get_value(\u001B[38;5;241m*\u001B[39mkey, takeable\u001B[38;5;241m=\u001B[39m\u001B[38;5;28mself\u001B[39m\u001B[38;5;241m.\u001B[39m_takeable)\n\u001B[1;32m--> 961\u001B[0m     \u001B[38;5;28;01mreturn\u001B[39;00m \u001B[38;5;28;43mself\u001B[39;49m\u001B[38;5;241;43m.\u001B[39;49m\u001B[43m_getitem_tuple\u001B[49m\u001B[43m(\u001B[49m\u001B[43mkey\u001B[49m\u001B[43m)\u001B[49m\n\u001B[0;32m    962\u001B[0m \u001B[38;5;28;01melse\u001B[39;00m:\n\u001B[0;32m    963\u001B[0m     \u001B[38;5;66;03m# we by definition only have the 0th axis\u001B[39;00m\n\u001B[0;32m    964\u001B[0m     axis \u001B[38;5;241m=\u001B[39m \u001B[38;5;28mself\u001B[39m\u001B[38;5;241m.\u001B[39maxis \u001B[38;5;129;01mor\u001B[39;00m \u001B[38;5;241m0\u001B[39m\n",
      "File \u001B[1;32m~\\anaconda3\\envs\\abm-env\\lib\\site-packages\\pandas\\core\\indexing.py:1140\u001B[0m, in \u001B[0;36m_LocIndexer._getitem_tuple\u001B[1;34m(self, tup)\u001B[0m\n\u001B[0;32m   1138\u001B[0m \u001B[38;5;28;01mwith\u001B[39;00m suppress(IndexingError):\n\u001B[0;32m   1139\u001B[0m     tup \u001B[38;5;241m=\u001B[39m \u001B[38;5;28mself\u001B[39m\u001B[38;5;241m.\u001B[39m_expand_ellipsis(tup)\n\u001B[1;32m-> 1140\u001B[0m     \u001B[38;5;28;01mreturn\u001B[39;00m \u001B[38;5;28;43mself\u001B[39;49m\u001B[38;5;241;43m.\u001B[39;49m\u001B[43m_getitem_lowerdim\u001B[49m\u001B[43m(\u001B[49m\u001B[43mtup\u001B[49m\u001B[43m)\u001B[49m\n\u001B[0;32m   1142\u001B[0m \u001B[38;5;66;03m# no multi-index, so validate all of the indexers\u001B[39;00m\n\u001B[0;32m   1143\u001B[0m tup \u001B[38;5;241m=\u001B[39m \u001B[38;5;28mself\u001B[39m\u001B[38;5;241m.\u001B[39m_validate_tuple_indexer(tup)\n",
      "File \u001B[1;32m~\\anaconda3\\envs\\abm-env\\lib\\site-packages\\pandas\\core\\indexing.py:843\u001B[0m, in \u001B[0;36m_LocationIndexer._getitem_lowerdim\u001B[1;34m(self, tup)\u001B[0m\n\u001B[0;32m    841\u001B[0m \u001B[38;5;66;03m# we may have a nested tuples indexer here\u001B[39;00m\n\u001B[0;32m    842\u001B[0m \u001B[38;5;28;01mif\u001B[39;00m \u001B[38;5;28mself\u001B[39m\u001B[38;5;241m.\u001B[39m_is_nested_tuple_indexer(tup):\n\u001B[1;32m--> 843\u001B[0m     \u001B[38;5;28;01mreturn\u001B[39;00m \u001B[38;5;28;43mself\u001B[39;49m\u001B[38;5;241;43m.\u001B[39;49m\u001B[43m_getitem_nested_tuple\u001B[49m\u001B[43m(\u001B[49m\u001B[43mtup\u001B[49m\u001B[43m)\u001B[49m\n\u001B[0;32m    845\u001B[0m \u001B[38;5;66;03m# we maybe be using a tuple to represent multiple dimensions here\u001B[39;00m\n\u001B[0;32m    846\u001B[0m ax0 \u001B[38;5;241m=\u001B[39m \u001B[38;5;28mself\u001B[39m\u001B[38;5;241m.\u001B[39mobj\u001B[38;5;241m.\u001B[39m_get_axis(\u001B[38;5;241m0\u001B[39m)\n",
      "File \u001B[1;32m~\\anaconda3\\envs\\abm-env\\lib\\site-packages\\pandas\\core\\indexing.py:914\u001B[0m, in \u001B[0;36m_LocationIndexer._getitem_nested_tuple\u001B[1;34m(self, tup)\u001B[0m\n\u001B[0;32m    909\u001B[0m \u001B[38;5;28;01mif\u001B[39;00m \u001B[38;5;28mall\u001B[39m(is_hashable(x) \u001B[38;5;129;01mor\u001B[39;00m com\u001B[38;5;241m.\u001B[39mis_null_slice(x) \u001B[38;5;28;01mfor\u001B[39;00m x \u001B[38;5;129;01min\u001B[39;00m tup):\n\u001B[0;32m    910\u001B[0m     \u001B[38;5;66;03m# GH#10521 Series should reduce MultiIndex dimensions instead of\u001B[39;00m\n\u001B[0;32m    911\u001B[0m     \u001B[38;5;66;03m#  DataFrame, IndexingError is not raised when slice(None,None,None)\u001B[39;00m\n\u001B[0;32m    912\u001B[0m     \u001B[38;5;66;03m#  with one row.\u001B[39;00m\n\u001B[0;32m    913\u001B[0m     \u001B[38;5;28;01mwith\u001B[39;00m suppress(IndexingError):\n\u001B[1;32m--> 914\u001B[0m         \u001B[38;5;28;01mreturn\u001B[39;00m \u001B[38;5;28;43mself\u001B[39;49m\u001B[38;5;241;43m.\u001B[39;49m\u001B[43m_handle_lowerdim_multi_index_axis0\u001B[49m\u001B[43m(\u001B[49m\u001B[43mtup\u001B[49m\u001B[43m)\u001B[49m\n\u001B[0;32m    915\u001B[0m \u001B[38;5;28;01melif\u001B[39;00m \u001B[38;5;28misinstance\u001B[39m(\u001B[38;5;28mself\u001B[39m\u001B[38;5;241m.\u001B[39mobj, ABCSeries) \u001B[38;5;129;01mand\u001B[39;00m \u001B[38;5;28many\u001B[39m(\n\u001B[0;32m    916\u001B[0m     \u001B[38;5;28misinstance\u001B[39m(k, \u001B[38;5;28mtuple\u001B[39m) \u001B[38;5;28;01mfor\u001B[39;00m k \u001B[38;5;129;01min\u001B[39;00m tup\n\u001B[0;32m    917\u001B[0m ):\n\u001B[1;32m   (...)\u001B[0m\n\u001B[0;32m    921\u001B[0m     \u001B[38;5;66;03m#  that themselves contain a slice entry\u001B[39;00m\n\u001B[0;32m    922\u001B[0m     \u001B[38;5;66;03m# See test_loc_series_getitem_too_many_dimensions\u001B[39;00m\n\u001B[0;32m    923\u001B[0m     \u001B[38;5;28;01mraise\u001B[39;00m \u001B[38;5;167;01mValueError\u001B[39;00m(\u001B[38;5;124m\"\u001B[39m\u001B[38;5;124mToo many indices\u001B[39m\u001B[38;5;124m\"\u001B[39m)\n",
      "File \u001B[1;32m~\\anaconda3\\envs\\abm-env\\lib\\site-packages\\pandas\\core\\indexing.py:1166\u001B[0m, in \u001B[0;36m_LocIndexer._handle_lowerdim_multi_index_axis0\u001B[1;34m(self, tup)\u001B[0m\n\u001B[0;32m   1162\u001B[0m \u001B[38;5;28;01mexcept\u001B[39;00m \u001B[38;5;167;01mKeyError\u001B[39;00m \u001B[38;5;28;01mas\u001B[39;00m ek:\n\u001B[0;32m   1163\u001B[0m     \u001B[38;5;66;03m# raise KeyError if number of indexers match\u001B[39;00m\n\u001B[0;32m   1164\u001B[0m     \u001B[38;5;66;03m# else IndexingError will be raised\u001B[39;00m\n\u001B[0;32m   1165\u001B[0m     \u001B[38;5;28;01mif\u001B[39;00m \u001B[38;5;28mself\u001B[39m\u001B[38;5;241m.\u001B[39mndim \u001B[38;5;241m<\u001B[39m \u001B[38;5;28mlen\u001B[39m(tup) \u001B[38;5;241m<\u001B[39m\u001B[38;5;241m=\u001B[39m \u001B[38;5;28mself\u001B[39m\u001B[38;5;241m.\u001B[39mobj\u001B[38;5;241m.\u001B[39mindex\u001B[38;5;241m.\u001B[39mnlevels:\n\u001B[1;32m-> 1166\u001B[0m         \u001B[38;5;28;01mraise\u001B[39;00m ek\n\u001B[0;32m   1167\u001B[0m     \u001B[38;5;28;01mraise\u001B[39;00m IndexingError(\u001B[38;5;124m\"\u001B[39m\u001B[38;5;124mNo label returned\u001B[39m\u001B[38;5;124m\"\u001B[39m) \u001B[38;5;28;01mfrom\u001B[39;00m \u001B[38;5;21;01mek\u001B[39;00m\n",
      "File \u001B[1;32m~\\anaconda3\\envs\\abm-env\\lib\\site-packages\\pandas\\core\\indexing.py:1160\u001B[0m, in \u001B[0;36m_LocIndexer._handle_lowerdim_multi_index_axis0\u001B[1;34m(self, tup)\u001B[0m\n\u001B[0;32m   1157\u001B[0m axis \u001B[38;5;241m=\u001B[39m \u001B[38;5;28mself\u001B[39m\u001B[38;5;241m.\u001B[39maxis \u001B[38;5;129;01mor\u001B[39;00m \u001B[38;5;241m0\u001B[39m\n\u001B[0;32m   1158\u001B[0m \u001B[38;5;28;01mtry\u001B[39;00m:\n\u001B[0;32m   1159\u001B[0m     \u001B[38;5;66;03m# fast path for series or for tup devoid of slices\u001B[39;00m\n\u001B[1;32m-> 1160\u001B[0m     \u001B[38;5;28;01mreturn\u001B[39;00m \u001B[38;5;28;43mself\u001B[39;49m\u001B[38;5;241;43m.\u001B[39;49m\u001B[43m_get_label\u001B[49m\u001B[43m(\u001B[49m\u001B[43mtup\u001B[49m\u001B[43m,\u001B[49m\u001B[43m \u001B[49m\u001B[43maxis\u001B[49m\u001B[38;5;241;43m=\u001B[39;49m\u001B[43maxis\u001B[49m\u001B[43m)\u001B[49m\n\u001B[0;32m   1162\u001B[0m \u001B[38;5;28;01mexcept\u001B[39;00m \u001B[38;5;167;01mKeyError\u001B[39;00m \u001B[38;5;28;01mas\u001B[39;00m ek:\n\u001B[0;32m   1163\u001B[0m     \u001B[38;5;66;03m# raise KeyError if number of indexers match\u001B[39;00m\n\u001B[0;32m   1164\u001B[0m     \u001B[38;5;66;03m# else IndexingError will be raised\u001B[39;00m\n\u001B[0;32m   1165\u001B[0m     \u001B[38;5;28;01mif\u001B[39;00m \u001B[38;5;28mself\u001B[39m\u001B[38;5;241m.\u001B[39mndim \u001B[38;5;241m<\u001B[39m \u001B[38;5;28mlen\u001B[39m(tup) \u001B[38;5;241m<\u001B[39m\u001B[38;5;241m=\u001B[39m \u001B[38;5;28mself\u001B[39m\u001B[38;5;241m.\u001B[39mobj\u001B[38;5;241m.\u001B[39mindex\u001B[38;5;241m.\u001B[39mnlevels:\n",
      "File \u001B[1;32m~\\anaconda3\\envs\\abm-env\\lib\\site-packages\\pandas\\core\\indexing.py:1153\u001B[0m, in \u001B[0;36m_LocIndexer._get_label\u001B[1;34m(self, label, axis)\u001B[0m\n\u001B[0;32m   1151\u001B[0m \u001B[38;5;28;01mdef\u001B[39;00m \u001B[38;5;21m_get_label\u001B[39m(\u001B[38;5;28mself\u001B[39m, label, axis: \u001B[38;5;28mint\u001B[39m):\n\u001B[0;32m   1152\u001B[0m     \u001B[38;5;66;03m# GH#5667 this will fail if the label is not present in the axis.\u001B[39;00m\n\u001B[1;32m-> 1153\u001B[0m     \u001B[38;5;28;01mreturn\u001B[39;00m \u001B[38;5;28;43mself\u001B[39;49m\u001B[38;5;241;43m.\u001B[39;49m\u001B[43mobj\u001B[49m\u001B[38;5;241;43m.\u001B[39;49m\u001B[43mxs\u001B[49m\u001B[43m(\u001B[49m\u001B[43mlabel\u001B[49m\u001B[43m,\u001B[49m\u001B[43m \u001B[49m\u001B[43maxis\u001B[49m\u001B[38;5;241;43m=\u001B[39;49m\u001B[43maxis\u001B[49m\u001B[43m)\u001B[49m\n",
      "File \u001B[1;32m~\\anaconda3\\envs\\abm-env\\lib\\site-packages\\pandas\\core\\generic.py:3857\u001B[0m, in \u001B[0;36mNDFrame.xs\u001B[1;34m(self, key, axis, level, drop_level)\u001B[0m\n\u001B[0;32m   3854\u001B[0m \u001B[38;5;28mself\u001B[39m\u001B[38;5;241m.\u001B[39m_consolidate_inplace()\n\u001B[0;32m   3856\u001B[0m \u001B[38;5;28;01mif\u001B[39;00m \u001B[38;5;28misinstance\u001B[39m(index, MultiIndex):\n\u001B[1;32m-> 3857\u001B[0m     loc, new_index \u001B[38;5;241m=\u001B[39m \u001B[43mindex\u001B[49m\u001B[38;5;241;43m.\u001B[39;49m\u001B[43m_get_loc_level\u001B[49m\u001B[43m(\u001B[49m\u001B[43mkey\u001B[49m\u001B[43m,\u001B[49m\u001B[43m \u001B[49m\u001B[43mlevel\u001B[49m\u001B[38;5;241;43m=\u001B[39;49m\u001B[38;5;241;43m0\u001B[39;49m\u001B[43m)\u001B[49m\n\u001B[0;32m   3858\u001B[0m     \u001B[38;5;28;01mif\u001B[39;00m \u001B[38;5;129;01mnot\u001B[39;00m drop_level:\n\u001B[0;32m   3859\u001B[0m         \u001B[38;5;28;01mif\u001B[39;00m lib\u001B[38;5;241m.\u001B[39mis_integer(loc):\n",
      "File \u001B[1;32m~\\anaconda3\\envs\\abm-env\\lib\\site-packages\\pandas\\core\\indexes\\multi.py:3080\u001B[0m, in \u001B[0;36mMultiIndex._get_loc_level\u001B[1;34m(self, key, level)\u001B[0m\n\u001B[0;32m   3078\u001B[0m \u001B[38;5;28;01mfor\u001B[39;00m i, k \u001B[38;5;129;01min\u001B[39;00m \u001B[38;5;28menumerate\u001B[39m(key):\n\u001B[0;32m   3079\u001B[0m     \u001B[38;5;28;01mif\u001B[39;00m \u001B[38;5;129;01mnot\u001B[39;00m \u001B[38;5;28misinstance\u001B[39m(k, \u001B[38;5;28mslice\u001B[39m):\n\u001B[1;32m-> 3080\u001B[0m         loc_level \u001B[38;5;241m=\u001B[39m \u001B[38;5;28;43mself\u001B[39;49m\u001B[38;5;241;43m.\u001B[39;49m\u001B[43m_get_level_indexer\u001B[49m\u001B[43m(\u001B[49m\u001B[43mk\u001B[49m\u001B[43m,\u001B[49m\u001B[43m \u001B[49m\u001B[43mlevel\u001B[49m\u001B[38;5;241;43m=\u001B[39;49m\u001B[43mi\u001B[49m\u001B[43m)\u001B[49m\n\u001B[0;32m   3081\u001B[0m         \u001B[38;5;28;01mif\u001B[39;00m \u001B[38;5;28misinstance\u001B[39m(loc_level, \u001B[38;5;28mslice\u001B[39m):\n\u001B[0;32m   3082\u001B[0m             \u001B[38;5;28;01mif\u001B[39;00m com\u001B[38;5;241m.\u001B[39mis_null_slice(loc_level) \u001B[38;5;129;01mor\u001B[39;00m com\u001B[38;5;241m.\u001B[39mis_full_slice(\n\u001B[0;32m   3083\u001B[0m                 loc_level, \u001B[38;5;28mlen\u001B[39m(\u001B[38;5;28mself\u001B[39m)\n\u001B[0;32m   3084\u001B[0m             ):\n\u001B[0;32m   3085\u001B[0m                 \u001B[38;5;66;03m# everything\u001B[39;00m\n",
      "File \u001B[1;32m~\\anaconda3\\envs\\abm-env\\lib\\site-packages\\pandas\\core\\indexes\\multi.py:3222\u001B[0m, in \u001B[0;36mMultiIndex._get_level_indexer\u001B[1;34m(self, key, level, indexer)\u001B[0m\n\u001B[0;32m   3218\u001B[0m         \u001B[38;5;28;01mreturn\u001B[39;00m \u001B[38;5;28mslice\u001B[39m(i, j, step)\n\u001B[0;32m   3220\u001B[0m \u001B[38;5;28;01melse\u001B[39;00m:\n\u001B[1;32m-> 3222\u001B[0m     idx \u001B[38;5;241m=\u001B[39m \u001B[38;5;28;43mself\u001B[39;49m\u001B[38;5;241;43m.\u001B[39;49m\u001B[43m_get_loc_single_level_index\u001B[49m\u001B[43m(\u001B[49m\u001B[43mlevel_index\u001B[49m\u001B[43m,\u001B[49m\u001B[43m \u001B[49m\u001B[43mkey\u001B[49m\u001B[43m)\u001B[49m\n\u001B[0;32m   3224\u001B[0m     \u001B[38;5;28;01mif\u001B[39;00m level \u001B[38;5;241m>\u001B[39m \u001B[38;5;241m0\u001B[39m \u001B[38;5;129;01mor\u001B[39;00m \u001B[38;5;28mself\u001B[39m\u001B[38;5;241m.\u001B[39m_lexsort_depth \u001B[38;5;241m==\u001B[39m \u001B[38;5;241m0\u001B[39m:\n\u001B[0;32m   3225\u001B[0m         \u001B[38;5;66;03m# Desired level is not sorted\u001B[39;00m\n\u001B[0;32m   3226\u001B[0m         \u001B[38;5;28;01mif\u001B[39;00m \u001B[38;5;28misinstance\u001B[39m(idx, \u001B[38;5;28mslice\u001B[39m):\n\u001B[0;32m   3227\u001B[0m             \u001B[38;5;66;03m# test_get_loc_partial_timestamp_multiindex\u001B[39;00m\n",
      "File \u001B[1;32m~\\anaconda3\\envs\\abm-env\\lib\\site-packages\\pandas\\core\\indexes\\multi.py:2802\u001B[0m, in \u001B[0;36mMultiIndex._get_loc_single_level_index\u001B[1;34m(self, level_index, key)\u001B[0m\n\u001B[0;32m   2800\u001B[0m     \u001B[38;5;28;01mreturn\u001B[39;00m \u001B[38;5;241m-\u001B[39m\u001B[38;5;241m1\u001B[39m\n\u001B[0;32m   2801\u001B[0m \u001B[38;5;28;01melse\u001B[39;00m:\n\u001B[1;32m-> 2802\u001B[0m     \u001B[38;5;28;01mreturn\u001B[39;00m \u001B[43mlevel_index\u001B[49m\u001B[38;5;241;43m.\u001B[39;49m\u001B[43mget_loc\u001B[49m\u001B[43m(\u001B[49m\u001B[43mkey\u001B[49m\u001B[43m)\u001B[49m\n",
      "File \u001B[1;32m~\\anaconda3\\envs\\abm-env\\lib\\site-packages\\pandas\\core\\indexes\\base.py:3631\u001B[0m, in \u001B[0;36mIndex.get_loc\u001B[1;34m(self, key, method, tolerance)\u001B[0m\n\u001B[0;32m   3629\u001B[0m     \u001B[38;5;28;01mreturn\u001B[39;00m \u001B[38;5;28mself\u001B[39m\u001B[38;5;241m.\u001B[39m_engine\u001B[38;5;241m.\u001B[39mget_loc(casted_key)\n\u001B[0;32m   3630\u001B[0m \u001B[38;5;28;01mexcept\u001B[39;00m \u001B[38;5;167;01mKeyError\u001B[39;00m \u001B[38;5;28;01mas\u001B[39;00m err:\n\u001B[1;32m-> 3631\u001B[0m     \u001B[38;5;28;01mraise\u001B[39;00m \u001B[38;5;167;01mKeyError\u001B[39;00m(key) \u001B[38;5;28;01mfrom\u001B[39;00m \u001B[38;5;21;01merr\u001B[39;00m\n\u001B[0;32m   3632\u001B[0m \u001B[38;5;28;01mexcept\u001B[39;00m \u001B[38;5;167;01mTypeError\u001B[39;00m:\n\u001B[0;32m   3633\u001B[0m     \u001B[38;5;66;03m# If we have a listlike key, _check_indexing_error will raise\u001B[39;00m\n\u001B[0;32m   3634\u001B[0m     \u001B[38;5;66;03m#  InvalidIndexError. Otherwise we fall through and re-raise\u001B[39;00m\n\u001B[0;32m   3635\u001B[0m     \u001B[38;5;66;03m#  the TypeError.\u001B[39;00m\n\u001B[0;32m   3636\u001B[0m     \u001B[38;5;28mself\u001B[39m\u001B[38;5;241m.\u001B[39m_check_indexing_error(key)\n",
      "\u001B[1;31mKeyError\u001B[0m: 1020"
     ]
    }
   ],
   "source": [
    "dfs_e = sample_dist(dist_e, 300, 30, 200)\n",
    "\n",
    "df_e = reduce(lambda left, right: pd.merge(left, right, on=[\"effort\"], how=\"outer\"), dfs_e)\n",
    "df_e['avg'] = df_e.iloc[:, 1:].mean(axis=1)\n",
    "df_e = df_e.iloc[1:, :]\n",
    "dfplot_e = df_e[[\"effort\", \"avg\"]]\n",
    "x_effort = df_e[\"effort\"].values.tolist()\n",
    "y_frequency_e = df3[\"avg\"].values.tolist()"
   ],
   "metadata": {
    "collapsed": false,
    "pycharm": {
     "name": "#%%\n"
    }
   }
  },
  {
   "cell_type": "code",
   "execution_count": 923,
   "outputs": [
    {
     "ename": "NameError",
     "evalue": "name 'y_frequency_e' is not defined",
     "output_type": "error",
     "traceback": [
      "\u001B[1;31m---------------------------------------------------------------------------\u001B[0m",
      "\u001B[1;31mNameError\u001B[0m                                 Traceback (most recent call last)",
      "Input \u001B[1;32mIn [923]\u001B[0m, in \u001B[0;36m<cell line: 1>\u001B[1;34m()\u001B[0m\n\u001B[1;32m----> 1\u001B[0m \u001B[43my_frequency_e\u001B[49m\n",
      "\u001B[1;31mNameError\u001B[0m: name 'y_frequency_e' is not defined"
     ]
    }
   ],
   "source": [
    "y_frequency_e"
   ],
   "metadata": {
    "collapsed": false,
    "pycharm": {
     "name": "#%%\n"
    }
   }
  },
  {
   "cell_type": "code",
   "execution_count": 924,
   "outputs": [
    {
     "ename": "NameError",
     "evalue": "name 'dfplot_e' is not defined",
     "output_type": "error",
     "traceback": [
      "\u001B[1;31m---------------------------------------------------------------------------\u001B[0m",
      "\u001B[1;31mNameError\u001B[0m                                 Traceback (most recent call last)",
      "Input \u001B[1;32mIn [924]\u001B[0m, in \u001B[0;36m<cell line: 5>\u001B[1;34m()\u001B[0m\n\u001B[0;32m      3\u001B[0m ax\u001B[38;5;241m.\u001B[39mset_xlim([\u001B[38;5;241m0\u001B[39m,\u001B[38;5;241m1\u001B[39m])\n\u001B[0;32m      4\u001B[0m ax\u001B[38;5;241m.\u001B[39mset_title(\u001B[38;5;124m\"\u001B[39m\u001B[38;5;124mEffort Dist\u001B[39m\u001B[38;5;124m\"\u001B[39m)\n\u001B[1;32m----> 5\u001B[0m \u001B[43mdfplot_e\u001B[49m\u001B[38;5;241m.\u001B[39mplot(\u001B[38;5;124m\"\u001B[39m\u001B[38;5;124meffort\u001B[39m\u001B[38;5;124m\"\u001B[39m,\u001B[38;5;124m\"\u001B[39m\u001B[38;5;124mavg\u001B[39m\u001B[38;5;124m\"\u001B[39m,kind\u001B[38;5;241m=\u001B[39m\u001B[38;5;124m\"\u001B[39m\u001B[38;5;124mscatter\u001B[39m\u001B[38;5;124m\"\u001B[39m, ax\u001B[38;5;241m=\u001B[39max, linewidth\u001B[38;5;241m=\u001B[39m\u001B[38;5;241m0.75\u001B[39m, alpha\u001B[38;5;241m=\u001B[39m\u001B[38;5;241m0.8\u001B[39m)\n\u001B[0;32m      6\u001B[0m plt\u001B[38;5;241m.\u001B[39mshow()\n",
      "\u001B[1;31mNameError\u001B[0m: name 'dfplot_e' is not defined"
     ]
    },
    {
     "data": {
      "text/plain": "<Figure size 539.643x333.518 with 1 Axes>",
      "image/png": "[encoded data removed]"
     },
     "metadata": {},
     "output_type": "display_data"
    }
   ],
   "source": [
    "fig, ax = plt.subplots(1, 1, figsize=set_size(width))\n",
    "ax.set_ylim([0,0.02])\n",
    "ax.set_xlim([0,1])\n",
    "ax.set_title(\"Effort Dist\")\n",
    "dfplot_e.plot(\"effort\",\"avg\",kind=\"scatter\", ax=ax, linewidth=0.75, alpha=0.8)\n",
    "plt.show()"
   ],
   "metadata": {
    "collapsed": false,
    "pycharm": {
     "name": "#%%\n"
    }
   }
  },
  {
   "cell_type": "code",
   "execution_count": null,
   "outputs": [],
   "source": [],
   "metadata": {
    "collapsed": false,
    "pycharm": {
     "name": "#%%\n"
    }
   }
  }
 ],
 "metadata": {
  "kernelspec": {
   "display_name": "Python 3",
   "language": "python",
   "name": "python3"
  },
  "language_info": {
   "codemirror_mode": {
    "name": "ipython",
    "version": 2
   },
   "file_extension": ".py",
   "mimetype": "text/x-python",
   "name": "python",
   "nbconvert_exporter": "python",
   "pygments_lexer": "ipython2",
   "version": "2.7.6"
  }
 },
 "nbformat": 4,
 "nbformat_minor": 0
}