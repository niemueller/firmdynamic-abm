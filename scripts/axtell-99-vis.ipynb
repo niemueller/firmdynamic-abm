{
 "cells": [
  {
   "cell_type": "markdown",
   "source": [
    "Skript to Visualize and Replicate Axtell 99"
   ],
   "metadata": {
    "collapsed": false,
    "pycharm": {
     "name": "#%% md\n"
    }
   }
  },
  {
   "cell_type": "code",
   "execution_count": 1,
   "outputs": [],
   "source": [
    "import matplotlib.pyplot as plt\n",
    "import dask.dataframe as dd\n",
    "import pandas as pd\n",
    "import scipy.signal\n",
    "import numpy as np"
   ],
   "metadata": {
    "collapsed": false,
    "pycharm": {
     "name": "#%%\n"
    }
   }
  },
  {
   "cell_type": "code",
   "execution_count": 320,
   "outputs": [],
   "source": [
    "out_dir = \"../results/axtell_99\""
   ],
   "metadata": {
    "collapsed": false,
    "pycharm": {
     "name": "#%%\n"
    }
   }
  },
  {
   "cell_type": "code",
   "execution_count": 321,
   "outputs": [],
   "source": [
    "opttype = 1"
   ],
   "metadata": {
    "collapsed": false,
    "pycharm": {
     "name": "#%%\n"
    }
   }
  },
  {
   "cell_type": "code",
   "execution_count": 541,
   "outputs": [],
   "source": [
    "run = 999"
   ],
   "metadata": {
    "collapsed": false,
    "pycharm": {
     "name": "#%%\n"
    }
   }
  },
  {
   "cell_type": "code",
   "execution_count": 542,
   "outputs": [],
   "source": [
    "def set_size(width, fraction=1):\n",
    "    \"\"\"Set figure dimensions to avoid scaling in LaTeX.\n",
    "\n",
    "    Parameters\n",
    "    ----------\n",
    "    width: float\n",
    "            Document textwidth or columnwidth in pts\n",
    "    fraction: float, optional\n",
    "            Fraction of the width which you wish the figure to occupy\n",
    "\n",
    "    Returns\n",
    "    -------\n",
    "    fig_dim: tuple\n",
    "            Dimensions of figure in inches\n",
    "    \"\"\"\n",
    "    # Width of figure (in pts)\n",
    "    fig_width_pt = width * fraction\n",
    "\n",
    "    # Convert from pt to inches\n",
    "    inches_per_pt = 1 / 72.27\n",
    "\n",
    "    # Golden ratio to set aesthetic figure height\n",
    "    # https://disq.us/p/2940ij3\n",
    "    golden_ratio = (5**.5 - 1) / 2\n",
    "\n",
    "    # Figure width in inches\n",
    "    fig_width_in = fig_width_pt * inches_per_pt\n",
    "    # Figure height in inches\n",
    "    fig_height_in = fig_width_in * golden_ratio\n",
    "\n",
    "    fig_dim = (fig_width_in, fig_height_in)\n",
    "\n",
    "    return fig_dim"
   ],
   "metadata": {
    "collapsed": false,
    "pycharm": {
     "name": "#%%\n"
    }
   }
  },
  {
   "cell_type": "code",
   "execution_count": 663,
   "outputs": [],
   "source": [
    "path_f = f\"{out_dir}/res_firm_agent_run{run}_opttype{opttype}.csv.gz\""
   ],
   "metadata": {
    "collapsed": false,
    "pycharm": {
     "name": "#%%\n"
    }
   }
  },
  {
   "cell_type": "code",
   "execution_count": 664,
   "outputs": [],
   "source": [
    "path_w = f\"{out_dir}/res_worker_agent_run{run}_opttype{opttype}.csv.gz\""
   ],
   "metadata": {
    "collapsed": false,
    "pycharm": {
     "name": "#%%\n"
    }
   }
  },
  {
   "cell_type": "code",
   "execution_count": 665,
   "outputs": [],
   "source": [
    "path_m = f\"{out_dir}/res_model_agent_run{run}_opttype{opttype}.csv.gz\""
   ],
   "metadata": {
    "collapsed": false,
    "pycharm": {
     "name": "#%%\n"
    }
   }
  },
  {
   "cell_type": "code",
   "execution_count": 666,
   "outputs": [],
   "source": [
    "model_dk = dd.read_csv(path_m, blocksize=None)"
   ],
   "metadata": {
    "collapsed": false,
    "pycharm": {
     "name": "#%%\n"
    }
   }
  },
  {
   "cell_type": "code",
   "execution_count": 667,
   "outputs": [],
   "source": [
    "worker_dk = dd.read_csv(path_w, blocksize=None)"
   ],
   "metadata": {
    "collapsed": false,
    "pycharm": {
     "name": "#%%\n"
    }
   }
  },
  {
   "cell_type": "code",
   "execution_count": 668,
   "outputs": [],
   "source": [
    "worker_df = worker_dk.groupby(\"t\").mean().compute()"
   ],
   "metadata": {
    "collapsed": false,
    "pycharm": {
     "name": "#%%\n"
    }
   }
  },
  {
   "cell_type": "code",
   "execution_count": 669,
   "outputs": [
    {
     "data": {
      "text/plain": "         id    effort      wealth    income  tenure  preference\nt                                                              \n0    1000.0  0.446239    0.777353  0.777353   1.000    0.501897\n1    1000.0  0.415251    1.586440  0.809086   1.516    0.501897\n2    1000.0  0.396410    2.403211  0.816771   1.778    0.501897\n3    1000.0  0.378963    3.192712  0.789501   1.933    0.501897\n4    1000.0  0.373599    3.985038  0.792326   2.035    0.501897\n..      ...       ...         ...       ...     ...         ...\n995  1000.0  0.355768  786.393749  0.753212   2.273    0.501897\n996  1000.0  0.362811  787.155167  0.761419   2.166    0.501897\n997  1000.0  0.369160  787.929318  0.774150   2.134    0.501897\n998  1000.0  0.372680  788.725928  0.796610   2.089    0.501897\n999  1000.0  0.367469  789.528158  0.802230   2.046    0.501897\n\n[1000 rows x 6 columns]",
      "text/html": "<div>\n<style scoped>\n    .dataframe tbody tr th:only-of-type {\n        vertical-align: middle;\n    }\n\n    .dataframe tbody tr th {\n        vertical-align: top;\n    }\n\n    .dataframe thead th {\n        text-align: right;\n    }\n</style>\n<table border=\"1\" class=\"dataframe\">\n  <thead>\n    <tr style=\"text-align: right;\">\n      <th></th>\n      <th>id</th>\n      <th>effort</th>\n      <th>wealth</th>\n      <th>income</th>\n      <th>tenure</th>\n      <th>preference</th>\n    </tr>\n    <tr>\n      <th>t</th>\n      <th></th>\n      <th></th>\n      <th></th>\n      <th></th>\n      <th></th>\n      <th></th>\n    </tr>\n  </thead>\n  <tbody>\n    <tr>\n      <th>0</th>\n      <td>1000.0</td>\n      <td>0.446239</td>\n      <td>0.777353</td>\n      <td>0.777353</td>\n      <td>1.000</td>\n      <td>0.501897</td>\n    </tr>\n    <tr>\n      <th>1</th>\n      <td>1000.0</td>\n      <td>0.415251</td>\n      <td>1.586440</td>\n      <td>0.809086</td>\n      <td>1.516</td>\n      <td>0.501897</td>\n    </tr>\n    <tr>\n      <th>2</th>\n      <td>1000.0</td>\n      <td>0.396410</td>\n      <td>2.403211</td>\n      <td>0.816771</td>\n      <td>1.778</td>\n      <td>0.501897</td>\n    </tr>\n    <tr>\n      <th>3</th>\n      <td>1000.0</td>\n      <td>0.378963</td>\n      <td>3.192712</td>\n      <td>0.789501</td>\n      <td>1.933</td>\n      <td>0.501897</td>\n    </tr>\n    <tr>\n      <th>4</th>\n      <td>1000.0</td>\n      <td>0.373599</td>\n      <td>3.985038</td>\n      <td>0.792326</td>\n      <td>2.035</td>\n      <td>0.501897</td>\n    </tr>\n    <tr>\n      <th>...</th>\n      <td>...</td>\n      <td>...</td>\n      <td>...</td>\n      <td>...</td>\n      <td>...</td>\n      <td>...</td>\n    </tr>\n    <tr>\n      <th>995</th>\n      <td>1000.0</td>\n      <td>0.355768</td>\n      <td>786.393749</td>\n      <td>0.753212</td>\n      <td>2.273</td>\n      <td>0.501897</td>\n    </tr>\n    <tr>\n      <th>996</th>\n      <td>1000.0</td>\n      <td>0.362811</td>\n      <td>787.155167</td>\n      <td>0.761419</td>\n      <td>2.166</td>\n      <td>0.501897</td>\n    </tr>\n    <tr>\n      <th>997</th>\n      <td>1000.0</td>\n      <td>0.369160</td>\n      <td>787.929318</td>\n      <td>0.774150</td>\n      <td>2.134</td>\n      <td>0.501897</td>\n    </tr>\n    <tr>\n      <th>998</th>\n      <td>1000.0</td>\n      <td>0.372680</td>\n      <td>788.725928</td>\n      <td>0.796610</td>\n      <td>2.089</td>\n      <td>0.501897</td>\n    </tr>\n    <tr>\n      <th>999</th>\n      <td>1000.0</td>\n      <td>0.367469</td>\n      <td>789.528158</td>\n      <td>0.802230</td>\n      <td>2.046</td>\n      <td>0.501897</td>\n    </tr>\n  </tbody>\n</table>\n<p>1000 rows × 6 columns</p>\n</div>"
     },
     "execution_count": 669,
     "metadata": {},
     "output_type": "execute_result"
    }
   ],
   "source": [
    "worker_df"
   ],
   "metadata": {
    "collapsed": false,
    "pycharm": {
     "name": "#%%\n"
    }
   }
  },
  {
   "cell_type": "code",
   "execution_count": 670,
   "outputs": [],
   "source": [
    "firm_dk = dd.read_csv(path_f, blocksize=None , dtype={\n",
    "    \"t\": \"int16\",\n",
    "    \"id\": \"int32\",\n",
    "    \"age\": \"int16\",\n",
    "    \"number_employees\": \"int32\",\n",
    "    \"total_effort\": \"float64\",\n",
    "    \"output\": \"float64\",\n",
    "    \"average_pref\": \"float64\"}\n",
    ")"
   ],
   "metadata": {
    "collapsed": false,
    "pycharm": {
     "name": "#%%\n"
    }
   }
  },
  {
   "cell_type": "code",
   "execution_count": 671,
   "outputs": [],
   "source": [
    "df = model_dk.compute()"
   ],
   "metadata": {
    "collapsed": false,
    "pycharm": {
     "name": "#%%\n"
    }
   }
  },
  {
   "cell_type": "code",
   "execution_count": 672,
   "outputs": [],
   "source": [
    "average_number_of_firms = df[\"total_firms\"].mean()"
   ],
   "metadata": {
    "collapsed": false,
    "pycharm": {
     "name": "#%%\n"
    }
   }
  },
  {
   "cell_type": "code",
   "execution_count": 673,
   "outputs": [
    {
     "data": {
      "text/plain": "538.381"
     },
     "execution_count": 673,
     "metadata": {},
     "output_type": "execute_result"
    }
   ],
   "source": [
    "average_number_of_firms"
   ],
   "metadata": {
    "collapsed": false,
    "pycharm": {
     "name": "#%%\n"
    }
   }
  },
  {
   "cell_type": "code",
   "execution_count": 674,
   "outputs": [],
   "source": [
    "firm_number = firm_dk.groupby(firm_dk.t).t.size().mean()"
   ],
   "metadata": {
    "collapsed": false,
    "pycharm": {
     "name": "#%%\n"
    }
   }
  },
  {
   "cell_type": "code",
   "execution_count": 675,
   "outputs": [],
   "source": [
    "workers_check = firm_dk.groupby(\"t\").number_employees.sum().compute()"
   ],
   "metadata": {
    "collapsed": false,
    "pycharm": {
     "name": "#%%\n"
    }
   }
  },
  {
   "cell_type": "code",
   "execution_count": 676,
   "outputs": [
    {
     "data": {
      "text/plain": "t\n0      1000\n1      1000\n2      1000\n3      1000\n4      1000\n       ... \n995    1000\n996    1000\n997    1000\n998    1000\n999    1000\nName: number_employees, Length: 1000, dtype: int32"
     },
     "execution_count": 676,
     "metadata": {},
     "output_type": "execute_result"
    }
   ],
   "source": [
    "workers_check"
   ],
   "metadata": {
    "collapsed": false,
    "pycharm": {
     "name": "#%%\n"
    }
   }
  },
  {
   "cell_type": "code",
   "execution_count": 677,
   "outputs": [
    {
     "data": {
      "text/plain": "538.381"
     },
     "execution_count": 677,
     "metadata": {},
     "output_type": "execute_result"
    }
   ],
   "source": [
    "firm_number.compute()"
   ],
   "metadata": {
    "collapsed": false,
    "pycharm": {
     "name": "#%%\n"
    }
   }
  },
  {
   "cell_type": "code",
   "execution_count": 678,
   "outputs": [],
   "source": [
    "width = 390"
   ],
   "metadata": {
    "collapsed": false,
    "pycharm": {
     "name": "#%%\n"
    }
   }
  },
  {
   "cell_type": "code",
   "execution_count": 679,
   "outputs": [
    {
     "data": {
      "text/plain": "<Figure size 539.643x333.518 with 1 Axes>",
      "image/png": "[encoded data removed]"
     },
     "metadata": {},
     "output_type": "display_data"
    }
   ],
   "source": [
    "fig, ax = plt.subplots(1, 1, figsize=set_size(width))\n",
    "ax.set_ylim([0,700])\n",
    "ax.set_xlim([0,1000])\n",
    "df.plot(kind=\"line\", y = \"total_firms\", x=\"t\", ax=ax, linewidth=0.75, alpha=0.8)\n",
    "df.plot(kind=\"line\", y = \"numb_new_firms\", x=\"t\", color=\"darkgreen\", ax=ax, linewidth=0.75, alpha=0.8)\n",
    "plt.show()"
   ],
   "metadata": {
    "collapsed": false,
    "pycharm": {
     "name": "#%%\n"
    }
   }
  },
  {
   "cell_type": "code",
   "execution_count": 680,
   "outputs": [
    {
     "data": {
      "text/plain": "<Figure size 539.643x333.518 with 1 Axes>",
      "image/png": "[encoded data removed]"
     },
     "metadata": {},
     "output_type": "display_data"
    }
   ],
   "source": [
    "fig, ax = plt.subplots(1, 1, figsize=set_size(width))\n",
    "ax.set_ylim([-0.1,0.1])\n",
    "pd.plotting.autocorrelation_plot(series=df.total_firms, ax = ax)\n",
    "plt.show()"
   ],
   "metadata": {
    "collapsed": false,
    "pycharm": {
     "name": "#%%\n"
    }
   }
  },
  {
   "cell_type": "code",
   "execution_count": 681,
   "outputs": [],
   "source": [
    "average_firm = firm_dk.groupby(firm_dk.t).number_employees.mean().compute()"
   ],
   "metadata": {
    "collapsed": false,
    "pycharm": {
     "name": "#%%\n"
    }
   }
  },
  {
   "cell_type": "code",
   "execution_count": 682,
   "outputs": [
    {
     "data": {
      "text/plain": "t\n0      1.265823\n1      1.536098\n2      1.692047\n3      1.795332\n4      1.841621\n         ...   \n995    1.901141\n996    1.879699\n997    1.779359\n998    1.788909\n999    1.886792\nName: number_employees, Length: 1000, dtype: float64"
     },
     "execution_count": 682,
     "metadata": {},
     "output_type": "execute_result"
    }
   ],
   "source": [
    "average_firm"
   ],
   "metadata": {
    "collapsed": false,
    "pycharm": {
     "name": "#%%\n"
    }
   }
  },
  {
   "cell_type": "code",
   "execution_count": 683,
   "outputs": [],
   "source": [
    "max_firm = firm_dk.groupby(firm_dk.t).number_employees.max().compute()"
   ],
   "metadata": {
    "collapsed": false,
    "pycharm": {
     "name": "#%%\n"
    }
   }
  },
  {
   "cell_type": "code",
   "execution_count": 684,
   "outputs": [
    {
     "data": {
      "text/plain": "t\n0       4\n1       5\n2       6\n3       7\n4       8\n       ..\n995    25\n996    16\n997    10\n998    11\n999    11\nName: number_employees, Length: 1000, dtype: int32"
     },
     "execution_count": 684,
     "metadata": {},
     "output_type": "execute_result"
    }
   ],
   "source": [
    "max_firm"
   ],
   "metadata": {
    "collapsed": false,
    "pycharm": {
     "name": "#%%\n"
    }
   }
  },
  {
   "cell_type": "code",
   "execution_count": 685,
   "outputs": [
    {
     "name": "stdout",
     "output_type": "stream",
     "text": [
      "15.434\n"
     ]
    }
   ],
   "source": [
    "print(max_firm.mean())"
   ],
   "metadata": {
    "collapsed": false,
    "pycharm": {
     "name": "#%%\n"
    }
   }
  },
  {
   "cell_type": "code",
   "execution_count": 686,
   "outputs": [
    {
     "data": {
      "text/plain": "<Figure size 539.643x333.518 with 1 Axes>",
      "image/png": "[encoded data removed]"
     },
     "metadata": {},
     "output_type": "display_data"
    }
   ],
   "source": [
    "fig, ax = plt.subplots(1, 1, figsize=set_size(width))\n",
    "ax.set_ylim([0,30])\n",
    "ax.set_xlim([0,1000])\n",
    "ax.set_title(\"Largest Firm Size\")\n",
    "max_firm.plot(kind=\"line\", y = \"Largest Firm Size\", x=\"t\", ax=ax, linewidth=0.75, alpha=0.8)\n",
    "plt.show()"
   ],
   "metadata": {
    "collapsed": false,
    "pycharm": {
     "name": "#%%\n"
    }
   }
  },
  {
   "cell_type": "code",
   "execution_count": 687,
   "outputs": [
    {
     "data": {
      "text/plain": "<Figure size 539.643x333.518 with 1 Axes>",
      "image/png": "[encoded data removed]"
     },
     "metadata": {},
     "output_type": "display_data"
    }
   ],
   "source": [
    "fig, ax = plt.subplots(1, 1, figsize=set_size(width))\n",
    "ax.set_ylim([0,5])\n",
    "ax.set_xlim([0,1000])\n",
    "ax.set_title(\"Average Firm Size\")\n",
    "average_firm.plot(kind=\"line\", y = \"Average Firm Size\", x=\"t\", color=\"darkgreen\", ax=ax, linewidth=0.75, alpha=0.8)\n",
    "plt.show()"
   ],
   "metadata": {
    "collapsed": false,
    "pycharm": {
     "name": "#%%\n"
    }
   }
  },
  {
   "cell_type": "markdown",
   "source": [
    "Effort Levels"
   ],
   "metadata": {
    "collapsed": false,
    "pycharm": {
     "name": "#%% md\n"
    }
   }
  },
  {
   "cell_type": "markdown",
   "source": [
    "Average effort level (from worker df)"
   ],
   "metadata": {
    "collapsed": false,
    "pycharm": {
     "name": "#%% md\n"
    }
   }
  },
  {
   "cell_type": "code",
   "execution_count": 688,
   "outputs": [],
   "source": [
    "worker_dk = dd.read_csv(path_w, blocksize=None)"
   ],
   "metadata": {
    "collapsed": false,
    "pycharm": {
     "name": "#%%\n"
    }
   }
  },
  {
   "cell_type": "code",
   "execution_count": 689,
   "outputs": [],
   "source": [
    "avg_effort = worker_dk.groupby(worker_dk.t).effort.mean().compute()"
   ],
   "metadata": {
    "collapsed": false,
    "pycharm": {
     "name": "#%%\n"
    }
   }
  },
  {
   "cell_type": "code",
   "execution_count": 690,
   "outputs": [
    {
     "data": {
      "text/plain": "t\n0      0.446239\n1      0.415251\n2      0.396410\n3      0.378963\n4      0.373599\n         ...   \n995    0.355768\n996    0.362811\n997    0.369160\n998    0.372680\n999    0.367469\nName: effort, Length: 1000, dtype: float64"
     },
     "execution_count": 690,
     "metadata": {},
     "output_type": "execute_result"
    }
   ],
   "source": [
    "avg_effort"
   ],
   "metadata": {
    "collapsed": false,
    "pycharm": {
     "name": "#%%\n"
    }
   }
  },
  {
   "cell_type": "code",
   "execution_count": 691,
   "outputs": [
    {
     "data": {
      "text/plain": "Dask Series Structure:\nnpartitions=1\n    int64\n      ...\nName: number_employees, dtype: int64\nDask Name: series-groupby-idxmax-agg, 8 tasks"
     },
     "execution_count": 691,
     "metadata": {},
     "output_type": "execute_result"
    }
   ],
   "source": [
    "firm_dk.assign(avg_e = firm_dk.total_effort/firm_dk.number_employees).groupby(firm_dk.t).number_employees.idxmax()"
   ],
   "metadata": {
    "collapsed": false,
    "pycharm": {
     "name": "#%%\n"
    }
   }
  },
  {
   "cell_type": "code",
   "execution_count": 692,
   "outputs": [
    {
     "name": "stderr",
     "output_type": "stream",
     "text": [
      "C:\\Users\\41782\\AppData\\Local\\Temp\\ipykernel_11168\\188437644.py:1: UserWarning: `meta` is not specified, inferred from partial data. Please provide `meta` if the result is unexpected.\n",
      "  Before: .transform(func)\n",
      "  After:  .transform(func, meta={'x': 'f8', 'y': 'f8'}) for dataframe result\n",
      "  or:     .transform(func, meta=('x', 'f8'))            for series result\n",
      "  filtered_firm_dk = firm_dk[firm_dk.groupby([\"t\"]).number_employees.transform(max) == firm_dk[\"number_employees\"]].assign(avg_e = firm_dk.total_effort/firm_dk.number_employees)\n"
     ]
    }
   ],
   "source": [
    "filtered_firm_dk = firm_dk[firm_dk.groupby([\"t\"]).number_employees.transform(max) == firm_dk[\"number_employees\"]].assign(avg_e = firm_dk.total_effort/firm_dk.number_employees)"
   ],
   "metadata": {
    "collapsed": false,
    "pycharm": {
     "name": "#%%\n"
    }
   }
  },
  {
   "cell_type": "code",
   "execution_count": 693,
   "outputs": [],
   "source": [
    "avg_effort_maxfirm = filtered_firm_dk.groupby(\"t\").avg_e.mean().compute()"
   ],
   "metadata": {
    "collapsed": false,
    "pycharm": {
     "name": "#%%\n"
    }
   }
  },
  {
   "cell_type": "code",
   "execution_count": 694,
   "outputs": [
    {
     "data": {
      "text/plain": "t\n0      0.241173\n1      0.176044\n2      0.315666\n3      0.124451\n4      0.279657\n         ...   \n995    0.093986\n996    0.067307\n997    0.061481\n998    0.360527\n999    0.330196\nName: avg_e, Length: 1000, dtype: float64"
     },
     "execution_count": 694,
     "metadata": {},
     "output_type": "execute_result"
    }
   ],
   "source": [
    "avg_effort_maxfirm"
   ],
   "metadata": {
    "collapsed": false,
    "pycharm": {
     "name": "#%%\n"
    }
   }
  },
  {
   "cell_type": "code",
   "execution_count": 695,
   "outputs": [
    {
     "data": {
      "text/plain": "<Figure size 539.643x333.518 with 1 Axes>",
      "image/png": "[encoded data removed]"
     },
     "metadata": {},
     "output_type": "display_data"
    }
   ],
   "source": [
    "fig, ax = plt.subplots(1, 1, figsize=set_size(width))\n",
    "ax.set_ylim([0,0.7])\n",
    "ax.set_xlim([0,100])\n",
    "ax.set_title(\"Average Effort\")\n",
    "avg_effort_maxfirm.plot(kind=\"line\", y = \"avg_e\", x=\"t\", ax=ax, linewidth=0.75, alpha=0.8)\n",
    "avg_effort.plot(kind=\"line\", y = \"effort\", x=\"t\", color=\"darkgreen\", ax=ax, linewidth=0.75, alpha=0.8)\n",
    "plt.show()"
   ],
   "metadata": {
    "collapsed": false,
    "pycharm": {
     "name": "#%%\n"
    }
   }
  },
  {
   "cell_type": "markdown",
   "source": [
    "Output Total and Largest Firm"
   ],
   "metadata": {
    "collapsed": false,
    "pycharm": {
     "name": "#%% md\n"
    }
   }
  },
  {
   "cell_type": "code",
   "execution_count": 696,
   "outputs": [
    {
     "name": "stderr",
     "output_type": "stream",
     "text": [
      "C:\\Users\\41782\\AppData\\Local\\Temp\\ipykernel_11168\\2543161246.py:1: UserWarning: `meta` is not specified, inferred from partial data. Please provide `meta` if the result is unexpected.\n",
      "  Before: .transform(func)\n",
      "  After:  .transform(func, meta={'x': 'f8', 'y': 'f8'}) for dataframe result\n",
      "  or:     .transform(func, meta=('x', 'f8'))            for series result\n",
      "  filtered_firm_dk2 = firm_dk[firm_dk.groupby([\"t\"]).number_employees.transform(max) == firm_dk[\"number_employees\"]]\n"
     ]
    }
   ],
   "source": [
    "filtered_firm_dk2 = firm_dk[firm_dk.groupby([\"t\"]).number_employees.transform(max) == firm_dk[\"number_employees\"]]"
   ],
   "metadata": {
    "collapsed": false,
    "pycharm": {
     "name": "#%%\n"
    }
   }
  },
  {
   "cell_type": "code",
   "execution_count": 697,
   "outputs": [],
   "source": [
    "output_max_firm = filtered_firm_dk2.groupby(\"t\").output.max().compute()"
   ],
   "metadata": {
    "collapsed": false,
    "pycharm": {
     "name": "#%%\n"
    }
   }
  },
  {
   "cell_type": "code",
   "execution_count": 698,
   "outputs": [
    {
     "data": {
      "text/plain": "t\n0       1.993403\n1       3.571743\n2       6.141727\n3       2.465736\n4       7.242581\n         ...    \n995     7.870567\n996     2.236653\n997     0.992797\n998    19.693313\n999    23.275882\nName: output, Length: 1000, dtype: float64"
     },
     "execution_count": 698,
     "metadata": {},
     "output_type": "execute_result"
    }
   ],
   "source": [
    "output_max_firm"
   ],
   "metadata": {
    "collapsed": false,
    "pycharm": {
     "name": "#%%\n"
    }
   }
  },
  {
   "cell_type": "code",
   "execution_count": 699,
   "outputs": [],
   "source": [
    "output_total = firm_dk.groupby(\"t\").output.sum().compute()"
   ],
   "metadata": {
    "collapsed": false,
    "pycharm": {
     "name": "#%%\n"
    }
   }
  },
  {
   "cell_type": "code",
   "execution_count": 700,
   "outputs": [
    {
     "data": {
      "text/plain": "t\n0      777.353455\n1      809.086370\n2      816.771497\n3      789.500896\n4      792.326276\n          ...    \n995    753.212465\n996    761.418859\n997    774.150425\n998    796.609860\n999    802.229933\nName: output, Length: 1000, dtype: float64"
     },
     "execution_count": 700,
     "metadata": {},
     "output_type": "execute_result"
    }
   ],
   "source": [
    "output_total"
   ],
   "metadata": {
    "collapsed": false,
    "pycharm": {
     "name": "#%%\n"
    }
   }
  },
  {
   "cell_type": "code",
   "execution_count": 701,
   "outputs": [
    {
     "data": {
      "text/plain": "<Figure size 539.643x333.518 with 1 Axes>",
      "image/png": "[encoded data removed]"
     },
     "metadata": {},
     "output_type": "display_data"
    }
   ],
   "source": [
    "fig, ax = plt.subplots(1, 1, figsize=set_size(width))\n",
    "ax.set_ylim([0,1500])\n",
    "ax.set_xlim([0,100])\n",
    "ax.set_title(\"Output\")\n",
    "output_total.plot(kind=\"line\", y = \"output\", x=\"t\", ax=ax, linewidth=0.75, alpha=0.8, color=\"darkgreen\")\n",
    "output_max_firm.plot(kind=\"line\", y = \"output\", x=\"t\", ax=ax, linewidth=0.75, alpha=0.8)\n",
    "plt.show()"
   ],
   "metadata": {
    "collapsed": false,
    "pycharm": {
     "name": "#%%\n"
    }
   }
  },
  {
   "cell_type": "markdown",
   "source": [
    "Distribution of Firm Sizes\n",
    "The distribution of firm sizes across industries has a very characteristic\n",
    "shape, that of a power law (also commonly known as a scaling law or Pareto\n",
    "distribution). Data on firm sizes, measured variously, have proven to have\n",
    "broadly robust power law behavior over many decades and across national\n",
    "borders, this despite waves of mergers and acquisitions. Power law\n",
    "distributions of firm sizes are also characteristic of the non-equilibrium\n",
    "model described above. This is studied in the next section. Following that,\n",
    "the distribution of firm growth rates yielded by the model is compared with\n",
    "data. Then, the distribution of firm lifetimes the model produces is studied.\n",
    "These also follow a power law.\n",
    "Axtell 99 S.39"
   ],
   "metadata": {
    "collapsed": false,
    "pycharm": {
     "name": "#%% md\n"
    }
   }
  },
  {
   "cell_type": "markdown",
   "source": [
    "Maximum firm age (for sampling period)"
   ],
   "metadata": {
    "collapsed": false,
    "pycharm": {
     "name": "#%% md\n"
    }
   }
  },
  {
   "cell_type": "code",
   "execution_count": 702,
   "outputs": [],
   "source": [
    "max_age = firm_dk[\"age\"].max().compute()"
   ],
   "metadata": {
    "collapsed": false,
    "pycharm": {
     "name": "#%%\n"
    }
   }
  },
  {
   "cell_type": "code",
   "execution_count": 703,
   "outputs": [
    {
     "data": {
      "text/plain": "36"
     },
     "execution_count": 703,
     "metadata": {},
     "output_type": "execute_result"
    }
   ],
   "source": [
    "max_age"
   ],
   "metadata": {
    "collapsed": false,
    "pycharm": {
     "name": "#%%\n"
    }
   }
  },
  {
   "cell_type": "code",
   "execution_count": 704,
   "outputs": [],
   "source": [
    "firm_size = firm_dk[[\"t\", \"number_employees\"]].compute()"
   ],
   "metadata": {
    "collapsed": false,
    "pycharm": {
     "name": "#%%\n"
    }
   }
  },
  {
   "cell_type": "code",
   "execution_count": 705,
   "outputs": [],
   "source": [
    "dist=firm_size.groupby([\"t\", \"number_employees\"]).size()"
   ],
   "metadata": {
    "collapsed": false,
    "pycharm": {
     "name": "#%%\n"
    }
   }
  },
  {
   "cell_type": "code",
   "execution_count": 706,
   "outputs": [],
   "source": [
    "firm_size2 = firm_size[firm_size.t >= 1]"
   ],
   "metadata": {
    "collapsed": false,
    "pycharm": {
     "name": "#%%\n"
    }
   }
  },
  {
   "cell_type": "code",
   "execution_count": 707,
   "outputs": [
    {
     "data": {
      "text/plain": "          t  number_employees\n790       1                 1\n791       1                 1\n792       1                 2\n793       1                 1\n794       1                 1\n...     ...               ...\n538376  999                 1\n538377  999                 1\n538378  999                 1\n538379  999                 1\n538380  999                 1\n\n[537591 rows x 2 columns]",
      "text/html": "<div>\n<style scoped>\n    .dataframe tbody tr th:only-of-type {\n        vertical-align: middle;\n    }\n\n    .dataframe tbody tr th {\n        vertical-align: top;\n    }\n\n    .dataframe thead th {\n        text-align: right;\n    }\n</style>\n<table border=\"1\" class=\"dataframe\">\n  <thead>\n    <tr style=\"text-align: right;\">\n      <th></th>\n      <th>t</th>\n      <th>number_employees</th>\n    </tr>\n  </thead>\n  <tbody>\n    <tr>\n      <th>790</th>\n      <td>1</td>\n      <td>1</td>\n    </tr>\n    <tr>\n      <th>791</th>\n      <td>1</td>\n      <td>1</td>\n    </tr>\n    <tr>\n      <th>792</th>\n      <td>1</td>\n      <td>2</td>\n    </tr>\n    <tr>\n      <th>793</th>\n      <td>1</td>\n      <td>1</td>\n    </tr>\n    <tr>\n      <th>794</th>\n      <td>1</td>\n      <td>1</td>\n    </tr>\n    <tr>\n      <th>...</th>\n      <td>...</td>\n      <td>...</td>\n    </tr>\n    <tr>\n      <th>538376</th>\n      <td>999</td>\n      <td>1</td>\n    </tr>\n    <tr>\n      <th>538377</th>\n      <td>999</td>\n      <td>1</td>\n    </tr>\n    <tr>\n      <th>538378</th>\n      <td>999</td>\n      <td>1</td>\n    </tr>\n    <tr>\n      <th>538379</th>\n      <td>999</td>\n      <td>1</td>\n    </tr>\n    <tr>\n      <th>538380</th>\n      <td>999</td>\n      <td>1</td>\n    </tr>\n  </tbody>\n</table>\n<p>537591 rows × 2 columns</p>\n</div>"
     },
     "execution_count": 707,
     "metadata": {},
     "output_type": "execute_result"
    }
   ],
   "source": [
    "firm_size2"
   ],
   "metadata": {
    "collapsed": false,
    "pycharm": {
     "name": "#%%\n"
    }
   }
  },
  {
   "cell_type": "code",
   "execution_count": 708,
   "outputs": [],
   "source": [
    "dist2 = firm_size2.groupby([\"number_employees\"]).number_employees.size()"
   ],
   "metadata": {
    "collapsed": false,
    "pycharm": {
     "name": "#%%\n"
    }
   }
  },
  {
   "cell_type": "code",
   "execution_count": 709,
   "outputs": [
    {
     "data": {
      "text/plain": "537591"
     },
     "execution_count": 709,
     "metadata": {},
     "output_type": "execute_result"
    }
   ],
   "source": [
    "dist2.values.sum()"
   ],
   "metadata": {
    "collapsed": false,
    "pycharm": {
     "name": "#%%\n"
    }
   }
  },
  {
   "cell_type": "code",
   "execution_count": 710,
   "outputs": [
    {
     "data": {
      "text/plain": "number_employees\n1     296702\n2     124329\n3      66129\n4      27585\n5      11637\n6       5377\n7       2455\n8       1182\n9        650\n10       369\n11       272\n12       166\n13       101\n14       105\n15        73\n16        63\n17        48\n18        58\n19        29\n20        53\n21        41\n22        40\n23        31\n24        25\n25        29\n26        11\n27         8\n28        14\n29         2\n30         6\n33         1\nName: number_employees, dtype: int64"
     },
     "execution_count": 710,
     "metadata": {},
     "output_type": "execute_result"
    }
   ],
   "source": [
    "dist2"
   ],
   "metadata": {
    "collapsed": false,
    "pycharm": {
     "name": "#%%\n"
    }
   }
  },
  {
   "cell_type": "code",
   "execution_count": 711,
   "outputs": [
    {
     "data": {
      "text/plain": "pandas.core.series.Series"
     },
     "execution_count": 711,
     "metadata": {},
     "output_type": "execute_result"
    }
   ],
   "source": [
    "type(dist2)"
   ],
   "metadata": {
    "collapsed": false,
    "pycharm": {
     "name": "#%%\n"
    }
   }
  },
  {
   "cell_type": "code",
   "execution_count": 712,
   "outputs": [
    {
     "name": "stdout",
     "output_type": "stream",
     "text": [
      "537591\n"
     ]
    }
   ],
   "source": [
    "print(dist2.sum())"
   ],
   "metadata": {
    "collapsed": false,
    "pycharm": {
     "name": "#%%\n"
    }
   }
  },
  {
   "cell_type": "code",
   "execution_count": 713,
   "outputs": [],
   "source": [
    "y_frequency_all = dist2.values/dist2.sum()"
   ],
   "metadata": {
    "collapsed": false,
    "pycharm": {
     "name": "#%%\n"
    }
   }
  },
  {
   "cell_type": "code",
   "execution_count": 714,
   "outputs": [],
   "source": [
    "y_frequency_all = y_frequency_all.tolist()"
   ],
   "metadata": {
    "collapsed": false,
    "pycharm": {
     "name": "#%%\n"
    }
   }
  },
  {
   "cell_type": "code",
   "execution_count": 715,
   "outputs": [
    {
     "data": {
      "text/plain": "[0.551910281236107,\n 0.2312706127892766,\n 0.1230098718170505,\n 0.05131224295049582,\n 0.02164656774387964,\n 0.010002027563705494,\n 0.004566668712831874,\n 0.002198697522837994,\n 0.001209097622542044,\n 0.0006863954195661758,\n 0.0005059608512791323,\n 0.0003087849312953528,\n 0.00018787516904114837,\n 0.00019531576979525328,\n 0.00013579096376241417,\n 0.00011718946187715195,\n 8.928720904925863e-05,\n 0.00010788871093452086,\n 5.394435546726043e-05,\n 9.858795999188974e-05,\n 7.626615772957509e-05,\n 7.440600754104886e-05,\n 5.766465584431287e-05,\n 4.650375471315554e-05,\n 5.394435546726043e-05,\n 2.0461652073788438e-05,\n 1.4881201508209774e-05,\n 2.6042102639367104e-05,\n 3.7203003770524434e-06,\n 1.1160901131157329e-05,\n 1.8601501885262217e-06]"
     },
     "execution_count": 715,
     "metadata": {},
     "output_type": "execute_result"
    }
   ],
   "source": [
    "y_frequency_all"
   ],
   "metadata": {
    "collapsed": false,
    "pycharm": {
     "name": "#%%\n"
    }
   }
  },
  {
   "cell_type": "code",
   "execution_count": 716,
   "outputs": [],
   "source": [
    "x_employees_all = dist2.index.values.tolist()"
   ],
   "metadata": {
    "collapsed": false,
    "pycharm": {
     "name": "#%%\n"
    }
   }
  },
  {
   "cell_type": "code",
   "execution_count": 717,
   "outputs": [
    {
     "data": {
      "text/plain": "[1,\n 2,\n 3,\n 4,\n 5,\n 6,\n 7,\n 8,\n 9,\n 10,\n 11,\n 12,\n 13,\n 14,\n 15,\n 16,\n 17,\n 18,\n 19,\n 20,\n 21,\n 22,\n 23,\n 24,\n 25,\n 26,\n 27,\n 28,\n 29,\n 30,\n 33]"
     },
     "execution_count": 717,
     "metadata": {},
     "output_type": "execute_result"
    }
   ],
   "source": [
    "x_employees_all"
   ],
   "metadata": {
    "collapsed": false,
    "pycharm": {
     "name": "#%%\n"
    }
   }
  },
  {
   "cell_type": "code",
   "execution_count": 718,
   "outputs": [],
   "source": [
    "d = {\"Employees\": x_employees_all, \"Count\": y_frequency_all}"
   ],
   "metadata": {
    "collapsed": false,
    "pycharm": {
     "name": "#%%\n"
    }
   }
  },
  {
   "cell_type": "code",
   "execution_count": 719,
   "outputs": [],
   "source": [
    "df = pd.DataFrame(d)"
   ],
   "metadata": {
    "collapsed": false,
    "pycharm": {
     "name": "#%%\n"
    }
   }
  },
  {
   "cell_type": "markdown",
   "source": [
    " powerlaw not good for extreme cases, low and high prune"
   ],
   "metadata": {
    "collapsed": false,
    "pycharm": {
     "name": "#%% md\n"
    }
   }
  },
  {
   "cell_type": "code",
   "execution_count": 720,
   "outputs": [],
   "source": [
    "df_big = df[df.Count > 10**(-5)]"
   ],
   "metadata": {
    "collapsed": false,
    "pycharm": {
     "name": "#%%\n"
    }
   }
  },
  {
   "cell_type": "markdown",
   "source": [],
   "metadata": {
    "collapsed": false,
    "pycharm": {
     "name": "#%% md\n"
    }
   }
  },
  {
   "cell_type": "code",
   "execution_count": 721,
   "outputs": [],
   "source": [
    "df_big = df_big[1:]"
   ],
   "metadata": {
    "collapsed": false,
    "pycharm": {
     "name": "#%%\n"
    }
   }
  },
  {
   "cell_type": "markdown",
   "source": [
    "weibull not needed to prune"
   ],
   "metadata": {
    "collapsed": false,
    "pycharm": {
     "name": "#%% md\n"
    }
   }
  },
  {
   "cell_type": "code",
   "execution_count": 722,
   "outputs": [],
   "source": [
    "df_big = df"
   ],
   "metadata": {
    "collapsed": false,
    "pycharm": {
     "name": "#%%\n"
    }
   }
  },
  {
   "cell_type": "code",
   "execution_count": 723,
   "outputs": [
    {
     "data": {
      "text/plain": "    Employees     Count\n0           1  0.551910\n1           2  0.231271\n2           3  0.123010\n3           4  0.051312\n4           5  0.021647\n5           6  0.010002\n6           7  0.004567\n7           8  0.002199\n8           9  0.001209\n9          10  0.000686\n10         11  0.000506\n11         12  0.000309\n12         13  0.000188\n13         14  0.000195\n14         15  0.000136\n15         16  0.000117\n16         17  0.000089\n17         18  0.000108\n18         19  0.000054\n19         20  0.000099\n20         21  0.000076\n21         22  0.000074\n22         23  0.000058\n23         24  0.000047\n24         25  0.000054\n25         26  0.000020\n26         27  0.000015\n27         28  0.000026\n28         29  0.000004\n29         30  0.000011\n30         33  0.000002",
      "text/html": "<div>\n<style scoped>\n    .dataframe tbody tr th:only-of-type {\n        vertical-align: middle;\n    }\n\n    .dataframe tbody tr th {\n        vertical-align: top;\n    }\n\n    .dataframe thead th {\n        text-align: right;\n    }\n</style>\n<table border=\"1\" class=\"dataframe\">\n  <thead>\n    <tr style=\"text-align: right;\">\n      <th></th>\n      <th>Employees</th>\n      <th>Count</th>\n    </tr>\n  </thead>\n  <tbody>\n    <tr>\n      <th>0</th>\n      <td>1</td>\n      <td>0.551910</td>\n    </tr>\n    <tr>\n      <th>1</th>\n      <td>2</td>\n      <td>0.231271</td>\n    </tr>\n    <tr>\n      <th>2</th>\n      <td>3</td>\n      <td>0.123010</td>\n    </tr>\n    <tr>\n      <th>3</th>\n      <td>4</td>\n      <td>0.051312</td>\n    </tr>\n    <tr>\n      <th>4</th>\n      <td>5</td>\n      <td>0.021647</td>\n    </tr>\n    <tr>\n      <th>5</th>\n      <td>6</td>\n      <td>0.010002</td>\n    </tr>\n    <tr>\n      <th>6</th>\n      <td>7</td>\n      <td>0.004567</td>\n    </tr>\n    <tr>\n      <th>7</th>\n      <td>8</td>\n      <td>0.002199</td>\n    </tr>\n    <tr>\n      <th>8</th>\n      <td>9</td>\n      <td>0.001209</td>\n    </tr>\n    <tr>\n      <th>9</th>\n      <td>10</td>\n      <td>0.000686</td>\n    </tr>\n    <tr>\n      <th>10</th>\n      <td>11</td>\n      <td>0.000506</td>\n    </tr>\n    <tr>\n      <th>11</th>\n      <td>12</td>\n      <td>0.000309</td>\n    </tr>\n    <tr>\n      <th>12</th>\n      <td>13</td>\n      <td>0.000188</td>\n    </tr>\n    <tr>\n      <th>13</th>\n      <td>14</td>\n      <td>0.000195</td>\n    </tr>\n    <tr>\n      <th>14</th>\n      <td>15</td>\n      <td>0.000136</td>\n    </tr>\n    <tr>\n      <th>15</th>\n      <td>16</td>\n      <td>0.000117</td>\n    </tr>\n    <tr>\n      <th>16</th>\n      <td>17</td>\n      <td>0.000089</td>\n    </tr>\n    <tr>\n      <th>17</th>\n      <td>18</td>\n      <td>0.000108</td>\n    </tr>\n    <tr>\n      <th>18</th>\n      <td>19</td>\n      <td>0.000054</td>\n    </tr>\n    <tr>\n      <th>19</th>\n      <td>20</td>\n      <td>0.000099</td>\n    </tr>\n    <tr>\n      <th>20</th>\n      <td>21</td>\n      <td>0.000076</td>\n    </tr>\n    <tr>\n      <th>21</th>\n      <td>22</td>\n      <td>0.000074</td>\n    </tr>\n    <tr>\n      <th>22</th>\n      <td>23</td>\n      <td>0.000058</td>\n    </tr>\n    <tr>\n      <th>23</th>\n      <td>24</td>\n      <td>0.000047</td>\n    </tr>\n    <tr>\n      <th>24</th>\n      <td>25</td>\n      <td>0.000054</td>\n    </tr>\n    <tr>\n      <th>25</th>\n      <td>26</td>\n      <td>0.000020</td>\n    </tr>\n    <tr>\n      <th>26</th>\n      <td>27</td>\n      <td>0.000015</td>\n    </tr>\n    <tr>\n      <th>27</th>\n      <td>28</td>\n      <td>0.000026</td>\n    </tr>\n    <tr>\n      <th>28</th>\n      <td>29</td>\n      <td>0.000004</td>\n    </tr>\n    <tr>\n      <th>29</th>\n      <td>30</td>\n      <td>0.000011</td>\n    </tr>\n    <tr>\n      <th>30</th>\n      <td>33</td>\n      <td>0.000002</td>\n    </tr>\n  </tbody>\n</table>\n</div>"
     },
     "execution_count": 723,
     "metadata": {},
     "output_type": "execute_result"
    }
   ],
   "source": [
    "df_big"
   ],
   "metadata": {
    "collapsed": false,
    "pycharm": {
     "name": "#%%\n"
    }
   }
  },
  {
   "cell_type": "code",
   "execution_count": 724,
   "outputs": [],
   "source": [
    "x_new = df_big.Employees\n",
    "y_new = df_big.Count"
   ],
   "metadata": {
    "collapsed": false,
    "pycharm": {
     "name": "#%%\n"
    }
   }
  },
  {
   "cell_type": "markdown",
   "source": [
    "function to sample firm size (employee) distribution for different t's"
   ],
   "metadata": {
    "collapsed": false,
    "pycharm": {
     "name": "#%% md\n"
    }
   }
  },
  {
   "cell_type": "code",
   "execution_count": 725,
   "outputs": [],
   "source": [
    "def sample_dist(dist, start, max_age, numb_samples):\n",
    "    df_list = []\n",
    "    for x in range(numb_samples):\n",
    "        i = start + x * max_age\n",
    "        sample = dist.loc[i, :]\n",
    "        freq = sample / sample.sum()\n",
    "        freq_df = freq.reset_index(inplace=False)\n",
    "        freq_df = freq_df.rename(columns={0: f\"Frequency{x}\"})\n",
    "        df_list.append(freq_df)\n",
    "    return df_list"
   ],
   "metadata": {
    "collapsed": false,
    "pycharm": {
     "name": "#%%\n"
    }
   }
  },
  {
   "cell_type": "code",
   "execution_count": 726,
   "outputs": [],
   "source": [
    "dfs = sample_dist(dist, 1, 10, 10)"
   ],
   "metadata": {
    "collapsed": false,
    "pycharm": {
     "name": "#%%\n"
    }
   }
  },
  {
   "cell_type": "code",
   "execution_count": 727,
   "outputs": [],
   "source": [
    "from functools import reduce"
   ],
   "metadata": {
    "collapsed": false,
    "pycharm": {
     "name": "#%%\n"
    }
   }
  },
  {
   "cell_type": "code",
   "execution_count": 728,
   "outputs": [],
   "source": [
    "df3 = reduce(lambda left,right: pd.merge(left,right,on=[\"number_employees\"], how=\"outer\"), dfs)"
   ],
   "metadata": {
    "collapsed": false,
    "pycharm": {
     "name": "#%%\n"
    }
   }
  },
  {
   "cell_type": "code",
   "execution_count": 729,
   "outputs": [
    {
     "data": {
      "text/plain": "    number_employees  Frequency0  Frequency1  Frequency2  Frequency3  \\\n0                  1    0.597542    0.560662    0.547135    0.567029   \n1                  2    0.298003    0.218750    0.236599    0.215580   \n2                  3    0.081413    0.123162    0.134935    0.141304   \n3                  4    0.016897    0.060662    0.049908    0.039855   \n4                  5    0.006144    0.020221    0.012939    0.016304   \n5                  6         NaN    0.011029    0.005545    0.009058   \n6                  7         NaN    0.003676    0.001848    0.001812   \n7                 19         NaN    0.001838         NaN         NaN   \n8                  8         NaN         NaN    0.003697    0.001812   \n9                  9         NaN         NaN    0.003697    0.005435   \n10                11         NaN         NaN    0.001848         NaN   \n11                16         NaN         NaN    0.001848         NaN   \n12                10         NaN         NaN         NaN    0.001812   \n13                21         NaN         NaN         NaN         NaN   \n14                13         NaN         NaN         NaN         NaN   \n15                14         NaN         NaN         NaN         NaN   \n16                12         NaN         NaN         NaN         NaN   \n17                15         NaN         NaN         NaN         NaN   \n\n    Frequency4  Frequency5  Frequency6  Frequency7  Frequency8  Frequency9  \n0     0.550943    0.575269    0.545279    0.532957    0.539326    0.572451  \n1     0.224528    0.241935    0.213873    0.250471    0.219101    0.223614  \n2     0.122642    0.093190    0.129094    0.124294    0.140449    0.130590  \n3     0.050943    0.044803    0.063584    0.052731    0.067416    0.039356  \n4     0.033962    0.025090    0.021195    0.011299    0.022472    0.023256  \n5     0.007547    0.007168    0.009634    0.013183    0.003745    0.003578  \n6     0.003774    0.005376    0.005780    0.007533         NaN    0.001789  \n7          NaN         NaN         NaN         NaN         NaN         NaN  \n8          NaN    0.003584    0.005780    0.001883    0.003745    0.001789  \n9     0.003774    0.001792    0.001927    0.001883    0.001873         NaN  \n10         NaN         NaN         NaN         NaN         NaN         NaN  \n11         NaN         NaN         NaN         NaN         NaN    0.001789  \n12         NaN         NaN    0.001927    0.001883         NaN         NaN  \n13    0.001887         NaN         NaN         NaN         NaN         NaN  \n14         NaN    0.001792    0.001927         NaN         NaN         NaN  \n15         NaN         NaN         NaN    0.001883         NaN         NaN  \n16         NaN         NaN         NaN         NaN    0.001873         NaN  \n17         NaN         NaN         NaN         NaN         NaN    0.001789  ",
      "text/html": "<div>\n<style scoped>\n    .dataframe tbody tr th:only-of-type {\n        vertical-align: middle;\n    }\n\n    .dataframe tbody tr th {\n        vertical-align: top;\n    }\n\n    .dataframe thead th {\n        text-align: right;\n    }\n</style>\n<table border=\"1\" class=\"dataframe\">\n  <thead>\n    <tr style=\"text-align: right;\">\n      <th></th>\n      <th>number_employees</th>\n      <th>Frequency0</th>\n      <th>Frequency1</th>\n      <th>Frequency2</th>\n      <th>Frequency3</th>\n      <th>Frequency4</th>\n      <th>Frequency5</th>\n      <th>Frequency6</th>\n      <th>Frequency7</th>\n      <th>Frequency8</th>\n      <th>Frequency9</th>\n    </tr>\n  </thead>\n  <tbody>\n    <tr>\n      <th>0</th>\n      <td>1</td>\n      <td>0.597542</td>\n      <td>0.560662</td>\n      <td>0.547135</td>\n      <td>0.567029</td>\n      <td>0.550943</td>\n      <td>0.575269</td>\n      <td>0.545279</td>\n      <td>0.532957</td>\n      <td>0.539326</td>\n      <td>0.572451</td>\n    </tr>\n    <tr>\n      <th>1</th>\n      <td>2</td>\n      <td>0.298003</td>\n      <td>0.218750</td>\n      <td>0.236599</td>\n      <td>0.215580</td>\n      <td>0.224528</td>\n      <td>0.241935</td>\n      <td>0.213873</td>\n      <td>0.250471</td>\n      <td>0.219101</td>\n      <td>0.223614</td>\n    </tr>\n    <tr>\n      <th>2</th>\n      <td>3</td>\n      <td>0.081413</td>\n      <td>0.123162</td>\n      <td>0.134935</td>\n      <td>0.141304</td>\n      <td>0.122642</td>\n      <td>0.093190</td>\n      <td>0.129094</td>\n      <td>0.124294</td>\n      <td>0.140449</td>\n      <td>0.130590</td>\n    </tr>\n    <tr>\n      <th>3</th>\n      <td>4</td>\n      <td>0.016897</td>\n      <td>0.060662</td>\n      <td>0.049908</td>\n      <td>0.039855</td>\n      <td>0.050943</td>\n      <td>0.044803</td>\n      <td>0.063584</td>\n      <td>0.052731</td>\n      <td>0.067416</td>\n      <td>0.039356</td>\n    </tr>\n    <tr>\n      <th>4</th>\n      <td>5</td>\n      <td>0.006144</td>\n      <td>0.020221</td>\n      <td>0.012939</td>\n      <td>0.016304</td>\n      <td>0.033962</td>\n      <td>0.025090</td>\n      <td>0.021195</td>\n      <td>0.011299</td>\n      <td>0.022472</td>\n      <td>0.023256</td>\n    </tr>\n    <tr>\n      <th>5</th>\n      <td>6</td>\n      <td>NaN</td>\n      <td>0.011029</td>\n      <td>0.005545</td>\n      <td>0.009058</td>\n      <td>0.007547</td>\n      <td>0.007168</td>\n      <td>0.009634</td>\n      <td>0.013183</td>\n      <td>0.003745</td>\n      <td>0.003578</td>\n    </tr>\n    <tr>\n      <th>6</th>\n      <td>7</td>\n      <td>NaN</td>\n      <td>0.003676</td>\n      <td>0.001848</td>\n      <td>0.001812</td>\n      <td>0.003774</td>\n      <td>0.005376</td>\n      <td>0.005780</td>\n      <td>0.007533</td>\n      <td>NaN</td>\n      <td>0.001789</td>\n    </tr>\n    <tr>\n      <th>7</th>\n      <td>19</td>\n      <td>NaN</td>\n      <td>0.001838</td>\n      <td>NaN</td>\n      <td>NaN</td>\n      <td>NaN</td>\n      <td>NaN</td>\n      <td>NaN</td>\n      <td>NaN</td>\n      <td>NaN</td>\n      <td>NaN</td>\n    </tr>\n    <tr>\n      <th>8</th>\n      <td>8</td>\n      <td>NaN</td>\n      <td>NaN</td>\n      <td>0.003697</td>\n      <td>0.001812</td>\n      <td>NaN</td>\n      <td>0.003584</td>\n      <td>0.005780</td>\n      <td>0.001883</td>\n      <td>0.003745</td>\n      <td>0.001789</td>\n    </tr>\n    <tr>\n      <th>9</th>\n      <td>9</td>\n      <td>NaN</td>\n      <td>NaN</td>\n      <td>0.003697</td>\n      <td>0.005435</td>\n      <td>0.003774</td>\n      <td>0.001792</td>\n      <td>0.001927</td>\n      <td>0.001883</td>\n      <td>0.001873</td>\n      <td>NaN</td>\n    </tr>\n    <tr>\n      <th>10</th>\n      <td>11</td>\n      <td>NaN</td>\n      <td>NaN</td>\n      <td>0.001848</td>\n      <td>NaN</td>\n      <td>NaN</td>\n      <td>NaN</td>\n      <td>NaN</td>\n      <td>NaN</td>\n      <td>NaN</td>\n      <td>NaN</td>\n    </tr>\n    <tr>\n      <th>11</th>\n      <td>16</td>\n      <td>NaN</td>\n      <td>NaN</td>\n      <td>0.001848</td>\n      <td>NaN</td>\n      <td>NaN</td>\n      <td>NaN</td>\n      <td>NaN</td>\n      <td>NaN</td>\n      <td>NaN</td>\n      <td>0.001789</td>\n    </tr>\n    <tr>\n      <th>12</th>\n      <td>10</td>\n      <td>NaN</td>\n      <td>NaN</td>\n      <td>NaN</td>\n      <td>0.001812</td>\n      <td>NaN</td>\n      <td>NaN</td>\n      <td>0.001927</td>\n      <td>0.001883</td>\n      <td>NaN</td>\n      <td>NaN</td>\n    </tr>\n    <tr>\n      <th>13</th>\n      <td>21</td>\n      <td>NaN</td>\n      <td>NaN</td>\n      <td>NaN</td>\n      <td>NaN</td>\n      <td>0.001887</td>\n      <td>NaN</td>\n      <td>NaN</td>\n      <td>NaN</td>\n      <td>NaN</td>\n      <td>NaN</td>\n    </tr>\n    <tr>\n      <th>14</th>\n      <td>13</td>\n      <td>NaN</td>\n      <td>NaN</td>\n      <td>NaN</td>\n      <td>NaN</td>\n      <td>NaN</td>\n      <td>0.001792</td>\n      <td>0.001927</td>\n      <td>NaN</td>\n      <td>NaN</td>\n      <td>NaN</td>\n    </tr>\n    <tr>\n      <th>15</th>\n      <td>14</td>\n      <td>NaN</td>\n      <td>NaN</td>\n      <td>NaN</td>\n      <td>NaN</td>\n      <td>NaN</td>\n      <td>NaN</td>\n      <td>NaN</td>\n      <td>0.001883</td>\n      <td>NaN</td>\n      <td>NaN</td>\n    </tr>\n    <tr>\n      <th>16</th>\n      <td>12</td>\n      <td>NaN</td>\n      <td>NaN</td>\n      <td>NaN</td>\n      <td>NaN</td>\n      <td>NaN</td>\n      <td>NaN</td>\n      <td>NaN</td>\n      <td>NaN</td>\n      <td>0.001873</td>\n      <td>NaN</td>\n    </tr>\n    <tr>\n      <th>17</th>\n      <td>15</td>\n      <td>NaN</td>\n      <td>NaN</td>\n      <td>NaN</td>\n      <td>NaN</td>\n      <td>NaN</td>\n      <td>NaN</td>\n      <td>NaN</td>\n      <td>NaN</td>\n      <td>NaN</td>\n      <td>0.001789</td>\n    </tr>\n  </tbody>\n</table>\n</div>"
     },
     "execution_count": 729,
     "metadata": {},
     "output_type": "execute_result"
    }
   ],
   "source": [
    "df3"
   ],
   "metadata": {
    "collapsed": false,
    "pycharm": {
     "name": "#%%\n"
    }
   }
  },
  {
   "cell_type": "code",
   "execution_count": 730,
   "outputs": [],
   "source": [
    "df3['avg'] = df3.iloc[:,1:].mean(axis=1)"
   ],
   "metadata": {
    "collapsed": false,
    "pycharm": {
     "name": "#%%\n"
    }
   }
  },
  {
   "cell_type": "code",
   "execution_count": 731,
   "outputs": [],
   "source": [
    "# df3['size'] = df3.iloc[:,1:].size(axis=1)"
   ],
   "metadata": {
    "collapsed": false,
    "pycharm": {
     "name": "#%%\n"
    }
   }
  },
  {
   "cell_type": "code",
   "execution_count": 732,
   "outputs": [],
   "source": [
    "df3 = df3.iloc[1:20,:]"
   ],
   "metadata": {
    "collapsed": false,
    "pycharm": {
     "name": "#%%\n"
    }
   }
  },
  {
   "cell_type": "code",
   "execution_count": 733,
   "outputs": [],
   "source": [
    "dfplot = df3[[\"number_employees\", \"avg\"]]"
   ],
   "metadata": {
    "collapsed": false,
    "pycharm": {
     "name": "#%%\n"
    }
   }
  },
  {
   "cell_type": "code",
   "execution_count": 734,
   "outputs": [],
   "source": [
    "x_employees = df3[\"number_employees\"].values.tolist()"
   ],
   "metadata": {
    "collapsed": false,
    "pycharm": {
     "name": "#%%\n"
    }
   }
  },
  {
   "cell_type": "code",
   "execution_count": 735,
   "outputs": [],
   "source": [
    "y_frequency = df3[\"avg\"].values.tolist()"
   ],
   "metadata": {
    "collapsed": false,
    "pycharm": {
     "name": "#%%\n"
    }
   }
  },
  {
   "cell_type": "code",
   "execution_count": 736,
   "outputs": [
    {
     "data": {
      "text/plain": "[0.23424538205069173,\n 0.12210740772969178,\n 0.04861539957598528,\n 0.019288196514041817,\n 0.007832002147706164,\n 0.003948579361283352,\n 0.001838235294117647,\n 0.0031843563392080156,\n 0.002911431500240573,\n 0.0018484288354898336,\n 0.0018186688005713927,\n 0.001873871882625466,\n 0.0018867924528301887,\n 0.0018594484844717922,\n 0.0018832391713747645,\n 0.0018726591760299626,\n 0.0017889087656529517]"
     },
     "execution_count": 736,
     "metadata": {},
     "output_type": "execute_result"
    }
   ],
   "source": [
    "y_frequency"
   ],
   "metadata": {
    "collapsed": false,
    "pycharm": {
     "name": "#%%\n"
    }
   }
  },
  {
   "cell_type": "code",
   "execution_count": 737,
   "outputs": [
    {
     "data": {
      "text/plain": "<Figure size 539.643x333.518 with 1 Axes>",
      "image/png": "[encoded data removed]"
     },
     "metadata": {},
     "output_type": "display_data"
    }
   ],
   "source": [
    "fig, ax = plt.subplots(1, 1, figsize=set_size(width))\n",
    "#ax.set_ylim([0,0.4])\n",
    "#ax.set_xlim([0,100])\n",
    "ax.set_title(\"Output\")\n",
    "ticks = (1,5,10,20, 40)\n",
    "ticksy = (0.001, 0.01, 0.1, 1)\n",
    "df_big.plot(\"Employees\",\"Count\",kind=\"scatter\", ax=ax, linewidth=0.75, alpha=0.8, loglog=True)\n",
    "ax.set_xticks(ticks=ticks)\n",
    "ax.set_xticklabels(labels=ticks)\n",
    "ax.set_yticks(ticks=ticksy)\n",
    "ax.set_yticklabels(labels=ticksy)\n",
    "plt.show()"
   ],
   "metadata": {
    "collapsed": false,
    "pycharm": {
     "name": "#%%\n"
    }
   }
  },
  {
   "cell_type": "markdown",
   "source": [
    "Fit the firmsize power-law data"
   ],
   "metadata": {
    "collapsed": false,
    "pycharm": {
     "name": "#%% md\n"
    }
   }
  },
  {
   "cell_type": "code",
   "execution_count": 738,
   "outputs": [],
   "source": [
    "# Function to calculate the power-law with constants a and b\n",
    "def power_law(x, b):\n",
    "    return np.power(x, -(1+b), dtype=float)"
   ],
   "metadata": {
    "collapsed": false,
    "pycharm": {
     "name": "#%%\n"
    }
   }
  },
  {
   "cell_type": "code",
   "execution_count": 739,
   "outputs": [],
   "source": [
    "def weibull(x, a, b):\n",
    "    return 1-np.exp(-a*x**b, dtype=float)\n",
    "\n",
    "def gld(x, a, b):\n",
    "    return 1-(1+a*x/b)**((-1)/a)"
   ],
   "metadata": {
    "collapsed": false,
    "pycharm": {
     "name": "#%%\n"
    }
   }
  },
  {
   "cell_type": "code",
   "execution_count": 740,
   "outputs": [],
   "source": [
    "from scipy.optimize import curve_fit"
   ],
   "metadata": {
    "collapsed": false,
    "pycharm": {
     "name": "#%%\n"
    }
   }
  },
  {
   "cell_type": "code",
   "execution_count": 741,
   "outputs": [],
   "source": [
    "pars, cov = curve_fit(f=power_law, xdata= x_new, ydata=y_new, p0=0, bounds=(-np.inf, np.inf))"
   ],
   "metadata": {
    "collapsed": false,
    "pycharm": {
     "name": "#%%\n"
    }
   }
  },
  {
   "cell_type": "code",
   "execution_count": 742,
   "outputs": [],
   "source": [
    "pars2, cov2 = curve_fit(f=weibull, xdata= x_new, ydata=y_new, p0=[0,0], bounds=(-np.inf, np.inf))"
   ],
   "metadata": {
    "collapsed": false,
    "pycharm": {
     "name": "#%%\n"
    }
   }
  },
  {
   "cell_type": "code",
   "execution_count": 743,
   "outputs": [],
   "source": [
    "# not found optima\n",
    "# pars3, cov3 = curve_fit(f=gld, xdata= x_new, ydata=y_new, p0=[0,0], bounds=(-np.inf, np.inf))"
   ],
   "metadata": {
    "collapsed": false,
    "pycharm": {
     "name": "#%%\n"
    }
   }
  },
  {
   "cell_type": "markdown",
   "source": [
    "Get the standard deviations of the parameters (square roots of the # diagonal of the covariance)"
   ],
   "metadata": {
    "collapsed": false,
    "pycharm": {
     "name": "#%% md\n"
    }
   }
  },
  {
   "cell_type": "code",
   "execution_count": 744,
   "outputs": [],
   "source": [
    "stdevs = np.sqrt(np.diag(cov))"
   ],
   "metadata": {
    "collapsed": false,
    "pycharm": {
     "name": "#%%\n"
    }
   }
  },
  {
   "cell_type": "code",
   "execution_count": 745,
   "outputs": [],
   "source": [
    "stdevs2 = np.sqrt(np.diag(cov2))"
   ],
   "metadata": {
    "collapsed": false,
    "pycharm": {
     "name": "#%%\n"
    }
   }
  },
  {
   "cell_type": "markdown",
   "source": [
    "Calculate the residuals"
   ],
   "metadata": {
    "collapsed": false,
    "pycharm": {
     "name": "#%% md\n"
    }
   }
  },
  {
   "cell_type": "code",
   "execution_count": 746,
   "outputs": [],
   "source": [
    "res = y_new - power_law(x_new, *pars)"
   ],
   "metadata": {
    "collapsed": false,
    "pycharm": {
     "name": "#%%\n"
    }
   }
  },
  {
   "cell_type": "code",
   "execution_count": 747,
   "outputs": [],
   "source": [
    "ss_res = np.sum(res**2)"
   ],
   "metadata": {
    "collapsed": false,
    "pycharm": {
     "name": "#%%\n"
    }
   }
  },
  {
   "cell_type": "code",
   "execution_count": 748,
   "outputs": [
    {
     "data": {
      "text/plain": "0.2022037289540435"
     },
     "execution_count": 748,
     "metadata": {},
     "output_type": "execute_result"
    }
   ],
   "source": [
    "ss_res"
   ],
   "metadata": {
    "collapsed": false,
    "pycharm": {
     "name": "#%%\n"
    }
   }
  },
  {
   "cell_type": "code",
   "execution_count": 749,
   "outputs": [],
   "source": [
    "ss_tot = np.sum((y_new-np.mean(y_new))**2)"
   ],
   "metadata": {
    "collapsed": false,
    "pycharm": {
     "name": "#%%\n"
    }
   }
  },
  {
   "cell_type": "code",
   "execution_count": 750,
   "outputs": [
    {
     "data": {
      "text/plain": "0.3441941118540469"
     },
     "execution_count": 750,
     "metadata": {},
     "output_type": "execute_result"
    }
   ],
   "source": [
    "ss_tot"
   ],
   "metadata": {
    "collapsed": false,
    "pycharm": {
     "name": "#%%\n"
    }
   }
  },
  {
   "cell_type": "code",
   "execution_count": 751,
   "outputs": [],
   "source": [
    "res2 = y_new - weibull(x_new, *pars2)"
   ],
   "metadata": {
    "collapsed": false,
    "pycharm": {
     "name": "#%%\n"
    }
   }
  },
  {
   "cell_type": "code",
   "execution_count": 752,
   "outputs": [],
   "source": [
    "ss_res2 = np.sum(res2**2)"
   ],
   "metadata": {
    "collapsed": false,
    "pycharm": {
     "name": "#%%\n"
    }
   }
  },
  {
   "cell_type": "code",
   "execution_count": 753,
   "outputs": [],
   "source": [
    "ss_tot2 = np.sum((y_new-np.mean(y_new))**2)"
   ],
   "metadata": {
    "collapsed": false,
    "pycharm": {
     "name": "#%%\n"
    }
   }
  },
  {
   "cell_type": "code",
   "execution_count": 754,
   "outputs": [],
   "source": [
    "r_squared = 1-(ss_res/ss_tot)"
   ],
   "metadata": {
    "collapsed": false,
    "pycharm": {
     "name": "#%%\n"
    }
   }
  },
  {
   "cell_type": "code",
   "execution_count": 755,
   "outputs": [
    {
     "data": {
      "text/plain": "0.41252995914181534"
     },
     "execution_count": 755,
     "metadata": {},
     "output_type": "execute_result"
    }
   ],
   "source": [
    "r_squared"
   ],
   "metadata": {
    "collapsed": false,
    "pycharm": {
     "name": "#%%\n"
    }
   }
  },
  {
   "cell_type": "markdown",
   "source": [],
   "metadata": {
    "collapsed": false,
    "pycharm": {
     "name": "#%% md\n"
    }
   }
  },
  {
   "cell_type": "code",
   "execution_count": 756,
   "outputs": [],
   "source": [
    "r_squared2 = 1-(ss_res2/ss_tot2)"
   ],
   "metadata": {
    "collapsed": false,
    "pycharm": {
     "name": "#%%\n"
    }
   }
  },
  {
   "cell_type": "code",
   "execution_count": 757,
   "outputs": [
    {
     "data": {
      "text/plain": "0.990388228006221"
     },
     "execution_count": 757,
     "metadata": {},
     "output_type": "execute_result"
    }
   ],
   "source": [
    "r_squared2"
   ],
   "metadata": {
    "collapsed": false,
    "pycharm": {
     "name": "#%%\n"
    }
   }
  },
  {
   "cell_type": "code",
   "execution_count": 758,
   "outputs": [
    {
     "data": {
      "text/plain": "array([1.11151685])"
     },
     "execution_count": 758,
     "metadata": {},
     "output_type": "execute_result"
    }
   ],
   "source": [
    "pars"
   ],
   "metadata": {
    "collapsed": false,
    "pycharm": {
     "name": "#%%\n"
    }
   }
  },
  {
   "cell_type": "code",
   "execution_count": 759,
   "outputs": [
    {
     "data": {
      "text/plain": "array([ 0.82791935, -1.86409421])"
     },
     "execution_count": 759,
     "metadata": {},
     "output_type": "execute_result"
    }
   ],
   "source": [
    "pars2"
   ],
   "metadata": {
    "collapsed": false,
    "pycharm": {
     "name": "#%%\n"
    }
   }
  },
  {
   "cell_type": "code",
   "execution_count": 760,
   "outputs": [],
   "source": [
    "test = dist.loc[500, :]"
   ],
   "metadata": {
    "collapsed": false,
    "pycharm": {
     "name": "#%%\n"
    }
   }
  },
  {
   "cell_type": "code",
   "execution_count": 761,
   "outputs": [
    {
     "data": {
      "text/plain": "number_employees\n1     270\n2     119\n3      72\n4      35\n5      10\n6       7\n7       2\n8       1\n10      1\n12      1\ndtype: int64"
     },
     "execution_count": 761,
     "metadata": {},
     "output_type": "execute_result"
    }
   ],
   "source": [
    "test"
   ],
   "metadata": {
    "collapsed": false,
    "pycharm": {
     "name": "#%%\n"
    }
   }
  },
  {
   "cell_type": "code",
   "execution_count": 1281,
   "outputs": [],
   "source": [
    "frequency = test/test.sum()"
   ],
   "metadata": {
    "collapsed": false,
    "pycharm": {
     "name": "#%%\n"
    }
   }
  },
  {
   "cell_type": "code",
   "execution_count": 1282,
   "outputs": [],
   "source": [
    "freq_df = frequency.reset_index(inplace=False)"
   ],
   "metadata": {
    "collapsed": false,
    "pycharm": {
     "name": "#%%\n"
    }
   }
  },
  {
   "cell_type": "code",
   "execution_count": 1283,
   "outputs": [],
   "source": [
    "freq_df = freq_df.rename(columns={0:\"Frequency\"})"
   ],
   "metadata": {
    "collapsed": false,
    "pycharm": {
     "name": "#%%\n"
    }
   }
  },
  {
   "cell_type": "code",
   "execution_count": 1284,
   "outputs": [
    {
     "data": {
      "text/plain": "    number_employees  Frequency\n0                  1   0.877863\n1                  2   0.045802\n2                  3   0.012723\n3                  4   0.007634\n4                  5   0.005089\n5                  9   0.002545\n6                 11   0.005089\n7                 13   0.002545\n8                 15   0.002545\n9                 16   0.002545\n10                18   0.002545\n11                19   0.002545\n12                20   0.002545\n13                22   0.002545\n14                24   0.002545\n15                25   0.002545\n16                28   0.002545\n17                31   0.002545\n18                39   0.002545\n19                40   0.002545\n20                46   0.002545\n21                48   0.002545\n22                64   0.002545\n23                83   0.002545",
      "text/html": "<div>\n<style scoped>\n    .dataframe tbody tr th:only-of-type {\n        vertical-align: middle;\n    }\n\n    .dataframe tbody tr th {\n        vertical-align: top;\n    }\n\n    .dataframe thead th {\n        text-align: right;\n    }\n</style>\n<table border=\"1\" class=\"dataframe\">\n  <thead>\n    <tr style=\"text-align: right;\">\n      <th></th>\n      <th>number_employees</th>\n      <th>Frequency</th>\n    </tr>\n  </thead>\n  <tbody>\n    <tr>\n      <th>0</th>\n      <td>1</td>\n      <td>0.877863</td>\n    </tr>\n    <tr>\n      <th>1</th>\n      <td>2</td>\n      <td>0.045802</td>\n    </tr>\n    <tr>\n      <th>2</th>\n      <td>3</td>\n      <td>0.012723</td>\n    </tr>\n    <tr>\n      <th>3</th>\n      <td>4</td>\n      <td>0.007634</td>\n    </tr>\n    <tr>\n      <th>4</th>\n      <td>5</td>\n      <td>0.005089</td>\n    </tr>\n    <tr>\n      <th>5</th>\n      <td>9</td>\n      <td>0.002545</td>\n    </tr>\n    <tr>\n      <th>6</th>\n      <td>11</td>\n      <td>0.005089</td>\n    </tr>\n    <tr>\n      <th>7</th>\n      <td>13</td>\n      <td>0.002545</td>\n    </tr>\n    <tr>\n      <th>8</th>\n      <td>15</td>\n      <td>0.002545</td>\n    </tr>\n    <tr>\n      <th>9</th>\n      <td>16</td>\n      <td>0.002545</td>\n    </tr>\n    <tr>\n      <th>10</th>\n      <td>18</td>\n      <td>0.002545</td>\n    </tr>\n    <tr>\n      <th>11</th>\n      <td>19</td>\n      <td>0.002545</td>\n    </tr>\n    <tr>\n      <th>12</th>\n      <td>20</td>\n      <td>0.002545</td>\n    </tr>\n    <tr>\n      <th>13</th>\n      <td>22</td>\n      <td>0.002545</td>\n    </tr>\n    <tr>\n      <th>14</th>\n      <td>24</td>\n      <td>0.002545</td>\n    </tr>\n    <tr>\n      <th>15</th>\n      <td>25</td>\n      <td>0.002545</td>\n    </tr>\n    <tr>\n      <th>16</th>\n      <td>28</td>\n      <td>0.002545</td>\n    </tr>\n    <tr>\n      <th>17</th>\n      <td>31</td>\n      <td>0.002545</td>\n    </tr>\n    <tr>\n      <th>18</th>\n      <td>39</td>\n      <td>0.002545</td>\n    </tr>\n    <tr>\n      <th>19</th>\n      <td>40</td>\n      <td>0.002545</td>\n    </tr>\n    <tr>\n      <th>20</th>\n      <td>46</td>\n      <td>0.002545</td>\n    </tr>\n    <tr>\n      <th>21</th>\n      <td>48</td>\n      <td>0.002545</td>\n    </tr>\n    <tr>\n      <th>22</th>\n      <td>64</td>\n      <td>0.002545</td>\n    </tr>\n    <tr>\n      <th>23</th>\n      <td>83</td>\n      <td>0.002545</td>\n    </tr>\n  </tbody>\n</table>\n</div>"
     },
     "execution_count": 1284,
     "metadata": {},
     "output_type": "execute_result"
    }
   ],
   "source": [
    "freq_df"
   ],
   "metadata": {
    "collapsed": false,
    "pycharm": {
     "name": "#%%\n"
    }
   }
  },
  {
   "cell_type": "code",
   "execution_count": 1285,
   "outputs": [
    {
     "data": {
      "text/plain": "<Figure size 539.643x333.518 with 1 Axes>",
      "image/png": "[encoded data removed]"
     },
     "metadata": {},
     "output_type": "display_data"
    }
   ],
   "source": [
    "fig, ax = plt.subplots(1, 1, figsize=set_size(width))\n",
    "#ax.set_ylim([0,0.4])\n",
    "#ax.set_xlim([0,100])\n",
    "ax.set_title(\"Output\")\n",
    "ticks = (1,5,10,20)\n",
    "ticksy = (0.001, 0.01, 0.1, 1)\n",
    "freq_df.plot(\"number_employees\",\"Frequency\",kind=\"scatter\", ax=ax, linewidth=0.75, alpha=0.8, loglog=True)\n",
    "ax.set_xticks(ticks=ticks)\n",
    "ax.set_xticklabels(labels=ticks)\n",
    "ax.set_yticks(ticks=ticksy)\n",
    "ax.set_yticklabels(labels=ticksy)\n",
    "plt.show()"
   ],
   "metadata": {
    "collapsed": false,
    "pycharm": {
     "name": "#%%\n"
    }
   }
  },
  {
   "cell_type": "markdown",
   "source": [
    "Overall Behavior of Agents, I (Population Cross-Section)"
   ],
   "metadata": {
    "collapsed": false,
    "pycharm": {
     "name": "#%% md\n"
    }
   }
  },
  {
   "cell_type": "code",
   "execution_count": 1287,
   "outputs": [],
   "source": [
    "effort_dist = worker_dk[[\"t\", \"effort\"]].compute()\n",
    "dist_e = effort_dist.groupby([\"t\", \"effort\"]).size()"
   ],
   "metadata": {
    "collapsed": false,
    "pycharm": {
     "name": "#%%\n"
    }
   }
  },
  {
   "cell_type": "code",
   "execution_count": 1288,
   "outputs": [
    {
     "data": {
      "text/plain": "t     effort\n0     0.000     1\n      0.001     1\n      0.002     1\n      0.004     1\n      0.005     1\n               ..\n9999  0.991     1\n      0.992     1\n      0.993     3\n      0.995     2\n      1.000     1\nLength: 3128326, dtype: int64"
     },
     "execution_count": 1288,
     "metadata": {},
     "output_type": "execute_result"
    }
   ],
   "source": [
    "dist_e"
   ],
   "metadata": {
    "collapsed": false,
    "pycharm": {
     "name": "#%%\n"
    }
   }
  },
  {
   "cell_type": "code",
   "execution_count": 1289,
   "outputs": [
    {
     "name": "stderr",
     "output_type": "stream",
     "text": [
      "C:\\Users\\41782\\AppData\\Local\\Temp\\ipykernel_28596\\1970194139.py:4: PerformanceWarning: DataFrame is highly fragmented.  This is usually the result of calling `frame.insert` many times, which has poor performance.  Consider joining all columns at once using pd.concat(axis=1) instead. To get a de-fragmented frame, use `newframe = frame.copy()`\n",
      "  df_e['avg'] = df_e.iloc[:, 1:].mean(axis=1)\n"
     ]
    }
   ],
   "source": [
    "dfs_e = sample_dist(dist_e, 300, 30, 200)\n",
    "\n",
    "df_e = reduce(lambda left, right: pd.merge(left, right, on=[\"effort\"], how=\"outer\"), dfs_e)\n",
    "df_e['avg'] = df_e.iloc[:, 1:].mean(axis=1)\n",
    "df_e = df_e.iloc[1:, :]\n",
    "dfplot_e = df_e[[\"effort\", \"avg\"]]\n",
    "x_effort = df_e[\"effort\"].values.tolist()\n",
    "y_frequency_e = df3[\"avg\"].values.tolist()"
   ],
   "metadata": {
    "collapsed": false,
    "pycharm": {
     "name": "#%%\n"
    }
   }
  },
  {
   "cell_type": "code",
   "execution_count": 1290,
   "outputs": [
    {
     "data": {
      "text/plain": "[0.043926304286567915,\n 0.01734054022017244,\n 0.009466408757418845,\n 0.007348823069979646,\n 0.004662538567772348,\n 0.005569659968564974,\n 0.004235141180281781,\n 0.004270341275745999,\n 0.004174573632629083,\n 0.0036993737394363335,\n 0.002936235256834155,\n 0.0029876022262386214,\n 0.0029689555783092097,\n 0.003467837954957268,\n 0.003035104817091992,\n 0.0027709855046361438,\n 0.0029055272417444133,\n 0.0032526515599031504,\n 0.0027393202721122593,\n 0.003101677734030675,\n 0.0032320168294326422,\n 0.003873719871569245,\n 0.002932517295767996,\n 0.002937649300874684,\n 0.003489896784568851,\n 0.0035897531335355847,\n 0.003328993086043074,\n 0.0027302386296896948,\n 0.0031235402024802476,\n 0.002855422476875555,\n 0.002825728945805643,\n 0.003115264797507788,\n 0.004461939525790699,\n 0.0039735373737670885,\n 0.003942606397180725,\n 0.0029407701528044797,\n 0.004174707730585815,\n 0.0029676342787630125,\n 0.002907861369399831,\n 0.0029585798816568047,\n 0.004188378071750528,\n 0.0033179584328583583,\n 0.0031788873894137053,\n 0.003662782911477166,\n 0.0035087719298245615,\n 0.002945121897393787,\n 0.0032620090888256757,\n 0.002866590785332872,\n 0.003992314486478335,\n 0.002666341006696383,\n 0.0030097826660566624,\n 0.003194888178913738,\n 0.0033222591362126247,\n 0.003059073320205775,\n 0.002900509753498473,\n 0.0030463234836919442,\n 0.003355704697986577,\n 0.003222513597826387,\n 0.0027758753686483884,\n 0.003048780487804878,\n 0.0033019298545775553,\n 0.0030462781282453413,\n 0.0032858210322999058,\n 0.003003003003003003,\n 0.0037677937733709135,\n 0.003480817403691401,\n 0.002742611189917332,\n 0.002688172043010753,\n 0.002688172043010753,\n 0.002924393528745266,\n 0.0024575475496536685,\n 0.002646449382274383,\n 0.0028293879792740425,\n 0.003063000217349707,\n 0.003140616322202,\n 0.0031895257798872255,\n 0.003367003367003367,\n 0.003816793893129771,\n 0.003816793893129771,\n 0.003024995030366972,\n 0.0037174721189591076,\n 0.0037174721189591076,\n 0.0035211267605633804,\n 0.0035211267605633804,\n 0.0031034482758620693,\n 0.0030426674051900913,\n 0.002643309755378721,\n 0.003246753246753247,\n 0.003246753246753247,\n 0.002857142857142857,\n 0.003241263964446893,\n 0.0027344853616930996,\n 0.0027978650137741048,\n 0.002840909090909091,\n 0.0030120481927710845,\n 0.0028537329912642485,\n 0.0036172161172161174,\n 0.003663003663003663,\n 0.0023752969121140144,\n 0.0035714285714285713,\n 0.002403846153846154,\n 0.0033333333333333335,\n 0.0033333333333333335,\n 0.0028653295128939827,\n 0.0028977309987540164,\n 0.003338907469342252,\n 0.0023584905660377358,\n 0.0035211267605633804,\n 0.0035211267605633804,\n 0.002320185614849188,\n 0.0030959752321981426,\n 0.002948547840188707,\n 0.0030959752321981426,\n 0.0028011204481792717,\n 0.00423728813559322,\n 0.00423728813559322,\n 0.00423728813559322,\n 0.002857142857142857,\n 0.002857142857142857,\n 0.0023923444976076554,\n 0.0027548209366391185,\n 0.0027548209366391185,\n 0.002304147465437788,\n 0.002840909090909091,\n 0.0028089887640449437,\n 0.002717391304347826,\n 0.0022471910112359553,\n 0.0022123893805309734,\n 0.0024509803921568627,\n 0.0024752475247524753,\n 0.0027100271002710027,\n 0.0023752969121140144,\n 0.0028011204481792717,\n 0.0024509803921568627,\n 0.002577319587628866,\n 0.0026954177897574125,\n 0.0026822116265625227,\n 0.0026680199172989085]"
     },
     "execution_count": 1290,
     "metadata": {},
     "output_type": "execute_result"
    }
   ],
   "source": [
    "y_frequency_e"
   ],
   "metadata": {
    "collapsed": false,
    "pycharm": {
     "name": "#%%\n"
    }
   }
  },
  {
   "cell_type": "code",
   "execution_count": 1296,
   "outputs": [
    {
     "data": {
      "text/plain": "<Figure size 539.643x333.518 with 1 Axes>",
      "image/png": "[encoded data removed]"
     },
     "metadata": {},
     "output_type": "display_data"
    }
   ],
   "source": [
    "fig, ax = plt.subplots(1, 1, figsize=set_size(width))\n",
    "ax.set_ylim([0,0.02])\n",
    "ax.set_xlim([0,1])\n",
    "ax.set_title(\"Effort Dist\")\n",
    "dfplot_e.plot(\"effort\",\"avg\",kind=\"scatter\", ax=ax, linewidth=0.75, alpha=0.8)\n",
    "plt.show()"
   ],
   "metadata": {
    "collapsed": false,
    "pycharm": {
     "name": "#%%\n"
    }
   }
  },
  {
   "cell_type": "code",
   "execution_count": null,
   "outputs": [],
   "source": [],
   "metadata": {
    "collapsed": false,
    "pycharm": {
     "name": "#%%\n"
    }
   }
  }
 ],
 "metadata": {
  "kernelspec": {
   "display_name": "Python 3",
   "language": "python",
   "name": "python3"
  },
  "language_info": {
   "codemirror_mode": {
    "name": "ipython",
    "version": 2
   },
   "file_extension": ".py",
   "mimetype": "text/x-python",
   "name": "python",
   "nbconvert_exporter": "python",
   "pygments_lexer": "ipython2",
   "version": "2.7.6"
  }
 },
 "nbformat": 4,
 "nbformat_minor": 0
}