{
 "cells": [
  {
   "cell_type": "code",
   "execution_count": 22,
   "outputs": [],
   "source": [
    "from base_model import BaseModel"
   ],
   "metadata": {
    "collapsed": false,
    "pycharm": {
     "name": "#%%\n"
    }
   }
  },
  {
   "cell_type": "code",
   "execution_count": 23,
   "outputs": [
    {
     "ename": "AttributeError",
     "evalue": "module 'mesa' has no attribute 'space'",
     "output_type": "error",
     "traceback": [
      "\u001B[1;31m---------------------------------------------------------------------------\u001B[0m",
      "\u001B[1;31mAttributeError\u001B[0m                            Traceback (most recent call last)",
      "Input \u001B[1;32mIn [23]\u001B[0m, in \u001B[0;36m<cell line: 1>\u001B[1;34m()\u001B[0m\n\u001B[1;32m----> 1\u001B[0m testmodel \u001B[38;5;241m=\u001B[39m \u001B[43mBaseModel\u001B[49m\u001B[43m(\u001B[49m\u001B[43mN\u001B[49m\u001B[43m,\u001B[49m\u001B[43m \u001B[49m\u001B[43mgraph\u001B[49m\u001B[43m)\u001B[49m\n",
      "File \u001B[1;32m~\\Documents\\MasterThesis\\firmdynamic-abm\\src\\base_model.py:39\u001B[0m, in \u001B[0;36mBaseModel.__init__\u001B[1;34m(self, N, graph)\u001B[0m\n\u001B[0;32m     37\u001B[0m \u001B[38;5;66;03m# Set network\u001B[39;00m\n\u001B[0;32m     38\u001B[0m \u001B[38;5;28mself\u001B[39m\u001B[38;5;241m.\u001B[39mgraph \u001B[38;5;241m=\u001B[39m graph\n\u001B[1;32m---> 39\u001B[0m \u001B[38;5;28mself\u001B[39m\u001B[38;5;241m.\u001B[39mgrid \u001B[38;5;241m=\u001B[39m \u001B[43mmesa\u001B[49m\u001B[38;5;241;43m.\u001B[39;49m\u001B[43mspace\u001B[49m\u001B[38;5;241m.\u001B[39mNetworkGrid(graph)\n\u001B[0;32m     40\u001B[0m \u001B[38;5;28mself\u001B[39m\u001B[38;5;241m.\u001B[39mschedule \u001B[38;5;241m=\u001B[39mmesa\u001B[38;5;241m.\u001B[39mtime\u001B[38;5;241m.\u001B[39mRandomActivation(\u001B[38;5;28mself\u001B[39m)\n\u001B[0;32m     42\u001B[0m \u001B[38;5;66;03m# Create agents\u001B[39;00m\n",
      "\u001B[1;31mAttributeError\u001B[0m: module 'mesa' has no attribute 'space'"
     ]
    }
   ],
   "source": [
    "testmodel = BaseModel(N, graph)"
   ],
   "metadata": {
    "collapsed": false,
    "pycharm": {
     "name": "#%%\n"
    }
   }
  },
  {
   "cell_type": "code",
   "execution_count": 1,
   "outputs": [],
   "source": [
    "import matplotlib.pyplot as plt"
   ],
   "metadata": {
    "collapsed": false,
    "pycharm": {
     "name": "#%%\n"
    }
   }
  },
  {
   "cell_type": "code",
   "execution_count": 3,
   "outputs": [],
   "source": [
    "import numpy as np\n",
    "import math"
   ],
   "metadata": {
    "collapsed": false,
    "pycharm": {
     "name": "#%%\n"
    }
   }
  },
  {
   "cell_type": "code",
   "execution_count": 4,
   "outputs": [
    {
     "name": "stderr",
     "output_type": "stream",
     "text": [
      "C:\\Users\\41782\\AppData\\Local\\Temp\\ipykernel_29500\\535153430.py:13: RuntimeWarning: invalid value encountered in power\n",
      "  y = p*math.log10(a*(x+E)+b*(x+E)**beta) - p*math.log10(n) + (1-p)*math.log10(w-x)\n"
     ]
    },
    {
     "ename": "TypeError",
     "evalue": "only size-1 arrays can be converted to Python scalars",
     "output_type": "error",
     "traceback": [
      "\u001B[1;31m---------------------------------------------------------------------------\u001B[0m",
      "\u001B[1;31mTypeError\u001B[0m                                 Traceback (most recent call last)",
      "Input \u001B[1;32mIn [4]\u001B[0m, in \u001B[0;36m<cell line: 13>\u001B[1;34m()\u001B[0m\n\u001B[0;32m     11\u001B[0m w \u001B[38;5;241m=\u001B[39m \u001B[38;5;241m1.757\u001B[39m\n\u001B[0;32m     12\u001B[0m \u001B[38;5;66;03m# the function, which is y = x^2 here\u001B[39;00m\n\u001B[1;32m---> 13\u001B[0m y \u001B[38;5;241m=\u001B[39m p\u001B[38;5;241m*\u001B[39m\u001B[43mmath\u001B[49m\u001B[38;5;241;43m.\u001B[39;49m\u001B[43mlog10\u001B[49m\u001B[43m(\u001B[49m\u001B[43ma\u001B[49m\u001B[38;5;241;43m*\u001B[39;49m\u001B[43m(\u001B[49m\u001B[43mx\u001B[49m\u001B[38;5;241;43m+\u001B[39;49m\u001B[43mE\u001B[49m\u001B[43m)\u001B[49m\u001B[38;5;241;43m+\u001B[39;49m\u001B[43mb\u001B[49m\u001B[38;5;241;43m*\u001B[39;49m\u001B[43m(\u001B[49m\u001B[43mx\u001B[49m\u001B[38;5;241;43m+\u001B[39;49m\u001B[43mE\u001B[49m\u001B[43m)\u001B[49m\u001B[38;5;241;43m*\u001B[39;49m\u001B[38;5;241;43m*\u001B[39;49m\u001B[43mbeta\u001B[49m\u001B[43m)\u001B[49m \u001B[38;5;241m-\u001B[39m p\u001B[38;5;241m*\u001B[39mmath\u001B[38;5;241m.\u001B[39mlog10(n) \u001B[38;5;241m+\u001B[39m (\u001B[38;5;241m1\u001B[39m\u001B[38;5;241m-\u001B[39mp)\u001B[38;5;241m*\u001B[39mmath\u001B[38;5;241m.\u001B[39mlog10(w\u001B[38;5;241m-\u001B[39mx)\n\u001B[0;32m     15\u001B[0m \u001B[38;5;66;03m# setting the axes at the centre\u001B[39;00m\n\u001B[0;32m     16\u001B[0m fig \u001B[38;5;241m=\u001B[39m plt\u001B[38;5;241m.\u001B[39mfigure()\n",
      "\u001B[1;31mTypeError\u001B[0m: only size-1 arrays can be converted to Python scalars"
     ]
    }
   ],
   "source": [
    "x = np.linspace(-5,5,100)\n",
    "\n",
    "\n",
    "#params\n",
    "a = 0.45\n",
    "b = 1.23\n",
    "beta = 1.97\n",
    "E = 1.78\n",
    "n = 3\n",
    "p = 0.830\n",
    "w = 1.757\n",
    "# the function, which is y = x^2 here\n",
    "y = p*math.log10(a*(x+E)+b*(x+E)**beta) - p*math.log10(n) + (1-p)*math.log10(w-x)\n",
    "\n",
    "# setting the axes at the centre\n",
    "fig = plt.figure()\n",
    "ax = fig.add_subplot(1, 1, 1)\n",
    "ax.spines['left'].set_position('center')\n",
    "ax.spines['bottom'].set_position('zero')\n",
    "ax.spines['right'].set_color('none')\n",
    "ax.spines['top'].set_color('none')\n",
    "ax.xaxis.set_ticks_position('bottom')\n",
    "ax.yaxis.set_ticks_position('left')\n",
    "\n",
    "# plot the function\n",
    "plt.plot(x,y, 'r')\n",
    "\n",
    "# show the plot\n",
    "plt.show()"
   ],
   "metadata": {
    "collapsed": false,
    "pycharm": {
     "name": "#%%\n"
    }
   }
  },
  {
   "cell_type": "code",
   "execution_count": null,
   "outputs": [],
   "source": [],
   "metadata": {
    "collapsed": false,
    "pycharm": {
     "name": "#%%\n"
    }
   }
  }
 ],
 "metadata": {
  "kernelspec": {
   "display_name": "Python 3",
   "language": "python",
   "name": "python3"
  },
  "language_info": {
   "codemirror_mode": {
    "name": "ipython",
    "version": 2
   },
   "file_extension": ".py",
   "mimetype": "text/x-python",
   "name": "python",
   "nbconvert_exporter": "python",
   "pygments_lexer": "ipython2",
   "version": "2.7.6"
  }
 },
 "nbformat": 4,
 "nbformat_minor": 0
}